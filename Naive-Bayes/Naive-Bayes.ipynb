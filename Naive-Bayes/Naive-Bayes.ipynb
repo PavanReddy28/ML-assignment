{
 "cells": [
  {
   "cell_type": "markdown",
   "metadata": {},
   "source": [
    "# Naive Bayes"
   ]
  },
  {
   "cell_type": "markdown",
   "metadata": {},
   "source": [
    "## Packages"
   ]
  },
  {
   "cell_type": "code",
   "execution_count": 5,
   "metadata": {},
   "outputs": [],
   "source": [
    "import numpy as np\n",
    "import pandas as pd\n",
    "import matplotlib.pyplot as plt"
   ]
  },
  {
   "cell_type": "code",
   "execution_count": 6,
   "metadata": {},
   "outputs": [],
   "source": [
    "import os\n",
    "import re"
   ]
  },
  {
   "cell_type": "markdown",
   "metadata": {},
   "source": [
    "## Data Preprocessing"
   ]
  },
  {
   "cell_type": "code",
   "execution_count": 7,
   "metadata": {},
   "outputs": [
    {
     "name": "stdout",
     "output_type": "stream",
     "text": [
      "/home/pavan/Desktop/Projects/ML-assignment/Naive-Bayes\n"
     ]
    }
   ],
   "source": [
    "path = os.getcwd()\n",
    "print(path)"
   ]
  },
  {
   "cell_type": "code",
   "execution_count": 8,
   "metadata": {},
   "outputs": [],
   "source": [
    "file1 = open('dataset_NB.txt', 'r')\n",
    "Lines = file1.readlines()"
   ]
  },
  {
   "cell_type": "markdown",
   "metadata": {},
   "source": [
    "<b>Insert data from txt file to a dictionary.\n",
    "Sepearte out the Labels.</b>"
   ]
  },
  {
   "cell_type": "code",
   "execution_count": 9,
   "metadata": {
    "scrolled": false
   },
   "outputs": [],
   "source": [
    "dict_data = {'text':[], 'label':[]}\n",
    "for i in Lines:\n",
    "  label = i[-2]\n",
    "  string = i[:-2]\n",
    "  dict_data['text'].append(string)\n",
    "  dict_data['label'].append(label)\n",
    "dict_data['label'][-1] = '0'"
   ]
  },
  {
   "cell_type": "code",
   "execution_count": 10,
   "metadata": {},
   "outputs": [
    {
     "data": {
      "text/plain": [
       "['So there is no way for me to plug it in here in the US unless I go by a converter.  ',\n",
       " 'Good case, Excellent value. ',\n",
       " 'Great for the jawbone.  ',\n",
       " 'Tied to charger for conversations lasting more than 45 minutes.MAJOR PROBLEMS!! ',\n",
       " 'The mic is great.   ',\n",
       " 'I have to jiggle the plug to get it to line up right to get decent volume.  ',\n",
       " 'If you have several dozen or several hundred contacts, then imagine the fun of sending each of them one by one. ',\n",
       " 'If you are Razr owner...you must have this! ',\n",
       " 'Needless to say, I wasted my money. ',\n",
       " 'What a waste of money and time!.    ']"
      ]
     },
     "execution_count": 10,
     "metadata": {},
     "output_type": "execute_result"
    }
   ],
   "source": [
    "dict_data['text'][:10]"
   ]
  },
  {
   "cell_type": "code",
   "execution_count": 11,
   "metadata": {},
   "outputs": [
    {
     "data": {
      "text/plain": [
       "['0', '1', '1', '0', '1', '0', '0', '1', '0', '0']"
      ]
     },
     "execution_count": 11,
     "metadata": {},
     "output_type": "execute_result"
    }
   ],
   "source": [
    "dict_data['label'][:10]"
   ]
  },
  {
   "cell_type": "markdown",
   "metadata": {},
   "source": [
    "<b>Create a Dataframe with the data from \"dict_data\".\n",
    "Then, visualize the data.</b>"
   ]
  },
  {
   "cell_type": "code",
   "execution_count": 12,
   "metadata": {},
   "outputs": [],
   "source": [
    "df = pd.DataFrame(dict_data)"
   ]
  },
  {
   "cell_type": "code",
   "execution_count": 36,
   "metadata": {},
   "outputs": [
    {
     "data": {
      "text/html": [
       "<div>\n",
       "<style scoped>\n",
       "    .dataframe tbody tr th:only-of-type {\n",
       "        vertical-align: middle;\n",
       "    }\n",
       "\n",
       "    .dataframe tbody tr th {\n",
       "        vertical-align: top;\n",
       "    }\n",
       "\n",
       "    .dataframe thead th {\n",
       "        text-align: right;\n",
       "    }\n",
       "</style>\n",
       "<table border=\"1\" class=\"dataframe\">\n",
       "  <thead>\n",
       "    <tr style=\"text-align: right;\">\n",
       "      <th></th>\n",
       "      <th>text</th>\n",
       "      <th>label</th>\n",
       "    </tr>\n",
       "  </thead>\n",
       "  <tbody>\n",
       "    <tr>\n",
       "      <th>0</th>\n",
       "      <td>So there is no way for me to plug it in here i...</td>\n",
       "      <td>0</td>\n",
       "    </tr>\n",
       "    <tr>\n",
       "      <th>1</th>\n",
       "      <td>Good case, Excellent value.</td>\n",
       "      <td>1</td>\n",
       "    </tr>\n",
       "    <tr>\n",
       "      <th>2</th>\n",
       "      <td>Great for the jawbone.</td>\n",
       "      <td>1</td>\n",
       "    </tr>\n",
       "    <tr>\n",
       "      <th>3</th>\n",
       "      <td>Tied to charger for conversations lasting more...</td>\n",
       "      <td>0</td>\n",
       "    </tr>\n",
       "    <tr>\n",
       "      <th>4</th>\n",
       "      <td>The mic is great.</td>\n",
       "      <td>1</td>\n",
       "    </tr>\n",
       "    <tr>\n",
       "      <th>...</th>\n",
       "      <td>...</td>\n",
       "      <td>...</td>\n",
       "    </tr>\n",
       "    <tr>\n",
       "      <th>995</th>\n",
       "      <td>The screen does get smudged easily because it ...</td>\n",
       "      <td>0</td>\n",
       "    </tr>\n",
       "    <tr>\n",
       "      <th>996</th>\n",
       "      <td>What a piece of junk.. I lose more calls on th...</td>\n",
       "      <td>0</td>\n",
       "    </tr>\n",
       "    <tr>\n",
       "      <th>997</th>\n",
       "      <td>Item Does Not Match Picture.</td>\n",
       "      <td>0</td>\n",
       "    </tr>\n",
       "    <tr>\n",
       "      <th>998</th>\n",
       "      <td>The only thing that disappoint me is the infra...</td>\n",
       "      <td>0</td>\n",
       "    </tr>\n",
       "    <tr>\n",
       "      <th>999</th>\n",
       "      <td>You can not answer calls with the unit, never ...</td>\n",
       "      <td>0</td>\n",
       "    </tr>\n",
       "  </tbody>\n",
       "</table>\n",
       "<p>1000 rows × 2 columns</p>\n",
       "</div>"
      ],
      "text/plain": [
       "                                                  text label\n",
       "0    So there is no way for me to plug it in here i...     0\n",
       "1                         Good case, Excellent value.      1\n",
       "2                             Great for the jawbone.       1\n",
       "3    Tied to charger for conversations lasting more...     0\n",
       "4                                 The mic is great.        1\n",
       "..                                                 ...   ...\n",
       "995  The screen does get smudged easily because it ...     0\n",
       "996  What a piece of junk.. I lose more calls on th...     0\n",
       "997                   Item Does Not Match Picture.         0\n",
       "998  The only thing that disappoint me is the infra...     0\n",
       "999  You can not answer calls with the unit, never ...     0\n",
       "\n",
       "[1000 rows x 2 columns]"
      ]
     },
     "execution_count": 36,
     "metadata": {},
     "output_type": "execute_result"
    }
   ],
   "source": [
    "df"
   ]
  },
  {
   "cell_type": "code",
   "execution_count": 13,
   "metadata": {},
   "outputs": [
    {
     "data": {
      "text/html": [
       "<div>\n",
       "<style scoped>\n",
       "    .dataframe tbody tr th:only-of-type {\n",
       "        vertical-align: middle;\n",
       "    }\n",
       "\n",
       "    .dataframe tbody tr th {\n",
       "        vertical-align: top;\n",
       "    }\n",
       "\n",
       "    .dataframe thead th {\n",
       "        text-align: right;\n",
       "    }\n",
       "</style>\n",
       "<table border=\"1\" class=\"dataframe\">\n",
       "  <thead>\n",
       "    <tr style=\"text-align: right;\">\n",
       "      <th></th>\n",
       "      <th>text</th>\n",
       "      <th>label</th>\n",
       "    </tr>\n",
       "  </thead>\n",
       "  <tbody>\n",
       "    <tr>\n",
       "      <th>0</th>\n",
       "      <td>So there is no way for me to plug it in here i...</td>\n",
       "      <td>0</td>\n",
       "    </tr>\n",
       "    <tr>\n",
       "      <th>1</th>\n",
       "      <td>Good case, Excellent value.</td>\n",
       "      <td>1</td>\n",
       "    </tr>\n",
       "    <tr>\n",
       "      <th>2</th>\n",
       "      <td>Great for the jawbone.</td>\n",
       "      <td>1</td>\n",
       "    </tr>\n",
       "    <tr>\n",
       "      <th>3</th>\n",
       "      <td>Tied to charger for conversations lasting more...</td>\n",
       "      <td>0</td>\n",
       "    </tr>\n",
       "    <tr>\n",
       "      <th>4</th>\n",
       "      <td>The mic is great.</td>\n",
       "      <td>1</td>\n",
       "    </tr>\n",
       "  </tbody>\n",
       "</table>\n",
       "</div>"
      ],
      "text/plain": [
       "                                                text label\n",
       "0  So there is no way for me to plug it in here i...     0\n",
       "1                       Good case, Excellent value.      1\n",
       "2                           Great for the jawbone.       1\n",
       "3  Tied to charger for conversations lasting more...     0\n",
       "4                               The mic is great.        1"
      ]
     },
     "execution_count": 13,
     "metadata": {},
     "output_type": "execute_result"
    }
   ],
   "source": [
    "df.head()"
   ]
  },
  {
   "cell_type": "code",
   "execution_count": 14,
   "metadata": {},
   "outputs": [],
   "source": [
    "n = df['label'].value_counts()\n",
    "n = n.to_numpy()"
   ]
  },
  {
   "cell_type": "markdown",
   "metadata": {},
   "source": [
    "<b>As shown below, there are 500 lines with postive and 500 lines with negitive sentiment.\n",
    "This is an eqaully distributed dataset.</b>"
   ]
  },
  {
   "cell_type": "code",
   "execution_count": 15,
   "metadata": {},
   "outputs": [
    {
     "data": {
      "image/png": "[encoded data removed]",
      "text/plain": [
       "<Figure size 432x288 with 1 Axes>"
      ]
     },
     "metadata": {
      "needs_background": "light"
     },
     "output_type": "display_data"
    }
   ],
   "source": [
    "plt.bar(['Negitive = 0','Positive = 1'], n)\n",
    "plt.xlabel('Sentiment')\n",
    "plt.ylabel('Number')\n",
    "plt.title('Visualization')\n",
    "plt.show()"
   ]
  },
  {
   "cell_type": "markdown",
   "metadata": {},
   "source": [
    "<b>Function Defined for processing the text data. This includes:\n",
    "    <ol>\n",
    "        <li>Removing stop words</li>\n",
    "        <li>Removing commas, fullstops, hyphens</li>\n",
    "        <li>Numerical Data</li>\n",
    "    </ol>\n",
    "</b>"
   ]
  },
  {
   "cell_type": "code",
   "execution_count": 16,
   "metadata": {},
   "outputs": [],
   "source": [
    "def data_preprocess(textdata):\n",
    "    Processed =[]\n",
    "\n",
    "    alphaPattern = r\"[^\\w\\s]\"\n",
    "    numPattern = r\"[\\d]\"\n",
    "    sequenceFind = r\"(.)\\1\\1+\"\n",
    "    sequenceReplace = r\"\\1\\1\"\n",
    "\n",
    "    for line in textdata:\n",
    "        line = line.lower()\n",
    "        line = re.sub(alphaPattern, ' ', line)\n",
    "        line = re.sub(numPattern, ' ', line)\n",
    "        line = re.sub(sequenceFind, sequenceReplace, line)\n",
    "\n",
    "        lineWords = ''\n",
    "        for text in line.split():\n",
    "            if len(text)>2:\n",
    "                lineWords += (text +' ')\n",
    "\n",
    "        Processed.append(lineWords)\n",
    "\n",
    "    return Processed"
   ]
  },
  {
   "cell_type": "code",
   "execution_count": 17,
   "metadata": {},
   "outputs": [],
   "source": [
    "dict_data['text'] = data_preprocess(dict_data['text'])"
   ]
  },
  {
   "cell_type": "code",
   "execution_count": 18,
   "metadata": {},
   "outputs": [
    {
     "data": {
      "text/plain": [
       "['there way for plug here the unless converter ',\n",
       " 'good case excellent value ',\n",
       " 'great for the jawbone ',\n",
       " 'tied charger for conversations lasting more than minutes major problems ',\n",
       " 'the mic great ',\n",
       " 'have jiggle the plug get line right get decent volume ',\n",
       " 'you have several dozen several hundred contacts then imagine the fun sending each them one one ',\n",
       " 'you are razr owner you must have this ',\n",
       " 'needless say wasted money ',\n",
       " 'what waste money and time ']"
      ]
     },
     "execution_count": 18,
     "metadata": {},
     "output_type": "execute_result"
    }
   ],
   "source": [
    "dict_data['text'][0:10]"
   ]
  },
  {
   "cell_type": "markdown",
   "metadata": {},
   "source": [
    "## Vectorizer"
   ]
  },
  {
   "cell_type": "markdown",
   "metadata": {},
   "source": [
    "<b>Created a list of stop words, which do not contribute to the sentiment of a text.</b>"
   ]
  },
  {
   "cell_type": "code",
   "execution_count": 19,
   "metadata": {},
   "outputs": [],
   "source": [
    "stop_words = ['hasn', 'few', \"you're\", 'which', 'having', 'aren', 'did', 'through', 'only', \"couldn't\", 'if', 'until', 'when', 'below', 'll', 'yourselves', 'their', 't', 'do', 're', 'couldn', 'doing', 'weren', 'he', 'they', 'just', 'isn', 'mustn', 'itself', 'but', 'haven', 'with', \"you'd\", 'where', \"that'll\", 'd', 'wouldn', 'once', 'am', 'is', 'on', 'she', 'such', 'won', 'was', 'being', 'ain', 'too', \"you'll\", 'each', 'are', 'ma', 'again', \"it's\", 'what', 'has', 'wasn', 'does', 'ours', 'now', 'them', \"wasn't\", 'you', 'above', 'from', 'can', 'will', 'theirs', 'because', 'mightn', 'i', 'off', 'shouldn', \"weren't\", 'doesn', 'him', \"wouldn't\", \"mustn't\", 'here', 'be', 'been', 'not', 'as', 'her', 'so', 'after', 'why', \"isn't\", 'his', 's', 'who', 'up', 'whom', \"shouldn't\", \"you've\", 'further', 'both', 'have', 've', 'then', 'all', \"don't\", 'that', 'm', 'very', \"doesn't\", 'and', 'while', \"haven't\", 'some', 'themselves', 'herself', \"needn't\", 'this', 'how', 'against', 'own', 'o', 'down', 'those', 'had', 'other', \"didn't\", 'were', 'to', 'there', 'yourself', \"hadn't\", 'for', 'of', 'at', 'no', 'most', 'in', 'or', 'more', 'your', 'should', \"won't\", 'any', 'it', \"hasn't\", 'by', 'the', 'himself', 'than', 'ourselves', 'under', \"shan't\", 'these', 'me', \"mightn't\", 'a', 'about', 'nor', 'before', 'hadn', 'didn', 'out', 'our', 'don', 'needn', 'same', 'hers', 'y', 'my', 'we', 'during', 'shan', 'over', 'an', \"should've\", 'its', \"aren't\", 'between', 'into', 'myself', 'yours', \"she's\"]"
   ]
  },
  {
   "cell_type": "code",
   "execution_count": 20,
   "metadata": {},
   "outputs": [],
   "source": [
    "label = dict_data['label']\n",
    "for i in range(0, len(label)): \n",
    "    label[i] = int(label[i]) \n",
    "dict_data['label'] = label"
   ]
  },
  {
   "cell_type": "code",
   "execution_count": 21,
   "metadata": {},
   "outputs": [],
   "source": [
    "def vectorizer(data, label):\n",
    "    '''\n",
    "    Takes a list of sentences as input.\n",
    "    Returns a dictionary containing unique words as keys and their respective count as values.\n",
    "    '''\n",
    "    dict_words = {}\n",
    "    \n",
    "    for line, label in zip(data, label):\n",
    "        for text in line.split():\n",
    "            if text not in stop_words:\n",
    "                pair = (text, label)\n",
    "                if pair in dict_words.keys():\n",
    "                    dict_words[pair] += 1\n",
    "                else:\n",
    "                    dict_words[pair] = 1\n",
    "    \n",
    "    return dict_words        "
   ]
  },
  {
   "cell_type": "code",
   "execution_count": 22,
   "metadata": {},
   "outputs": [],
   "source": [
    "dict_words = vectorizer(dict_data['text'], dict_data['label'])"
   ]
  },
  {
   "cell_type": "code",
   "execution_count": null,
   "metadata": {},
   "outputs": [],
   "source": []
  },
  {
   "cell_type": "markdown",
   "metadata": {},
   "source": [
    "## Train Test Split"
   ]
  },
  {
   "cell_type": "markdown",
   "metadata": {},
   "source": [
    "<b> Split the data given into train data and test data. Here train is of size (0.7*(size of dataset)) and test size is (0.3*(size of dataset)).</b>"
   ]
  },
  {
   "cell_type": "code",
   "execution_count": 23,
   "metadata": {},
   "outputs": [],
   "source": [
    "train_size = int(0.7*(len(dict_data['text'])))\n",
    "X_train = dict_data['text'][:train_size]\n",
    "Y_train = dict_data['label'][:train_size]\n",
    "X_test = dict_data['text'][train_size:]\n",
    "Y_test = dict_data['label'][train_size:]"
   ]
  },
  {
   "cell_type": "code",
   "execution_count": 24,
   "metadata": {
    "scrolled": false
   },
   "outputs": [
    {
     "name": "stdout",
     "output_type": "stream",
     "text": [
      "1    356\n",
      "0    344\n",
      "Name: sentiments, dtype: int64\n"
     ]
    }
   ],
   "source": [
    "n = pd.DataFrame({'sentiments': Y_train})['sentiments'].value_counts()\n",
    "print(n)\n",
    "n = n.to_numpy()"
   ]
  },
  {
   "cell_type": "code",
   "execution_count": 25,
   "metadata": {},
   "outputs": [
    {
     "data": {
      "image/png": "[encoded data removed]",
      "text/plain": [
       "<Figure size 432x288 with 1 Axes>"
      ]
     },
     "metadata": {
      "needs_background": "light"
     },
     "output_type": "display_data"
    }
   ],
   "source": [
    "plt.bar(['Positive = 1','Negitive = 0'], n)\n",
    "plt.xlabel('Sentiment')\n",
    "plt.ylabel('Number')\n",
    "plt.title('Visualization')\n",
    "plt.show()"
   ]
  },
  {
   "cell_type": "markdown",
   "metadata": {},
   "source": [
    "## Naive Bayes Model"
   ]
  },
  {
   "cell_type": "code",
   "execution_count": 239,
   "metadata": {},
   "outputs": [],
   "source": [
    "class NaiveBayesAlgo:\n",
    "\n",
    "    def __init__(self, alpha=1):\n",
    "        self.vocab={}\n",
    "        self.prob_pos_words = {}\n",
    "        self.prob_neg_words = {}  \n",
    "        self.pos_count = 0\n",
    "        self.neg_count = 0\n",
    "        self.pos_prior = 0\n",
    "        self.neg_prior = 0\n",
    "        self.alpha = alpha\n",
    "\n",
    "        \n",
    "\n",
    "    def fit(self, X, Y, vectorized, initialize=False):\n",
    "        '''\n",
    "        Function to train our model.\n",
    "        X = List of input sentences\n",
    "        Y = List of labels for input sentences\n",
    "        vectorized = Dictionary of counts of each unique word with their respective labels\n",
    "        '''\n",
    "\n",
    "        if initialize:\n",
    "            self.vocab = {}\n",
    "            self.prob_pos_words = {}\n",
    "            self.prob_neg_words = {}\n",
    "            self.pos_count = 0\n",
    "            self.neg_count = 0\n",
    "            self.pos_prior = 0\n",
    "            self.neg_prior = 0\n",
    "        \n",
    "        self.vocab = vectorized\n",
    "\n",
    "        self.pos_count = pd.DataFrame({'sentiments': Y})['sentiments'].value_counts()[0]\n",
    "        self.neg_count = pd.DataFrame({'sentiments': Y})['sentiments'].value_counts()[1]\n",
    "                        \n",
    "        voc_len = len(list(self.vocab.keys()))\n",
    "        for key in list(self.vocab.keys()):\n",
    "            if key[1]==1:\n",
    "                self.prob_pos_words[key[0]] = (self.vocab[key] + self.alpha) / (self.pos_count + (self.alpha * voc_len))\n",
    "\n",
    "            if key[1]==0:\n",
    "                self.prob_neg_words[key[0]] = (self.vocab[key] + self.alpha) / (self.neg_count + (self.alpha * voc_len))\n",
    "\n",
    "        \n",
    "        self.pos_prior = self.pos_count/(self.pos_count + self.neg_count)\n",
    "        self.neg_prior = self.neg_count/(self.pos_count + self.neg_count)\n",
    "        \n",
    "        \n",
    "    def predict(self, X):\n",
    "        '''\n",
    "        Input a list containing preprocessed tweets.\n",
    "        '''\n",
    "        \n",
    "        pos_prob = self.pos_prior\n",
    "        neg_prob = self.neg_prior\n",
    "        y_true=[]\n",
    "        for i in range(len(X)):\n",
    "            for word in X[i].split():\n",
    "                if word in list(self.prob_pos_words.keys()):\n",
    "                    if self.prob_pos_words[word]>0:\n",
    "                        pos_prob *= self.prob_pos_words[word]\n",
    "\n",
    "                if word in list(self.prob_neg_words.keys()):\n",
    "                    if self.prob_neg_words[word]>0:\n",
    "                        neg_prob *= self.prob_neg_words[word]\n",
    "\n",
    "\n",
    "            if pos_prob <= neg_prob:\n",
    "                y_true.append(1)\n",
    "            else:\n",
    "                y_true.append(0)\n",
    "            pos_prob = self.pos_prior\n",
    "            neg_prob = self.neg_prior\n",
    "            \n",
    "\n",
    "        return y_true\n",
    "    \n",
    "    \n",
    "    def cross_val(self, k, data):\n",
    "        '''\n",
    "        k-fold validation on the given data.\n",
    "        Data: Dictionary of values containing text and their sentiment labels, ie, 0 and 1.\n",
    "        '''\n",
    "        \n",
    "        for i in range(k):\n",
    "            \n",
    "            train_size = int(0.7*(len(dict_data['text'])))\n",
    "            X_train = dict_data['text'][:train_size]\n",
    "            Y_train = dict_data['label'][:train_size]\n",
    "            X_test = dict_data['text'][train_size:]\n",
    "            Y_test = dict_data['label'][train_size:]\n",
    "            \n",
    "            self.fit(X_train, Y_train, dict_words, initialize=True)\n",
    "            \n",
    "            self.evaluate(X_test, Y_test)\n",
    "        \n",
    "    \n",
    "    def evaluate(self, x_test, y_test):\n",
    "        '''\n",
    "        Funciton to evaluate our model.\n",
    "        '''\n",
    "\n",
    "        y_pred = self.predict(x_test)\n",
    "        dict = self.report(y_test, y_pred)\n",
    "        print('Classification Report') \n",
    "        n = np.array(list(dict.items()))\n",
    "        df = pd.DataFrame(n[:,1], index=n[:,0], columns=[''])\n",
    "        print(df)\n",
    "        self.confusion_matrix(dict)\n",
    "        \n",
    "    \n",
    "    def report(self, y_pred, y_test):\n",
    "        '''\n",
    "        Input: list of predicted and true labels.\n",
    "        Ouput: Dictionary of TP, TN, FP, FN, Total, Accuracy, Recall, Precision\n",
    "        '''\n",
    "        \n",
    "        TP=0\n",
    "        TN=0\n",
    "        FP=0\n",
    "        FN=0\n",
    "        Total=len(y_pred)\n",
    "        for pred, test in zip(y_pred, y_test):\n",
    "            if pred==test:\n",
    "                if pred==0:\n",
    "                    TN+=1\n",
    "                else:\n",
    "                    TP+=1\n",
    "            else:\n",
    "                if pred==1:\n",
    "                    FP+=1\n",
    "                else:\n",
    "                    FN+=1\n",
    "        \n",
    "        accuracy = (TP+TN) / Total\n",
    "        recall = TP / (TP+FN)\n",
    "        precision = TP / (TP+FP)\n",
    "        \n",
    "        return {'TP':TP, 'TN':TN, 'FP':FP, 'FN':FN, 'Total':Total, 'Accuracy':accuracy, 'Recall':recall, 'Precision':precision}\n",
    "        \n",
    "    def confusion_matrix(self, report_val):\n",
    "        '''\n",
    "        Confusion Matrix of the given data.\n",
    "        '''\n",
    "        \n",
    "        fig, ax = plt.subplots()\n",
    "        classes = ['Positive', 'Negitive']\n",
    "        t = report_val['Total']\n",
    "        report = np.array([[report_val['TN']/t, report_val['FP']/t], [report_val['FN']/t, report_val['TP']/t]])\n",
    "        im = ax.imshow(report, cmap = 'Blues')\n",
    "\n",
    "        ax.set_xticks(np.arange(len(classes)))\n",
    "        ax.set_yticks(np.arange(len(classes)))\n",
    "\n",
    "        ax.set_xticklabels(classes)\n",
    "        ax.set_yticklabels(classes)\n",
    "\n",
    "\n",
    "        plt.setp(ax.get_xticklabels(), rotation_mode=\"anchor\")\n",
    "        \n",
    "        group_names = ['True Neg','False Pos', 'False Neg','True Pos']\n",
    "        group_percentages = ['{0:.2%}'.format(value) for value in report.flatten()]\n",
    "\n",
    "        labels = [f'{v1}\\n{v2}' for v1, v2 in zip(group_names,group_percentages)]\n",
    "        labels = np.asarray(labels).reshape(2,2)\n",
    "\n",
    "        for i in range(len(classes)):\n",
    "            for j in range(len(classes)):\n",
    "                text = ax.text(j, i, labels[i, j], ha=\"center\", va=\"center\")\n",
    "\n",
    "        ax.set_title('Confusion Matrix', fontdict = {'size':18}, pad = 20)\n",
    "        \n",
    "        fig.tight_layout()\n",
    "        plt.xlabel(\"Predicted values\", fontdict = {'size':14}, labelpad = 10)\n",
    "        plt.ylabel(\"Actual values\"   , fontdict = {'size':14}, labelpad = 10)\n",
    "        plt.show()\n",
    "        "
   ]
  },
  {
   "cell_type": "code",
   "execution_count": null,
   "metadata": {},
   "outputs": [],
   "source": []
  },
  {
   "cell_type": "markdown",
   "metadata": {},
   "source": [
    "## Training"
   ]
  },
  {
   "cell_type": "code",
   "execution_count": 240,
   "metadata": {},
   "outputs": [],
   "source": [
    "NB = NaiveBayesAlgo()"
   ]
  },
  {
   "cell_type": "code",
   "execution_count": 241,
   "metadata": {},
   "outputs": [
    {
     "name": "stdout",
     "output_type": "stream",
     "text": [
      "CPU times: user 6.73 ms, sys: 0 ns, total: 6.73 ms\n",
      "Wall time: 6.52 ms\n"
     ]
    }
   ],
   "source": [
    "%%time\n",
    "NB.fit(X_train, Y_train, dict_words, initialize=True)"
   ]
  },
  {
   "cell_type": "code",
   "execution_count": 242,
   "metadata": {},
   "outputs": [
    {
     "name": "stdout",
     "output_type": "stream",
     "text": [
      "0.49142857142857144 0.5085714285714286 344 356\n"
     ]
    }
   ],
   "source": [
    "print(NB.pos_prior, NB.neg_prior, NB.pos_count, NB.neg_count)"
   ]
  },
  {
   "cell_type": "markdown",
   "metadata": {},
   "source": [
    "## Evaluation"
   ]
  },
  {
   "cell_type": "code",
   "execution_count": 243,
   "metadata": {},
   "outputs": [
    {
     "name": "stdout",
     "output_type": "stream",
     "text": [
      "Classification Report\n",
      "                             \n",
      "TP                         98\n",
      "TN                        139\n",
      "FP                         46\n",
      "FN                         17\n",
      "Total                     300\n",
      "Accuracy                 0.79\n",
      "Recall     0.8521739130434782\n",
      "Precision  0.6805555555555556\n"
     ]
    },
    {
     "data": {
      "image/png": "[encoded data removed]",
      "text/plain": [
       "<Figure size 432x288 with 1 Axes>"
      ]
     },
     "metadata": {
      "needs_background": "light"
     },
     "output_type": "display_data"
    }
   ],
   "source": [
    "NB.evaluate(X_test, Y_test)"
   ]
  },
  {
   "cell_type": "code",
   "execution_count": 208,
   "metadata": {},
   "outputs": [
    {
     "name": "stdout",
     "output_type": "stream",
     "text": [
      "[0, 1, 1, 0, 0, 1, 0, 1, 0, 1]\n",
      "[0, 1, 1, 1, 0, 1, 0, 1, 0, 1]\n"
     ]
    }
   ],
   "source": [
    "test = X_test[0:10]\n",
    "test_y = Y_test[0:10]\n",
    "print(NB.predict(test))\n",
    "print(test_y)"
   ]
  },
  {
   "cell_type": "code",
   "execution_count": 33,
   "metadata": {},
   "outputs": [
    {
     "name": "stdout",
     "output_type": "stream",
     "text": [
      "[0, 1, 1, 0, 0, 0, 0, 1, 0, 0]\n",
      "[0, 1, 1, 0, 1, 0, 0, 1, 0, 0]\n"
     ]
    }
   ],
   "source": [
    "test = X_train[0:10]\n",
    "test_y = Y_train[0:10]\n",
    "print(NB.predict(test))\n",
    "print(test_y)"
   ]
  },
  {
   "cell_type": "code",
   "execution_count": 34,
   "metadata": {},
   "outputs": [
    {
     "data": {
      "text/plain": [
       "[0, 1, 1]"
      ]
     },
     "execution_count": 34,
     "metadata": {},
     "output_type": "execute_result"
    }
   ],
   "source": [
    "test = ['there way for plug here the unless converter ',\n",
    " 'good case excellent value ',\n",
    " 'great for the jawbone ']\n",
    "NB.predict(test)"
   ]
  },
  {
   "cell_type": "code",
   "execution_count": null,
   "metadata": {},
   "outputs": [],
   "source": []
  }
 ],
 "metadata": {
  "kernelspec": {
   "display_name": "Python 3",
   "language": "python",
   "name": "python3"
  },
  "language_info": {
   "codemirror_mode": {
    "name": "ipython",
    "version": 3
   },
   "file_extension": ".py",
   "mimetype": "text/x-python",
   "name": "python",
   "nbconvert_exporter": "python",
   "pygments_lexer": "ipython3",
   "version": "3.8.5"
  }
 },
 "nbformat": 4,
 "nbformat_minor": 4
}
