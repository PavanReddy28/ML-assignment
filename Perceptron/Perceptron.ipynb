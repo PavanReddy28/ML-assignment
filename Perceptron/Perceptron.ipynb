{
 "cells": [
  {
   "cell_type": "markdown",
   "metadata": {},
   "source": [
    "# Perceptron Algorithm"
   ]
  },
  {
   "cell_type": "code",
   "execution_count": 1,
   "metadata": {},
   "outputs": [],
   "source": [
    "import numpy as np\n",
    "import pandas as pd\n",
    "import matplotlib.pyplot as plt\n",
    "from tqdm import tqdm"
   ]
  },
  {
   "cell_type": "code",
   "execution_count": 2,
   "metadata": {},
   "outputs": [],
   "source": [
    "def train_test_split(data,split,randomize=True):\n",
    "    \"\"\"\n",
    "    Parameters:\n",
    "        data: numpy array of the dataset\n",
    "        split: percentage of the samples required for the training data\n",
    "        randomize: boolean representing whether you want to randomize the dataset\n",
    "    Returns:\n",
    "        train_X: numpy array containing training data\n",
    "        train_y: numpy array containing the training labels\n",
    "        test_X: numpy array containing testing data\n",
    "        test_y: numpy array containing the testing labels\n",
    "    \"\"\"\n",
    "    \n",
    "    split_index = int(split*len(data))\n",
    "    \n",
    "    # randomly shuffles rows of the dataset\n",
    "    if randomize == True:\n",
    "        np.random.shuffle(data)\n",
    "    \n",
    "    \n",
    "    X = data[:,:-1]\n",
    "    y = data[:,-1]\n",
    "    \n",
    "    train_X = X[:split_index]\n",
    "    train_y = y[:split_index]\n",
    "    \n",
    "    test_X = X[split_index:]\n",
    "    test_y = y[split_index:]\n",
    "    \n",
    "    return train_X,train_y,test_X,test_y\n",
    "    "
   ]
  },
  {
   "cell_type": "code",
   "execution_count": 3,
   "metadata": {},
   "outputs": [],
   "source": [
    "class Perceptron:\n",
    "    \n",
    "    def predict(self,X):\n",
    "        \"\"\"\n",
    "        Parameters:\n",
    "            X: numpy array containing examples from which predictions needs to be made\n",
    "        Returns:\n",
    "            predictions: numpy array of the predictions\n",
    "        \"\"\"\n",
    "\n",
    "        activations = X.dot(self.weights[1:])\n",
    "        activations += self.weights[0]\n",
    "\n",
    "        predictions  = np.heaviside(activations,0)\n",
    "\n",
    "\n",
    "        return predictions\n",
    "    \n",
    "    def fit(self,train_X,train_y,iterations = 100,learning_rate = 0.0001):\n",
    "        \"\"\"\n",
    "        Updates the weights using gradient descent using a fixed number of iterations and a learning rate\n",
    "        Parameters:\n",
    "            train_X: numpy array containing training data\n",
    "            train_y: numpy array containing the training labels\n",
    "            iterations: number of iterations for gradient descent\n",
    "            learning_rate: learning rate for gradient descent\n",
    "        \"\"\"\n",
    "        \n",
    "        self.weights = np.random.normal(loc=0,scale=0.01,size=train_X.shape[1]+1)\n",
    "        \n",
    "        \n",
    "        for i in tqdm(range(iterations)):\n",
    "\n",
    "            predictions = self.predict(train_X)\n",
    "\n",
    "            loss = np.sum(-1*(train_X.dot(self.weights[1:])+self.weights[0])*(train_y-predictions))\n",
    "\n",
    "            for j,prediction in enumerate(predictions):\n",
    "                self.weights += learning_rate*(np.insert(train_X[j],0,1))*(train_y[j]-prediction)\n",
    "                \n",
    "                \n",
    "        print(\"Final loss = {:.2f}\".format(loss))\n"
   ]
  },
  {
   "cell_type": "code",
   "execution_count": 4,
   "metadata": {},
   "outputs": [],
   "source": [
    "def evaluate(train_X,train_y,test_X,test_y,perceptron):\n",
    "    \"\"\"\n",
    "    Evaluates the training and testing accuracy given a perceptron model\n",
    "    \n",
    "    Parameters:\n",
    "        train_X: numpy array containing training data\n",
    "        train_y: numpy array containing the training labels\n",
    "        test_X: numpy array containing testing data\n",
    "        test_y: numpy array containing the testing labels\n",
    "    \"\"\"\n",
    "    train_predictions = perceptron.predict(train_X)\n",
    "    test_predictions = perceptron.predict(test_X)\n",
    "\n",
    "    testing_accuracy = 100*np.sum((test_predictions == test_y))/len(test_y)\n",
    "    training_accuracy = 100*np.sum((train_predictions == train_y))/len(train_y)\n",
    "\n",
    "    print(\"Training accuracy = {:.2f}%\".format(training_accuracy))\n",
    "    print(\"Testing accuracy = {:.2f}%\".format(testing_accuracy))"
   ]
  },
  {
   "cell_type": "code",
   "execution_count": 18,
   "metadata": {},
   "outputs": [],
   "source": [
    "def eval(train_X, train_y, perceptron):\n",
    "    train_predictions = perceptron.predict(train_X)\n",
    "    training_accuracy = 100*np.sum((train_predictions == train_y))/len(train_y)\n",
    "    print(\"Training accuracy = {:.2f}%\".format(training_accuracy))"
   ]
  },
  {
   "cell_type": "code",
   "execution_count": null,
   "metadata": {},
   "outputs": [],
   "source": []
  },
  {
   "cell_type": "markdown",
   "metadata": {},
   "source": [
    "## Dataset - 1"
   ]
  },
  {
   "cell_type": "code",
   "execution_count": 22,
   "metadata": {},
   "outputs": [],
   "source": [
    "df = pd.read_csv('dataset_LP_2.csv',header = None)\n",
    "df.columns = [\"feature 1\",\"feature 2\", \"feature 3\",\"label\"]\n",
    "\n",
    "# txt file can also be read with read csv because all the values are comma seperated\n",
    "# df_2 = pd.read_csv('dataset_LP_1.txt',header = None)"
   ]
  },
  {
   "cell_type": "code",
   "execution_count": 23,
   "metadata": {},
   "outputs": [
    {
     "data": {
      "text/html": [
       "<div>\n",
       "<style scoped>\n",
       "    .dataframe tbody tr th:only-of-type {\n",
       "        vertical-align: middle;\n",
       "    }\n",
       "\n",
       "    .dataframe tbody tr th {\n",
       "        vertical-align: top;\n",
       "    }\n",
       "\n",
       "    .dataframe thead th {\n",
       "        text-align: right;\n",
       "    }\n",
       "</style>\n",
       "<table border=\"1\" class=\"dataframe\">\n",
       "  <thead>\n",
       "    <tr style=\"text-align: right;\">\n",
       "      <th></th>\n",
       "      <th>feature 1</th>\n",
       "      <th>feature 2</th>\n",
       "      <th>feature 3</th>\n",
       "      <th>label</th>\n",
       "    </tr>\n",
       "  </thead>\n",
       "  <tbody>\n",
       "    <tr>\n",
       "      <th>0</th>\n",
       "      <td>-6.672418</td>\n",
       "      <td>-1.206198</td>\n",
       "      <td>-1.081050</td>\n",
       "      <td>0</td>\n",
       "    </tr>\n",
       "    <tr>\n",
       "      <th>1</th>\n",
       "      <td>1.675598</td>\n",
       "      <td>0.614994</td>\n",
       "      <td>-0.971600</td>\n",
       "      <td>0</td>\n",
       "    </tr>\n",
       "    <tr>\n",
       "      <th>2</th>\n",
       "      <td>-4.039058</td>\n",
       "      <td>0.335102</td>\n",
       "      <td>0.544618</td>\n",
       "      <td>1</td>\n",
       "    </tr>\n",
       "    <tr>\n",
       "      <th>3</th>\n",
       "      <td>0.793526</td>\n",
       "      <td>-0.235277</td>\n",
       "      <td>0.551771</td>\n",
       "      <td>1</td>\n",
       "    </tr>\n",
       "    <tr>\n",
       "      <th>4</th>\n",
       "      <td>3.820273</td>\n",
       "      <td>-0.274691</td>\n",
       "      <td>0.454743</td>\n",
       "      <td>1</td>\n",
       "    </tr>\n",
       "    <tr>\n",
       "      <th>...</th>\n",
       "      <td>...</td>\n",
       "      <td>...</td>\n",
       "      <td>...</td>\n",
       "      <td>...</td>\n",
       "    </tr>\n",
       "    <tr>\n",
       "      <th>995</th>\n",
       "      <td>-3.680139</td>\n",
       "      <td>0.966962</td>\n",
       "      <td>-0.904337</td>\n",
       "      <td>0</td>\n",
       "    </tr>\n",
       "    <tr>\n",
       "      <th>996</th>\n",
       "      <td>-4.063900</td>\n",
       "      <td>0.802611</td>\n",
       "      <td>1.023708</td>\n",
       "      <td>1</td>\n",
       "    </tr>\n",
       "    <tr>\n",
       "      <th>997</th>\n",
       "      <td>-0.814430</td>\n",
       "      <td>-0.693945</td>\n",
       "      <td>0.876776</td>\n",
       "      <td>1</td>\n",
       "    </tr>\n",
       "    <tr>\n",
       "      <th>998</th>\n",
       "      <td>-0.325122</td>\n",
       "      <td>-0.759024</td>\n",
       "      <td>1.299772</td>\n",
       "      <td>1</td>\n",
       "    </tr>\n",
       "    <tr>\n",
       "      <th>999</th>\n",
       "      <td>-1.503431</td>\n",
       "      <td>-0.269458</td>\n",
       "      <td>-1.124390</td>\n",
       "      <td>0</td>\n",
       "    </tr>\n",
       "  </tbody>\n",
       "</table>\n",
       "<p>1000 rows × 4 columns</p>\n",
       "</div>"
      ],
      "text/plain": [
       "     feature 1  feature 2  feature 3  label\n",
       "0    -6.672418  -1.206198  -1.081050      0\n",
       "1     1.675598   0.614994  -0.971600      0\n",
       "2    -4.039058   0.335102   0.544618      1\n",
       "3     0.793526  -0.235277   0.551771      1\n",
       "4     3.820273  -0.274691   0.454743      1\n",
       "..         ...        ...        ...    ...\n",
       "995  -3.680139   0.966962  -0.904337      0\n",
       "996  -4.063900   0.802611   1.023708      1\n",
       "997  -0.814430  -0.693945   0.876776      1\n",
       "998  -0.325122  -0.759024   1.299772      1\n",
       "999  -1.503431  -0.269458  -1.124390      0\n",
       "\n",
       "[1000 rows x 4 columns]"
      ]
     },
     "execution_count": 23,
     "metadata": {},
     "output_type": "execute_result"
    }
   ],
   "source": [
    "df\n",
    "# Note: here the targets tn is either 0 or 1 unlike in class where it is -1 and 1"
   ]
  },
  {
   "cell_type": "markdown",
   "metadata": {},
   "source": [
    "### Distribution of labels"
   ]
  },
  {
   "cell_type": "code",
   "execution_count": 24,
   "metadata": {},
   "outputs": [
    {
     "data": {
      "image/png": "[encoded data removed]",
      "text/plain": [
       "<Figure size 432x288 with 1 Axes>"
      ]
     },
     "metadata": {
      "needs_background": "light"
     },
     "output_type": "display_data"
    }
   ],
   "source": [
    "counts = df['label'].value_counts()\n",
    "plt.bar(['1','0'], counts)\n",
    "plt.xlabel('class')\n",
    "plt.ylabel('# samples')\n",
    "plt.show()"
   ]
  },
  {
   "cell_type": "code",
   "execution_count": 25,
   "metadata": {
    "scrolled": true
   },
   "outputs": [],
   "source": [
    "data = df.values"
   ]
  },
  {
   "cell_type": "markdown",
   "metadata": {},
   "source": [
    "We will now split the data into a 70%-30% split fot training and testing respectively"
   ]
  },
  {
   "cell_type": "code",
   "execution_count": 26,
   "metadata": {},
   "outputs": [
    {
     "name": "stderr",
     "output_type": "stream",
     "text": [
      "100%|██████████| 100/100 [00:03<00:00, 25.08it/s]"
     ]
    },
    {
     "name": "stdout",
     "output_type": "stream",
     "text": [
      "Final loss = 0.01\n"
     ]
    },
    {
     "name": "stderr",
     "output_type": "stream",
     "text": [
      "\n"
     ]
    }
   ],
   "source": [
    "train_X,train_y,test_X,test_y = train_test_split(data,0.7)\n",
    "perceptron = Perceptron()\n",
    "perceptron.fit(train_X,train_y)"
   ]
  },
  {
   "cell_type": "code",
   "execution_count": 27,
   "metadata": {
    "scrolled": true
   },
   "outputs": [
    {
     "name": "stdout",
     "output_type": "stream",
     "text": [
      "Training accuracy = 99.86%\n",
      "Testing accuracy = 100.00%\n"
     ]
    }
   ],
   "source": [
    "evaluate(train_X,train_y,test_X,test_y,perceptron)"
   ]
  },
  {
   "cell_type": "code",
   "execution_count": 28,
   "metadata": {},
   "outputs": [
    {
     "name": "stdout",
     "output_type": "stream",
     "text": [
      "Training accuracy = 99.90%\n"
     ]
    }
   ],
   "source": [
    "eval(data[:,:-1], data[:,-1], perceptron)"
   ]
  },
  {
   "cell_type": "markdown",
   "metadata": {},
   "source": [
    "## Dataset - 2"
   ]
  },
  {
   "cell_type": "markdown",
   "metadata": {},
   "source": [
    "We will load the dataset into a pandas dataframe"
   ]
  },
  {
   "cell_type": "code",
   "execution_count": 29,
   "metadata": {},
   "outputs": [],
   "source": [
    "df = pd.read_csv('dataset_LP_1.txt',header = None)\n",
    "df.columns = [\"feature 1\",\"feature 2\", \"feature 3\",\"feature 4\",\"label\"]"
   ]
  },
  {
   "cell_type": "code",
   "execution_count": 30,
   "metadata": {},
   "outputs": [
    {
     "data": {
      "text/html": [
       "<div>\n",
       "<style scoped>\n",
       "    .dataframe tbody tr th:only-of-type {\n",
       "        vertical-align: middle;\n",
       "    }\n",
       "\n",
       "    .dataframe tbody tr th {\n",
       "        vertical-align: top;\n",
       "    }\n",
       "\n",
       "    .dataframe thead th {\n",
       "        text-align: right;\n",
       "    }\n",
       "</style>\n",
       "<table border=\"1\" class=\"dataframe\">\n",
       "  <thead>\n",
       "    <tr style=\"text-align: right;\">\n",
       "      <th></th>\n",
       "      <th>feature 1</th>\n",
       "      <th>feature 2</th>\n",
       "      <th>feature 3</th>\n",
       "      <th>feature 4</th>\n",
       "      <th>label</th>\n",
       "    </tr>\n",
       "  </thead>\n",
       "  <tbody>\n",
       "    <tr>\n",
       "      <th>0</th>\n",
       "      <td>3.62160</td>\n",
       "      <td>8.66610</td>\n",
       "      <td>-2.8073</td>\n",
       "      <td>-0.44699</td>\n",
       "      <td>0</td>\n",
       "    </tr>\n",
       "    <tr>\n",
       "      <th>1</th>\n",
       "      <td>4.54590</td>\n",
       "      <td>8.16740</td>\n",
       "      <td>-2.4586</td>\n",
       "      <td>-1.46210</td>\n",
       "      <td>0</td>\n",
       "    </tr>\n",
       "    <tr>\n",
       "      <th>2</th>\n",
       "      <td>3.86600</td>\n",
       "      <td>-2.63830</td>\n",
       "      <td>1.9242</td>\n",
       "      <td>0.10645</td>\n",
       "      <td>0</td>\n",
       "    </tr>\n",
       "    <tr>\n",
       "      <th>3</th>\n",
       "      <td>3.45660</td>\n",
       "      <td>9.52280</td>\n",
       "      <td>-4.0112</td>\n",
       "      <td>-3.59440</td>\n",
       "      <td>0</td>\n",
       "    </tr>\n",
       "    <tr>\n",
       "      <th>4</th>\n",
       "      <td>0.32924</td>\n",
       "      <td>-4.45520</td>\n",
       "      <td>4.5718</td>\n",
       "      <td>-0.98880</td>\n",
       "      <td>0</td>\n",
       "    </tr>\n",
       "    <tr>\n",
       "      <th>...</th>\n",
       "      <td>...</td>\n",
       "      <td>...</td>\n",
       "      <td>...</td>\n",
       "      <td>...</td>\n",
       "      <td>...</td>\n",
       "    </tr>\n",
       "    <tr>\n",
       "      <th>1367</th>\n",
       "      <td>0.40614</td>\n",
       "      <td>1.34920</td>\n",
       "      <td>-1.4501</td>\n",
       "      <td>-0.55949</td>\n",
       "      <td>1</td>\n",
       "    </tr>\n",
       "    <tr>\n",
       "      <th>1368</th>\n",
       "      <td>-1.38870</td>\n",
       "      <td>-4.87730</td>\n",
       "      <td>6.4774</td>\n",
       "      <td>0.34179</td>\n",
       "      <td>1</td>\n",
       "    </tr>\n",
       "    <tr>\n",
       "      <th>1369</th>\n",
       "      <td>-3.75030</td>\n",
       "      <td>-13.45860</td>\n",
       "      <td>17.5932</td>\n",
       "      <td>-2.77710</td>\n",
       "      <td>1</td>\n",
       "    </tr>\n",
       "    <tr>\n",
       "      <th>1370</th>\n",
       "      <td>-3.56370</td>\n",
       "      <td>-8.38270</td>\n",
       "      <td>12.3930</td>\n",
       "      <td>-1.28230</td>\n",
       "      <td>1</td>\n",
       "    </tr>\n",
       "    <tr>\n",
       "      <th>1371</th>\n",
       "      <td>-2.54190</td>\n",
       "      <td>-0.65804</td>\n",
       "      <td>2.6842</td>\n",
       "      <td>1.19520</td>\n",
       "      <td>1</td>\n",
       "    </tr>\n",
       "  </tbody>\n",
       "</table>\n",
       "<p>1372 rows × 5 columns</p>\n",
       "</div>"
      ],
      "text/plain": [
       "      feature 1  feature 2  feature 3  feature 4  label\n",
       "0       3.62160    8.66610    -2.8073   -0.44699      0\n",
       "1       4.54590    8.16740    -2.4586   -1.46210      0\n",
       "2       3.86600   -2.63830     1.9242    0.10645      0\n",
       "3       3.45660    9.52280    -4.0112   -3.59440      0\n",
       "4       0.32924   -4.45520     4.5718   -0.98880      0\n",
       "...         ...        ...        ...        ...    ...\n",
       "1367    0.40614    1.34920    -1.4501   -0.55949      1\n",
       "1368   -1.38870   -4.87730     6.4774    0.34179      1\n",
       "1369   -3.75030  -13.45860    17.5932   -2.77710      1\n",
       "1370   -3.56370   -8.38270    12.3930   -1.28230      1\n",
       "1371   -2.54190   -0.65804     2.6842    1.19520      1\n",
       "\n",
       "[1372 rows x 5 columns]"
      ]
     },
     "execution_count": 30,
     "metadata": {},
     "output_type": "execute_result"
    }
   ],
   "source": [
    "df"
   ]
  },
  {
   "cell_type": "markdown",
   "metadata": {},
   "source": [
    "The counts of each label is given below"
   ]
  },
  {
   "cell_type": "code",
   "execution_count": 31,
   "metadata": {},
   "outputs": [
    {
     "data": {
      "image/png": "[encoded data removed]",
      "text/plain": [
       "<Figure size 432x288 with 1 Axes>"
      ]
     },
     "metadata": {
      "needs_background": "light"
     },
     "output_type": "display_data"
    }
   ],
   "source": [
    "counts = df['label'].value_counts()\n",
    "plt.bar(['1','0'], counts)\n",
    "plt.xlabel('class')\n",
    "plt.ylabel('# samples')\n",
    "plt.show()"
   ]
  },
  {
   "cell_type": "code",
   "execution_count": 32,
   "metadata": {},
   "outputs": [],
   "source": [
    "data = df.values"
   ]
  },
  {
   "cell_type": "markdown",
   "metadata": {},
   "source": [
    "We will now split the data into a 70%-30% training testing split"
   ]
  },
  {
   "cell_type": "code",
   "execution_count": 45,
   "metadata": {
    "scrolled": true
   },
   "outputs": [
    {
     "name": "stderr",
     "output_type": "stream",
     "text": [
      "100%|██████████| 500/500 [00:29<00:00, 17.17it/s]"
     ]
    },
    {
     "name": "stdout",
     "output_type": "stream",
     "text": [
      "Final loss = 0.03\n"
     ]
    },
    {
     "name": "stderr",
     "output_type": "stream",
     "text": [
      "\n"
     ]
    }
   ],
   "source": [
    "train_X,train_y,test_X,test_y = train_test_split(data,0.7)\n",
    "perceptron = Perceptron()\n",
    "perceptron.fit(train_X,train_y,learning_rate=0.00001,iterations=500)"
   ]
  },
  {
   "cell_type": "code",
   "execution_count": 46,
   "metadata": {
    "scrolled": true
   },
   "outputs": [
    {
     "name": "stdout",
     "output_type": "stream",
     "text": [
      "Training accuracy = 99.06%\n",
      "Testing accuracy = 97.82%\n"
     ]
    }
   ],
   "source": [
    "evaluate(train_X,train_y,test_X,test_y,perceptron)"
   ]
  },
  {
   "cell_type": "code",
   "execution_count": 47,
   "metadata": {},
   "outputs": [
    {
     "name": "stdout",
     "output_type": "stream",
     "text": [
      "Training accuracy = 98.69%\n"
     ]
    }
   ],
   "source": [
    "eval(data[:,:-1], data[:,-1], perceptron)"
   ]
  },
  {
   "cell_type": "markdown",
   "metadata": {},
   "source": [
    "# Limitations of Perceptron algorithm"
   ]
  },
  {
   "cell_type": "markdown",
   "metadata": {},
   "source": [
    "- The algorithm converges only when the data is linearly seperable.\n",
    "- Can take substantial amount of iterations to reach convergence even if data is linearly seperable\n",
    "- No accepted method to find out the learning rate and iteration hyperparameters\n",
    "- It is not a good classifier of datasets which can be seperated linearly"
   ]
  }
 ],
 "metadata": {
  "kernelspec": {
   "display_name": "Python 3",
   "language": "python",
   "name": "python3"
  },
  "language_info": {
   "codemirror_mode": {
    "name": "ipython",
    "version": 3
   },
   "file_extension": ".py",
   "mimetype": "text/x-python",
   "name": "python",
   "nbconvert_exporter": "python",
   "pygments_lexer": "ipython3",
   "version": "3.7.6"
  }
 },
 "nbformat": 4,
 "nbformat_minor": 4
}
