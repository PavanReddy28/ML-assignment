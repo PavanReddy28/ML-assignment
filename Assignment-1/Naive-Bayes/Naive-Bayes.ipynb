{
 "cells": [
  {
   "cell_type": "markdown",
   "metadata": {},
   "source": [
    "# Sentiment Analysis using Naive Bayes"
   ]
  },
  {
   "cell_type": "markdown",
   "metadata": {},
   "source": [
    "Naive Bayes algorithms are a set of supervised statistical classification machine learning algorithms based on the Bayes probability theorem.\n",
    "\n",
    "Bayes theorem states that:\n",
    "\n",
    "$$P(A|B) = \\frac{P(B/A) * P(A)}{P(B)}$$\n",
    "$$P(A|B) = \\frac{P(B/A) * P(A)}{P(B/A) * P(A) + P(C/A) * P(A)}$$\n",
    "\n",
    "An important assumption made by Bayes theorem is that the value of a particular feature is independent from the value of any other feature for a given the class.\n",
    "\n",
    "For sentiment analysis on the given dataset, we have used the method \"Bag of Words\". In this method we create a dictionary/vocabulary of distinct words (which tells us about the sentiment of the sentence). Here, words are taken as features used to estimate the sentiment.\n",
    "\n",
    "The prior probability of the positive and negative classes, along with, the probability of occurence of each word (feature) are calculated.\n",
    "\n",
    "### Implementation\n",
    "- All the sentences are preprocessed. The preprocessing includes:\n",
    "    1. Removal of stop words such as 'a,the,is ...' which do not contribute to the semantics\n",
    "    2. Removal of punctuation marks and numbers through regular expressions\n",
    "- Once the preprocessing is done we then create a vocabulary using the training data\n",
    "- The likelihoods of the words in the training data are calculated. Laplacian smoothing is used to prevent zero probability\n",
    "- The testing sentences are then classified by calculating the posterior probabilities from the prior probabilities and likelihoods of the words.\n",
    "- A 7-fold cross validation has been implemented to calculate the metrics."
   ]
  },
  {
   "cell_type": "markdown",
   "metadata": {},
   "source": [
    "## Packages"
   ]
  },
  {
   "cell_type": "code",
   "execution_count": 1,
   "metadata": {},
   "outputs": [],
   "source": [
    "import os\n",
    "import re\n",
    "import random\n",
    "import numpy as np\n",
    "import pandas as pd\n",
    "import matplotlib.pyplot as plt"
   ]
  },
  {
   "cell_type": "markdown",
   "metadata": {},
   "source": [
    "## Data Preprocessing"
   ]
  },
  {
   "cell_type": "code",
   "execution_count": 2,
   "metadata": {},
   "outputs": [],
   "source": [
    "data = open('dataset_NB.txt', 'r')"
   ]
  },
  {
   "cell_type": "code",
   "execution_count": 3,
   "metadata": {},
   "outputs": [],
   "source": [
    "# randomly shuffle the dataset\n",
    "data_list = [line for line in data.readlines()]\n",
    "random.shuffle(data_list)"
   ]
  },
  {
   "cell_type": "markdown",
   "metadata": {},
   "source": [
    "<b>Insert data from txt file to a dictionary.\n",
    "Sepearte out the Labels.</b>"
   ]
  },
  {
   "cell_type": "code",
   "execution_count": 5,
   "metadata": {
    "scrolled": false
   },
   "outputs": [],
   "source": [
    "dict_data = {'text':[], 'label':[]}\n",
    "for line in data_list:\n",
    "    if re.search(\"\\d\\n\",line):\n",
    "        label = int(re.findall(\"\\d\\n\",line)[0][0])\n",
    "    elif re.search(\"\\d$\",line):\n",
    "        label = int(re.findall(\"\\d$\",line)[0][0])\n",
    "    sentence = line[:-2]\n",
    "    dict_data['text'].append(sentence)\n",
    "    dict_data['label'].append(label)\n",
    "# dict_data['label'][-1] = '0'"
   ]
  },
  {
   "cell_type": "code",
   "execution_count": 6,
   "metadata": {},
   "outputs": [
    {
     "data": {
      "text/plain": [
       "1000"
      ]
     },
     "execution_count": 6,
     "metadata": {},
     "output_type": "execute_result"
    }
   ],
   "source": [
    "len(dict_data['text'])"
   ]
  },
  {
   "cell_type": "code",
   "execution_count": 7,
   "metadata": {},
   "outputs": [
    {
     "data": {
      "text/plain": [
       "['Really good product.    ',\n",
       " 'It is light, has plenty of battery capacity, and is very confortable to wear for somewhat extended periods of time. ',\n",
       " 'Great product, fast shipping!.  ',\n",
       " 'Good , works fine.  ',\n",
       " 'We are sending it back. ',\n",
       " 'This company charge me a restocking fee and still not given me my refund back.  ',\n",
       " 'It is a joy to use. ',\n",
       " 'The volume switch rocketed out of the unit to a destination unknown.    ',\n",
       " \"I'm returning them. \",\n",
       " \"Couldn't use the unit with sunglasses, not good in Texas!   \"]"
      ]
     },
     "execution_count": 7,
     "metadata": {},
     "output_type": "execute_result"
    }
   ],
   "source": [
    "dict_data['text'][:10]"
   ]
  },
  {
   "cell_type": "code",
   "execution_count": 8,
   "metadata": {},
   "outputs": [
    {
     "data": {
      "text/plain": [
       "[1, 1, 1, 1, 0, 0, 1, 0, 0, 0]"
      ]
     },
     "execution_count": 8,
     "metadata": {},
     "output_type": "execute_result"
    }
   ],
   "source": [
    "dict_data['label'][:10]"
   ]
  },
  {
   "cell_type": "markdown",
   "metadata": {},
   "source": [
    "<b>Create a Dataframe with the data from \"dict_data\".\n",
    "Then, visualize the data.</b>"
   ]
  },
  {
   "cell_type": "code",
   "execution_count": 9,
   "metadata": {},
   "outputs": [],
   "source": [
    "df = pd.DataFrame(dict_data)"
   ]
  },
  {
   "cell_type": "code",
   "execution_count": 10,
   "metadata": {},
   "outputs": [
    {
     "data": {
      "text/html": [
       "<div>\n",
       "<style scoped>\n",
       "    .dataframe tbody tr th:only-of-type {\n",
       "        vertical-align: middle;\n",
       "    }\n",
       "\n",
       "    .dataframe tbody tr th {\n",
       "        vertical-align: top;\n",
       "    }\n",
       "\n",
       "    .dataframe thead th {\n",
       "        text-align: right;\n",
       "    }\n",
       "</style>\n",
       "<table border=\"1\" class=\"dataframe\">\n",
       "  <thead>\n",
       "    <tr style=\"text-align: right;\">\n",
       "      <th></th>\n",
       "      <th>text</th>\n",
       "      <th>label</th>\n",
       "    </tr>\n",
       "  </thead>\n",
       "  <tbody>\n",
       "    <tr>\n",
       "      <th>0</th>\n",
       "      <td>Really good product.</td>\n",
       "      <td>1</td>\n",
       "    </tr>\n",
       "    <tr>\n",
       "      <th>1</th>\n",
       "      <td>It is light, has plenty of battery capacity, a...</td>\n",
       "      <td>1</td>\n",
       "    </tr>\n",
       "    <tr>\n",
       "      <th>2</th>\n",
       "      <td>Great product, fast shipping!.</td>\n",
       "      <td>1</td>\n",
       "    </tr>\n",
       "    <tr>\n",
       "      <th>3</th>\n",
       "      <td>Good , works fine.</td>\n",
       "      <td>1</td>\n",
       "    </tr>\n",
       "    <tr>\n",
       "      <th>4</th>\n",
       "      <td>We are sending it back.</td>\n",
       "      <td>0</td>\n",
       "    </tr>\n",
       "    <tr>\n",
       "      <th>...</th>\n",
       "      <td>...</td>\n",
       "      <td>...</td>\n",
       "    </tr>\n",
       "    <tr>\n",
       "      <th>995</th>\n",
       "      <td>none of the new ones have ever quite worked pr...</td>\n",
       "      <td>0</td>\n",
       "    </tr>\n",
       "    <tr>\n",
       "      <th>996</th>\n",
       "      <td>VERY cheap plastic, creaks like an old wooden ...</td>\n",
       "      <td>0</td>\n",
       "    </tr>\n",
       "    <tr>\n",
       "      <th>997</th>\n",
       "      <td>The camera on the phone may be used as a dustp...</td>\n",
       "      <td>0</td>\n",
       "    </tr>\n",
       "    <tr>\n",
       "      <th>998</th>\n",
       "      <td>don't waste your money and time.</td>\n",
       "      <td>0</td>\n",
       "    </tr>\n",
       "    <tr>\n",
       "      <th>999</th>\n",
       "      <td>It was a great phone.</td>\n",
       "      <td>1</td>\n",
       "    </tr>\n",
       "  </tbody>\n",
       "</table>\n",
       "<p>1000 rows × 2 columns</p>\n",
       "</div>"
      ],
      "text/plain": [
       "                                                  text  label\n",
       "0                             Really good product.          1\n",
       "1    It is light, has plenty of battery capacity, a...      1\n",
       "2                     Great product, fast shipping!.        1\n",
       "3                                 Good , works fine.        1\n",
       "4                             We are sending it back.       0\n",
       "..                                                 ...    ...\n",
       "995  none of the new ones have ever quite worked pr...      0\n",
       "996  VERY cheap plastic, creaks like an old wooden ...      0\n",
       "997  The camera on the phone may be used as a dustp...      0\n",
       "998               don't waste your money and time.          0\n",
       "999                           It was a great phone.         1\n",
       "\n",
       "[1000 rows x 2 columns]"
      ]
     },
     "execution_count": 10,
     "metadata": {},
     "output_type": "execute_result"
    }
   ],
   "source": [
    "df"
   ]
  },
  {
   "cell_type": "markdown",
   "metadata": {},
   "source": [
    "<b>As shown below, there are 500 lines with postive and 500 lines with negitive sentiment.\n",
    "This is an eqaully distributed dataset.</b>"
   ]
  },
  {
   "cell_type": "code",
   "execution_count": 11,
   "metadata": {},
   "outputs": [
    {
     "data": {
      "image/png": "[encoded data removed]",
      "text/plain": [
       "<Figure size 432x288 with 1 Axes>"
      ]
     },
     "metadata": {
      "needs_background": "light"
     },
     "output_type": "display_data"
    }
   ],
   "source": [
    "counts = df['label'].value_counts()\n",
    "counts = counts.to_numpy()\n",
    "plt.bar(['Negitive = 0','Positive = 1'], counts)\n",
    "plt.xlabel('Sentiment')\n",
    "plt.ylabel('Number')\n",
    "plt.title('Visualization')\n",
    "plt.show()"
   ]
  },
  {
   "cell_type": "markdown",
   "metadata": {},
   "source": [
    "<b>Function Defined for processing the text data. This includes:\n",
    "    <ol>\n",
    "        <li>Removing stop words</li>\n",
    "        <li>Removing commas, fullstops, hyphens</li>\n",
    "        <li>Numerical Data</li>\n",
    "    </ol>\n",
    "</b>"
   ]
  },
  {
   "cell_type": "code",
   "execution_count": 12,
   "metadata": {},
   "outputs": [],
   "source": [
    "def data_preprocess(textdata):\n",
    "    processed =[]\n",
    "\n",
    "    alphaPattern = r\"[^\\w\\s]\"\n",
    "    numPattern = r\"[\\d]\"\n",
    "    sequenceFind = r\"(.)\\1\\1+\"\n",
    "    sequenceReplace = r\"\\1\\1\"\n",
    "\n",
    "    for line in textdata:\n",
    "        line = line.lower()\n",
    "        line = re.sub(alphaPattern, ' ', line)\n",
    "        line = re.sub(numPattern, ' ', line)\n",
    "        line = re.sub(sequenceFind, sequenceReplace, line)\n",
    "\n",
    "        lineWords = ''\n",
    "        for text in line.split():\n",
    "            if len(text)>2:\n",
    "                lineWords += (text +' ')\n",
    "\n",
    "        processed.append(lineWords)\n",
    "\n",
    "    return processed"
   ]
  },
  {
   "cell_type": "code",
   "execution_count": 13,
   "metadata": {},
   "outputs": [],
   "source": [
    "dict_data['text'] = data_preprocess(dict_data['text'])"
   ]
  },
  {
   "cell_type": "code",
   "execution_count": 14,
   "metadata": {},
   "outputs": [
    {
     "data": {
      "text/plain": [
       "['really good product ',\n",
       " 'light has plenty battery capacity and very confortable wear for somewhat extended periods time ',\n",
       " 'great product fast shipping ',\n",
       " 'good works fine ',\n",
       " 'are sending back ',\n",
       " 'this company charge restocking fee and still not given refund back ',\n",
       " 'joy use ',\n",
       " 'the volume switch rocketed out the unit destination unknown ',\n",
       " 'returning them ',\n",
       " 'couldn use the unit with sunglasses not good texas ']"
      ]
     },
     "execution_count": 14,
     "metadata": {},
     "output_type": "execute_result"
    }
   ],
   "source": [
    "dict_data['text'][0:10]"
   ]
  },
  {
   "cell_type": "markdown",
   "metadata": {},
   "source": [
    "## Vectorizer"
   ]
  },
  {
   "cell_type": "markdown",
   "metadata": {},
   "source": [
    "<b>Created a list of stop words, which do not contribute to the sentiment of a text.</b>"
   ]
  },
  {
   "cell_type": "code",
   "execution_count": 15,
   "metadata": {},
   "outputs": [],
   "source": [
    "words = open('stop_words.txt', 'r')\n",
    "stop_words = [word[:-1] for word in words.readlines()]"
   ]
  },
  {
   "cell_type": "markdown",
   "metadata": {},
   "source": [
    "## Naive Bayes Model"
   ]
  },
  {
   "cell_type": "markdown",
   "metadata": {},
   "source": [
    "<b>Prior Porbability:</b>\n",
    "<br>\n",
    "$$P(pos) = \\frac{Count_{pos} + \\alpha}{Count_{neg} + Count_{pos}} $$\n",
    "<br>\n",
    "<br>\n",
    "$$P(neg) = \\frac{Count_{neg} + \\alpha}{Count_{neg} + Count_{pos}} $$\n",
    "<br>\n",
    "<b>Likelihood Porbability:</b>\n",
    "<br>\n",
    "<br>\n",
    "$$parameters(pos) =P(W|pos) = \\frac{Count(W)_{pos} + \\alpha}{\\sum{Count(W)_{pos}} + \\alpha*V } $$\n",
    "<br>\n",
    "$$parameters(neg)=P(W|neg) = \\frac{Count(W)_{neg} + \\alpha}{\\sum{Count(W)_{neg}} + \\alpha*V} $$\n",
    "\n",
    "<br><br>\n",
    "\n",
    "<b>Posterior Probability</b>:\n",
    "$$P(pos|(w1,w2....wn)) = \\frac{P(pos)*\\prod_{i=1}^{n}P(w_{i}|pos)}{P(pos)*\\prod_{i=1}^{n}P(w_{i}|pos) + P(neg)*\\prod_{i=1}^{n}P(w_{i}|neg)} $$\n",
    "<br>\n",
    "$$P(neg|(w1,w2....wn)) = \\frac{P(neg)*\\prod_{i=1}^{n}P(w_{i}|neg)}{P(pos)*\\prod_{i=1}^{n}P(w_{i}|pos) + P(neg)*\\prod_{i=1}^{n}P(w_{i}|neg)} \n",
    "$$\n"
   ]
  },
  {
   "cell_type": "code",
   "execution_count": 16,
   "metadata": {},
   "outputs": [],
   "source": [
    "class NaiveBayesAlgo:\n",
    "\n",
    "    def __init__(self, alpha=1):\n",
    "        self.vocab={}\n",
    "        self.prob_pos_words = {}\n",
    "        self.prob_neg_words = {}  \n",
    "        self.pos_count = 0\n",
    "        self.neg_count = 0\n",
    "        self.pos_prior = 0\n",
    "        self.neg_prior = 0\n",
    "        self.voc_len = 0\n",
    "        self.alpha = alpha\n",
    "        self.pos_word_count = 0\n",
    "        self.neg_word_count = 0\n",
    "    \n",
    "    def vectorizer(self, data, label):\n",
    "        '''\n",
    "        Takes a list of sentences as input.\n",
    "        Returns a dictionary containing unique words as keys and their respective count as values.\n",
    "        '''\n",
    "        dict_words = {}\n",
    "\n",
    "        for line, label in zip(data, label):\n",
    "            for word in line.split():\n",
    "                if word not in stop_words:\n",
    "                    if word in dict_words.keys():\n",
    "                        dict_words[word][label]+=1\n",
    "                    else:\n",
    "                        dict_words[word] = {1:0, 0:0}\n",
    "                        dict_words[word][label] += 1\n",
    "\n",
    "        return dict_words\n",
    "        \n",
    " \n",
    "    def fit(self, X, Y, initialize=False):\n",
    "        '''\n",
    "        Parameters:\n",
    "            X = List of input sentences\n",
    "            Y = List of labels for input sentences\n",
    "        '''\n",
    " \n",
    "        if initialize:\n",
    "            self.__init__()\n",
    "        \n",
    "        \n",
    "        self.vocab = self.vectorizer(X, Y)\n",
    "        self.voc_len = len(self.vocab.keys())\n",
    "        \n",
    "        # Loop through all the words in the vocabulary and get the counts of positive and negative words\n",
    "        for word in self.vocab.keys():\n",
    "            self.pos_word_count += self.vocab[word][1]\n",
    "            self.neg_word_count += self.vocab[word][0]\n",
    "            \n",
    "        # Get the number of positive and negative samples\n",
    "        self.pos_count = pd.DataFrame({'sentiments': Y})['sentiments'].value_counts()[1]\n",
    "        self.neg_count = pd.DataFrame({'sentiments': Y})['sentiments'].value_counts()[0]\n",
    "                        \n",
    "        self.voc_len = len(list(self.vocab.keys()))\n",
    "        \n",
    "        # calculate likelihood propbabilities for both positive and negative classes\n",
    "        for key in list(self.vocab.keys()):\n",
    "            self.prob_pos_words[key] = (self.vocab[key][1] + self.alpha) / (self.pos_word_count + (self.alpha * self.voc_len))\n",
    "            self.prob_neg_words[key] = (self.vocab[key][0] + self.alpha) / (self.neg_word_count + (self.alpha * self.voc_len))\n",
    " \n",
    "        # calculate prior probabilities for both classes\n",
    "        self.pos_prior = self.pos_count/(self.pos_count + self.neg_count)\n",
    "        self.neg_prior = self.neg_count/(self.pos_count + self.neg_count)\n",
    "        \n",
    "        \n",
    "    def predict(self, X):\n",
    "        '''\n",
    "        Parameters:\n",
    "            X: List of input sentences\n",
    "        Returns:\n",
    "            y_true: list containing the predicted labels\n",
    "        '''\n",
    "        \n",
    "        pos_prob = np.log(self.pos_prior)\n",
    "        neg_prob = np.log(self.neg_prior)\n",
    "        y_true=[]\n",
    "        for i in range(len(X)):\n",
    "            for word in X[i].split():\n",
    "                if word in list(self.prob_pos_words.keys()):\n",
    "                    pos_prob += np.log(self.prob_pos_words[word])\n",
    " \n",
    "                if word in list(self.prob_neg_words.keys()):\n",
    "                    neg_prob += np.log(self.prob_neg_words[word])\n",
    " \n",
    "            if pos_prob >= neg_prob:\n",
    "                y_true.append(1)\n",
    "            else:\n",
    "                y_true.append(0)\n",
    "            pos_prob = self.pos_prior\n",
    "            neg_prob = self.neg_prior\n",
    "            \n",
    " \n",
    "        return y_true\n",
    "\n",
    "\n",
    "    def partition(self, data, fold, k):\n",
    "        '''\n",
    "        Partitions the given data into train and test data, such that the k-1 folds are taken as train and kth fold is taken as test.\n",
    "        \n",
    "        Parameters:\n",
    "            data: Dictionary of values containing text and their sentiment labels, ie, 0 and 1.\n",
    "            fold: index of fold to be taken as test.\n",
    "            k: number of folds\n",
    "        Returns:\n",
    "            X_train: training samples\n",
    "            X_test: testing samples\n",
    "            Y_train: training labels\n",
    "            Y_test: testing labels\n",
    "        '''\n",
    "        \n",
    "        size = len(dict_data['text'])\n",
    "        start = int((size/k)*fold)\n",
    "        end = int((size/k)*(fold+1))\n",
    "        \n",
    "        X_test = data['text'][start:end]\n",
    "        Y_test = data['label'][start:end]\n",
    "        \n",
    "        vector = np.array(data['text'])\n",
    "        X_train = np.concatenate((vector[:start], vector[end:]))\n",
    "        vector = np.array(data['label'])\n",
    "        Y_train = np.concatenate((vector[:start], vector[end:]))\n",
    "        \n",
    "        return X_train, X_test, Y_train, Y_test\n",
    "    \n",
    "    \n",
    "    def cross_val(self, data, k):\n",
    "        '''\n",
    "        Performs k-fold validation on the given data.\n",
    "        \n",
    "        Parameters:\n",
    "            data: Dictionary of values containing text and their sentiment labels, ie, 0 and 1.\n",
    "            k: No. of folds\n",
    "        '''\n",
    "        \n",
    "        TP, TN, FP, FN, Total, accuracy, recall, precision=0, 0, 0, 0, 0, 0, 0, 0\n",
    "        \n",
    "        for i in range(k):\n",
    "            \n",
    "            X_train, X_test, Y_train, Y_test = self.partition(data, i, k)            \n",
    "            \n",
    "            self.fit(X_train, Y_train, initialize=True)\n",
    "            \n",
    "            y_pred = self.predict(X_test)\n",
    "            metric_dict = self.report(Y_test, y_pred)\n",
    "            \n",
    "            TP+=metric_dict['TP']\n",
    "            TN+=metric_dict['TN']\n",
    "            FP+=metric_dict['FP']\n",
    "            FN+=metric_dict['FN']\n",
    "            Total+=metric_dict['Total']\n",
    "            accuracy+=metric_dict['Accuracy']\n",
    "            precision+=metric_dict['Precision']\n",
    "            recall+=metric_dict['Recall']\n",
    "            \n",
    "            self.evaluate(X_test, Y_test)\n",
    "        \n",
    "        avg = {'TP':TP/k, 'TN':TN/k, 'FP':FP/k, 'FN':FN/k, 'Total':Total/k, 'Accuracy':accuracy/k, 'Recall':recall/k, 'Precision':precision/k}\n",
    "        \n",
    "        print('Final Classification Report') \n",
    "        n = np.array(list(avg.items()))\n",
    "        df = pd.DataFrame(n[:,1], index=n[:,0], columns=[''])\n",
    "        print(df)\n",
    "        self.confusion_matrix(avg)\n",
    "        \n",
    "    \n",
    "    def evaluate(self, x_test, y_test):\n",
    "        '''\n",
    "        Evaluates the model for a given testing data\n",
    "        Parameters:\n",
    "            x_test: testing samples\n",
    "            y_test: testing labels\n",
    "        '''\n",
    "\n",
    "        y_pred = self.predict(x_test)\n",
    "        dict = self.report(y_pred, y_test)\n",
    "        print('Classification Report') \n",
    "        n = np.array(list(dict.items()))\n",
    "        df = pd.DataFrame(n[:,1], index=n[:,0], columns=[''])\n",
    "        print(df)\n",
    "        self.confusion_matrix(dict)\n",
    "        \n",
    "    \n",
    "    def report(self, y_pred, y_test):\n",
    "        '''\n",
    "        calculates precision and recall metrics\n",
    "        Parameters:\n",
    "            y_pred: predicted labels on a testing set\n",
    "            y_test: true labels of the testing set\n",
    "        '''\n",
    "        \n",
    "        TP=0\n",
    "        TN=0\n",
    "        FP=0\n",
    "        FN=0\n",
    "        Total=len(y_pred)\n",
    "        for pred, test in zip(y_pred, y_test):\n",
    "            if pred==test:\n",
    "                if pred==0:\n",
    "                    TN+=1\n",
    "                else:\n",
    "                    TP+=1\n",
    "            else:\n",
    "                if pred==1:\n",
    "                    FP+=1\n",
    "                else:\n",
    "                    FN+=1\n",
    "        \n",
    "        accuracy = (TP+TN) / Total\n",
    "        recall = TP / (TP+FN)\n",
    "        precision = TP / (TP+FP)\n",
    "        \n",
    "        return {'TP':TP, 'TN':TN, 'FP':FP, 'FN':FN, 'Total':Total, 'Accuracy':accuracy, 'Recall':recall, 'Precision':precision}\n",
    "        \n",
    "    def confusion_matrix(self, report_val):\n",
    "        '''\n",
    "        Plots the confusion Matrix of the given data.\n",
    "        '''\n",
    "        \n",
    "        fig, ax = plt.subplots()\n",
    "        classes = ['Positive', 'Negitive']\n",
    "        t = report_val['Total']\n",
    "        report = np.array([[report_val['TN']/t, report_val['FP']/t], [report_val['FN']/t, report_val['TP']/t]])\n",
    "        im = ax.imshow(report, cmap = 'Blues')\n",
    "\n",
    "        ax.set_xticks(np.arange(len(classes)))\n",
    "        ax.set_yticks(np.arange(len(classes)))\n",
    "\n",
    "        ax.set_xticklabels(classes)\n",
    "        ax.set_yticklabels(classes)\n",
    "\n",
    "\n",
    "        plt.setp(ax.get_xticklabels(), rotation_mode=\"anchor\")\n",
    "        \n",
    "        group_names = ['True Neg','False Pos', 'False Neg','True Pos']\n",
    "        group_percentages = ['{0:.2%}'.format(value) for value in report.flatten()]\n",
    "\n",
    "        labels = [f'{v1}\\n{v2}' for v1, v2 in zip(group_names,group_percentages)]\n",
    "        labels = np.asarray(labels).reshape(2,2)\n",
    "\n",
    "        for i in range(len(classes)):\n",
    "            for j in range(len(classes)):\n",
    "                text = ax.text(j, i, labels[i, j], ha=\"center\", va=\"center\")\n",
    "\n",
    "        ax.set_title('Confusion Matrix', fontdict = {'size':18}, pad = 20)\n",
    "        \n",
    "        fig.tight_layout()\n",
    "        plt.xlabel(\"Predicted values\", fontdict = {'size':14}, labelpad = 10)\n",
    "        plt.ylabel(\"Actual values\"   , fontdict = {'size':14}, labelpad = 10)\n",
    "        plt.show()\n",
    "        "
   ]
  },
  {
   "cell_type": "markdown",
   "metadata": {},
   "source": [
    "## Training"
   ]
  },
  {
   "cell_type": "code",
   "execution_count": 17,
   "metadata": {},
   "outputs": [],
   "source": [
    "NB = NaiveBayesAlgo()"
   ]
  },
  {
   "cell_type": "markdown",
   "metadata": {},
   "source": [
    "<b> Training and evaluating the model with train and test data, which have sizes in the ratio 7:3. This is 2-fold cross validation.\n",
    "Done to test the model.</b>"
   ]
  },
  {
   "cell_type": "markdown",
   "metadata": {},
   "source": [
    "## Cross Validation"
   ]
  },
  {
   "cell_type": "code",
   "execution_count": 18,
   "metadata": {},
   "outputs": [
    {
     "name": "stdout",
     "output_type": "stream",
     "text": [
      "Classification Report\n",
      "                             \n",
      "TP                         61\n",
      "TN                         55\n",
      "FP                         16\n",
      "FN                         10\n",
      "Total                     142\n",
      "Accuracy   0.8169014084507042\n",
      "Recall     0.8591549295774648\n",
      "Precision  0.7922077922077922\n"
     ]
    },
    {
     "data": {
      "image/png": "[encoded data removed]",
      "text/plain": [
       "<Figure size 432x288 with 1 Axes>"
      ]
     },
     "metadata": {
      "needs_background": "light"
     },
     "output_type": "display_data"
    },
    {
     "name": "stdout",
     "output_type": "stream",
     "text": [
      "Classification Report\n",
      "                             \n",
      "TP                         56\n",
      "TN                         54\n",
      "FP                         26\n",
      "FN                          7\n",
      "Total                     143\n",
      "Accuracy   0.7692307692307693\n",
      "Recall     0.8888888888888888\n",
      "Precision  0.6829268292682927\n"
     ]
    },
    {
     "data": {
      "image/png": "[encoded data removed]",
      "text/plain": [
       "<Figure size 432x288 with 1 Axes>"
      ]
     },
     "metadata": {
      "needs_background": "light"
     },
     "output_type": "display_data"
    },
    {
     "name": "stdout",
     "output_type": "stream",
     "text": [
      "Classification Report\n",
      "                             \n",
      "TP                         61\n",
      "TN                         55\n",
      "FP                         15\n",
      "FN                         12\n",
      "Total                     143\n",
      "Accuracy   0.8111888111888111\n",
      "Recall     0.8356164383561644\n",
      "Precision  0.8026315789473685\n"
     ]
    },
    {
     "data": {
      "image/png": "[encoded data removed]",
      "text/plain": [
       "<Figure size 432x288 with 1 Axes>"
      ]
     },
     "metadata": {
      "needs_background": "light"
     },
     "output_type": "display_data"
    },
    {
     "name": "stdout",
     "output_type": "stream",
     "text": [
      "Classification Report\n",
      "                             \n",
      "TP                         66\n",
      "TN                         48\n",
      "FP                         18\n",
      "FN                         11\n",
      "Total                     143\n",
      "Accuracy   0.7972027972027972\n",
      "Recall     0.8571428571428571\n",
      "Precision  0.7857142857142857\n"
     ]
    },
    {
     "data": {
      "image/png": "[encoded data removed]",
      "text/plain": [
       "<Figure size 432x288 with 1 Axes>"
      ]
     },
     "metadata": {
      "needs_background": "light"
     },
     "output_type": "display_data"
    },
    {
     "name": "stdout",
     "output_type": "stream",
     "text": [
      "Classification Report\n",
      "                             \n",
      "TP                         69\n",
      "TN                         52\n",
      "FP                         13\n",
      "FN                          9\n",
      "Total                     143\n",
      "Accuracy   0.8461538461538461\n",
      "Recall     0.8846153846153846\n",
      "Precision  0.8414634146341463\n"
     ]
    },
    {
     "data": {
      "image/png": "[encoded data removed]",
      "text/plain": [
       "<Figure size 432x288 with 1 Axes>"
      ]
     },
     "metadata": {
      "needs_background": "light"
     },
     "output_type": "display_data"
    },
    {
     "name": "stdout",
     "output_type": "stream",
     "text": [
      "Classification Report\n",
      "                             \n",
      "TP                         55\n",
      "TN                         55\n",
      "FP                         23\n",
      "FN                         10\n",
      "Total                     143\n",
      "Accuracy   0.7692307692307693\n",
      "Recall     0.8461538461538461\n",
      "Precision  0.7051282051282052\n"
     ]
    },
    {
     "data": {
      "image/png": "[encoded data removed]",
      "text/plain": [
       "<Figure size 432x288 with 1 Axes>"
      ]
     },
     "metadata": {
      "needs_background": "light"
     },
     "output_type": "display_data"
    },
    {
     "name": "stdout",
     "output_type": "stream",
     "text": [
      "Classification Report\n",
      "                             \n",
      "TP                         61\n",
      "TN                         52\n",
      "FP                         18\n",
      "FN                         12\n",
      "Total                     143\n",
      "Accuracy   0.7902097902097902\n",
      "Recall     0.8356164383561644\n",
      "Precision  0.7721518987341772\n"
     ]
    },
    {
     "data": {
      "image/png": "[encoded data removed]",
      "text/plain": [
       "<Figure size 432x288 with 1 Axes>"
      ]
     },
     "metadata": {
      "needs_background": "light"
     },
     "output_type": "display_data"
    },
    {
     "name": "stdout",
     "output_type": "stream",
     "text": [
      "Final Classification Report\n",
      "                             \n",
      "TP         61.285714285714285\n",
      "TN                       53.0\n",
      "FP         10.142857142857142\n",
      "FN         18.428571428571427\n",
      "Total      142.85714285714286\n",
      "Accuracy   0.8000168845239267\n",
      "Recall      0.768889143519181\n",
      "Precision  0.8581698261558243\n"
     ]
    },
    {
     "data": {
      "image/png": "[encoded data removed]",
      "text/plain": [
       "<Figure size 432x288 with 1 Axes>"
      ]
     },
     "metadata": {
      "needs_background": "light"
     },
     "output_type": "display_data"
    }
   ],
   "source": [
    "NB.cross_val(dict_data, 7)"
   ]
  },
  {
   "cell_type": "markdown",
   "metadata": {},
   "source": [
    "<b>Final Classification Report</b>\n",
    "\n",
    "Average values after 7-Fold Cross Validation:\n",
    "\n",
    "- Accuracy 80.00%\n",
    "- Recall 76.88%\n",
    "- Precision 85.81%\n",
    "  \n",
    "  \n",
    " Note: The final classification report is given by the last heatmap"
   ]
  },
  {
   "cell_type": "markdown",
   "metadata": {},
   "source": [
    "## Predict using custom sentences"
   ]
  },
  {
   "cell_type": "markdown",
   "metadata": {},
   "source": [
    "A custom sentence can be typed over here to predict the sentiment"
   ]
  },
  {
   "cell_type": "code",
   "execution_count": 19,
   "metadata": {},
   "outputs": [
    {
     "data": {
      "text/plain": [
       "[0, 1, 1]"
      ]
     },
     "execution_count": 19,
     "metadata": {},
     "output_type": "execute_result"
    }
   ],
   "source": [
    "test = ['there way for plug here the unless converter ',\n",
    " 'good case excellent value ',\n",
    " 'great for the jawbone ']\n",
    "NB.predict(test)"
   ]
  },
  {
   "cell_type": "markdown",
   "metadata": {},
   "source": [
    "## Limitations of Naive Bayes Classifier"
   ]
  },
  {
   "cell_type": "markdown",
   "metadata": {},
   "source": [
    "- Naive Bayes does not consider the semantic relation between the words in a sentence i.e, Naive Bayes assumes that all features are independent. However in real world scenario it is rare that features occur independently\n",
    "\n",
    "- Smoothening techniques need to be used to prevent 'zero-probability' problem.\n",
    "\n",
    "- In Natural Language Processing the sequence of words play a huge role in the semantics of a sentence. This aspect is ignored by the Naive Bayes algorithm\n",
    "\n",
    "- In some tasks,the estimations can be wrong, methods other than probability outputs should be considered."
   ]
  }
 ],
 "metadata": {
  "kernelspec": {
   "display_name": "Python 3",
   "language": "python",
   "name": "python3"
  },
  "language_info": {
   "codemirror_mode": {
    "name": "ipython",
    "version": 3
   },
   "file_extension": ".py",
   "mimetype": "text/x-python",
   "name": "python",
   "nbconvert_exporter": "python",
   "pygments_lexer": "ipython3",
   "version": "3.8.5"
  }
 },
 "nbformat": 4,
 "nbformat_minor": 4
}
