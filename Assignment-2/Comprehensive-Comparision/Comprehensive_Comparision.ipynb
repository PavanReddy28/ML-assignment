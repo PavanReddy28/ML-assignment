{
 "cells": [
  {
   "cell_type": "markdown",
   "metadata": {},
   "source": [
    "# Comprehensive Comparision"
   ]
  },
  {
   "cell_type": "code",
   "execution_count": 190,
   "metadata": {},
   "outputs": [],
   "source": [
    "import numpy as np\n",
    "import pandas as pd\n",
    "import matplotlib.pyplot as plot\n",
    "from sklearn.preprocessing import LabelEncoder, StandardScaler, MinMaxScaler\n",
    "from sklearn.model_selection import cross_val_score, cross_validate\n",
    "from sklearn.pipeline import Pipeline"
   ]
  },
  {
   "cell_type": "code",
   "execution_count": 123,
   "metadata": {},
   "outputs": [
    {
     "data": {
      "text/html": [
       "<div>\n",
       "<style scoped>\n",
       "    .dataframe tbody tr th:only-of-type {\n",
       "        vertical-align: middle;\n",
       "    }\n",
       "\n",
       "    .dataframe tbody tr th {\n",
       "        vertical-align: top;\n",
       "    }\n",
       "\n",
       "    .dataframe thead th {\n",
       "        text-align: right;\n",
       "    }\n",
       "</style>\n",
       "<table border=\"1\" class=\"dataframe\">\n",
       "  <thead>\n",
       "    <tr style=\"text-align: right;\">\n",
       "      <th></th>\n",
       "      <th>id</th>\n",
       "      <th>Area</th>\n",
       "      <th>MajorAxisLength</th>\n",
       "      <th>MinorAxisLength</th>\n",
       "      <th>Eccentricity</th>\n",
       "      <th>ConvexArea</th>\n",
       "      <th>EquivDiameter</th>\n",
       "      <th>Extent</th>\n",
       "      <th>Perimeter</th>\n",
       "      <th>Roundness</th>\n",
       "      <th>AspectRation</th>\n",
       "      <th>Class</th>\n",
       "    </tr>\n",
       "  </thead>\n",
       "  <tbody>\n",
       "    <tr>\n",
       "      <th>0</th>\n",
       "      <td>1</td>\n",
       "      <td>4537</td>\n",
       "      <td>92.229317</td>\n",
       "      <td>64.012769</td>\n",
       "      <td>0.719916</td>\n",
       "      <td>4677</td>\n",
       "      <td>76.004525</td>\n",
       "      <td>0.657536</td>\n",
       "      <td>273.085</td>\n",
       "      <td>0.764510</td>\n",
       "      <td>1.440796</td>\n",
       "      <td>jasmine</td>\n",
       "    </tr>\n",
       "    <tr>\n",
       "      <th>1</th>\n",
       "      <td>2</td>\n",
       "      <td>2872</td>\n",
       "      <td>74.691881</td>\n",
       "      <td>51.400454</td>\n",
       "      <td>0.725553</td>\n",
       "      <td>3015</td>\n",
       "      <td>60.471018</td>\n",
       "      <td>0.713009</td>\n",
       "      <td>208.317</td>\n",
       "      <td>0.831658</td>\n",
       "      <td>1.453137</td>\n",
       "      <td>jasmine</td>\n",
       "    </tr>\n",
       "    <tr>\n",
       "      <th>2</th>\n",
       "      <td>3</td>\n",
       "      <td>3048</td>\n",
       "      <td>76.293164</td>\n",
       "      <td>52.043491</td>\n",
       "      <td>0.731211</td>\n",
       "      <td>3132</td>\n",
       "      <td>62.296341</td>\n",
       "      <td>0.759153</td>\n",
       "      <td>210.012</td>\n",
       "      <td>0.868434</td>\n",
       "      <td>1.465950</td>\n",
       "      <td>jasmine</td>\n",
       "    </tr>\n",
       "    <tr>\n",
       "      <th>3</th>\n",
       "      <td>4</td>\n",
       "      <td>3073</td>\n",
       "      <td>77.033628</td>\n",
       "      <td>51.928487</td>\n",
       "      <td>0.738639</td>\n",
       "      <td>3157</td>\n",
       "      <td>62.551300</td>\n",
       "      <td>0.783529</td>\n",
       "      <td>210.657</td>\n",
       "      <td>0.870203</td>\n",
       "      <td>1.483456</td>\n",
       "      <td>jasmine</td>\n",
       "    </tr>\n",
       "    <tr>\n",
       "      <th>4</th>\n",
       "      <td>5</td>\n",
       "      <td>3693</td>\n",
       "      <td>85.124785</td>\n",
       "      <td>56.374021</td>\n",
       "      <td>0.749282</td>\n",
       "      <td>3802</td>\n",
       "      <td>68.571668</td>\n",
       "      <td>0.769375</td>\n",
       "      <td>230.332</td>\n",
       "      <td>0.874743</td>\n",
       "      <td>1.510000</td>\n",
       "      <td>jasmine</td>\n",
       "    </tr>\n",
       "    <tr>\n",
       "      <th>...</th>\n",
       "      <td>...</td>\n",
       "      <td>...</td>\n",
       "      <td>...</td>\n",
       "      <td>...</td>\n",
       "      <td>...</td>\n",
       "      <td>...</td>\n",
       "      <td>...</td>\n",
       "      <td>...</td>\n",
       "      <td>...</td>\n",
       "      <td>...</td>\n",
       "      <td>...</td>\n",
       "      <td>...</td>\n",
       "    </tr>\n",
       "    <tr>\n",
       "      <th>18180</th>\n",
       "      <td>18181</td>\n",
       "      <td>5853</td>\n",
       "      <td>148.624571</td>\n",
       "      <td>51.029281</td>\n",
       "      <td>0.939210</td>\n",
       "      <td>6008</td>\n",
       "      <td>86.326537</td>\n",
       "      <td>0.498594</td>\n",
       "      <td>332.960</td>\n",
       "      <td>0.663444</td>\n",
       "      <td>2.912535</td>\n",
       "      <td>Gonen</td>\n",
       "    </tr>\n",
       "    <tr>\n",
       "      <th>18181</th>\n",
       "      <td>18182</td>\n",
       "      <td>7585</td>\n",
       "      <td>169.593996</td>\n",
       "      <td>58.141659</td>\n",
       "      <td>0.939398</td>\n",
       "      <td>7806</td>\n",
       "      <td>98.272692</td>\n",
       "      <td>0.647461</td>\n",
       "      <td>385.506</td>\n",
       "      <td>0.641362</td>\n",
       "      <td>2.916910</td>\n",
       "      <td>Gonen</td>\n",
       "    </tr>\n",
       "    <tr>\n",
       "      <th>18182</th>\n",
       "      <td>18183</td>\n",
       "      <td>6365</td>\n",
       "      <td>154.777085</td>\n",
       "      <td>52.908085</td>\n",
       "      <td>0.939760</td>\n",
       "      <td>6531</td>\n",
       "      <td>90.023162</td>\n",
       "      <td>0.561287</td>\n",
       "      <td>342.253</td>\n",
       "      <td>0.682832</td>\n",
       "      <td>2.925396</td>\n",
       "      <td>Gonen</td>\n",
       "    </tr>\n",
       "    <tr>\n",
       "      <th>18183</th>\n",
       "      <td>18184</td>\n",
       "      <td>5960</td>\n",
       "      <td>151.397924</td>\n",
       "      <td>51.474600</td>\n",
       "      <td>0.940427</td>\n",
       "      <td>6189</td>\n",
       "      <td>87.112041</td>\n",
       "      <td>0.492399</td>\n",
       "      <td>343.371</td>\n",
       "      <td>0.635227</td>\n",
       "      <td>2.941216</td>\n",
       "      <td>Gonen</td>\n",
       "    </tr>\n",
       "    <tr>\n",
       "      <th>18184</th>\n",
       "      <td>18185</td>\n",
       "      <td>6134</td>\n",
       "      <td>153.081981</td>\n",
       "      <td>51.590606</td>\n",
       "      <td>0.941500</td>\n",
       "      <td>6283</td>\n",
       "      <td>88.374495</td>\n",
       "      <td>0.489975</td>\n",
       "      <td>338.613</td>\n",
       "      <td>0.672274</td>\n",
       "      <td>2.967245</td>\n",
       "      <td>Gonen</td>\n",
       "    </tr>\n",
       "  </tbody>\n",
       "</table>\n",
       "<p>18185 rows × 12 columns</p>\n",
       "</div>"
      ],
      "text/plain": [
       "          id  Area  MajorAxisLength  MinorAxisLength  Eccentricity  \\\n",
       "0          1  4537        92.229317        64.012769      0.719916   \n",
       "1          2  2872        74.691881        51.400454      0.725553   \n",
       "2          3  3048        76.293164        52.043491      0.731211   \n",
       "3          4  3073        77.033628        51.928487      0.738639   \n",
       "4          5  3693        85.124785        56.374021      0.749282   \n",
       "...      ...   ...              ...              ...           ...   \n",
       "18180  18181  5853       148.624571        51.029281      0.939210   \n",
       "18181  18182  7585       169.593996        58.141659      0.939398   \n",
       "18182  18183  6365       154.777085        52.908085      0.939760   \n",
       "18183  18184  5960       151.397924        51.474600      0.940427   \n",
       "18184  18185  6134       153.081981        51.590606      0.941500   \n",
       "\n",
       "       ConvexArea  EquivDiameter    Extent  Perimeter  Roundness  \\\n",
       "0            4677      76.004525  0.657536    273.085   0.764510   \n",
       "1            3015      60.471018  0.713009    208.317   0.831658   \n",
       "2            3132      62.296341  0.759153    210.012   0.868434   \n",
       "3            3157      62.551300  0.783529    210.657   0.870203   \n",
       "4            3802      68.571668  0.769375    230.332   0.874743   \n",
       "...           ...            ...       ...        ...        ...   \n",
       "18180        6008      86.326537  0.498594    332.960   0.663444   \n",
       "18181        7806      98.272692  0.647461    385.506   0.641362   \n",
       "18182        6531      90.023162  0.561287    342.253   0.682832   \n",
       "18183        6189      87.112041  0.492399    343.371   0.635227   \n",
       "18184        6283      88.374495  0.489975    338.613   0.672274   \n",
       "\n",
       "       AspectRation    Class  \n",
       "0          1.440796  jasmine  \n",
       "1          1.453137  jasmine  \n",
       "2          1.465950  jasmine  \n",
       "3          1.483456  jasmine  \n",
       "4          1.510000  jasmine  \n",
       "...             ...      ...  \n",
       "18180      2.912535    Gonen  \n",
       "18181      2.916910    Gonen  \n",
       "18182      2.925396    Gonen  \n",
       "18183      2.941216    Gonen  \n",
       "18184      2.967245    Gonen  \n",
       "\n",
       "[18185 rows x 12 columns]"
      ]
     },
     "execution_count": 123,
     "metadata": {},
     "output_type": "execute_result"
    }
   ],
   "source": [
    "df = pd.read_csv('dataset_comb.csv')\n",
    "df"
   ]
  },
  {
   "cell_type": "code",
   "execution_count": 4,
   "metadata": {},
   "outputs": [
    {
     "data": {
      "text/plain": [
       "jasmine    9985\n",
       "Gonen      8200\n",
       "Name: Class, dtype: int64"
      ]
     },
     "execution_count": 4,
     "metadata": {},
     "output_type": "execute_result"
    }
   ],
   "source": [
    "df['Class'].value_counts()"
   ]
  },
  {
   "cell_type": "code",
   "execution_count": 5,
   "metadata": {},
   "outputs": [
    {
     "data": {
      "text/plain": [
       "(18185, 12)"
      ]
     },
     "execution_count": 5,
     "metadata": {},
     "output_type": "execute_result"
    }
   ],
   "source": [
    "df.values.shape"
   ]
  },
  {
   "cell_type": "code",
   "execution_count": 6,
   "metadata": {},
   "outputs": [
    {
     "data": {
      "text/html": [
       "<div>\n",
       "<style scoped>\n",
       "    .dataframe tbody tr th:only-of-type {\n",
       "        vertical-align: middle;\n",
       "    }\n",
       "\n",
       "    .dataframe tbody tr th {\n",
       "        vertical-align: top;\n",
       "    }\n",
       "\n",
       "    .dataframe thead th {\n",
       "        text-align: right;\n",
       "    }\n",
       "</style>\n",
       "<table border=\"1\" class=\"dataframe\">\n",
       "  <thead>\n",
       "    <tr style=\"text-align: right;\">\n",
       "      <th></th>\n",
       "      <th>id</th>\n",
       "      <th>Area</th>\n",
       "      <th>MajorAxisLength</th>\n",
       "      <th>MinorAxisLength</th>\n",
       "      <th>Eccentricity</th>\n",
       "      <th>ConvexArea</th>\n",
       "      <th>EquivDiameter</th>\n",
       "      <th>Extent</th>\n",
       "      <th>Perimeter</th>\n",
       "      <th>Roundness</th>\n",
       "      <th>AspectRation</th>\n",
       "      <th>Class</th>\n",
       "    </tr>\n",
       "  </thead>\n",
       "  <tbody>\n",
       "    <tr>\n",
       "      <th>0</th>\n",
       "      <td>1</td>\n",
       "      <td>4537</td>\n",
       "      <td>92.229317</td>\n",
       "      <td>64.012769</td>\n",
       "      <td>0.719916</td>\n",
       "      <td>4677</td>\n",
       "      <td>76.004525</td>\n",
       "      <td>0.657536</td>\n",
       "      <td>273.085</td>\n",
       "      <td>0.764510</td>\n",
       "      <td>1.440796</td>\n",
       "      <td>1</td>\n",
       "    </tr>\n",
       "    <tr>\n",
       "      <th>1</th>\n",
       "      <td>2</td>\n",
       "      <td>2872</td>\n",
       "      <td>74.691881</td>\n",
       "      <td>51.400454</td>\n",
       "      <td>0.725553</td>\n",
       "      <td>3015</td>\n",
       "      <td>60.471018</td>\n",
       "      <td>0.713009</td>\n",
       "      <td>208.317</td>\n",
       "      <td>0.831658</td>\n",
       "      <td>1.453137</td>\n",
       "      <td>1</td>\n",
       "    </tr>\n",
       "    <tr>\n",
       "      <th>2</th>\n",
       "      <td>3</td>\n",
       "      <td>3048</td>\n",
       "      <td>76.293164</td>\n",
       "      <td>52.043491</td>\n",
       "      <td>0.731211</td>\n",
       "      <td>3132</td>\n",
       "      <td>62.296341</td>\n",
       "      <td>0.759153</td>\n",
       "      <td>210.012</td>\n",
       "      <td>0.868434</td>\n",
       "      <td>1.465950</td>\n",
       "      <td>1</td>\n",
       "    </tr>\n",
       "    <tr>\n",
       "      <th>3</th>\n",
       "      <td>4</td>\n",
       "      <td>3073</td>\n",
       "      <td>77.033628</td>\n",
       "      <td>51.928487</td>\n",
       "      <td>0.738639</td>\n",
       "      <td>3157</td>\n",
       "      <td>62.551300</td>\n",
       "      <td>0.783529</td>\n",
       "      <td>210.657</td>\n",
       "      <td>0.870203</td>\n",
       "      <td>1.483456</td>\n",
       "      <td>1</td>\n",
       "    </tr>\n",
       "    <tr>\n",
       "      <th>4</th>\n",
       "      <td>5</td>\n",
       "      <td>3693</td>\n",
       "      <td>85.124785</td>\n",
       "      <td>56.374021</td>\n",
       "      <td>0.749282</td>\n",
       "      <td>3802</td>\n",
       "      <td>68.571668</td>\n",
       "      <td>0.769375</td>\n",
       "      <td>230.332</td>\n",
       "      <td>0.874743</td>\n",
       "      <td>1.510000</td>\n",
       "      <td>1</td>\n",
       "    </tr>\n",
       "  </tbody>\n",
       "</table>\n",
       "</div>"
      ],
      "text/plain": [
       "   id  Area  MajorAxisLength  MinorAxisLength  Eccentricity  ConvexArea  \\\n",
       "0   1  4537        92.229317        64.012769      0.719916        4677   \n",
       "1   2  2872        74.691881        51.400454      0.725553        3015   \n",
       "2   3  3048        76.293164        52.043491      0.731211        3132   \n",
       "3   4  3073        77.033628        51.928487      0.738639        3157   \n",
       "4   5  3693        85.124785        56.374021      0.749282        3802   \n",
       "\n",
       "   EquivDiameter    Extent  Perimeter  Roundness  AspectRation  Class  \n",
       "0      76.004525  0.657536    273.085   0.764510      1.440796      1  \n",
       "1      60.471018  0.713009    208.317   0.831658      1.453137      1  \n",
       "2      62.296341  0.759153    210.012   0.868434      1.465950      1  \n",
       "3      62.551300  0.783529    210.657   0.870203      1.483456      1  \n",
       "4      68.571668  0.769375    230.332   0.874743      1.510000      1  "
      ]
     },
     "execution_count": 6,
     "metadata": {},
     "output_type": "execute_result"
    }
   ],
   "source": [
    "le = LabelEncoder()\n",
    "df['Class'] = le.fit_transform(df['Class'])\n",
    "\n",
    "df.head()"
   ]
  },
  {
   "cell_type": "code",
   "execution_count": 50,
   "metadata": {},
   "outputs": [],
   "source": [
    "X = df.values[:,:-1]\n",
    "Y = df.values[:,-1]"
   ]
  },
  {
   "cell_type": "code",
   "execution_count": 55,
   "metadata": {},
   "outputs": [],
   "source": [
    "from sklearn.discriminant_analysis import LinearDiscriminantAnalysis\n",
    "from sklearn.linear_model import Perceptron\n",
    "from sklearn.naive_bayes import GaussianNB\n",
    "from sklearn.linear_model import LogisticRegression\n",
    "from sklearn.neural_network import MLPClassifier\n",
    "from sklearn.svm import SVC"
   ]
  },
  {
   "cell_type": "markdown",
   "metadata": {},
   "source": [
    "### Fisher Linear Discriminant "
   ]
  },
  {
   "cell_type": "code",
   "execution_count": 235,
   "metadata": {},
   "outputs": [
    {
     "name": "stdout",
     "output_type": "stream",
     "text": [
      "Fold  1\n",
      "Testing Accuracy =  0.9318706697459584  Training Accuracy =  1.0\n",
      "Fold  2\n",
      "Testing Accuracy =  1.0  Training Accuracy =  0.9999358439725412\n",
      "Fold  3\n",
      "Testing Accuracy =  1.0  Training Accuracy =  0.9999358439725412\n",
      "Fold  4\n",
      "Testing Accuracy =  1.0  Training Accuracy =  0.9998716879450824\n",
      "Fold  5\n",
      "Testing Accuracy =  1.0  Training Accuracy =  0.9998716879450824\n",
      "Fold  6\n",
      "Testing Accuracy =  1.0  Training Accuracy =  0.9999358439725412\n",
      "Fold  7\n",
      "Testing Accuracy =  1.0  Training Accuracy =  0.999871696176546\n",
      "\n",
      "Average test accuracy=  0.9902672385351369 \n",
      "\n",
      "Precision over fold  1  =  1.0\n",
      "Precision over fold  2  =  1.0\n",
      "Precision over fold  3  =  1.0\n",
      "Precision over fold  4  =  1.0\n",
      "Precision over fold  5  =  1.0\n",
      "Precision over fold  6  =  1.0\n",
      "Precision over fold  7  =  1.0\n",
      "\n",
      "\n",
      "Recall over fold  1  =  0.8759635599159075\n",
      "Recall over fold  2  =  1.0\n",
      "Recall over fold  3  =  1.0\n",
      "Recall over fold  4  =  1.0\n",
      "Recall over fold  5  =  1.0\n",
      "Recall over fold  6  =  1.0\n",
      "Recall over fold  7  =  1.0\n"
     ]
    }
   ],
   "source": [
    "#pipe = Pipeline([('scaler', MinMaxScaler()), ('fda', LinearDiscriminantAnalysis())])\n",
    "fda_scores = cross_validate(LinearDiscriminantAnalysis(),X,Y,cv=7,return_train_score=True)\n",
    "for i,(score, scoret) in enumerate(zip(fda_scores['test_score'],fda_scores['train_score'])):\n",
    "    print(\"Fold \",i+1)\n",
    "    print(\"Testing Accuracy = \",score,\" Training Accuracy = \",scoret)\n",
    "    \n",
    "print(\"\\nAverage test accuracy= \",np.average(fda_scores['test_score']),\"\\n\")\n",
    "\n",
    "fda_prec = cross_validate(LinearDiscriminantAnalysis(),X,Y,cv=7,scoring='precision')\n",
    "for i,score in enumerate(fda_prec['test_score']):\n",
    "    print(\"Precision over fold \",i+1,\" = \",score)\n",
    "print(\"\\n\")\n",
    "fda_rec = cross_validate(LinearDiscriminantAnalysis(),X,Y,cv=7,scoring='recall')\n",
    "for i,score in enumerate(fda_rec['test_score']):\n",
    "    print(\"Recall over fold \",i+1,\" = \",score)"
   ]
  },
  {
   "cell_type": "markdown",
   "metadata": {},
   "source": [
    "### Linear Perceptron "
   ]
  },
  {
   "cell_type": "code",
   "execution_count": 236,
   "metadata": {},
   "outputs": [
    {
     "name": "stdout",
     "output_type": "stream",
     "text": [
      "Fold  1\n",
      "Testing Accuracy =  0.941108545034642  Training Accuracy =  1.0\n",
      "Fold  2\n",
      "Testing Accuracy =  1.0  Training Accuracy =  0.9999358439725412\n",
      "Fold  3\n",
      "Testing Accuracy =  1.0  Training Accuracy =  0.9998716879450824\n",
      "Fold  4\n",
      "Testing Accuracy =  1.0  Training Accuracy =  1.0\n",
      "Fold  5\n",
      "Testing Accuracy =  1.0  Training Accuracy =  0.9989093475332007\n",
      "Fold  6\n",
      "Testing Accuracy =  1.0  Training Accuracy =  0.9999358439725412\n",
      "Fold  7\n",
      "Testing Accuracy =  0.9988448209472468  Training Accuracy =  0.9999358480882731\n",
      "\n",
      "Average test accuracy=  0.9914219094259842 \n",
      "\n",
      "Precision over fold  1  =  1.0\n",
      "Precision over fold  2  =  1.0\n",
      "Precision over fold  3  =  1.0\n",
      "Precision over fold  4  =  1.0\n",
      "Precision over fold  5  =  1.0\n",
      "Precision over fold  6  =  1.0\n",
      "Precision over fold  7  =  0.9979006298110566\n",
      "\n",
      "\n",
      "Recall over fold  1  =  0.8927820602662929\n",
      "Recall over fold  2  =  1.0\n",
      "Recall over fold  3  =  1.0\n",
      "Recall over fold  4  =  1.0\n",
      "Recall over fold  5  =  1.0\n",
      "Recall over fold  6  =  1.0\n",
      "Recall over fold  7  =  1.0\n"
     ]
    }
   ],
   "source": [
    "pipeLP = Pipeline([('scaler', StandardScaler()), ('per', Perceptron())])  #or use MinMaxScaler\n",
    "per_scores = cross_validate(pipeLP,X,Y,cv=7,return_train_score=True)\n",
    "for i,(score, scoret) in enumerate(zip(per_scores['test_score'],per_scores['train_score'])):\n",
    "    print(\"Fold \",i+1)\n",
    "    print(\"Testing Accuracy = \",score,\" Training Accuracy = \",scoret)\n",
    "\n",
    "print(\"\\nAverage test accuracy= \",np.average(per_scores['test_score']),\"\\n\")\n",
    "\n",
    "per_prec = cross_validate(pipeLP,X,Y,cv=7,scoring='precision')\n",
    "for i,score in enumerate(per_prec['test_score']):\n",
    "    print(\"Precision over fold \",i+1,\" = \",score)\n",
    "print(\"\\n\")\n",
    "per_rec = cross_validate(pipeLP,X,Y,cv=7,scoring='recall')\n",
    "for i,score in enumerate(per_rec['test_score']):\n",
    "    print(\"Recall over fold \",i+1,\" = \",score)"
   ]
  },
  {
   "cell_type": "markdown",
   "metadata": {},
   "source": [
    "### Naive Bayes "
   ]
  },
  {
   "cell_type": "code",
   "execution_count": 240,
   "metadata": {},
   "outputs": [
    {
     "name": "stdout",
     "output_type": "stream",
     "text": [
      "Fold  1\n",
      "Testing Accuracy =  0.9491916859122402  Training Accuracy =  0.9858215179316097\n",
      "Fold  2\n",
      "Testing Accuracy =  0.9865280985373364  Training Accuracy =  0.9797266953230256\n",
      "Fold  3\n",
      "Testing Accuracy =  0.9911470361816782  Training Accuracy =  0.9776095464168859\n",
      "Fold  4\n",
      "Testing Accuracy =  0.9923017705927637  Training Accuracy =  0.9774170783345095\n",
      "Fold  5\n",
      "Testing Accuracy =  0.9888375673595073  Training Accuracy =  0.9782511066914736\n",
      "Fold  6\n",
      "Testing Accuracy =  0.9888375673595073  Training Accuracy =  0.9797266953230256\n",
      "Fold  7\n",
      "Testing Accuracy =  0.9626492106276473  Training Accuracy =  0.9879394405953298\n",
      "\n",
      "Average test accuracy=  0.9799275623672401 \n",
      "\n",
      "Precision over fold  1  =  0.9153303399615138\n",
      "Precision over fold  2  =  0.9760601915184679\n",
      "Precision over fold  3  =  0.9841379310344828\n",
      "Precision over fold  4  =  0.9861687413554634\n",
      "Precision over fold  5  =  0.9800687285223367\n",
      "Precision over fold  6  =  0.9800687285223367\n",
      "Precision over fold  7  =  0.9363099146421536\n",
      "\n",
      "\n",
      "Recall over fold  1  =  1.0\n",
      "Recall over fold  2  =  1.0\n",
      "Recall over fold  3  =  1.0\n",
      "Recall over fold  4  =  1.0\n",
      "Recall over fold  5  =  1.0\n",
      "Recall over fold  6  =  1.0\n",
      "Recall over fold  7  =  1.0\n"
     ]
    }
   ],
   "source": [
    "#pipe = Pipeline([('scaler', StandardScaler()), ('nb', GaussianNB())]) #scaling not required i think\n",
    "nb_scores = cross_validate(GaussianNB(),X,Y,cv=7,return_train_score=True)\n",
    "for i,(score, scoret) in enumerate(zip(nb_scores['test_score'],nb_scores['train_score'])):\n",
    "    print(\"Fold \",i+1)\n",
    "    print(\"Testing Accuracy = \",score,\" Training Accuracy = \",scoret)\n",
    "\n",
    "print(\"\\nAverage test accuracy= \",np.average(nb_scores['test_score']),\"\\n\")\n",
    "\n",
    "nb_prec = cross_validate(GaussianNB(),X,Y,cv=7,scoring='precision')\n",
    "for i,score in enumerate(nb_prec['test_score']):\n",
    "    print(\"Precision over fold \",i+1,\" = \",score)\n",
    "print(\"\\n\")\n",
    "nb_rec = cross_validate(GaussianNB(),X,Y,cv=7,scoring='recall')\n",
    "for i,score in enumerate(nb_rec['test_score']):\n",
    "    print(\"Recall over fold \",i+1,\" = \",score)"
   ]
  },
  {
   "cell_type": "markdown",
   "metadata": {},
   "source": [
    "### Logistic Regression "
   ]
  },
  {
   "cell_type": "code",
   "execution_count": 241,
   "metadata": {},
   "outputs": [
    {
     "name": "stdout",
     "output_type": "stream",
     "text": [
      "Fold  1\n",
      "Testing Accuracy =  0.9541955350269438  Training Accuracy =  1.0\n",
      "Fold  2\n",
      "Testing Accuracy =  1.0  Training Accuracy =  0.9999358439725412\n",
      "Fold  3\n",
      "Testing Accuracy =  1.0  Training Accuracy =  0.9999358439725412\n",
      "Fold  4\n",
      "Testing Accuracy =  1.0  Training Accuracy =  0.9999358439725412\n",
      "Fold  5\n",
      "Testing Accuracy =  1.0  Training Accuracy =  0.9999358439725412\n",
      "Fold  6\n",
      "Testing Accuracy =  1.0  Training Accuracy =  0.9999358439725412\n",
      "Fold  7\n",
      "Testing Accuracy =  1.0  Training Accuracy =  0.9999358480882731\n",
      "\n",
      "Average test accuracy=  0.9934565050038492 \n",
      "\n",
      "Precision over fold  1  =  1.0\n",
      "Precision over fold  2  =  1.0\n",
      "Precision over fold  3  =  1.0\n",
      "Precision over fold  4  =  1.0\n",
      "Precision over fold  5  =  1.0\n",
      "Precision over fold  6  =  1.0\n",
      "Precision over fold  7  =  1.0\n",
      "\n",
      "\n",
      "Recall over fold  1  =  0.9166082690960056\n",
      "Recall over fold  2  =  1.0\n",
      "Recall over fold  3  =  1.0\n",
      "Recall over fold  4  =  1.0\n",
      "Recall over fold  5  =  1.0\n",
      "Recall over fold  6  =  1.0\n",
      "Recall over fold  7  =  1.0\n"
     ]
    }
   ],
   "source": [
    "pipeLR = Pipeline([('scaler', StandardScaler()), ('lr', LogisticRegression(solver='liblinear'))])\n",
    "lr_scores = cross_validate(pipeLR,X,Y,cv=7,return_train_score=True)\n",
    "for i,(score, scoret) in enumerate(zip(lr_scores['test_score'],lr_scores['train_score'])):\n",
    "    print(\"Fold \",i+1)\n",
    "    print(\"Testing Accuracy = \",score,\" Training Accuracy = \",scoret)\n",
    "\n",
    "print(\"\\nAverage test accuracy= \",np.average(lr_scores['test_score']),\"\\n\")\n",
    "\n",
    "lr_prec = cross_validate(pipeLR,X,Y,cv=7,scoring='precision')\n",
    "for i,score in enumerate(lr_prec['test_score']):\n",
    "    print(\"Precision over fold \",i+1,\" = \",score)\n",
    "print(\"\\n\")\n",
    "lr_rec = cross_validate(pipeLR,X,Y,cv=7,scoring='recall')\n",
    "for i,score in enumerate(lr_rec['test_score']):\n",
    "    print(\"Recall over fold \",i+1,\" = \",score)"
   ]
  },
  {
   "cell_type": "markdown",
   "metadata": {},
   "source": [
    "### Artificial Neural Network "
   ]
  },
  {
   "cell_type": "code",
   "execution_count": 242,
   "metadata": {},
   "outputs": [
    {
     "name": "stdout",
     "output_type": "stream",
     "text": [
      "Fold  1\n",
      "Testing Accuracy =  0.9087759815242494  Training Accuracy =  1.0\n",
      "Fold  2\n",
      "Testing Accuracy =  1.0  Training Accuracy =  0.9999358439725412\n",
      "Fold  3\n",
      "Testing Accuracy =  1.0  Training Accuracy =  0.9999358439725412\n",
      "Fold  4\n",
      "Testing Accuracy =  1.0  Training Accuracy =  0.9999358439725412\n",
      "Fold  5\n",
      "Testing Accuracy =  1.0  Training Accuracy =  0.9999358439725412\n",
      "Fold  6\n",
      "Testing Accuracy =  1.0  Training Accuracy =  0.9999358439725412\n",
      "Fold  7\n",
      "Testing Accuracy =  0.9953792837889873  Training Accuracy =  0.9999358480882731\n",
      "\n",
      "Average test accuracy=  0.986307895044748 \n",
      "\n",
      "Precision over fold  1  =  1.0\n",
      "Precision over fold  2  =  1.0\n",
      "Precision over fold  3  =  1.0\n",
      "Precision over fold  4  =  1.0\n",
      "Precision over fold  5  =  1.0\n",
      "Precision over fold  6  =  1.0\n",
      "Precision over fold  7  =  0.9916550764951322\n",
      "\n",
      "\n",
      "Recall over fold  1  =  0.831114225648213\n",
      "Recall over fold  2  =  1.0\n",
      "Recall over fold  3  =  1.0\n",
      "Recall over fold  4  =  1.0\n",
      "Recall over fold  5  =  1.0\n",
      "Recall over fold  6  =  1.0\n",
      "Recall over fold  7  =  1.0\n"
     ]
    }
   ],
   "source": [
    "pipeNN = Pipeline([('scaler', StandardScaler()), ('ann', MLPClassifier())])\n",
    "nn_scores = cross_validate(pipeNN,X,Y,cv=7,return_train_score=True)\n",
    "for i,(score, scoret) in enumerate(zip(nn_scores['test_score'],nn_scores['train_score'])):\n",
    "    print(\"Fold \",i+1)\n",
    "    print(\"Testing Accuracy = \",score,\" Training Accuracy = \",scoret)\n",
    "\n",
    "print(\"\\nAverage test accuracy= \",np.average(nn_scores['test_score']),\"\\n\")\n",
    "\n",
    "nn_prec = cross_validate(pipeNN,X,Y,cv=7,scoring='precision')\n",
    "for i,score in enumerate(nn_prec['test_score']):\n",
    "    print(\"Precision over fold \",i+1,\" = \",score)\n",
    "print(\"\\n\")\n",
    "nn_rec = cross_validate(pipeNN,X,Y,cv=7,scoring='recall')\n",
    "for i,score in enumerate(nn_rec['test_score']):\n",
    "    print(\"Recall over fold \",i+1,\" = \",score)"
   ]
  },
  {
   "cell_type": "markdown",
   "metadata": {},
   "source": [
    "### SVM "
   ]
  },
  {
   "cell_type": "code",
   "execution_count": 243,
   "metadata": {},
   "outputs": [
    {
     "name": "stdout",
     "output_type": "stream",
     "text": [
      "Fold  1\n",
      "Testing Accuracy =  0.9599692070823711  Training Accuracy =  1.0\n",
      "Fold  2\n",
      "Testing Accuracy =  1.0  Training Accuracy =  0.9999358439725412\n",
      "Fold  3\n",
      "Testing Accuracy =  1.0  Training Accuracy =  0.9999358439725412\n",
      "Fold  4\n",
      "Testing Accuracy =  1.0  Training Accuracy =  0.9999358439725412\n",
      "Fold  5\n",
      "Testing Accuracy =  1.0  Training Accuracy =  0.9999358439725412\n",
      "Fold  6\n",
      "Testing Accuracy =  1.0  Training Accuracy =  0.9999358439725412\n",
      "Fold  7\n",
      "Testing Accuracy =  0.9942241047362341  Training Accuracy =  0.9999358480882731\n",
      "\n",
      "Average test accuracy=  0.9934561874026578 \n",
      "\n",
      "Precision over fold  1  =  0.9596942321056289\n",
      "Precision over fold  2  =  1.0\n",
      "Precision over fold  3  =  1.0\n",
      "Precision over fold  4  =  1.0\n",
      "Precision over fold  5  =  1.0\n",
      "Precision over fold  6  =  1.0\n",
      "Precision over fold  7  =  0.9895905621096461\n",
      "\n",
      "\n",
      "Recall over fold  1  =  0.9677645409950946\n",
      "Recall over fold  2  =  1.0\n",
      "Recall over fold  3  =  1.0\n",
      "Recall over fold  4  =  1.0\n",
      "Recall over fold  5  =  1.0\n",
      "Recall over fold  6  =  1.0\n",
      "Recall over fold  7  =  1.0\n"
     ]
    }
   ],
   "source": [
    "pipesvm = Pipeline([('scaler', StandardScaler()), ('svm', SVC(kernel='rbf'))])  #kernel can linear or rbf or... (linear gives highest accuracy)\n",
    "svm_scores = cross_validate(pipesvm,X,Y,cv=7,return_train_score=True)\n",
    "for i,(score, scoret) in enumerate(zip(svm_scores['test_score'],svm_scores['train_score'])):\n",
    "    print(\"Fold \",i+1)\n",
    "    print(\"Testing Accuracy = \",score,\" Training Accuracy = \",scoret)\n",
    "\n",
    "print(\"\\nAverage test accuracy= \",np.average(svm_scores['test_score']),\"\\n\")\n",
    "\n",
    "svm_prec = cross_validate(pipesvm,X,Y,cv=7,scoring='precision')\n",
    "for i,score in enumerate(svm_prec['test_score']):\n",
    "    print(\"Precision over fold \",i+1,\" = \",score)\n",
    "print(\"\\n\")\n",
    "svm_rec = cross_validate(pipesvm,X,Y,cv=7,scoring='recall')\n",
    "for i,score in enumerate(svm_rec['test_score']):\n",
    "    print(\"Recall over fold \",i+1,\" = \",score)"
   ]
  },
  {
   "cell_type": "markdown",
   "metadata": {},
   "source": [
    "### Testing Accuracies"
   ]
  },
  {
   "cell_type": "code",
   "execution_count": 249,
   "metadata": {},
   "outputs": [
    {
     "data": {
      "image/png": "[encoded data removed]",
      "text/plain": [
       "<Figure size 432x288 with 1 Axes>"
      ]
     },
     "metadata": {
      "needs_background": "light"
     },
     "output_type": "display_data"
    }
   ],
   "source": [
    "fig, ax = plot.subplots()\n",
    "ax.boxplot([fda_scores['test_score'],per_scores['test_score'],nb_scores['test_score'],lr_scores['test_score'],nn_scores['test_score'],svm_scores['test_score']])\n",
    "ax.set_xticklabels(['Fisher','Perceptron','NB','Log Regr','ANN','SVM'])\n",
    "plot.ylim([0.9,1.01])\n",
    "plot.show()\n"
   ]
  },
  {
   "cell_type": "markdown",
   "metadata": {},
   "source": [
    "### Training Accuracies "
   ]
  },
  {
   "cell_type": "code",
   "execution_count": 161,
   "metadata": {},
   "outputs": [
    {
     "data": {
      "image/png": "[encoded data removed]",
      "text/plain": [
       "<Figure size 432x288 with 1 Axes>"
      ]
     },
     "metadata": {
      "needs_background": "light"
     },
     "output_type": "display_data"
    }
   ],
   "source": [
    "fig, ax = plot.subplots()\n",
    "ax.boxplot([fda_scores['train_score'],per_scores['train_score'],nb_scores['train_score'],lr_scores['train_score'],nn_scores['train_score'],svm_scores['train_score']])\n",
    "ax.set_xticklabels(['Fisher','Perceptron','NB','Log Regr','ANN','SVM'])\n",
    "plot.show()"
   ]
  },
  {
   "cell_type": "code",
   "execution_count": null,
   "metadata": {},
   "outputs": [],
   "source": []
  }
 ],
 "metadata": {
  "kernelspec": {
   "display_name": "Python 3",
   "language": "python",
   "name": "python3"
  },
  "language_info": {
   "codemirror_mode": {
    "name": "ipython",
    "version": 3
   },
   "file_extension": ".py",
   "mimetype": "text/x-python",
   "name": "python",
   "nbconvert_exporter": "python",
   "pygments_lexer": "ipython3",
   "version": "3.8.5"
  }
 },
 "nbformat": 4,
 "nbformat_minor": 4
}
