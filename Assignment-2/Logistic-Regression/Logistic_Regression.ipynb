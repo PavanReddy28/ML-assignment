{
  "nbformat": 4,
  "nbformat_minor": 0,
  "metadata": {
    "colab": {
      "name": "Logistic_Regression.ipynb",
      "provenance": [],
      "collapsed_sections": [
        "llmOhlR1BbmC",
        "bcO9OcGOEUbi",
        "7nnDArHnFM5L",
        "CGgZLhRBRNHI",
        "b72x7ffgRAB5",
        "tldMnz7kSiUi",
        "Jj0YqyBDhp3O",
        "mQo44jxf3HjU"
      ],
      "authorship_tag": "ABX9TyNBcgIooQyuAFdGYLPVuCIL"
    },
    "kernelspec": {
      "name": "python3",
      "display_name": "Python 3"
    },
    "language_info": {
      "name": "python"
    },
    "widgets": {
      "application/vnd.jupyter.widget-state+json": {
        "99be6c194d3f49b0be33afe805eaf473": {
          "model_module": "@jupyter-widgets/controls",
          "model_name": "HBoxModel",
          "state": {
            "_view_name": "HBoxView",
            "_dom_classes": [],
            "_model_name": "HBoxModel",
            "_view_module": "@jupyter-widgets/controls",
            "_model_module_version": "1.5.0",
            "_view_count": null,
            "_view_module_version": "1.5.0",
            "box_style": "",
            "layout": "IPY_MODEL_110d8aa93d0c4abdb655c2a6b6de0058",
            "_model_module": "@jupyter-widgets/controls",
            "children": [
              "IPY_MODEL_75c030ba08d649ef9d885ed9fb9111d8",
              "IPY_MODEL_3a3d2190c37f440eb5730a80c26c49ef"
            ]
          }
        },
        "110d8aa93d0c4abdb655c2a6b6de0058": {
          "model_module": "@jupyter-widgets/base",
          "model_name": "LayoutModel",
          "state": {
            "_view_name": "LayoutView",
            "grid_template_rows": null,
            "right": null,
            "justify_content": null,
            "_view_module": "@jupyter-widgets/base",
            "overflow": null,
            "_model_module_version": "1.2.0",
            "_view_count": null,
            "flex_flow": null,
            "width": null,
            "min_width": null,
            "border": null,
            "align_items": null,
            "bottom": null,
            "_model_module": "@jupyter-widgets/base",
            "top": null,
            "grid_column": null,
            "overflow_y": null,
            "overflow_x": null,
            "grid_auto_flow": null,
            "grid_area": null,
            "grid_template_columns": null,
            "flex": null,
            "_model_name": "LayoutModel",
            "justify_items": null,
            "grid_row": null,
            "max_height": null,
            "align_content": null,
            "visibility": null,
            "align_self": null,
            "height": null,
            "min_height": null,
            "padding": null,
            "grid_auto_rows": null,
            "grid_gap": null,
            "max_width": null,
            "order": null,
            "_view_module_version": "1.2.0",
            "grid_template_areas": null,
            "object_position": null,
            "object_fit": null,
            "grid_auto_columns": null,
            "margin": null,
            "display": null,
            "left": null
          }
        },
        "75c030ba08d649ef9d885ed9fb9111d8": {
          "model_module": "@jupyter-widgets/controls",
          "model_name": "FloatProgressModel",
          "state": {
            "_view_name": "ProgressView",
            "style": "IPY_MODEL_e0c059101ba347b4b4a8ec5af47bf9c2",
            "_dom_classes": [],
            "description": "100%",
            "_model_name": "FloatProgressModel",
            "bar_style": "success",
            "max": 1000,
            "_view_module": "@jupyter-widgets/controls",
            "_model_module_version": "1.5.0",
            "value": 1000,
            "_view_count": null,
            "_view_module_version": "1.5.0",
            "orientation": "horizontal",
            "min": 0,
            "description_tooltip": null,
            "_model_module": "@jupyter-widgets/controls",
            "layout": "IPY_MODEL_400064423707463798cb723eeb43cda6"
          }
        },
        "3a3d2190c37f440eb5730a80c26c49ef": {
          "model_module": "@jupyter-widgets/controls",
          "model_name": "HTMLModel",
          "state": {
            "_view_name": "HTMLView",
            "style": "IPY_MODEL_2b10853749fa495491c03d662a5b9065",
            "_dom_classes": [],
            "description": "",
            "_model_name": "HTMLModel",
            "placeholder": "​",
            "_view_module": "@jupyter-widgets/controls",
            "_model_module_version": "1.5.0",
            "value": " 1000/1000 [03:42&lt;00:00,  4.49epoch/s]",
            "_view_count": null,
            "_view_module_version": "1.5.0",
            "description_tooltip": null,
            "_model_module": "@jupyter-widgets/controls",
            "layout": "IPY_MODEL_8118622c2eb84db5aa1a0dc80e4de247"
          }
        },
        "e0c059101ba347b4b4a8ec5af47bf9c2": {
          "model_module": "@jupyter-widgets/controls",
          "model_name": "ProgressStyleModel",
          "state": {
            "_view_name": "StyleView",
            "_model_name": "ProgressStyleModel",
            "description_width": "initial",
            "_view_module": "@jupyter-widgets/base",
            "_model_module_version": "1.5.0",
            "_view_count": null,
            "_view_module_version": "1.2.0",
            "bar_color": null,
            "_model_module": "@jupyter-widgets/controls"
          }
        },
        "400064423707463798cb723eeb43cda6": {
          "model_module": "@jupyter-widgets/base",
          "model_name": "LayoutModel",
          "state": {
            "_view_name": "LayoutView",
            "grid_template_rows": null,
            "right": null,
            "justify_content": null,
            "_view_module": "@jupyter-widgets/base",
            "overflow": null,
            "_model_module_version": "1.2.0",
            "_view_count": null,
            "flex_flow": null,
            "width": null,
            "min_width": null,
            "border": null,
            "align_items": null,
            "bottom": null,
            "_model_module": "@jupyter-widgets/base",
            "top": null,
            "grid_column": null,
            "overflow_y": null,
            "overflow_x": null,
            "grid_auto_flow": null,
            "grid_area": null,
            "grid_template_columns": null,
            "flex": null,
            "_model_name": "LayoutModel",
            "justify_items": null,
            "grid_row": null,
            "max_height": null,
            "align_content": null,
            "visibility": null,
            "align_self": null,
            "height": null,
            "min_height": null,
            "padding": null,
            "grid_auto_rows": null,
            "grid_gap": null,
            "max_width": null,
            "order": null,
            "_view_module_version": "1.2.0",
            "grid_template_areas": null,
            "object_position": null,
            "object_fit": null,
            "grid_auto_columns": null,
            "margin": null,
            "display": null,
            "left": null
          }
        },
        "2b10853749fa495491c03d662a5b9065": {
          "model_module": "@jupyter-widgets/controls",
          "model_name": "DescriptionStyleModel",
          "state": {
            "_view_name": "StyleView",
            "_model_name": "DescriptionStyleModel",
            "description_width": "",
            "_view_module": "@jupyter-widgets/base",
            "_model_module_version": "1.5.0",
            "_view_count": null,
            "_view_module_version": "1.2.0",
            "_model_module": "@jupyter-widgets/controls"
          }
        },
        "8118622c2eb84db5aa1a0dc80e4de247": {
          "model_module": "@jupyter-widgets/base",
          "model_name": "LayoutModel",
          "state": {
            "_view_name": "LayoutView",
            "grid_template_rows": null,
            "right": null,
            "justify_content": null,
            "_view_module": "@jupyter-widgets/base",
            "overflow": null,
            "_model_module_version": "1.2.0",
            "_view_count": null,
            "flex_flow": null,
            "width": null,
            "min_width": null,
            "border": null,
            "align_items": null,
            "bottom": null,
            "_model_module": "@jupyter-widgets/base",
            "top": null,
            "grid_column": null,
            "overflow_y": null,
            "overflow_x": null,
            "grid_auto_flow": null,
            "grid_area": null,
            "grid_template_columns": null,
            "flex": null,
            "_model_name": "LayoutModel",
            "justify_items": null,
            "grid_row": null,
            "max_height": null,
            "align_content": null,
            "visibility": null,
            "align_self": null,
            "height": null,
            "min_height": null,
            "padding": null,
            "grid_auto_rows": null,
            "grid_gap": null,
            "max_width": null,
            "order": null,
            "_view_module_version": "1.2.0",
            "grid_template_areas": null,
            "object_position": null,
            "object_fit": null,
            "grid_auto_columns": null,
            "margin": null,
            "display": null,
            "left": null
          }
        },
        "1e34075af6c04785b83ee05984ab213a": {
          "model_module": "@jupyter-widgets/controls",
          "model_name": "HBoxModel",
          "state": {
            "_view_name": "HBoxView",
            "_dom_classes": [],
            "_model_name": "HBoxModel",
            "_view_module": "@jupyter-widgets/controls",
            "_model_module_version": "1.5.0",
            "_view_count": null,
            "_view_module_version": "1.5.0",
            "box_style": "",
            "layout": "IPY_MODEL_6d035059a4644f0393af1005910d558a",
            "_model_module": "@jupyter-widgets/controls",
            "children": [
              "IPY_MODEL_912ecb63b69a419398fa8cf81ce8d287",
              "IPY_MODEL_edf968f0e93047e0a7825245e9568a0c"
            ]
          }
        },
        "6d035059a4644f0393af1005910d558a": {
          "model_module": "@jupyter-widgets/base",
          "model_name": "LayoutModel",
          "state": {
            "_view_name": "LayoutView",
            "grid_template_rows": null,
            "right": null,
            "justify_content": null,
            "_view_module": "@jupyter-widgets/base",
            "overflow": null,
            "_model_module_version": "1.2.0",
            "_view_count": null,
            "flex_flow": null,
            "width": null,
            "min_width": null,
            "border": null,
            "align_items": null,
            "bottom": null,
            "_model_module": "@jupyter-widgets/base",
            "top": null,
            "grid_column": null,
            "overflow_y": null,
            "overflow_x": null,
            "grid_auto_flow": null,
            "grid_area": null,
            "grid_template_columns": null,
            "flex": null,
            "_model_name": "LayoutModel",
            "justify_items": null,
            "grid_row": null,
            "max_height": null,
            "align_content": null,
            "visibility": null,
            "align_self": null,
            "height": null,
            "min_height": null,
            "padding": null,
            "grid_auto_rows": null,
            "grid_gap": null,
            "max_width": null,
            "order": null,
            "_view_module_version": "1.2.0",
            "grid_template_areas": null,
            "object_position": null,
            "object_fit": null,
            "grid_auto_columns": null,
            "margin": null,
            "display": null,
            "left": null
          }
        },
        "912ecb63b69a419398fa8cf81ce8d287": {
          "model_module": "@jupyter-widgets/controls",
          "model_name": "FloatProgressModel",
          "state": {
            "_view_name": "ProgressView",
            "style": "IPY_MODEL_61c0720290134e71ad7f27126999a748",
            "_dom_classes": [],
            "description": "100%",
            "_model_name": "FloatProgressModel",
            "bar_style": "success",
            "max": 1000,
            "_view_module": "@jupyter-widgets/controls",
            "_model_module_version": "1.5.0",
            "value": 1000,
            "_view_count": null,
            "_view_module_version": "1.5.0",
            "orientation": "horizontal",
            "min": 0,
            "description_tooltip": null,
            "_model_module": "@jupyter-widgets/controls",
            "layout": "IPY_MODEL_6b1f28212da846ccac57a1f458ecb855"
          }
        },
        "edf968f0e93047e0a7825245e9568a0c": {
          "model_module": "@jupyter-widgets/controls",
          "model_name": "HTMLModel",
          "state": {
            "_view_name": "HTMLView",
            "style": "IPY_MODEL_5db049396e5243f5abc5572967c9bb42",
            "_dom_classes": [],
            "description": "",
            "_model_name": "HTMLModel",
            "placeholder": "​",
            "_view_module": "@jupyter-widgets/controls",
            "_model_module_version": "1.5.0",
            "value": " 1000/1000 [02:57&lt;00:00,  5.65epoch/s]",
            "_view_count": null,
            "_view_module_version": "1.5.0",
            "description_tooltip": null,
            "_model_module": "@jupyter-widgets/controls",
            "layout": "IPY_MODEL_d758e207a3ee4483b6a5207cc3dc6dd5"
          }
        },
        "61c0720290134e71ad7f27126999a748": {
          "model_module": "@jupyter-widgets/controls",
          "model_name": "ProgressStyleModel",
          "state": {
            "_view_name": "StyleView",
            "_model_name": "ProgressStyleModel",
            "description_width": "initial",
            "_view_module": "@jupyter-widgets/base",
            "_model_module_version": "1.5.0",
            "_view_count": null,
            "_view_module_version": "1.2.0",
            "bar_color": null,
            "_model_module": "@jupyter-widgets/controls"
          }
        },
        "6b1f28212da846ccac57a1f458ecb855": {
          "model_module": "@jupyter-widgets/base",
          "model_name": "LayoutModel",
          "state": {
            "_view_name": "LayoutView",
            "grid_template_rows": null,
            "right": null,
            "justify_content": null,
            "_view_module": "@jupyter-widgets/base",
            "overflow": null,
            "_model_module_version": "1.2.0",
            "_view_count": null,
            "flex_flow": null,
            "width": null,
            "min_width": null,
            "border": null,
            "align_items": null,
            "bottom": null,
            "_model_module": "@jupyter-widgets/base",
            "top": null,
            "grid_column": null,
            "overflow_y": null,
            "overflow_x": null,
            "grid_auto_flow": null,
            "grid_area": null,
            "grid_template_columns": null,
            "flex": null,
            "_model_name": "LayoutModel",
            "justify_items": null,
            "grid_row": null,
            "max_height": null,
            "align_content": null,
            "visibility": null,
            "align_self": null,
            "height": null,
            "min_height": null,
            "padding": null,
            "grid_auto_rows": null,
            "grid_gap": null,
            "max_width": null,
            "order": null,
            "_view_module_version": "1.2.0",
            "grid_template_areas": null,
            "object_position": null,
            "object_fit": null,
            "grid_auto_columns": null,
            "margin": null,
            "display": null,
            "left": null
          }
        },
        "5db049396e5243f5abc5572967c9bb42": {
          "model_module": "@jupyter-widgets/controls",
          "model_name": "DescriptionStyleModel",
          "state": {
            "_view_name": "StyleView",
            "_model_name": "DescriptionStyleModel",
            "description_width": "",
            "_view_module": "@jupyter-widgets/base",
            "_model_module_version": "1.5.0",
            "_view_count": null,
            "_view_module_version": "1.2.0",
            "_model_module": "@jupyter-widgets/controls"
          }
        },
        "d758e207a3ee4483b6a5207cc3dc6dd5": {
          "model_module": "@jupyter-widgets/base",
          "model_name": "LayoutModel",
          "state": {
            "_view_name": "LayoutView",
            "grid_template_rows": null,
            "right": null,
            "justify_content": null,
            "_view_module": "@jupyter-widgets/base",
            "overflow": null,
            "_model_module_version": "1.2.0",
            "_view_count": null,
            "flex_flow": null,
            "width": null,
            "min_width": null,
            "border": null,
            "align_items": null,
            "bottom": null,
            "_model_module": "@jupyter-widgets/base",
            "top": null,
            "grid_column": null,
            "overflow_y": null,
            "overflow_x": null,
            "grid_auto_flow": null,
            "grid_area": null,
            "grid_template_columns": null,
            "flex": null,
            "_model_name": "LayoutModel",
            "justify_items": null,
            "grid_row": null,
            "max_height": null,
            "align_content": null,
            "visibility": null,
            "align_self": null,
            "height": null,
            "min_height": null,
            "padding": null,
            "grid_auto_rows": null,
            "grid_gap": null,
            "max_width": null,
            "order": null,
            "_view_module_version": "1.2.0",
            "grid_template_areas": null,
            "object_position": null,
            "object_fit": null,
            "grid_auto_columns": null,
            "margin": null,
            "display": null,
            "left": null
          }
        },
        "2ef06bad1470479b836ef525ee26df13": {
          "model_module": "@jupyter-widgets/controls",
          "model_name": "HBoxModel",
          "state": {
            "_view_name": "HBoxView",
            "_dom_classes": [],
            "_model_name": "HBoxModel",
            "_view_module": "@jupyter-widgets/controls",
            "_model_module_version": "1.5.0",
            "_view_count": null,
            "_view_module_version": "1.5.0",
            "box_style": "",
            "layout": "IPY_MODEL_707779ad2b0e4f99b79f7a7c6d8413d4",
            "_model_module": "@jupyter-widgets/controls",
            "children": [
              "IPY_MODEL_17f6643d327c4f599a5bf7e480a9c4a9",
              "IPY_MODEL_d37da38a8c714ffdb2ab93654c3809c5"
            ]
          }
        },
        "707779ad2b0e4f99b79f7a7c6d8413d4": {
          "model_module": "@jupyter-widgets/base",
          "model_name": "LayoutModel",
          "state": {
            "_view_name": "LayoutView",
            "grid_template_rows": null,
            "right": null,
            "justify_content": null,
            "_view_module": "@jupyter-widgets/base",
            "overflow": null,
            "_model_module_version": "1.2.0",
            "_view_count": null,
            "flex_flow": null,
            "width": null,
            "min_width": null,
            "border": null,
            "align_items": null,
            "bottom": null,
            "_model_module": "@jupyter-widgets/base",
            "top": null,
            "grid_column": null,
            "overflow_y": null,
            "overflow_x": null,
            "grid_auto_flow": null,
            "grid_area": null,
            "grid_template_columns": null,
            "flex": null,
            "_model_name": "LayoutModel",
            "justify_items": null,
            "grid_row": null,
            "max_height": null,
            "align_content": null,
            "visibility": null,
            "align_self": null,
            "height": null,
            "min_height": null,
            "padding": null,
            "grid_auto_rows": null,
            "grid_gap": null,
            "max_width": null,
            "order": null,
            "_view_module_version": "1.2.0",
            "grid_template_areas": null,
            "object_position": null,
            "object_fit": null,
            "grid_auto_columns": null,
            "margin": null,
            "display": null,
            "left": null
          }
        },
        "17f6643d327c4f599a5bf7e480a9c4a9": {
          "model_module": "@jupyter-widgets/controls",
          "model_name": "FloatProgressModel",
          "state": {
            "_view_name": "ProgressView",
            "style": "IPY_MODEL_3e92d123398d4c41bd9358da5c0c9436",
            "_dom_classes": [],
            "description": "100%",
            "_model_name": "FloatProgressModel",
            "bar_style": "success",
            "max": 1000,
            "_view_module": "@jupyter-widgets/controls",
            "_model_module_version": "1.5.0",
            "value": 1000,
            "_view_count": null,
            "_view_module_version": "1.5.0",
            "orientation": "horizontal",
            "min": 0,
            "description_tooltip": null,
            "_model_module": "@jupyter-widgets/controls",
            "layout": "IPY_MODEL_842a2b45f2e942fa9e2a3468596f4d66"
          }
        },
        "d37da38a8c714ffdb2ab93654c3809c5": {
          "model_module": "@jupyter-widgets/controls",
          "model_name": "HTMLModel",
          "state": {
            "_view_name": "HTMLView",
            "style": "IPY_MODEL_7082c704493b447c8cf276d669509640",
            "_dom_classes": [],
            "description": "",
            "_model_name": "HTMLModel",
            "placeholder": "​",
            "_view_module": "@jupyter-widgets/controls",
            "_model_module_version": "1.5.0",
            "value": " 1000/1000 [02:12&lt;00:00,  7.54epoch/s]",
            "_view_count": null,
            "_view_module_version": "1.5.0",
            "description_tooltip": null,
            "_model_module": "@jupyter-widgets/controls",
            "layout": "IPY_MODEL_01a2739aacc0466c999b8b7fdb598b01"
          }
        },
        "3e92d123398d4c41bd9358da5c0c9436": {
          "model_module": "@jupyter-widgets/controls",
          "model_name": "ProgressStyleModel",
          "state": {
            "_view_name": "StyleView",
            "_model_name": "ProgressStyleModel",
            "description_width": "initial",
            "_view_module": "@jupyter-widgets/base",
            "_model_module_version": "1.5.0",
            "_view_count": null,
            "_view_module_version": "1.2.0",
            "bar_color": null,
            "_model_module": "@jupyter-widgets/controls"
          }
        },
        "842a2b45f2e942fa9e2a3468596f4d66": {
          "model_module": "@jupyter-widgets/base",
          "model_name": "LayoutModel",
          "state": {
            "_view_name": "LayoutView",
            "grid_template_rows": null,
            "right": null,
            "justify_content": null,
            "_view_module": "@jupyter-widgets/base",
            "overflow": null,
            "_model_module_version": "1.2.0",
            "_view_count": null,
            "flex_flow": null,
            "width": null,
            "min_width": null,
            "border": null,
            "align_items": null,
            "bottom": null,
            "_model_module": "@jupyter-widgets/base",
            "top": null,
            "grid_column": null,
            "overflow_y": null,
            "overflow_x": null,
            "grid_auto_flow": null,
            "grid_area": null,
            "grid_template_columns": null,
            "flex": null,
            "_model_name": "LayoutModel",
            "justify_items": null,
            "grid_row": null,
            "max_height": null,
            "align_content": null,
            "visibility": null,
            "align_self": null,
            "height": null,
            "min_height": null,
            "padding": null,
            "grid_auto_rows": null,
            "grid_gap": null,
            "max_width": null,
            "order": null,
            "_view_module_version": "1.2.0",
            "grid_template_areas": null,
            "object_position": null,
            "object_fit": null,
            "grid_auto_columns": null,
            "margin": null,
            "display": null,
            "left": null
          }
        },
        "7082c704493b447c8cf276d669509640": {
          "model_module": "@jupyter-widgets/controls",
          "model_name": "DescriptionStyleModel",
          "state": {
            "_view_name": "StyleView",
            "_model_name": "DescriptionStyleModel",
            "description_width": "",
            "_view_module": "@jupyter-widgets/base",
            "_model_module_version": "1.5.0",
            "_view_count": null,
            "_view_module_version": "1.2.0",
            "_model_module": "@jupyter-widgets/controls"
          }
        },
        "01a2739aacc0466c999b8b7fdb598b01": {
          "model_module": "@jupyter-widgets/base",
          "model_name": "LayoutModel",
          "state": {
            "_view_name": "LayoutView",
            "grid_template_rows": null,
            "right": null,
            "justify_content": null,
            "_view_module": "@jupyter-widgets/base",
            "overflow": null,
            "_model_module_version": "1.2.0",
            "_view_count": null,
            "flex_flow": null,
            "width": null,
            "min_width": null,
            "border": null,
            "align_items": null,
            "bottom": null,
            "_model_module": "@jupyter-widgets/base",
            "top": null,
            "grid_column": null,
            "overflow_y": null,
            "overflow_x": null,
            "grid_auto_flow": null,
            "grid_area": null,
            "grid_template_columns": null,
            "flex": null,
            "_model_name": "LayoutModel",
            "justify_items": null,
            "grid_row": null,
            "max_height": null,
            "align_content": null,
            "visibility": null,
            "align_self": null,
            "height": null,
            "min_height": null,
            "padding": null,
            "grid_auto_rows": null,
            "grid_gap": null,
            "max_width": null,
            "order": null,
            "_view_module_version": "1.2.0",
            "grid_template_areas": null,
            "object_position": null,
            "object_fit": null,
            "grid_auto_columns": null,
            "margin": null,
            "display": null,
            "left": null
          }
        },
        "833de8d6541e4151ae53892d233340f9": {
          "model_module": "@jupyter-widgets/controls",
          "model_name": "HBoxModel",
          "state": {
            "_view_name": "HBoxView",
            "_dom_classes": [],
            "_model_name": "HBoxModel",
            "_view_module": "@jupyter-widgets/controls",
            "_model_module_version": "1.5.0",
            "_view_count": null,
            "_view_module_version": "1.5.0",
            "box_style": "",
            "layout": "IPY_MODEL_4c6996a5fe2d43f7b8a4f1e0af309716",
            "_model_module": "@jupyter-widgets/controls",
            "children": [
              "IPY_MODEL_837858750e5b41bb982439fb286ec401",
              "IPY_MODEL_f48430010eab471ea963814c94fc0a50"
            ]
          }
        },
        "4c6996a5fe2d43f7b8a4f1e0af309716": {
          "model_module": "@jupyter-widgets/base",
          "model_name": "LayoutModel",
          "state": {
            "_view_name": "LayoutView",
            "grid_template_rows": null,
            "right": null,
            "justify_content": null,
            "_view_module": "@jupyter-widgets/base",
            "overflow": null,
            "_model_module_version": "1.2.0",
            "_view_count": null,
            "flex_flow": null,
            "width": null,
            "min_width": null,
            "border": null,
            "align_items": null,
            "bottom": null,
            "_model_module": "@jupyter-widgets/base",
            "top": null,
            "grid_column": null,
            "overflow_y": null,
            "overflow_x": null,
            "grid_auto_flow": null,
            "grid_area": null,
            "grid_template_columns": null,
            "flex": null,
            "_model_name": "LayoutModel",
            "justify_items": null,
            "grid_row": null,
            "max_height": null,
            "align_content": null,
            "visibility": null,
            "align_self": null,
            "height": null,
            "min_height": null,
            "padding": null,
            "grid_auto_rows": null,
            "grid_gap": null,
            "max_width": null,
            "order": null,
            "_view_module_version": "1.2.0",
            "grid_template_areas": null,
            "object_position": null,
            "object_fit": null,
            "grid_auto_columns": null,
            "margin": null,
            "display": null,
            "left": null
          }
        },
        "837858750e5b41bb982439fb286ec401": {
          "model_module": "@jupyter-widgets/controls",
          "model_name": "FloatProgressModel",
          "state": {
            "_view_name": "ProgressView",
            "style": "IPY_MODEL_11ca09ce5e2849ba81c54e2c00179cae",
            "_dom_classes": [],
            "description": "100%",
            "_model_name": "FloatProgressModel",
            "bar_style": "success",
            "max": 1000,
            "_view_module": "@jupyter-widgets/controls",
            "_model_module_version": "1.5.0",
            "value": 1000,
            "_view_count": null,
            "_view_module_version": "1.5.0",
            "orientation": "horizontal",
            "min": 0,
            "description_tooltip": null,
            "_model_module": "@jupyter-widgets/controls",
            "layout": "IPY_MODEL_b804b703152142abb5634945c79325c2"
          }
        },
        "f48430010eab471ea963814c94fc0a50": {
          "model_module": "@jupyter-widgets/controls",
          "model_name": "HTMLModel",
          "state": {
            "_view_name": "HTMLView",
            "style": "IPY_MODEL_0e0c2f5b60b54e77ae4a96079a0c3d53",
            "_dom_classes": [],
            "description": "",
            "_model_name": "HTMLModel",
            "placeholder": "​",
            "_view_module": "@jupyter-widgets/controls",
            "_model_module_version": "1.5.0",
            "value": " 1000/1000 [01:29&lt;00:00, 11.23epoch/s]",
            "_view_count": null,
            "_view_module_version": "1.5.0",
            "description_tooltip": null,
            "_model_module": "@jupyter-widgets/controls",
            "layout": "IPY_MODEL_4b4e90f36b9f469b8cf779ed170ab6de"
          }
        },
        "11ca09ce5e2849ba81c54e2c00179cae": {
          "model_module": "@jupyter-widgets/controls",
          "model_name": "ProgressStyleModel",
          "state": {
            "_view_name": "StyleView",
            "_model_name": "ProgressStyleModel",
            "description_width": "initial",
            "_view_module": "@jupyter-widgets/base",
            "_model_module_version": "1.5.0",
            "_view_count": null,
            "_view_module_version": "1.2.0",
            "bar_color": null,
            "_model_module": "@jupyter-widgets/controls"
          }
        },
        "b804b703152142abb5634945c79325c2": {
          "model_module": "@jupyter-widgets/base",
          "model_name": "LayoutModel",
          "state": {
            "_view_name": "LayoutView",
            "grid_template_rows": null,
            "right": null,
            "justify_content": null,
            "_view_module": "@jupyter-widgets/base",
            "overflow": null,
            "_model_module_version": "1.2.0",
            "_view_count": null,
            "flex_flow": null,
            "width": null,
            "min_width": null,
            "border": null,
            "align_items": null,
            "bottom": null,
            "_model_module": "@jupyter-widgets/base",
            "top": null,
            "grid_column": null,
            "overflow_y": null,
            "overflow_x": null,
            "grid_auto_flow": null,
            "grid_area": null,
            "grid_template_columns": null,
            "flex": null,
            "_model_name": "LayoutModel",
            "justify_items": null,
            "grid_row": null,
            "max_height": null,
            "align_content": null,
            "visibility": null,
            "align_self": null,
            "height": null,
            "min_height": null,
            "padding": null,
            "grid_auto_rows": null,
            "grid_gap": null,
            "max_width": null,
            "order": null,
            "_view_module_version": "1.2.0",
            "grid_template_areas": null,
            "object_position": null,
            "object_fit": null,
            "grid_auto_columns": null,
            "margin": null,
            "display": null,
            "left": null
          }
        },
        "0e0c2f5b60b54e77ae4a96079a0c3d53": {
          "model_module": "@jupyter-widgets/controls",
          "model_name": "DescriptionStyleModel",
          "state": {
            "_view_name": "StyleView",
            "_model_name": "DescriptionStyleModel",
            "description_width": "",
            "_view_module": "@jupyter-widgets/base",
            "_model_module_version": "1.5.0",
            "_view_count": null,
            "_view_module_version": "1.2.0",
            "_model_module": "@jupyter-widgets/controls"
          }
        },
        "4b4e90f36b9f469b8cf779ed170ab6de": {
          "model_module": "@jupyter-widgets/base",
          "model_name": "LayoutModel",
          "state": {
            "_view_name": "LayoutView",
            "grid_template_rows": null,
            "right": null,
            "justify_content": null,
            "_view_module": "@jupyter-widgets/base",
            "overflow": null,
            "_model_module_version": "1.2.0",
            "_view_count": null,
            "flex_flow": null,
            "width": null,
            "min_width": null,
            "border": null,
            "align_items": null,
            "bottom": null,
            "_model_module": "@jupyter-widgets/base",
            "top": null,
            "grid_column": null,
            "overflow_y": null,
            "overflow_x": null,
            "grid_auto_flow": null,
            "grid_area": null,
            "grid_template_columns": null,
            "flex": null,
            "_model_name": "LayoutModel",
            "justify_items": null,
            "grid_row": null,
            "max_height": null,
            "align_content": null,
            "visibility": null,
            "align_self": null,
            "height": null,
            "min_height": null,
            "padding": null,
            "grid_auto_rows": null,
            "grid_gap": null,
            "max_width": null,
            "order": null,
            "_view_module_version": "1.2.0",
            "grid_template_areas": null,
            "object_position": null,
            "object_fit": null,
            "grid_auto_columns": null,
            "margin": null,
            "display": null,
            "left": null
          }
        },
        "5c3d7ccd8eb14f71ad74c9034d6c4b16": {
          "model_module": "@jupyter-widgets/controls",
          "model_name": "HBoxModel",
          "state": {
            "_view_name": "HBoxView",
            "_dom_classes": [],
            "_model_name": "HBoxModel",
            "_view_module": "@jupyter-widgets/controls",
            "_model_module_version": "1.5.0",
            "_view_count": null,
            "_view_module_version": "1.5.0",
            "box_style": "",
            "layout": "IPY_MODEL_67aa9692286843bc862f17266832b798",
            "_model_module": "@jupyter-widgets/controls",
            "children": [
              "IPY_MODEL_8ca05cb0875c4e5b90ba2258ccbe33c8",
              "IPY_MODEL_0337607cc6ec43b98a5a060df5b88cf4"
            ]
          }
        },
        "67aa9692286843bc862f17266832b798": {
          "model_module": "@jupyter-widgets/base",
          "model_name": "LayoutModel",
          "state": {
            "_view_name": "LayoutView",
            "grid_template_rows": null,
            "right": null,
            "justify_content": null,
            "_view_module": "@jupyter-widgets/base",
            "overflow": null,
            "_model_module_version": "1.2.0",
            "_view_count": null,
            "flex_flow": null,
            "width": null,
            "min_width": null,
            "border": null,
            "align_items": null,
            "bottom": null,
            "_model_module": "@jupyter-widgets/base",
            "top": null,
            "grid_column": null,
            "overflow_y": null,
            "overflow_x": null,
            "grid_auto_flow": null,
            "grid_area": null,
            "grid_template_columns": null,
            "flex": null,
            "_model_name": "LayoutModel",
            "justify_items": null,
            "grid_row": null,
            "max_height": null,
            "align_content": null,
            "visibility": null,
            "align_self": null,
            "height": null,
            "min_height": null,
            "padding": null,
            "grid_auto_rows": null,
            "grid_gap": null,
            "max_width": null,
            "order": null,
            "_view_module_version": "1.2.0",
            "grid_template_areas": null,
            "object_position": null,
            "object_fit": null,
            "grid_auto_columns": null,
            "margin": null,
            "display": null,
            "left": null
          }
        },
        "8ca05cb0875c4e5b90ba2258ccbe33c8": {
          "model_module": "@jupyter-widgets/controls",
          "model_name": "FloatProgressModel",
          "state": {
            "_view_name": "ProgressView",
            "style": "IPY_MODEL_5d074dfbd6a6461fb6110e477cebb99a",
            "_dom_classes": [],
            "description": "100%",
            "_model_name": "FloatProgressModel",
            "bar_style": "success",
            "max": 1000,
            "_view_module": "@jupyter-widgets/controls",
            "_model_module_version": "1.5.0",
            "value": 1000,
            "_view_count": null,
            "_view_module_version": "1.5.0",
            "orientation": "horizontal",
            "min": 0,
            "description_tooltip": null,
            "_model_module": "@jupyter-widgets/controls",
            "layout": "IPY_MODEL_9492de869f634215a1372a46790d3f1f"
          }
        },
        "0337607cc6ec43b98a5a060df5b88cf4": {
          "model_module": "@jupyter-widgets/controls",
          "model_name": "HTMLModel",
          "state": {
            "_view_name": "HTMLView",
            "style": "IPY_MODEL_48612cbd226f4724b5e4951e3932f1ee",
            "_dom_classes": [],
            "description": "",
            "_model_name": "HTMLModel",
            "placeholder": "​",
            "_view_module": "@jupyter-widgets/controls",
            "_model_module_version": "1.5.0",
            "value": " 1000/1000 [06:44&lt;00:00,  2.47epoch/s]",
            "_view_count": null,
            "_view_module_version": "1.5.0",
            "description_tooltip": null,
            "_model_module": "@jupyter-widgets/controls",
            "layout": "IPY_MODEL_1316646d1c7f4dd2b651983d333eb24b"
          }
        },
        "5d074dfbd6a6461fb6110e477cebb99a": {
          "model_module": "@jupyter-widgets/controls",
          "model_name": "ProgressStyleModel",
          "state": {
            "_view_name": "StyleView",
            "_model_name": "ProgressStyleModel",
            "description_width": "initial",
            "_view_module": "@jupyter-widgets/base",
            "_model_module_version": "1.5.0",
            "_view_count": null,
            "_view_module_version": "1.2.0",
            "bar_color": null,
            "_model_module": "@jupyter-widgets/controls"
          }
        },
        "9492de869f634215a1372a46790d3f1f": {
          "model_module": "@jupyter-widgets/base",
          "model_name": "LayoutModel",
          "state": {
            "_view_name": "LayoutView",
            "grid_template_rows": null,
            "right": null,
            "justify_content": null,
            "_view_module": "@jupyter-widgets/base",
            "overflow": null,
            "_model_module_version": "1.2.0",
            "_view_count": null,
            "flex_flow": null,
            "width": null,
            "min_width": null,
            "border": null,
            "align_items": null,
            "bottom": null,
            "_model_module": "@jupyter-widgets/base",
            "top": null,
            "grid_column": null,
            "overflow_y": null,
            "overflow_x": null,
            "grid_auto_flow": null,
            "grid_area": null,
            "grid_template_columns": null,
            "flex": null,
            "_model_name": "LayoutModel",
            "justify_items": null,
            "grid_row": null,
            "max_height": null,
            "align_content": null,
            "visibility": null,
            "align_self": null,
            "height": null,
            "min_height": null,
            "padding": null,
            "grid_auto_rows": null,
            "grid_gap": null,
            "max_width": null,
            "order": null,
            "_view_module_version": "1.2.0",
            "grid_template_areas": null,
            "object_position": null,
            "object_fit": null,
            "grid_auto_columns": null,
            "margin": null,
            "display": null,
            "left": null
          }
        },
        "48612cbd226f4724b5e4951e3932f1ee": {
          "model_module": "@jupyter-widgets/controls",
          "model_name": "DescriptionStyleModel",
          "state": {
            "_view_name": "StyleView",
            "_model_name": "DescriptionStyleModel",
            "description_width": "",
            "_view_module": "@jupyter-widgets/base",
            "_model_module_version": "1.5.0",
            "_view_count": null,
            "_view_module_version": "1.2.0",
            "_model_module": "@jupyter-widgets/controls"
          }
        },
        "1316646d1c7f4dd2b651983d333eb24b": {
          "model_module": "@jupyter-widgets/base",
          "model_name": "LayoutModel",
          "state": {
            "_view_name": "LayoutView",
            "grid_template_rows": null,
            "right": null,
            "justify_content": null,
            "_view_module": "@jupyter-widgets/base",
            "overflow": null,
            "_model_module_version": "1.2.0",
            "_view_count": null,
            "flex_flow": null,
            "width": null,
            "min_width": null,
            "border": null,
            "align_items": null,
            "bottom": null,
            "_model_module": "@jupyter-widgets/base",
            "top": null,
            "grid_column": null,
            "overflow_y": null,
            "overflow_x": null,
            "grid_auto_flow": null,
            "grid_area": null,
            "grid_template_columns": null,
            "flex": null,
            "_model_name": "LayoutModel",
            "justify_items": null,
            "grid_row": null,
            "max_height": null,
            "align_content": null,
            "visibility": null,
            "align_self": null,
            "height": null,
            "min_height": null,
            "padding": null,
            "grid_auto_rows": null,
            "grid_gap": null,
            "max_width": null,
            "order": null,
            "_view_module_version": "1.2.0",
            "grid_template_areas": null,
            "object_position": null,
            "object_fit": null,
            "grid_auto_columns": null,
            "margin": null,
            "display": null,
            "left": null
          }
        },
        "2cf2da7ad2b94908b2d44242d0117264": {
          "model_module": "@jupyter-widgets/controls",
          "model_name": "HBoxModel",
          "state": {
            "_view_name": "HBoxView",
            "_dom_classes": [],
            "_model_name": "HBoxModel",
            "_view_module": "@jupyter-widgets/controls",
            "_model_module_version": "1.5.0",
            "_view_count": null,
            "_view_module_version": "1.5.0",
            "box_style": "",
            "layout": "IPY_MODEL_f49962abe7e14dee83c712ad08090f7b",
            "_model_module": "@jupyter-widgets/controls",
            "children": [
              "IPY_MODEL_f1b1d36d891048d6a6947dfa4f2c11c7",
              "IPY_MODEL_9022f74682a04f7c887c27c91eac8cbf"
            ]
          }
        },
        "f49962abe7e14dee83c712ad08090f7b": {
          "model_module": "@jupyter-widgets/base",
          "model_name": "LayoutModel",
          "state": {
            "_view_name": "LayoutView",
            "grid_template_rows": null,
            "right": null,
            "justify_content": null,
            "_view_module": "@jupyter-widgets/base",
            "overflow": null,
            "_model_module_version": "1.2.0",
            "_view_count": null,
            "flex_flow": null,
            "width": null,
            "min_width": null,
            "border": null,
            "align_items": null,
            "bottom": null,
            "_model_module": "@jupyter-widgets/base",
            "top": null,
            "grid_column": null,
            "overflow_y": null,
            "overflow_x": null,
            "grid_auto_flow": null,
            "grid_area": null,
            "grid_template_columns": null,
            "flex": null,
            "_model_name": "LayoutModel",
            "justify_items": null,
            "grid_row": null,
            "max_height": null,
            "align_content": null,
            "visibility": null,
            "align_self": null,
            "height": null,
            "min_height": null,
            "padding": null,
            "grid_auto_rows": null,
            "grid_gap": null,
            "max_width": null,
            "order": null,
            "_view_module_version": "1.2.0",
            "grid_template_areas": null,
            "object_position": null,
            "object_fit": null,
            "grid_auto_columns": null,
            "margin": null,
            "display": null,
            "left": null
          }
        },
        "f1b1d36d891048d6a6947dfa4f2c11c7": {
          "model_module": "@jupyter-widgets/controls",
          "model_name": "FloatProgressModel",
          "state": {
            "_view_name": "ProgressView",
            "style": "IPY_MODEL_e0864017406047b890a69a93d000926a",
            "_dom_classes": [],
            "description": "100%",
            "_model_name": "FloatProgressModel",
            "bar_style": "success",
            "max": 1000,
            "_view_module": "@jupyter-widgets/controls",
            "_model_module_version": "1.5.0",
            "value": 1000,
            "_view_count": null,
            "_view_module_version": "1.5.0",
            "orientation": "horizontal",
            "min": 0,
            "description_tooltip": null,
            "_model_module": "@jupyter-widgets/controls",
            "layout": "IPY_MODEL_b9c885cf825242598c2212ccd3cc11bb"
          }
        },
        "9022f74682a04f7c887c27c91eac8cbf": {
          "model_module": "@jupyter-widgets/controls",
          "model_name": "HTMLModel",
          "state": {
            "_view_name": "HTMLView",
            "style": "IPY_MODEL_33aab6101e3d475ea6453e963bc409ec",
            "_dom_classes": [],
            "description": "",
            "_model_name": "HTMLModel",
            "placeholder": "​",
            "_view_module": "@jupyter-widgets/controls",
            "_model_module_version": "1.5.0",
            "value": " 1000/1000 [05:59&lt;00:00,  2.78epoch/s]",
            "_view_count": null,
            "_view_module_version": "1.5.0",
            "description_tooltip": null,
            "_model_module": "@jupyter-widgets/controls",
            "layout": "IPY_MODEL_703d657a635843e6950db172364dc0d8"
          }
        },
        "e0864017406047b890a69a93d000926a": {
          "model_module": "@jupyter-widgets/controls",
          "model_name": "ProgressStyleModel",
          "state": {
            "_view_name": "StyleView",
            "_model_name": "ProgressStyleModel",
            "description_width": "initial",
            "_view_module": "@jupyter-widgets/base",
            "_model_module_version": "1.5.0",
            "_view_count": null,
            "_view_module_version": "1.2.0",
            "bar_color": null,
            "_model_module": "@jupyter-widgets/controls"
          }
        },
        "b9c885cf825242598c2212ccd3cc11bb": {
          "model_module": "@jupyter-widgets/base",
          "model_name": "LayoutModel",
          "state": {
            "_view_name": "LayoutView",
            "grid_template_rows": null,
            "right": null,
            "justify_content": null,
            "_view_module": "@jupyter-widgets/base",
            "overflow": null,
            "_model_module_version": "1.2.0",
            "_view_count": null,
            "flex_flow": null,
            "width": null,
            "min_width": null,
            "border": null,
            "align_items": null,
            "bottom": null,
            "_model_module": "@jupyter-widgets/base",
            "top": null,
            "grid_column": null,
            "overflow_y": null,
            "overflow_x": null,
            "grid_auto_flow": null,
            "grid_area": null,
            "grid_template_columns": null,
            "flex": null,
            "_model_name": "LayoutModel",
            "justify_items": null,
            "grid_row": null,
            "max_height": null,
            "align_content": null,
            "visibility": null,
            "align_self": null,
            "height": null,
            "min_height": null,
            "padding": null,
            "grid_auto_rows": null,
            "grid_gap": null,
            "max_width": null,
            "order": null,
            "_view_module_version": "1.2.0",
            "grid_template_areas": null,
            "object_position": null,
            "object_fit": null,
            "grid_auto_columns": null,
            "margin": null,
            "display": null,
            "left": null
          }
        },
        "33aab6101e3d475ea6453e963bc409ec": {
          "model_module": "@jupyter-widgets/controls",
          "model_name": "DescriptionStyleModel",
          "state": {
            "_view_name": "StyleView",
            "_model_name": "DescriptionStyleModel",
            "description_width": "",
            "_view_module": "@jupyter-widgets/base",
            "_model_module_version": "1.5.0",
            "_view_count": null,
            "_view_module_version": "1.2.0",
            "_model_module": "@jupyter-widgets/controls"
          }
        },
        "703d657a635843e6950db172364dc0d8": {
          "model_module": "@jupyter-widgets/base",
          "model_name": "LayoutModel",
          "state": {
            "_view_name": "LayoutView",
            "grid_template_rows": null,
            "right": null,
            "justify_content": null,
            "_view_module": "@jupyter-widgets/base",
            "overflow": null,
            "_model_module_version": "1.2.0",
            "_view_count": null,
            "flex_flow": null,
            "width": null,
            "min_width": null,
            "border": null,
            "align_items": null,
            "bottom": null,
            "_model_module": "@jupyter-widgets/base",
            "top": null,
            "grid_column": null,
            "overflow_y": null,
            "overflow_x": null,
            "grid_auto_flow": null,
            "grid_area": null,
            "grid_template_columns": null,
            "flex": null,
            "_model_name": "LayoutModel",
            "justify_items": null,
            "grid_row": null,
            "max_height": null,
            "align_content": null,
            "visibility": null,
            "align_self": null,
            "height": null,
            "min_height": null,
            "padding": null,
            "grid_auto_rows": null,
            "grid_gap": null,
            "max_width": null,
            "order": null,
            "_view_module_version": "1.2.0",
            "grid_template_areas": null,
            "object_position": null,
            "object_fit": null,
            "grid_auto_columns": null,
            "margin": null,
            "display": null,
            "left": null
          }
        },
        "e2c58b2791c149fa9fed93f6b935ee8e": {
          "model_module": "@jupyter-widgets/controls",
          "model_name": "HBoxModel",
          "state": {
            "_view_name": "HBoxView",
            "_dom_classes": [],
            "_model_name": "HBoxModel",
            "_view_module": "@jupyter-widgets/controls",
            "_model_module_version": "1.5.0",
            "_view_count": null,
            "_view_module_version": "1.5.0",
            "box_style": "",
            "layout": "IPY_MODEL_e9a5a7e2b903418f8f2bdf4bbd5e2233",
            "_model_module": "@jupyter-widgets/controls",
            "children": [
              "IPY_MODEL_2b009cddb7a64e7cb699c0f0435d24dc",
              "IPY_MODEL_f70c9fdea0124339ac61ee1de5c2b42d"
            ]
          }
        },
        "e9a5a7e2b903418f8f2bdf4bbd5e2233": {
          "model_module": "@jupyter-widgets/base",
          "model_name": "LayoutModel",
          "state": {
            "_view_name": "LayoutView",
            "grid_template_rows": null,
            "right": null,
            "justify_content": null,
            "_view_module": "@jupyter-widgets/base",
            "overflow": null,
            "_model_module_version": "1.2.0",
            "_view_count": null,
            "flex_flow": null,
            "width": null,
            "min_width": null,
            "border": null,
            "align_items": null,
            "bottom": null,
            "_model_module": "@jupyter-widgets/base",
            "top": null,
            "grid_column": null,
            "overflow_y": null,
            "overflow_x": null,
            "grid_auto_flow": null,
            "grid_area": null,
            "grid_template_columns": null,
            "flex": null,
            "_model_name": "LayoutModel",
            "justify_items": null,
            "grid_row": null,
            "max_height": null,
            "align_content": null,
            "visibility": null,
            "align_self": null,
            "height": null,
            "min_height": null,
            "padding": null,
            "grid_auto_rows": null,
            "grid_gap": null,
            "max_width": null,
            "order": null,
            "_view_module_version": "1.2.0",
            "grid_template_areas": null,
            "object_position": null,
            "object_fit": null,
            "grid_auto_columns": null,
            "margin": null,
            "display": null,
            "left": null
          }
        },
        "2b009cddb7a64e7cb699c0f0435d24dc": {
          "model_module": "@jupyter-widgets/controls",
          "model_name": "FloatProgressModel",
          "state": {
            "_view_name": "ProgressView",
            "style": "IPY_MODEL_b2838058653d4cdc96f1a75d7bf4875a",
            "_dom_classes": [],
            "description": "100%",
            "_model_name": "FloatProgressModel",
            "bar_style": "success",
            "max": 1000,
            "_view_module": "@jupyter-widgets/controls",
            "_model_module_version": "1.5.0",
            "value": 1000,
            "_view_count": null,
            "_view_module_version": "1.5.0",
            "orientation": "horizontal",
            "min": 0,
            "description_tooltip": null,
            "_model_module": "@jupyter-widgets/controls",
            "layout": "IPY_MODEL_b460f3e44bbb4823a8ebf7695623f653"
          }
        },
        "f70c9fdea0124339ac61ee1de5c2b42d": {
          "model_module": "@jupyter-widgets/controls",
          "model_name": "HTMLModel",
          "state": {
            "_view_name": "HTMLView",
            "style": "IPY_MODEL_0591591dee9d4bd599fb30e1f8ddf768",
            "_dom_classes": [],
            "description": "",
            "_model_name": "HTMLModel",
            "placeholder": "​",
            "_view_module": "@jupyter-widgets/controls",
            "_model_module_version": "1.5.0",
            "value": " 1000/1000 [05:15&lt;00:00,  3.17epoch/s]",
            "_view_count": null,
            "_view_module_version": "1.5.0",
            "description_tooltip": null,
            "_model_module": "@jupyter-widgets/controls",
            "layout": "IPY_MODEL_e00c158a9bb1407eba56450f0cf8939a"
          }
        },
        "b2838058653d4cdc96f1a75d7bf4875a": {
          "model_module": "@jupyter-widgets/controls",
          "model_name": "ProgressStyleModel",
          "state": {
            "_view_name": "StyleView",
            "_model_name": "ProgressStyleModel",
            "description_width": "initial",
            "_view_module": "@jupyter-widgets/base",
            "_model_module_version": "1.5.0",
            "_view_count": null,
            "_view_module_version": "1.2.0",
            "bar_color": null,
            "_model_module": "@jupyter-widgets/controls"
          }
        },
        "b460f3e44bbb4823a8ebf7695623f653": {
          "model_module": "@jupyter-widgets/base",
          "model_name": "LayoutModel",
          "state": {
            "_view_name": "LayoutView",
            "grid_template_rows": null,
            "right": null,
            "justify_content": null,
            "_view_module": "@jupyter-widgets/base",
            "overflow": null,
            "_model_module_version": "1.2.0",
            "_view_count": null,
            "flex_flow": null,
            "width": null,
            "min_width": null,
            "border": null,
            "align_items": null,
            "bottom": null,
            "_model_module": "@jupyter-widgets/base",
            "top": null,
            "grid_column": null,
            "overflow_y": null,
            "overflow_x": null,
            "grid_auto_flow": null,
            "grid_area": null,
            "grid_template_columns": null,
            "flex": null,
            "_model_name": "LayoutModel",
            "justify_items": null,
            "grid_row": null,
            "max_height": null,
            "align_content": null,
            "visibility": null,
            "align_self": null,
            "height": null,
            "min_height": null,
            "padding": null,
            "grid_auto_rows": null,
            "grid_gap": null,
            "max_width": null,
            "order": null,
            "_view_module_version": "1.2.0",
            "grid_template_areas": null,
            "object_position": null,
            "object_fit": null,
            "grid_auto_columns": null,
            "margin": null,
            "display": null,
            "left": null
          }
        },
        "0591591dee9d4bd599fb30e1f8ddf768": {
          "model_module": "@jupyter-widgets/controls",
          "model_name": "DescriptionStyleModel",
          "state": {
            "_view_name": "StyleView",
            "_model_name": "DescriptionStyleModel",
            "description_width": "",
            "_view_module": "@jupyter-widgets/base",
            "_model_module_version": "1.5.0",
            "_view_count": null,
            "_view_module_version": "1.2.0",
            "_model_module": "@jupyter-widgets/controls"
          }
        },
        "e00c158a9bb1407eba56450f0cf8939a": {
          "model_module": "@jupyter-widgets/base",
          "model_name": "LayoutModel",
          "state": {
            "_view_name": "LayoutView",
            "grid_template_rows": null,
            "right": null,
            "justify_content": null,
            "_view_module": "@jupyter-widgets/base",
            "overflow": null,
            "_model_module_version": "1.2.0",
            "_view_count": null,
            "flex_flow": null,
            "width": null,
            "min_width": null,
            "border": null,
            "align_items": null,
            "bottom": null,
            "_model_module": "@jupyter-widgets/base",
            "top": null,
            "grid_column": null,
            "overflow_y": null,
            "overflow_x": null,
            "grid_auto_flow": null,
            "grid_area": null,
            "grid_template_columns": null,
            "flex": null,
            "_model_name": "LayoutModel",
            "justify_items": null,
            "grid_row": null,
            "max_height": null,
            "align_content": null,
            "visibility": null,
            "align_self": null,
            "height": null,
            "min_height": null,
            "padding": null,
            "grid_auto_rows": null,
            "grid_gap": null,
            "max_width": null,
            "order": null,
            "_view_module_version": "1.2.0",
            "grid_template_areas": null,
            "object_position": null,
            "object_fit": null,
            "grid_auto_columns": null,
            "margin": null,
            "display": null,
            "left": null
          }
        },
        "f0566f5e6ba9483d9900aa9f52578a94": {
          "model_module": "@jupyter-widgets/controls",
          "model_name": "HBoxModel",
          "state": {
            "_view_name": "HBoxView",
            "_dom_classes": [],
            "_model_name": "HBoxModel",
            "_view_module": "@jupyter-widgets/controls",
            "_model_module_version": "1.5.0",
            "_view_count": null,
            "_view_module_version": "1.5.0",
            "box_style": "",
            "layout": "IPY_MODEL_d006acc5b6cb4e018ffe95bcd34280ca",
            "_model_module": "@jupyter-widgets/controls",
            "children": [
              "IPY_MODEL_03813468c4be4a43a2eb3c008c723c8a",
              "IPY_MODEL_08207a2020c7423da9112dd10fbae5e1"
            ]
          }
        },
        "d006acc5b6cb4e018ffe95bcd34280ca": {
          "model_module": "@jupyter-widgets/base",
          "model_name": "LayoutModel",
          "state": {
            "_view_name": "LayoutView",
            "grid_template_rows": null,
            "right": null,
            "justify_content": null,
            "_view_module": "@jupyter-widgets/base",
            "overflow": null,
            "_model_module_version": "1.2.0",
            "_view_count": null,
            "flex_flow": null,
            "width": null,
            "min_width": null,
            "border": null,
            "align_items": null,
            "bottom": null,
            "_model_module": "@jupyter-widgets/base",
            "top": null,
            "grid_column": null,
            "overflow_y": null,
            "overflow_x": null,
            "grid_auto_flow": null,
            "grid_area": null,
            "grid_template_columns": null,
            "flex": null,
            "_model_name": "LayoutModel",
            "justify_items": null,
            "grid_row": null,
            "max_height": null,
            "align_content": null,
            "visibility": null,
            "align_self": null,
            "height": null,
            "min_height": null,
            "padding": null,
            "grid_auto_rows": null,
            "grid_gap": null,
            "max_width": null,
            "order": null,
            "_view_module_version": "1.2.0",
            "grid_template_areas": null,
            "object_position": null,
            "object_fit": null,
            "grid_auto_columns": null,
            "margin": null,
            "display": null,
            "left": null
          }
        },
        "03813468c4be4a43a2eb3c008c723c8a": {
          "model_module": "@jupyter-widgets/controls",
          "model_name": "FloatProgressModel",
          "state": {
            "_view_name": "ProgressView",
            "style": "IPY_MODEL_e7eeddc278664eaa83fc734c524160d2",
            "_dom_classes": [],
            "description": "100%",
            "_model_name": "FloatProgressModel",
            "bar_style": "success",
            "max": 1000,
            "_view_module": "@jupyter-widgets/controls",
            "_model_module_version": "1.5.0",
            "value": 1000,
            "_view_count": null,
            "_view_module_version": "1.5.0",
            "orientation": "horizontal",
            "min": 0,
            "description_tooltip": null,
            "_model_module": "@jupyter-widgets/controls",
            "layout": "IPY_MODEL_6e9c2dfc9a1c47ea9aae5390dd3be471"
          }
        },
        "08207a2020c7423da9112dd10fbae5e1": {
          "model_module": "@jupyter-widgets/controls",
          "model_name": "HTMLModel",
          "state": {
            "_view_name": "HTMLView",
            "style": "IPY_MODEL_ea3115d3fff94acbb81366a8dc8e5985",
            "_dom_classes": [],
            "description": "",
            "_model_name": "HTMLModel",
            "placeholder": "​",
            "_view_module": "@jupyter-widgets/controls",
            "_model_module_version": "1.5.0",
            "value": " 1000/1000 [04:30&lt;00:00,  3.69epoch/s]",
            "_view_count": null,
            "_view_module_version": "1.5.0",
            "description_tooltip": null,
            "_model_module": "@jupyter-widgets/controls",
            "layout": "IPY_MODEL_0a8e023a33e04f57bc374e1327acc2f3"
          }
        },
        "e7eeddc278664eaa83fc734c524160d2": {
          "model_module": "@jupyter-widgets/controls",
          "model_name": "ProgressStyleModel",
          "state": {
            "_view_name": "StyleView",
            "_model_name": "ProgressStyleModel",
            "description_width": "initial",
            "_view_module": "@jupyter-widgets/base",
            "_model_module_version": "1.5.0",
            "_view_count": null,
            "_view_module_version": "1.2.0",
            "bar_color": null,
            "_model_module": "@jupyter-widgets/controls"
          }
        },
        "6e9c2dfc9a1c47ea9aae5390dd3be471": {
          "model_module": "@jupyter-widgets/base",
          "model_name": "LayoutModel",
          "state": {
            "_view_name": "LayoutView",
            "grid_template_rows": null,
            "right": null,
            "justify_content": null,
            "_view_module": "@jupyter-widgets/base",
            "overflow": null,
            "_model_module_version": "1.2.0",
            "_view_count": null,
            "flex_flow": null,
            "width": null,
            "min_width": null,
            "border": null,
            "align_items": null,
            "bottom": null,
            "_model_module": "@jupyter-widgets/base",
            "top": null,
            "grid_column": null,
            "overflow_y": null,
            "overflow_x": null,
            "grid_auto_flow": null,
            "grid_area": null,
            "grid_template_columns": null,
            "flex": null,
            "_model_name": "LayoutModel",
            "justify_items": null,
            "grid_row": null,
            "max_height": null,
            "align_content": null,
            "visibility": null,
            "align_self": null,
            "height": null,
            "min_height": null,
            "padding": null,
            "grid_auto_rows": null,
            "grid_gap": null,
            "max_width": null,
            "order": null,
            "_view_module_version": "1.2.0",
            "grid_template_areas": null,
            "object_position": null,
            "object_fit": null,
            "grid_auto_columns": null,
            "margin": null,
            "display": null,
            "left": null
          }
        },
        "ea3115d3fff94acbb81366a8dc8e5985": {
          "model_module": "@jupyter-widgets/controls",
          "model_name": "DescriptionStyleModel",
          "state": {
            "_view_name": "StyleView",
            "_model_name": "DescriptionStyleModel",
            "description_width": "",
            "_view_module": "@jupyter-widgets/base",
            "_model_module_version": "1.5.0",
            "_view_count": null,
            "_view_module_version": "1.2.0",
            "_model_module": "@jupyter-widgets/controls"
          }
        },
        "0a8e023a33e04f57bc374e1327acc2f3": {
          "model_module": "@jupyter-widgets/base",
          "model_name": "LayoutModel",
          "state": {
            "_view_name": "LayoutView",
            "grid_template_rows": null,
            "right": null,
            "justify_content": null,
            "_view_module": "@jupyter-widgets/base",
            "overflow": null,
            "_model_module_version": "1.2.0",
            "_view_count": null,
            "flex_flow": null,
            "width": null,
            "min_width": null,
            "border": null,
            "align_items": null,
            "bottom": null,
            "_model_module": "@jupyter-widgets/base",
            "top": null,
            "grid_column": null,
            "overflow_y": null,
            "overflow_x": null,
            "grid_auto_flow": null,
            "grid_area": null,
            "grid_template_columns": null,
            "flex": null,
            "_model_name": "LayoutModel",
            "justify_items": null,
            "grid_row": null,
            "max_height": null,
            "align_content": null,
            "visibility": null,
            "align_self": null,
            "height": null,
            "min_height": null,
            "padding": null,
            "grid_auto_rows": null,
            "grid_gap": null,
            "max_width": null,
            "order": null,
            "_view_module_version": "1.2.0",
            "grid_template_areas": null,
            "object_position": null,
            "object_fit": null,
            "grid_auto_columns": null,
            "margin": null,
            "display": null,
            "left": null
          }
        },
        "9ee87635e9e04f5298d4f4adc939f7f7": {
          "model_module": "@jupyter-widgets/controls",
          "model_name": "HBoxModel",
          "state": {
            "_view_name": "HBoxView",
            "_dom_classes": [],
            "_model_name": "HBoxModel",
            "_view_module": "@jupyter-widgets/controls",
            "_model_module_version": "1.5.0",
            "_view_count": null,
            "_view_module_version": "1.5.0",
            "box_style": "",
            "layout": "IPY_MODEL_81cbea2696c041e0b19cd059657497ba",
            "_model_module": "@jupyter-widgets/controls",
            "children": [
              "IPY_MODEL_33906d00c0694f7e849bbd0f8c7f4d2c",
              "IPY_MODEL_745897d02d6e4b23980102f9abed75a8"
            ]
          }
        },
        "81cbea2696c041e0b19cd059657497ba": {
          "model_module": "@jupyter-widgets/base",
          "model_name": "LayoutModel",
          "state": {
            "_view_name": "LayoutView",
            "grid_template_rows": null,
            "right": null,
            "justify_content": null,
            "_view_module": "@jupyter-widgets/base",
            "overflow": null,
            "_model_module_version": "1.2.0",
            "_view_count": null,
            "flex_flow": null,
            "width": null,
            "min_width": null,
            "border": null,
            "align_items": null,
            "bottom": null,
            "_model_module": "@jupyter-widgets/base",
            "top": null,
            "grid_column": null,
            "overflow_y": null,
            "overflow_x": null,
            "grid_auto_flow": null,
            "grid_area": null,
            "grid_template_columns": null,
            "flex": null,
            "_model_name": "LayoutModel",
            "justify_items": null,
            "grid_row": null,
            "max_height": null,
            "align_content": null,
            "visibility": null,
            "align_self": null,
            "height": null,
            "min_height": null,
            "padding": null,
            "grid_auto_rows": null,
            "grid_gap": null,
            "max_width": null,
            "order": null,
            "_view_module_version": "1.2.0",
            "grid_template_areas": null,
            "object_position": null,
            "object_fit": null,
            "grid_auto_columns": null,
            "margin": null,
            "display": null,
            "left": null
          }
        },
        "33906d00c0694f7e849bbd0f8c7f4d2c": {
          "model_module": "@jupyter-widgets/controls",
          "model_name": "FloatProgressModel",
          "state": {
            "_view_name": "ProgressView",
            "style": "IPY_MODEL_afcd09c35061475bb86ea7eddc14ba83",
            "_dom_classes": [],
            "description": "100%",
            "_model_name": "FloatProgressModel",
            "bar_style": "success",
            "max": 1000,
            "_view_module": "@jupyter-widgets/controls",
            "_model_module_version": "1.5.0",
            "value": 1000,
            "_view_count": null,
            "_view_module_version": "1.5.0",
            "orientation": "horizontal",
            "min": 0,
            "description_tooltip": null,
            "_model_module": "@jupyter-widgets/controls",
            "layout": "IPY_MODEL_3ca548ac362c4dffad1a8c56201b11b5"
          }
        },
        "745897d02d6e4b23980102f9abed75a8": {
          "model_module": "@jupyter-widgets/controls",
          "model_name": "HTMLModel",
          "state": {
            "_view_name": "HTMLView",
            "style": "IPY_MODEL_77e69141cf12468796260de80b43ef2f",
            "_dom_classes": [],
            "description": "",
            "_model_name": "HTMLModel",
            "placeholder": "​",
            "_view_module": "@jupyter-widgets/controls",
            "_model_module_version": "1.5.0",
            "value": " 1000/1000 [03:46&lt;00:00,  4.41epoch/s]",
            "_view_count": null,
            "_view_module_version": "1.5.0",
            "description_tooltip": null,
            "_model_module": "@jupyter-widgets/controls",
            "layout": "IPY_MODEL_3ca13a028da244789eddaa0fe8ba3145"
          }
        },
        "afcd09c35061475bb86ea7eddc14ba83": {
          "model_module": "@jupyter-widgets/controls",
          "model_name": "ProgressStyleModel",
          "state": {
            "_view_name": "StyleView",
            "_model_name": "ProgressStyleModel",
            "description_width": "initial",
            "_view_module": "@jupyter-widgets/base",
            "_model_module_version": "1.5.0",
            "_view_count": null,
            "_view_module_version": "1.2.0",
            "bar_color": null,
            "_model_module": "@jupyter-widgets/controls"
          }
        },
        "3ca548ac362c4dffad1a8c56201b11b5": {
          "model_module": "@jupyter-widgets/base",
          "model_name": "LayoutModel",
          "state": {
            "_view_name": "LayoutView",
            "grid_template_rows": null,
            "right": null,
            "justify_content": null,
            "_view_module": "@jupyter-widgets/base",
            "overflow": null,
            "_model_module_version": "1.2.0",
            "_view_count": null,
            "flex_flow": null,
            "width": null,
            "min_width": null,
            "border": null,
            "align_items": null,
            "bottom": null,
            "_model_module": "@jupyter-widgets/base",
            "top": null,
            "grid_column": null,
            "overflow_y": null,
            "overflow_x": null,
            "grid_auto_flow": null,
            "grid_area": null,
            "grid_template_columns": null,
            "flex": null,
            "_model_name": "LayoutModel",
            "justify_items": null,
            "grid_row": null,
            "max_height": null,
            "align_content": null,
            "visibility": null,
            "align_self": null,
            "height": null,
            "min_height": null,
            "padding": null,
            "grid_auto_rows": null,
            "grid_gap": null,
            "max_width": null,
            "order": null,
            "_view_module_version": "1.2.0",
            "grid_template_areas": null,
            "object_position": null,
            "object_fit": null,
            "grid_auto_columns": null,
            "margin": null,
            "display": null,
            "left": null
          }
        },
        "77e69141cf12468796260de80b43ef2f": {
          "model_module": "@jupyter-widgets/controls",
          "model_name": "DescriptionStyleModel",
          "state": {
            "_view_name": "StyleView",
            "_model_name": "DescriptionStyleModel",
            "description_width": "",
            "_view_module": "@jupyter-widgets/base",
            "_model_module_version": "1.5.0",
            "_view_count": null,
            "_view_module_version": "1.2.0",
            "_model_module": "@jupyter-widgets/controls"
          }
        },
        "3ca13a028da244789eddaa0fe8ba3145": {
          "model_module": "@jupyter-widgets/base",
          "model_name": "LayoutModel",
          "state": {
            "_view_name": "LayoutView",
            "grid_template_rows": null,
            "right": null,
            "justify_content": null,
            "_view_module": "@jupyter-widgets/base",
            "overflow": null,
            "_model_module_version": "1.2.0",
            "_view_count": null,
            "flex_flow": null,
            "width": null,
            "min_width": null,
            "border": null,
            "align_items": null,
            "bottom": null,
            "_model_module": "@jupyter-widgets/base",
            "top": null,
            "grid_column": null,
            "overflow_y": null,
            "overflow_x": null,
            "grid_auto_flow": null,
            "grid_area": null,
            "grid_template_columns": null,
            "flex": null,
            "_model_name": "LayoutModel",
            "justify_items": null,
            "grid_row": null,
            "max_height": null,
            "align_content": null,
            "visibility": null,
            "align_self": null,
            "height": null,
            "min_height": null,
            "padding": null,
            "grid_auto_rows": null,
            "grid_gap": null,
            "max_width": null,
            "order": null,
            "_view_module_version": "1.2.0",
            "grid_template_areas": null,
            "object_position": null,
            "object_fit": null,
            "grid_auto_columns": null,
            "margin": null,
            "display": null,
            "left": null
          }
        },
        "3e0645fcb24447148a63381cb9555134": {
          "model_module": "@jupyter-widgets/controls",
          "model_name": "HBoxModel",
          "state": {
            "_view_name": "HBoxView",
            "_dom_classes": [],
            "_model_name": "HBoxModel",
            "_view_module": "@jupyter-widgets/controls",
            "_model_module_version": "1.5.0",
            "_view_count": null,
            "_view_module_version": "1.5.0",
            "box_style": "",
            "layout": "IPY_MODEL_1fa139fdf67342448c2e29290d1be88b",
            "_model_module": "@jupyter-widgets/controls",
            "children": [
              "IPY_MODEL_d96c267e4bc441ac8b545e1f650560d5",
              "IPY_MODEL_fa246d859ecf430cb2ba0eb59433157e"
            ]
          }
        },
        "1fa139fdf67342448c2e29290d1be88b": {
          "model_module": "@jupyter-widgets/base",
          "model_name": "LayoutModel",
          "state": {
            "_view_name": "LayoutView",
            "grid_template_rows": null,
            "right": null,
            "justify_content": null,
            "_view_module": "@jupyter-widgets/base",
            "overflow": null,
            "_model_module_version": "1.2.0",
            "_view_count": null,
            "flex_flow": null,
            "width": null,
            "min_width": null,
            "border": null,
            "align_items": null,
            "bottom": null,
            "_model_module": "@jupyter-widgets/base",
            "top": null,
            "grid_column": null,
            "overflow_y": null,
            "overflow_x": null,
            "grid_auto_flow": null,
            "grid_area": null,
            "grid_template_columns": null,
            "flex": null,
            "_model_name": "LayoutModel",
            "justify_items": null,
            "grid_row": null,
            "max_height": null,
            "align_content": null,
            "visibility": null,
            "align_self": null,
            "height": null,
            "min_height": null,
            "padding": null,
            "grid_auto_rows": null,
            "grid_gap": null,
            "max_width": null,
            "order": null,
            "_view_module_version": "1.2.0",
            "grid_template_areas": null,
            "object_position": null,
            "object_fit": null,
            "grid_auto_columns": null,
            "margin": null,
            "display": null,
            "left": null
          }
        },
        "d96c267e4bc441ac8b545e1f650560d5": {
          "model_module": "@jupyter-widgets/controls",
          "model_name": "FloatProgressModel",
          "state": {
            "_view_name": "ProgressView",
            "style": "IPY_MODEL_4428fb8ffa9b46b0bb8dc4d4c59b0c4b",
            "_dom_classes": [],
            "description": "100%",
            "_model_name": "FloatProgressModel",
            "bar_style": "success",
            "max": 1000,
            "_view_module": "@jupyter-widgets/controls",
            "_model_module_version": "1.5.0",
            "value": 1000,
            "_view_count": null,
            "_view_module_version": "1.5.0",
            "orientation": "horizontal",
            "min": 0,
            "description_tooltip": null,
            "_model_module": "@jupyter-widgets/controls",
            "layout": "IPY_MODEL_e7aa37bf3d4d48feb587b7aa39af582f"
          }
        },
        "fa246d859ecf430cb2ba0eb59433157e": {
          "model_module": "@jupyter-widgets/controls",
          "model_name": "HTMLModel",
          "state": {
            "_view_name": "HTMLView",
            "style": "IPY_MODEL_b03a2722325249449b0626c994fa1606",
            "_dom_classes": [],
            "description": "",
            "_model_name": "HTMLModel",
            "placeholder": "​",
            "_view_module": "@jupyter-widgets/controls",
            "_model_module_version": "1.5.0",
            "value": " 1000/1000 [03:01&lt;00:00,  5.50epoch/s]",
            "_view_count": null,
            "_view_module_version": "1.5.0",
            "description_tooltip": null,
            "_model_module": "@jupyter-widgets/controls",
            "layout": "IPY_MODEL_12aab12e568f4cd68f44ca5a08a430e1"
          }
        },
        "4428fb8ffa9b46b0bb8dc4d4c59b0c4b": {
          "model_module": "@jupyter-widgets/controls",
          "model_name": "ProgressStyleModel",
          "state": {
            "_view_name": "StyleView",
            "_model_name": "ProgressStyleModel",
            "description_width": "initial",
            "_view_module": "@jupyter-widgets/base",
            "_model_module_version": "1.5.0",
            "_view_count": null,
            "_view_module_version": "1.2.0",
            "bar_color": null,
            "_model_module": "@jupyter-widgets/controls"
          }
        },
        "e7aa37bf3d4d48feb587b7aa39af582f": {
          "model_module": "@jupyter-widgets/base",
          "model_name": "LayoutModel",
          "state": {
            "_view_name": "LayoutView",
            "grid_template_rows": null,
            "right": null,
            "justify_content": null,
            "_view_module": "@jupyter-widgets/base",
            "overflow": null,
            "_model_module_version": "1.2.0",
            "_view_count": null,
            "flex_flow": null,
            "width": null,
            "min_width": null,
            "border": null,
            "align_items": null,
            "bottom": null,
            "_model_module": "@jupyter-widgets/base",
            "top": null,
            "grid_column": null,
            "overflow_y": null,
            "overflow_x": null,
            "grid_auto_flow": null,
            "grid_area": null,
            "grid_template_columns": null,
            "flex": null,
            "_model_name": "LayoutModel",
            "justify_items": null,
            "grid_row": null,
            "max_height": null,
            "align_content": null,
            "visibility": null,
            "align_self": null,
            "height": null,
            "min_height": null,
            "padding": null,
            "grid_auto_rows": null,
            "grid_gap": null,
            "max_width": null,
            "order": null,
            "_view_module_version": "1.2.0",
            "grid_template_areas": null,
            "object_position": null,
            "object_fit": null,
            "grid_auto_columns": null,
            "margin": null,
            "display": null,
            "left": null
          }
        },
        "b03a2722325249449b0626c994fa1606": {
          "model_module": "@jupyter-widgets/controls",
          "model_name": "DescriptionStyleModel",
          "state": {
            "_view_name": "StyleView",
            "_model_name": "DescriptionStyleModel",
            "description_width": "",
            "_view_module": "@jupyter-widgets/base",
            "_model_module_version": "1.5.0",
            "_view_count": null,
            "_view_module_version": "1.2.0",
            "_model_module": "@jupyter-widgets/controls"
          }
        },
        "12aab12e568f4cd68f44ca5a08a430e1": {
          "model_module": "@jupyter-widgets/base",
          "model_name": "LayoutModel",
          "state": {
            "_view_name": "LayoutView",
            "grid_template_rows": null,
            "right": null,
            "justify_content": null,
            "_view_module": "@jupyter-widgets/base",
            "overflow": null,
            "_model_module_version": "1.2.0",
            "_view_count": null,
            "flex_flow": null,
            "width": null,
            "min_width": null,
            "border": null,
            "align_items": null,
            "bottom": null,
            "_model_module": "@jupyter-widgets/base",
            "top": null,
            "grid_column": null,
            "overflow_y": null,
            "overflow_x": null,
            "grid_auto_flow": null,
            "grid_area": null,
            "grid_template_columns": null,
            "flex": null,
            "_model_name": "LayoutModel",
            "justify_items": null,
            "grid_row": null,
            "max_height": null,
            "align_content": null,
            "visibility": null,
            "align_self": null,
            "height": null,
            "min_height": null,
            "padding": null,
            "grid_auto_rows": null,
            "grid_gap": null,
            "max_width": null,
            "order": null,
            "_view_module_version": "1.2.0",
            "grid_template_areas": null,
            "object_position": null,
            "object_fit": null,
            "grid_auto_columns": null,
            "margin": null,
            "display": null,
            "left": null
          }
        },
        "3974d92c31ac4b0e972d264351847753": {
          "model_module": "@jupyter-widgets/controls",
          "model_name": "HBoxModel",
          "state": {
            "_view_name": "HBoxView",
            "_dom_classes": [],
            "_model_name": "HBoxModel",
            "_view_module": "@jupyter-widgets/controls",
            "_model_module_version": "1.5.0",
            "_view_count": null,
            "_view_module_version": "1.5.0",
            "box_style": "",
            "layout": "IPY_MODEL_f98b9c483c14495ab24b354e49046388",
            "_model_module": "@jupyter-widgets/controls",
            "children": [
              "IPY_MODEL_2ec5b82540e944c7954f982faf95bf2a",
              "IPY_MODEL_13022179629e4dd79a5eac392e628b44"
            ]
          }
        },
        "f98b9c483c14495ab24b354e49046388": {
          "model_module": "@jupyter-widgets/base",
          "model_name": "LayoutModel",
          "state": {
            "_view_name": "LayoutView",
            "grid_template_rows": null,
            "right": null,
            "justify_content": null,
            "_view_module": "@jupyter-widgets/base",
            "overflow": null,
            "_model_module_version": "1.2.0",
            "_view_count": null,
            "flex_flow": null,
            "width": null,
            "min_width": null,
            "border": null,
            "align_items": null,
            "bottom": null,
            "_model_module": "@jupyter-widgets/base",
            "top": null,
            "grid_column": null,
            "overflow_y": null,
            "overflow_x": null,
            "grid_auto_flow": null,
            "grid_area": null,
            "grid_template_columns": null,
            "flex": null,
            "_model_name": "LayoutModel",
            "justify_items": null,
            "grid_row": null,
            "max_height": null,
            "align_content": null,
            "visibility": null,
            "align_self": null,
            "height": null,
            "min_height": null,
            "padding": null,
            "grid_auto_rows": null,
            "grid_gap": null,
            "max_width": null,
            "order": null,
            "_view_module_version": "1.2.0",
            "grid_template_areas": null,
            "object_position": null,
            "object_fit": null,
            "grid_auto_columns": null,
            "margin": null,
            "display": null,
            "left": null
          }
        },
        "2ec5b82540e944c7954f982faf95bf2a": {
          "model_module": "@jupyter-widgets/controls",
          "model_name": "FloatProgressModel",
          "state": {
            "_view_name": "ProgressView",
            "style": "IPY_MODEL_8c32c11a165a4264854f64a0f06747dd",
            "_dom_classes": [],
            "description": "100%",
            "_model_name": "FloatProgressModel",
            "bar_style": "success",
            "max": 1000,
            "_view_module": "@jupyter-widgets/controls",
            "_model_module_version": "1.5.0",
            "value": 1000,
            "_view_count": null,
            "_view_module_version": "1.5.0",
            "orientation": "horizontal",
            "min": 0,
            "description_tooltip": null,
            "_model_module": "@jupyter-widgets/controls",
            "layout": "IPY_MODEL_1189dbc333d9469084f47e23f9c3591b"
          }
        },
        "13022179629e4dd79a5eac392e628b44": {
          "model_module": "@jupyter-widgets/controls",
          "model_name": "HTMLModel",
          "state": {
            "_view_name": "HTMLView",
            "style": "IPY_MODEL_db930830d7e54776b3309eba3c5285d0",
            "_dom_classes": [],
            "description": "",
            "_model_name": "HTMLModel",
            "placeholder": "​",
            "_view_module": "@jupyter-widgets/controls",
            "_model_module_version": "1.5.0",
            "value": " 1000/1000 [02:15&lt;00:00,  7.40epoch/s]",
            "_view_count": null,
            "_view_module_version": "1.5.0",
            "description_tooltip": null,
            "_model_module": "@jupyter-widgets/controls",
            "layout": "IPY_MODEL_81627ddcb966442eada6375b527eed7f"
          }
        },
        "8c32c11a165a4264854f64a0f06747dd": {
          "model_module": "@jupyter-widgets/controls",
          "model_name": "ProgressStyleModel",
          "state": {
            "_view_name": "StyleView",
            "_model_name": "ProgressStyleModel",
            "description_width": "initial",
            "_view_module": "@jupyter-widgets/base",
            "_model_module_version": "1.5.0",
            "_view_count": null,
            "_view_module_version": "1.2.0",
            "bar_color": null,
            "_model_module": "@jupyter-widgets/controls"
          }
        },
        "1189dbc333d9469084f47e23f9c3591b": {
          "model_module": "@jupyter-widgets/base",
          "model_name": "LayoutModel",
          "state": {
            "_view_name": "LayoutView",
            "grid_template_rows": null,
            "right": null,
            "justify_content": null,
            "_view_module": "@jupyter-widgets/base",
            "overflow": null,
            "_model_module_version": "1.2.0",
            "_view_count": null,
            "flex_flow": null,
            "width": null,
            "min_width": null,
            "border": null,
            "align_items": null,
            "bottom": null,
            "_model_module": "@jupyter-widgets/base",
            "top": null,
            "grid_column": null,
            "overflow_y": null,
            "overflow_x": null,
            "grid_auto_flow": null,
            "grid_area": null,
            "grid_template_columns": null,
            "flex": null,
            "_model_name": "LayoutModel",
            "justify_items": null,
            "grid_row": null,
            "max_height": null,
            "align_content": null,
            "visibility": null,
            "align_self": null,
            "height": null,
            "min_height": null,
            "padding": null,
            "grid_auto_rows": null,
            "grid_gap": null,
            "max_width": null,
            "order": null,
            "_view_module_version": "1.2.0",
            "grid_template_areas": null,
            "object_position": null,
            "object_fit": null,
            "grid_auto_columns": null,
            "margin": null,
            "display": null,
            "left": null
          }
        },
        "db930830d7e54776b3309eba3c5285d0": {
          "model_module": "@jupyter-widgets/controls",
          "model_name": "DescriptionStyleModel",
          "state": {
            "_view_name": "StyleView",
            "_model_name": "DescriptionStyleModel",
            "description_width": "",
            "_view_module": "@jupyter-widgets/base",
            "_model_module_version": "1.5.0",
            "_view_count": null,
            "_view_module_version": "1.2.0",
            "_model_module": "@jupyter-widgets/controls"
          }
        },
        "81627ddcb966442eada6375b527eed7f": {
          "model_module": "@jupyter-widgets/base",
          "model_name": "LayoutModel",
          "state": {
            "_view_name": "LayoutView",
            "grid_template_rows": null,
            "right": null,
            "justify_content": null,
            "_view_module": "@jupyter-widgets/base",
            "overflow": null,
            "_model_module_version": "1.2.0",
            "_view_count": null,
            "flex_flow": null,
            "width": null,
            "min_width": null,
            "border": null,
            "align_items": null,
            "bottom": null,
            "_model_module": "@jupyter-widgets/base",
            "top": null,
            "grid_column": null,
            "overflow_y": null,
            "overflow_x": null,
            "grid_auto_flow": null,
            "grid_area": null,
            "grid_template_columns": null,
            "flex": null,
            "_model_name": "LayoutModel",
            "justify_items": null,
            "grid_row": null,
            "max_height": null,
            "align_content": null,
            "visibility": null,
            "align_self": null,
            "height": null,
            "min_height": null,
            "padding": null,
            "grid_auto_rows": null,
            "grid_gap": null,
            "max_width": null,
            "order": null,
            "_view_module_version": "1.2.0",
            "grid_template_areas": null,
            "object_position": null,
            "object_fit": null,
            "grid_auto_columns": null,
            "margin": null,
            "display": null,
            "left": null
          }
        },
        "283df5f60bd24976aa652dce7c0ededc": {
          "model_module": "@jupyter-widgets/controls",
          "model_name": "HBoxModel",
          "state": {
            "_view_name": "HBoxView",
            "_dom_classes": [],
            "_model_name": "HBoxModel",
            "_view_module": "@jupyter-widgets/controls",
            "_model_module_version": "1.5.0",
            "_view_count": null,
            "_view_module_version": "1.5.0",
            "box_style": "",
            "layout": "IPY_MODEL_b0bbea1ae6464a14b47253fb1d2b676d",
            "_model_module": "@jupyter-widgets/controls",
            "children": [
              "IPY_MODEL_aa72f5de2a074bc1b7df350c6a08e786",
              "IPY_MODEL_df273d1291174ad7a01f058568ddf4bf"
            ]
          }
        },
        "b0bbea1ae6464a14b47253fb1d2b676d": {
          "model_module": "@jupyter-widgets/base",
          "model_name": "LayoutModel",
          "state": {
            "_view_name": "LayoutView",
            "grid_template_rows": null,
            "right": null,
            "justify_content": null,
            "_view_module": "@jupyter-widgets/base",
            "overflow": null,
            "_model_module_version": "1.2.0",
            "_view_count": null,
            "flex_flow": null,
            "width": null,
            "min_width": null,
            "border": null,
            "align_items": null,
            "bottom": null,
            "_model_module": "@jupyter-widgets/base",
            "top": null,
            "grid_column": null,
            "overflow_y": null,
            "overflow_x": null,
            "grid_auto_flow": null,
            "grid_area": null,
            "grid_template_columns": null,
            "flex": null,
            "_model_name": "LayoutModel",
            "justify_items": null,
            "grid_row": null,
            "max_height": null,
            "align_content": null,
            "visibility": null,
            "align_self": null,
            "height": null,
            "min_height": null,
            "padding": null,
            "grid_auto_rows": null,
            "grid_gap": null,
            "max_width": null,
            "order": null,
            "_view_module_version": "1.2.0",
            "grid_template_areas": null,
            "object_position": null,
            "object_fit": null,
            "grid_auto_columns": null,
            "margin": null,
            "display": null,
            "left": null
          }
        },
        "aa72f5de2a074bc1b7df350c6a08e786": {
          "model_module": "@jupyter-widgets/controls",
          "model_name": "FloatProgressModel",
          "state": {
            "_view_name": "ProgressView",
            "style": "IPY_MODEL_c8f37d9a92544ca3b032306eac16cd07",
            "_dom_classes": [],
            "description": "100%",
            "_model_name": "FloatProgressModel",
            "bar_style": "success",
            "max": 1000,
            "_view_module": "@jupyter-widgets/controls",
            "_model_module_version": "1.5.0",
            "value": 1000,
            "_view_count": null,
            "_view_module_version": "1.5.0",
            "orientation": "horizontal",
            "min": 0,
            "description_tooltip": null,
            "_model_module": "@jupyter-widgets/controls",
            "layout": "IPY_MODEL_e4519c4b28ac403d8abb1890e8c4fbd6"
          }
        },
        "df273d1291174ad7a01f058568ddf4bf": {
          "model_module": "@jupyter-widgets/controls",
          "model_name": "HTMLModel",
          "state": {
            "_view_name": "HTMLView",
            "style": "IPY_MODEL_6370d93c279a4638ae1ebaf28980f205",
            "_dom_classes": [],
            "description": "",
            "_model_name": "HTMLModel",
            "placeholder": "​",
            "_view_module": "@jupyter-widgets/controls",
            "_model_module_version": "1.5.0",
            "value": " 1000/1000 [01:30&lt;00:00, 11.04epoch/s]",
            "_view_count": null,
            "_view_module_version": "1.5.0",
            "description_tooltip": null,
            "_model_module": "@jupyter-widgets/controls",
            "layout": "IPY_MODEL_6a5d9e79deab41179388ae4e40a46920"
          }
        },
        "c8f37d9a92544ca3b032306eac16cd07": {
          "model_module": "@jupyter-widgets/controls",
          "model_name": "ProgressStyleModel",
          "state": {
            "_view_name": "StyleView",
            "_model_name": "ProgressStyleModel",
            "description_width": "initial",
            "_view_module": "@jupyter-widgets/base",
            "_model_module_version": "1.5.0",
            "_view_count": null,
            "_view_module_version": "1.2.0",
            "bar_color": null,
            "_model_module": "@jupyter-widgets/controls"
          }
        },
        "e4519c4b28ac403d8abb1890e8c4fbd6": {
          "model_module": "@jupyter-widgets/base",
          "model_name": "LayoutModel",
          "state": {
            "_view_name": "LayoutView",
            "grid_template_rows": null,
            "right": null,
            "justify_content": null,
            "_view_module": "@jupyter-widgets/base",
            "overflow": null,
            "_model_module_version": "1.2.0",
            "_view_count": null,
            "flex_flow": null,
            "width": null,
            "min_width": null,
            "border": null,
            "align_items": null,
            "bottom": null,
            "_model_module": "@jupyter-widgets/base",
            "top": null,
            "grid_column": null,
            "overflow_y": null,
            "overflow_x": null,
            "grid_auto_flow": null,
            "grid_area": null,
            "grid_template_columns": null,
            "flex": null,
            "_model_name": "LayoutModel",
            "justify_items": null,
            "grid_row": null,
            "max_height": null,
            "align_content": null,
            "visibility": null,
            "align_self": null,
            "height": null,
            "min_height": null,
            "padding": null,
            "grid_auto_rows": null,
            "grid_gap": null,
            "max_width": null,
            "order": null,
            "_view_module_version": "1.2.0",
            "grid_template_areas": null,
            "object_position": null,
            "object_fit": null,
            "grid_auto_columns": null,
            "margin": null,
            "display": null,
            "left": null
          }
        },
        "6370d93c279a4638ae1ebaf28980f205": {
          "model_module": "@jupyter-widgets/controls",
          "model_name": "DescriptionStyleModel",
          "state": {
            "_view_name": "StyleView",
            "_model_name": "DescriptionStyleModel",
            "description_width": "",
            "_view_module": "@jupyter-widgets/base",
            "_model_module_version": "1.5.0",
            "_view_count": null,
            "_view_module_version": "1.2.0",
            "_model_module": "@jupyter-widgets/controls"
          }
        },
        "6a5d9e79deab41179388ae4e40a46920": {
          "model_module": "@jupyter-widgets/base",
          "model_name": "LayoutModel",
          "state": {
            "_view_name": "LayoutView",
            "grid_template_rows": null,
            "right": null,
            "justify_content": null,
            "_view_module": "@jupyter-widgets/base",
            "overflow": null,
            "_model_module_version": "1.2.0",
            "_view_count": null,
            "flex_flow": null,
            "width": null,
            "min_width": null,
            "border": null,
            "align_items": null,
            "bottom": null,
            "_model_module": "@jupyter-widgets/base",
            "top": null,
            "grid_column": null,
            "overflow_y": null,
            "overflow_x": null,
            "grid_auto_flow": null,
            "grid_area": null,
            "grid_template_columns": null,
            "flex": null,
            "_model_name": "LayoutModel",
            "justify_items": null,
            "grid_row": null,
            "max_height": null,
            "align_content": null,
            "visibility": null,
            "align_self": null,
            "height": null,
            "min_height": null,
            "padding": null,
            "grid_auto_rows": null,
            "grid_gap": null,
            "max_width": null,
            "order": null,
            "_view_module_version": "1.2.0",
            "grid_template_areas": null,
            "object_position": null,
            "object_fit": null,
            "grid_auto_columns": null,
            "margin": null,
            "display": null,
            "left": null
          }
        },
        "f994c4d3a1974f3484eb8d2d3a681d26": {
          "model_module": "@jupyter-widgets/controls",
          "model_name": "HBoxModel",
          "state": {
            "_view_name": "HBoxView",
            "_dom_classes": [],
            "_model_name": "HBoxModel",
            "_view_module": "@jupyter-widgets/controls",
            "_model_module_version": "1.5.0",
            "_view_count": null,
            "_view_module_version": "1.5.0",
            "box_style": "",
            "layout": "IPY_MODEL_78ef301776ef41a3b7fb9fbc86d247fc",
            "_model_module": "@jupyter-widgets/controls",
            "children": [
              "IPY_MODEL_4006aef2d8d5445e9dff8c98e4d736cc",
              "IPY_MODEL_7676e909b6fa425f9ba3d472c36d4ea3"
            ]
          }
        },
        "78ef301776ef41a3b7fb9fbc86d247fc": {
          "model_module": "@jupyter-widgets/base",
          "model_name": "LayoutModel",
          "state": {
            "_view_name": "LayoutView",
            "grid_template_rows": null,
            "right": null,
            "justify_content": null,
            "_view_module": "@jupyter-widgets/base",
            "overflow": null,
            "_model_module_version": "1.2.0",
            "_view_count": null,
            "flex_flow": null,
            "width": null,
            "min_width": null,
            "border": null,
            "align_items": null,
            "bottom": null,
            "_model_module": "@jupyter-widgets/base",
            "top": null,
            "grid_column": null,
            "overflow_y": null,
            "overflow_x": null,
            "grid_auto_flow": null,
            "grid_area": null,
            "grid_template_columns": null,
            "flex": null,
            "_model_name": "LayoutModel",
            "justify_items": null,
            "grid_row": null,
            "max_height": null,
            "align_content": null,
            "visibility": null,
            "align_self": null,
            "height": null,
            "min_height": null,
            "padding": null,
            "grid_auto_rows": null,
            "grid_gap": null,
            "max_width": null,
            "order": null,
            "_view_module_version": "1.2.0",
            "grid_template_areas": null,
            "object_position": null,
            "object_fit": null,
            "grid_auto_columns": null,
            "margin": null,
            "display": null,
            "left": null
          }
        },
        "4006aef2d8d5445e9dff8c98e4d736cc": {
          "model_module": "@jupyter-widgets/controls",
          "model_name": "FloatProgressModel",
          "state": {
            "_view_name": "ProgressView",
            "style": "IPY_MODEL_db92d8e57a484a4cb06818b77ac2fcd4",
            "_dom_classes": [],
            "description": "100%",
            "_model_name": "FloatProgressModel",
            "bar_style": "success",
            "max": 1000,
            "_view_module": "@jupyter-widgets/controls",
            "_model_module_version": "1.5.0",
            "value": 1000,
            "_view_count": null,
            "_view_module_version": "1.5.0",
            "orientation": "horizontal",
            "min": 0,
            "description_tooltip": null,
            "_model_module": "@jupyter-widgets/controls",
            "layout": "IPY_MODEL_e62b6b57003244b5945605d379fbb13e"
          }
        },
        "7676e909b6fa425f9ba3d472c36d4ea3": {
          "model_module": "@jupyter-widgets/controls",
          "model_name": "HTMLModel",
          "state": {
            "_view_name": "HTMLView",
            "style": "IPY_MODEL_dcd58ad271fd44f69dc945975cfc737e",
            "_dom_classes": [],
            "description": "",
            "_model_name": "HTMLModel",
            "placeholder": "​",
            "_view_module": "@jupyter-widgets/controls",
            "_model_module_version": "1.5.0",
            "value": " 1000/1000 [00:45&lt;00:00, 22.10epoch/s]",
            "_view_count": null,
            "_view_module_version": "1.5.0",
            "description_tooltip": null,
            "_model_module": "@jupyter-widgets/controls",
            "layout": "IPY_MODEL_852a57b1a719419c9d0893da917c6567"
          }
        },
        "db92d8e57a484a4cb06818b77ac2fcd4": {
          "model_module": "@jupyter-widgets/controls",
          "model_name": "ProgressStyleModel",
          "state": {
            "_view_name": "StyleView",
            "_model_name": "ProgressStyleModel",
            "description_width": "initial",
            "_view_module": "@jupyter-widgets/base",
            "_model_module_version": "1.5.0",
            "_view_count": null,
            "_view_module_version": "1.2.0",
            "bar_color": null,
            "_model_module": "@jupyter-widgets/controls"
          }
        },
        "e62b6b57003244b5945605d379fbb13e": {
          "model_module": "@jupyter-widgets/base",
          "model_name": "LayoutModel",
          "state": {
            "_view_name": "LayoutView",
            "grid_template_rows": null,
            "right": null,
            "justify_content": null,
            "_view_module": "@jupyter-widgets/base",
            "overflow": null,
            "_model_module_version": "1.2.0",
            "_view_count": null,
            "flex_flow": null,
            "width": null,
            "min_width": null,
            "border": null,
            "align_items": null,
            "bottom": null,
            "_model_module": "@jupyter-widgets/base",
            "top": null,
            "grid_column": null,
            "overflow_y": null,
            "overflow_x": null,
            "grid_auto_flow": null,
            "grid_area": null,
            "grid_template_columns": null,
            "flex": null,
            "_model_name": "LayoutModel",
            "justify_items": null,
            "grid_row": null,
            "max_height": null,
            "align_content": null,
            "visibility": null,
            "align_self": null,
            "height": null,
            "min_height": null,
            "padding": null,
            "grid_auto_rows": null,
            "grid_gap": null,
            "max_width": null,
            "order": null,
            "_view_module_version": "1.2.0",
            "grid_template_areas": null,
            "object_position": null,
            "object_fit": null,
            "grid_auto_columns": null,
            "margin": null,
            "display": null,
            "left": null
          }
        },
        "dcd58ad271fd44f69dc945975cfc737e": {
          "model_module": "@jupyter-widgets/controls",
          "model_name": "DescriptionStyleModel",
          "state": {
            "_view_name": "StyleView",
            "_model_name": "DescriptionStyleModel",
            "description_width": "",
            "_view_module": "@jupyter-widgets/base",
            "_model_module_version": "1.5.0",
            "_view_count": null,
            "_view_module_version": "1.2.0",
            "_model_module": "@jupyter-widgets/controls"
          }
        },
        "852a57b1a719419c9d0893da917c6567": {
          "model_module": "@jupyter-widgets/base",
          "model_name": "LayoutModel",
          "state": {
            "_view_name": "LayoutView",
            "grid_template_rows": null,
            "right": null,
            "justify_content": null,
            "_view_module": "@jupyter-widgets/base",
            "overflow": null,
            "_model_module_version": "1.2.0",
            "_view_count": null,
            "flex_flow": null,
            "width": null,
            "min_width": null,
            "border": null,
            "align_items": null,
            "bottom": null,
            "_model_module": "@jupyter-widgets/base",
            "top": null,
            "grid_column": null,
            "overflow_y": null,
            "overflow_x": null,
            "grid_auto_flow": null,
            "grid_area": null,
            "grid_template_columns": null,
            "flex": null,
            "_model_name": "LayoutModel",
            "justify_items": null,
            "grid_row": null,
            "max_height": null,
            "align_content": null,
            "visibility": null,
            "align_self": null,
            "height": null,
            "min_height": null,
            "padding": null,
            "grid_auto_rows": null,
            "grid_gap": null,
            "max_width": null,
            "order": null,
            "_view_module_version": "1.2.0",
            "grid_template_areas": null,
            "object_position": null,
            "object_fit": null,
            "grid_auto_columns": null,
            "margin": null,
            "display": null,
            "left": null
          }
        },
        "6665dfc61c994ee2a1abb9c36ec47d89": {
          "model_module": "@jupyter-widgets/controls",
          "model_name": "HBoxModel",
          "state": {
            "_view_name": "HBoxView",
            "_dom_classes": [],
            "_model_name": "HBoxModel",
            "_view_module": "@jupyter-widgets/controls",
            "_model_module_version": "1.5.0",
            "_view_count": null,
            "_view_module_version": "1.5.0",
            "box_style": "",
            "layout": "IPY_MODEL_e40a482c43b3424b9b9194d38e9f307c",
            "_model_module": "@jupyter-widgets/controls",
            "children": [
              "IPY_MODEL_48ec5f423cff41169d954c66abdc9253",
              "IPY_MODEL_0d5bec1b55e348b989bf0e98cbcbffe2"
            ]
          }
        },
        "e40a482c43b3424b9b9194d38e9f307c": {
          "model_module": "@jupyter-widgets/base",
          "model_name": "LayoutModel",
          "state": {
            "_view_name": "LayoutView",
            "grid_template_rows": null,
            "right": null,
            "justify_content": null,
            "_view_module": "@jupyter-widgets/base",
            "overflow": null,
            "_model_module_version": "1.2.0",
            "_view_count": null,
            "flex_flow": null,
            "width": null,
            "min_width": null,
            "border": null,
            "align_items": null,
            "bottom": null,
            "_model_module": "@jupyter-widgets/base",
            "top": null,
            "grid_column": null,
            "overflow_y": null,
            "overflow_x": null,
            "grid_auto_flow": null,
            "grid_area": null,
            "grid_template_columns": null,
            "flex": null,
            "_model_name": "LayoutModel",
            "justify_items": null,
            "grid_row": null,
            "max_height": null,
            "align_content": null,
            "visibility": null,
            "align_self": null,
            "height": null,
            "min_height": null,
            "padding": null,
            "grid_auto_rows": null,
            "grid_gap": null,
            "max_width": null,
            "order": null,
            "_view_module_version": "1.2.0",
            "grid_template_areas": null,
            "object_position": null,
            "object_fit": null,
            "grid_auto_columns": null,
            "margin": null,
            "display": null,
            "left": null
          }
        },
        "48ec5f423cff41169d954c66abdc9253": {
          "model_module": "@jupyter-widgets/controls",
          "model_name": "FloatProgressModel",
          "state": {
            "_view_name": "ProgressView",
            "style": "IPY_MODEL_c37aea9b3ee4483a8318ee8251fc2152",
            "_dom_classes": [],
            "description": "100%",
            "_model_name": "FloatProgressModel",
            "bar_style": "success",
            "max": 1000,
            "_view_module": "@jupyter-widgets/controls",
            "_model_module_version": "1.5.0",
            "value": 1000,
            "_view_count": null,
            "_view_module_version": "1.5.0",
            "orientation": "horizontal",
            "min": 0,
            "description_tooltip": null,
            "_model_module": "@jupyter-widgets/controls",
            "layout": "IPY_MODEL_06af6cf952f04213987f2c9dafe088ae"
          }
        },
        "0d5bec1b55e348b989bf0e98cbcbffe2": {
          "model_module": "@jupyter-widgets/controls",
          "model_name": "HTMLModel",
          "state": {
            "_view_name": "HTMLView",
            "style": "IPY_MODEL_e545dd7134244fdab56bd87942a910cf",
            "_dom_classes": [],
            "description": "",
            "_model_name": "HTMLModel",
            "placeholder": "​",
            "_view_module": "@jupyter-widgets/controls",
            "_model_module_version": "1.5.0",
            "value": " 1000/1000 [00:43&lt;00:00, 22.77epoch/s]",
            "_view_count": null,
            "_view_module_version": "1.5.0",
            "description_tooltip": null,
            "_model_module": "@jupyter-widgets/controls",
            "layout": "IPY_MODEL_fbe1f423e7ac4518838cbee8689c7bbb"
          }
        },
        "c37aea9b3ee4483a8318ee8251fc2152": {
          "model_module": "@jupyter-widgets/controls",
          "model_name": "ProgressStyleModel",
          "state": {
            "_view_name": "StyleView",
            "_model_name": "ProgressStyleModel",
            "description_width": "initial",
            "_view_module": "@jupyter-widgets/base",
            "_model_module_version": "1.5.0",
            "_view_count": null,
            "_view_module_version": "1.2.0",
            "bar_color": null,
            "_model_module": "@jupyter-widgets/controls"
          }
        },
        "06af6cf952f04213987f2c9dafe088ae": {
          "model_module": "@jupyter-widgets/base",
          "model_name": "LayoutModel",
          "state": {
            "_view_name": "LayoutView",
            "grid_template_rows": null,
            "right": null,
            "justify_content": null,
            "_view_module": "@jupyter-widgets/base",
            "overflow": null,
            "_model_module_version": "1.2.0",
            "_view_count": null,
            "flex_flow": null,
            "width": null,
            "min_width": null,
            "border": null,
            "align_items": null,
            "bottom": null,
            "_model_module": "@jupyter-widgets/base",
            "top": null,
            "grid_column": null,
            "overflow_y": null,
            "overflow_x": null,
            "grid_auto_flow": null,
            "grid_area": null,
            "grid_template_columns": null,
            "flex": null,
            "_model_name": "LayoutModel",
            "justify_items": null,
            "grid_row": null,
            "max_height": null,
            "align_content": null,
            "visibility": null,
            "align_self": null,
            "height": null,
            "min_height": null,
            "padding": null,
            "grid_auto_rows": null,
            "grid_gap": null,
            "max_width": null,
            "order": null,
            "_view_module_version": "1.2.0",
            "grid_template_areas": null,
            "object_position": null,
            "object_fit": null,
            "grid_auto_columns": null,
            "margin": null,
            "display": null,
            "left": null
          }
        },
        "e545dd7134244fdab56bd87942a910cf": {
          "model_module": "@jupyter-widgets/controls",
          "model_name": "DescriptionStyleModel",
          "state": {
            "_view_name": "StyleView",
            "_model_name": "DescriptionStyleModel",
            "description_width": "",
            "_view_module": "@jupyter-widgets/base",
            "_model_module_version": "1.5.0",
            "_view_count": null,
            "_view_module_version": "1.2.0",
            "_model_module": "@jupyter-widgets/controls"
          }
        },
        "fbe1f423e7ac4518838cbee8689c7bbb": {
          "model_module": "@jupyter-widgets/base",
          "model_name": "LayoutModel",
          "state": {
            "_view_name": "LayoutView",
            "grid_template_rows": null,
            "right": null,
            "justify_content": null,
            "_view_module": "@jupyter-widgets/base",
            "overflow": null,
            "_model_module_version": "1.2.0",
            "_view_count": null,
            "flex_flow": null,
            "width": null,
            "min_width": null,
            "border": null,
            "align_items": null,
            "bottom": null,
            "_model_module": "@jupyter-widgets/base",
            "top": null,
            "grid_column": null,
            "overflow_y": null,
            "overflow_x": null,
            "grid_auto_flow": null,
            "grid_area": null,
            "grid_template_columns": null,
            "flex": null,
            "_model_name": "LayoutModel",
            "justify_items": null,
            "grid_row": null,
            "max_height": null,
            "align_content": null,
            "visibility": null,
            "align_self": null,
            "height": null,
            "min_height": null,
            "padding": null,
            "grid_auto_rows": null,
            "grid_gap": null,
            "max_width": null,
            "order": null,
            "_view_module_version": "1.2.0",
            "grid_template_areas": null,
            "object_position": null,
            "object_fit": null,
            "grid_auto_columns": null,
            "margin": null,
            "display": null,
            "left": null
          }
        },
        "c4f80dd0613d420fa6f7475e2d2a30f3": {
          "model_module": "@jupyter-widgets/controls",
          "model_name": "HBoxModel",
          "state": {
            "_view_name": "HBoxView",
            "_dom_classes": [],
            "_model_name": "HBoxModel",
            "_view_module": "@jupyter-widgets/controls",
            "_model_module_version": "1.5.0",
            "_view_count": null,
            "_view_module_version": "1.5.0",
            "box_style": "",
            "layout": "IPY_MODEL_256256222d2a4ab49895bb4ed9e7c038",
            "_model_module": "@jupyter-widgets/controls",
            "children": [
              "IPY_MODEL_b570c61142884ad4b4701154c82a54e5",
              "IPY_MODEL_8e736c3802ed43d39388ecc7abe6cb5c"
            ]
          }
        },
        "256256222d2a4ab49895bb4ed9e7c038": {
          "model_module": "@jupyter-widgets/base",
          "model_name": "LayoutModel",
          "state": {
            "_view_name": "LayoutView",
            "grid_template_rows": null,
            "right": null,
            "justify_content": null,
            "_view_module": "@jupyter-widgets/base",
            "overflow": null,
            "_model_module_version": "1.2.0",
            "_view_count": null,
            "flex_flow": null,
            "width": null,
            "min_width": null,
            "border": null,
            "align_items": null,
            "bottom": null,
            "_model_module": "@jupyter-widgets/base",
            "top": null,
            "grid_column": null,
            "overflow_y": null,
            "overflow_x": null,
            "grid_auto_flow": null,
            "grid_area": null,
            "grid_template_columns": null,
            "flex": null,
            "_model_name": "LayoutModel",
            "justify_items": null,
            "grid_row": null,
            "max_height": null,
            "align_content": null,
            "visibility": null,
            "align_self": null,
            "height": null,
            "min_height": null,
            "padding": null,
            "grid_auto_rows": null,
            "grid_gap": null,
            "max_width": null,
            "order": null,
            "_view_module_version": "1.2.0",
            "grid_template_areas": null,
            "object_position": null,
            "object_fit": null,
            "grid_auto_columns": null,
            "margin": null,
            "display": null,
            "left": null
          }
        },
        "b570c61142884ad4b4701154c82a54e5": {
          "model_module": "@jupyter-widgets/controls",
          "model_name": "FloatProgressModel",
          "state": {
            "_view_name": "ProgressView",
            "style": "IPY_MODEL_50c05492eb5a41ff94ae54928952c99a",
            "_dom_classes": [],
            "description": "100%",
            "_model_name": "FloatProgressModel",
            "bar_style": "success",
            "max": 1000,
            "_view_module": "@jupyter-widgets/controls",
            "_model_module_version": "1.5.0",
            "value": 1000,
            "_view_count": null,
            "_view_module_version": "1.5.0",
            "orientation": "horizontal",
            "min": 0,
            "description_tooltip": null,
            "_model_module": "@jupyter-widgets/controls",
            "layout": "IPY_MODEL_466c51d532db429eb62a363d67a98ab9"
          }
        },
        "8e736c3802ed43d39388ecc7abe6cb5c": {
          "model_module": "@jupyter-widgets/controls",
          "model_name": "HTMLModel",
          "state": {
            "_view_name": "HTMLView",
            "style": "IPY_MODEL_9ebfdbc9c45d48f49cdc649806705ff7",
            "_dom_classes": [],
            "description": "",
            "_model_name": "HTMLModel",
            "placeholder": "​",
            "_view_module": "@jupyter-widgets/controls",
            "_model_module_version": "1.5.0",
            "value": " 1000/1000 [00:46&lt;00:00, 21.41epoch/s]",
            "_view_count": null,
            "_view_module_version": "1.5.0",
            "description_tooltip": null,
            "_model_module": "@jupyter-widgets/controls",
            "layout": "IPY_MODEL_0df304964d6f472ba983c0ec34597ef5"
          }
        },
        "50c05492eb5a41ff94ae54928952c99a": {
          "model_module": "@jupyter-widgets/controls",
          "model_name": "ProgressStyleModel",
          "state": {
            "_view_name": "StyleView",
            "_model_name": "ProgressStyleModel",
            "description_width": "initial",
            "_view_module": "@jupyter-widgets/base",
            "_model_module_version": "1.5.0",
            "_view_count": null,
            "_view_module_version": "1.2.0",
            "bar_color": null,
            "_model_module": "@jupyter-widgets/controls"
          }
        },
        "466c51d532db429eb62a363d67a98ab9": {
          "model_module": "@jupyter-widgets/base",
          "model_name": "LayoutModel",
          "state": {
            "_view_name": "LayoutView",
            "grid_template_rows": null,
            "right": null,
            "justify_content": null,
            "_view_module": "@jupyter-widgets/base",
            "overflow": null,
            "_model_module_version": "1.2.0",
            "_view_count": null,
            "flex_flow": null,
            "width": null,
            "min_width": null,
            "border": null,
            "align_items": null,
            "bottom": null,
            "_model_module": "@jupyter-widgets/base",
            "top": null,
            "grid_column": null,
            "overflow_y": null,
            "overflow_x": null,
            "grid_auto_flow": null,
            "grid_area": null,
            "grid_template_columns": null,
            "flex": null,
            "_model_name": "LayoutModel",
            "justify_items": null,
            "grid_row": null,
            "max_height": null,
            "align_content": null,
            "visibility": null,
            "align_self": null,
            "height": null,
            "min_height": null,
            "padding": null,
            "grid_auto_rows": null,
            "grid_gap": null,
            "max_width": null,
            "order": null,
            "_view_module_version": "1.2.0",
            "grid_template_areas": null,
            "object_position": null,
            "object_fit": null,
            "grid_auto_columns": null,
            "margin": null,
            "display": null,
            "left": null
          }
        },
        "9ebfdbc9c45d48f49cdc649806705ff7": {
          "model_module": "@jupyter-widgets/controls",
          "model_name": "DescriptionStyleModel",
          "state": {
            "_view_name": "StyleView",
            "_model_name": "DescriptionStyleModel",
            "description_width": "",
            "_view_module": "@jupyter-widgets/base",
            "_model_module_version": "1.5.0",
            "_view_count": null,
            "_view_module_version": "1.2.0",
            "_model_module": "@jupyter-widgets/controls"
          }
        },
        "0df304964d6f472ba983c0ec34597ef5": {
          "model_module": "@jupyter-widgets/base",
          "model_name": "LayoutModel",
          "state": {
            "_view_name": "LayoutView",
            "grid_template_rows": null,
            "right": null,
            "justify_content": null,
            "_view_module": "@jupyter-widgets/base",
            "overflow": null,
            "_model_module_version": "1.2.0",
            "_view_count": null,
            "flex_flow": null,
            "width": null,
            "min_width": null,
            "border": null,
            "align_items": null,
            "bottom": null,
            "_model_module": "@jupyter-widgets/base",
            "top": null,
            "grid_column": null,
            "overflow_y": null,
            "overflow_x": null,
            "grid_auto_flow": null,
            "grid_area": null,
            "grid_template_columns": null,
            "flex": null,
            "_model_name": "LayoutModel",
            "justify_items": null,
            "grid_row": null,
            "max_height": null,
            "align_content": null,
            "visibility": null,
            "align_self": null,
            "height": null,
            "min_height": null,
            "padding": null,
            "grid_auto_rows": null,
            "grid_gap": null,
            "max_width": null,
            "order": null,
            "_view_module_version": "1.2.0",
            "grid_template_areas": null,
            "object_position": null,
            "object_fit": null,
            "grid_auto_columns": null,
            "margin": null,
            "display": null,
            "left": null
          }
        },
        "164cd81e7a5946248f8802c1cf3ed08c": {
          "model_module": "@jupyter-widgets/controls",
          "model_name": "HBoxModel",
          "state": {
            "_view_name": "HBoxView",
            "_dom_classes": [],
            "_model_name": "HBoxModel",
            "_view_module": "@jupyter-widgets/controls",
            "_model_module_version": "1.5.0",
            "_view_count": null,
            "_view_module_version": "1.5.0",
            "box_style": "",
            "layout": "IPY_MODEL_6fc950e6f5bf4662b3935bc69d97372f",
            "_model_module": "@jupyter-widgets/controls",
            "children": [
              "IPY_MODEL_2d228424a6534fd2a0fb2b602c8579c9",
              "IPY_MODEL_c9927edc09664ec8a19d798ab5a4caa4"
            ]
          }
        },
        "6fc950e6f5bf4662b3935bc69d97372f": {
          "model_module": "@jupyter-widgets/base",
          "model_name": "LayoutModel",
          "state": {
            "_view_name": "LayoutView",
            "grid_template_rows": null,
            "right": null,
            "justify_content": null,
            "_view_module": "@jupyter-widgets/base",
            "overflow": null,
            "_model_module_version": "1.2.0",
            "_view_count": null,
            "flex_flow": null,
            "width": null,
            "min_width": null,
            "border": null,
            "align_items": null,
            "bottom": null,
            "_model_module": "@jupyter-widgets/base",
            "top": null,
            "grid_column": null,
            "overflow_y": null,
            "overflow_x": null,
            "grid_auto_flow": null,
            "grid_area": null,
            "grid_template_columns": null,
            "flex": null,
            "_model_name": "LayoutModel",
            "justify_items": null,
            "grid_row": null,
            "max_height": null,
            "align_content": null,
            "visibility": null,
            "align_self": null,
            "height": null,
            "min_height": null,
            "padding": null,
            "grid_auto_rows": null,
            "grid_gap": null,
            "max_width": null,
            "order": null,
            "_view_module_version": "1.2.0",
            "grid_template_areas": null,
            "object_position": null,
            "object_fit": null,
            "grid_auto_columns": null,
            "margin": null,
            "display": null,
            "left": null
          }
        },
        "2d228424a6534fd2a0fb2b602c8579c9": {
          "model_module": "@jupyter-widgets/controls",
          "model_name": "FloatProgressModel",
          "state": {
            "_view_name": "ProgressView",
            "style": "IPY_MODEL_00dfcd2029a9413fae7face557368222",
            "_dom_classes": [],
            "description": "100%",
            "_model_name": "FloatProgressModel",
            "bar_style": "success",
            "max": 1000,
            "_view_module": "@jupyter-widgets/controls",
            "_model_module_version": "1.5.0",
            "value": 1000,
            "_view_count": null,
            "_view_module_version": "1.5.0",
            "orientation": "horizontal",
            "min": 0,
            "description_tooltip": null,
            "_model_module": "@jupyter-widgets/controls",
            "layout": "IPY_MODEL_64ba1e3dba7c4b669ae5fc04123c2e19"
          }
        },
        "c9927edc09664ec8a19d798ab5a4caa4": {
          "model_module": "@jupyter-widgets/controls",
          "model_name": "HTMLModel",
          "state": {
            "_view_name": "HTMLView",
            "style": "IPY_MODEL_d5496fd2357a442fb51e076937e1c585",
            "_dom_classes": [],
            "description": "",
            "_model_name": "HTMLModel",
            "placeholder": "​",
            "_view_module": "@jupyter-widgets/controls",
            "_model_module_version": "1.5.0",
            "value": " 1000/1000 [00:43&lt;00:00, 23.05epoch/s]",
            "_view_count": null,
            "_view_module_version": "1.5.0",
            "description_tooltip": null,
            "_model_module": "@jupyter-widgets/controls",
            "layout": "IPY_MODEL_f8abb2b903134105b3cab154686cfc63"
          }
        },
        "00dfcd2029a9413fae7face557368222": {
          "model_module": "@jupyter-widgets/controls",
          "model_name": "ProgressStyleModel",
          "state": {
            "_view_name": "StyleView",
            "_model_name": "ProgressStyleModel",
            "description_width": "initial",
            "_view_module": "@jupyter-widgets/base",
            "_model_module_version": "1.5.0",
            "_view_count": null,
            "_view_module_version": "1.2.0",
            "bar_color": null,
            "_model_module": "@jupyter-widgets/controls"
          }
        },
        "64ba1e3dba7c4b669ae5fc04123c2e19": {
          "model_module": "@jupyter-widgets/base",
          "model_name": "LayoutModel",
          "state": {
            "_view_name": "LayoutView",
            "grid_template_rows": null,
            "right": null,
            "justify_content": null,
            "_view_module": "@jupyter-widgets/base",
            "overflow": null,
            "_model_module_version": "1.2.0",
            "_view_count": null,
            "flex_flow": null,
            "width": null,
            "min_width": null,
            "border": null,
            "align_items": null,
            "bottom": null,
            "_model_module": "@jupyter-widgets/base",
            "top": null,
            "grid_column": null,
            "overflow_y": null,
            "overflow_x": null,
            "grid_auto_flow": null,
            "grid_area": null,
            "grid_template_columns": null,
            "flex": null,
            "_model_name": "LayoutModel",
            "justify_items": null,
            "grid_row": null,
            "max_height": null,
            "align_content": null,
            "visibility": null,
            "align_self": null,
            "height": null,
            "min_height": null,
            "padding": null,
            "grid_auto_rows": null,
            "grid_gap": null,
            "max_width": null,
            "order": null,
            "_view_module_version": "1.2.0",
            "grid_template_areas": null,
            "object_position": null,
            "object_fit": null,
            "grid_auto_columns": null,
            "margin": null,
            "display": null,
            "left": null
          }
        },
        "d5496fd2357a442fb51e076937e1c585": {
          "model_module": "@jupyter-widgets/controls",
          "model_name": "DescriptionStyleModel",
          "state": {
            "_view_name": "StyleView",
            "_model_name": "DescriptionStyleModel",
            "description_width": "",
            "_view_module": "@jupyter-widgets/base",
            "_model_module_version": "1.5.0",
            "_view_count": null,
            "_view_module_version": "1.2.0",
            "_model_module": "@jupyter-widgets/controls"
          }
        },
        "f8abb2b903134105b3cab154686cfc63": {
          "model_module": "@jupyter-widgets/base",
          "model_name": "LayoutModel",
          "state": {
            "_view_name": "LayoutView",
            "grid_template_rows": null,
            "right": null,
            "justify_content": null,
            "_view_module": "@jupyter-widgets/base",
            "overflow": null,
            "_model_module_version": "1.2.0",
            "_view_count": null,
            "flex_flow": null,
            "width": null,
            "min_width": null,
            "border": null,
            "align_items": null,
            "bottom": null,
            "_model_module": "@jupyter-widgets/base",
            "top": null,
            "grid_column": null,
            "overflow_y": null,
            "overflow_x": null,
            "grid_auto_flow": null,
            "grid_area": null,
            "grid_template_columns": null,
            "flex": null,
            "_model_name": "LayoutModel",
            "justify_items": null,
            "grid_row": null,
            "max_height": null,
            "align_content": null,
            "visibility": null,
            "align_self": null,
            "height": null,
            "min_height": null,
            "padding": null,
            "grid_auto_rows": null,
            "grid_gap": null,
            "max_width": null,
            "order": null,
            "_view_module_version": "1.2.0",
            "grid_template_areas": null,
            "object_position": null,
            "object_fit": null,
            "grid_auto_columns": null,
            "margin": null,
            "display": null,
            "left": null
          }
        },
        "63114db02d1e44e49cdca1afc32b3f27": {
          "model_module": "@jupyter-widgets/controls",
          "model_name": "HBoxModel",
          "state": {
            "_view_name": "HBoxView",
            "_dom_classes": [],
            "_model_name": "HBoxModel",
            "_view_module": "@jupyter-widgets/controls",
            "_model_module_version": "1.5.0",
            "_view_count": null,
            "_view_module_version": "1.5.0",
            "box_style": "",
            "layout": "IPY_MODEL_435c4e8dd37b4660855039d62ae527e3",
            "_model_module": "@jupyter-widgets/controls",
            "children": [
              "IPY_MODEL_9f6406c889734d438efe505a3203cc63",
              "IPY_MODEL_84c9c0b40a154d74a08f845ae58622ce"
            ]
          }
        },
        "435c4e8dd37b4660855039d62ae527e3": {
          "model_module": "@jupyter-widgets/base",
          "model_name": "LayoutModel",
          "state": {
            "_view_name": "LayoutView",
            "grid_template_rows": null,
            "right": null,
            "justify_content": null,
            "_view_module": "@jupyter-widgets/base",
            "overflow": null,
            "_model_module_version": "1.2.0",
            "_view_count": null,
            "flex_flow": null,
            "width": null,
            "min_width": null,
            "border": null,
            "align_items": null,
            "bottom": null,
            "_model_module": "@jupyter-widgets/base",
            "top": null,
            "grid_column": null,
            "overflow_y": null,
            "overflow_x": null,
            "grid_auto_flow": null,
            "grid_area": null,
            "grid_template_columns": null,
            "flex": null,
            "_model_name": "LayoutModel",
            "justify_items": null,
            "grid_row": null,
            "max_height": null,
            "align_content": null,
            "visibility": null,
            "align_self": null,
            "height": null,
            "min_height": null,
            "padding": null,
            "grid_auto_rows": null,
            "grid_gap": null,
            "max_width": null,
            "order": null,
            "_view_module_version": "1.2.0",
            "grid_template_areas": null,
            "object_position": null,
            "object_fit": null,
            "grid_auto_columns": null,
            "margin": null,
            "display": null,
            "left": null
          }
        },
        "9f6406c889734d438efe505a3203cc63": {
          "model_module": "@jupyter-widgets/controls",
          "model_name": "FloatProgressModel",
          "state": {
            "_view_name": "ProgressView",
            "style": "IPY_MODEL_4aae8d2261e24bdf835ff839bb50d35a",
            "_dom_classes": [],
            "description": "100%",
            "_model_name": "FloatProgressModel",
            "bar_style": "success",
            "max": 1000,
            "_view_module": "@jupyter-widgets/controls",
            "_model_module_version": "1.5.0",
            "value": 1000,
            "_view_count": null,
            "_view_module_version": "1.5.0",
            "orientation": "horizontal",
            "min": 0,
            "description_tooltip": null,
            "_model_module": "@jupyter-widgets/controls",
            "layout": "IPY_MODEL_b6730b8d99e740068b46a3ba9777da70"
          }
        },
        "84c9c0b40a154d74a08f845ae58622ce": {
          "model_module": "@jupyter-widgets/controls",
          "model_name": "HTMLModel",
          "state": {
            "_view_name": "HTMLView",
            "style": "IPY_MODEL_c8bc7c81ec824fe499f48769a0b45119",
            "_dom_classes": [],
            "description": "",
            "_model_name": "HTMLModel",
            "placeholder": "​",
            "_view_module": "@jupyter-widgets/controls",
            "_model_module_version": "1.5.0",
            "value": " 1000/1000 [00:46&lt;00:00, 21.29epoch/s]",
            "_view_count": null,
            "_view_module_version": "1.5.0",
            "description_tooltip": null,
            "_model_module": "@jupyter-widgets/controls",
            "layout": "IPY_MODEL_319438d29b1b47ec88ca7f78a6d80de6"
          }
        },
        "4aae8d2261e24bdf835ff839bb50d35a": {
          "model_module": "@jupyter-widgets/controls",
          "model_name": "ProgressStyleModel",
          "state": {
            "_view_name": "StyleView",
            "_model_name": "ProgressStyleModel",
            "description_width": "initial",
            "_view_module": "@jupyter-widgets/base",
            "_model_module_version": "1.5.0",
            "_view_count": null,
            "_view_module_version": "1.2.0",
            "bar_color": null,
            "_model_module": "@jupyter-widgets/controls"
          }
        },
        "b6730b8d99e740068b46a3ba9777da70": {
          "model_module": "@jupyter-widgets/base",
          "model_name": "LayoutModel",
          "state": {
            "_view_name": "LayoutView",
            "grid_template_rows": null,
            "right": null,
            "justify_content": null,
            "_view_module": "@jupyter-widgets/base",
            "overflow": null,
            "_model_module_version": "1.2.0",
            "_view_count": null,
            "flex_flow": null,
            "width": null,
            "min_width": null,
            "border": null,
            "align_items": null,
            "bottom": null,
            "_model_module": "@jupyter-widgets/base",
            "top": null,
            "grid_column": null,
            "overflow_y": null,
            "overflow_x": null,
            "grid_auto_flow": null,
            "grid_area": null,
            "grid_template_columns": null,
            "flex": null,
            "_model_name": "LayoutModel",
            "justify_items": null,
            "grid_row": null,
            "max_height": null,
            "align_content": null,
            "visibility": null,
            "align_self": null,
            "height": null,
            "min_height": null,
            "padding": null,
            "grid_auto_rows": null,
            "grid_gap": null,
            "max_width": null,
            "order": null,
            "_view_module_version": "1.2.0",
            "grid_template_areas": null,
            "object_position": null,
            "object_fit": null,
            "grid_auto_columns": null,
            "margin": null,
            "display": null,
            "left": null
          }
        },
        "c8bc7c81ec824fe499f48769a0b45119": {
          "model_module": "@jupyter-widgets/controls",
          "model_name": "DescriptionStyleModel",
          "state": {
            "_view_name": "StyleView",
            "_model_name": "DescriptionStyleModel",
            "description_width": "",
            "_view_module": "@jupyter-widgets/base",
            "_model_module_version": "1.5.0",
            "_view_count": null,
            "_view_module_version": "1.2.0",
            "_model_module": "@jupyter-widgets/controls"
          }
        },
        "319438d29b1b47ec88ca7f78a6d80de6": {
          "model_module": "@jupyter-widgets/base",
          "model_name": "LayoutModel",
          "state": {
            "_view_name": "LayoutView",
            "grid_template_rows": null,
            "right": null,
            "justify_content": null,
            "_view_module": "@jupyter-widgets/base",
            "overflow": null,
            "_model_module_version": "1.2.0",
            "_view_count": null,
            "flex_flow": null,
            "width": null,
            "min_width": null,
            "border": null,
            "align_items": null,
            "bottom": null,
            "_model_module": "@jupyter-widgets/base",
            "top": null,
            "grid_column": null,
            "overflow_y": null,
            "overflow_x": null,
            "grid_auto_flow": null,
            "grid_area": null,
            "grid_template_columns": null,
            "flex": null,
            "_model_name": "LayoutModel",
            "justify_items": null,
            "grid_row": null,
            "max_height": null,
            "align_content": null,
            "visibility": null,
            "align_self": null,
            "height": null,
            "min_height": null,
            "padding": null,
            "grid_auto_rows": null,
            "grid_gap": null,
            "max_width": null,
            "order": null,
            "_view_module_version": "1.2.0",
            "grid_template_areas": null,
            "object_position": null,
            "object_fit": null,
            "grid_auto_columns": null,
            "margin": null,
            "display": null,
            "left": null
          }
        },
        "65b20ec9136a44a6badc3531aa20eaee": {
          "model_module": "@jupyter-widgets/controls",
          "model_name": "HBoxModel",
          "state": {
            "_view_name": "HBoxView",
            "_dom_classes": [],
            "_model_name": "HBoxModel",
            "_view_module": "@jupyter-widgets/controls",
            "_model_module_version": "1.5.0",
            "_view_count": null,
            "_view_module_version": "1.5.0",
            "box_style": "",
            "layout": "IPY_MODEL_a281d9259a42409d91ac6dfcf6755d53",
            "_model_module": "@jupyter-widgets/controls",
            "children": [
              "IPY_MODEL_769de6027ec648b9adef1d7f783edcc4",
              "IPY_MODEL_9884bb413b7a4c84bf06ac88bbce8ddd"
            ]
          }
        },
        "a281d9259a42409d91ac6dfcf6755d53": {
          "model_module": "@jupyter-widgets/base",
          "model_name": "LayoutModel",
          "state": {
            "_view_name": "LayoutView",
            "grid_template_rows": null,
            "right": null,
            "justify_content": null,
            "_view_module": "@jupyter-widgets/base",
            "overflow": null,
            "_model_module_version": "1.2.0",
            "_view_count": null,
            "flex_flow": null,
            "width": null,
            "min_width": null,
            "border": null,
            "align_items": null,
            "bottom": null,
            "_model_module": "@jupyter-widgets/base",
            "top": null,
            "grid_column": null,
            "overflow_y": null,
            "overflow_x": null,
            "grid_auto_flow": null,
            "grid_area": null,
            "grid_template_columns": null,
            "flex": null,
            "_model_name": "LayoutModel",
            "justify_items": null,
            "grid_row": null,
            "max_height": null,
            "align_content": null,
            "visibility": null,
            "align_self": null,
            "height": null,
            "min_height": null,
            "padding": null,
            "grid_auto_rows": null,
            "grid_gap": null,
            "max_width": null,
            "order": null,
            "_view_module_version": "1.2.0",
            "grid_template_areas": null,
            "object_position": null,
            "object_fit": null,
            "grid_auto_columns": null,
            "margin": null,
            "display": null,
            "left": null
          }
        },
        "769de6027ec648b9adef1d7f783edcc4": {
          "model_module": "@jupyter-widgets/controls",
          "model_name": "FloatProgressModel",
          "state": {
            "_view_name": "ProgressView",
            "style": "IPY_MODEL_a6bd23a0e7fe478ea2dcbc1dd18f95a1",
            "_dom_classes": [],
            "description": "100%",
            "_model_name": "FloatProgressModel",
            "bar_style": "success",
            "max": 1000,
            "_view_module": "@jupyter-widgets/controls",
            "_model_module_version": "1.5.0",
            "value": 1000,
            "_view_count": null,
            "_view_module_version": "1.5.0",
            "orientation": "horizontal",
            "min": 0,
            "description_tooltip": null,
            "_model_module": "@jupyter-widgets/controls",
            "layout": "IPY_MODEL_4e58e825bffd4c9faad40d04f74bb916"
          }
        },
        "9884bb413b7a4c84bf06ac88bbce8ddd": {
          "model_module": "@jupyter-widgets/controls",
          "model_name": "HTMLModel",
          "state": {
            "_view_name": "HTMLView",
            "style": "IPY_MODEL_31c4cf848ca448e2afb1724fd13f3a55",
            "_dom_classes": [],
            "description": "",
            "_model_name": "HTMLModel",
            "placeholder": "​",
            "_view_module": "@jupyter-widgets/controls",
            "_model_module_version": "1.5.0",
            "value": " 1000/1000 [00:44&lt;00:00, 22.39epoch/s]",
            "_view_count": null,
            "_view_module_version": "1.5.0",
            "description_tooltip": null,
            "_model_module": "@jupyter-widgets/controls",
            "layout": "IPY_MODEL_9241870b956a41b1a462e67f06fa7f63"
          }
        },
        "a6bd23a0e7fe478ea2dcbc1dd18f95a1": {
          "model_module": "@jupyter-widgets/controls",
          "model_name": "ProgressStyleModel",
          "state": {
            "_view_name": "StyleView",
            "_model_name": "ProgressStyleModel",
            "description_width": "initial",
            "_view_module": "@jupyter-widgets/base",
            "_model_module_version": "1.5.0",
            "_view_count": null,
            "_view_module_version": "1.2.0",
            "bar_color": null,
            "_model_module": "@jupyter-widgets/controls"
          }
        },
        "4e58e825bffd4c9faad40d04f74bb916": {
          "model_module": "@jupyter-widgets/base",
          "model_name": "LayoutModel",
          "state": {
            "_view_name": "LayoutView",
            "grid_template_rows": null,
            "right": null,
            "justify_content": null,
            "_view_module": "@jupyter-widgets/base",
            "overflow": null,
            "_model_module_version": "1.2.0",
            "_view_count": null,
            "flex_flow": null,
            "width": null,
            "min_width": null,
            "border": null,
            "align_items": null,
            "bottom": null,
            "_model_module": "@jupyter-widgets/base",
            "top": null,
            "grid_column": null,
            "overflow_y": null,
            "overflow_x": null,
            "grid_auto_flow": null,
            "grid_area": null,
            "grid_template_columns": null,
            "flex": null,
            "_model_name": "LayoutModel",
            "justify_items": null,
            "grid_row": null,
            "max_height": null,
            "align_content": null,
            "visibility": null,
            "align_self": null,
            "height": null,
            "min_height": null,
            "padding": null,
            "grid_auto_rows": null,
            "grid_gap": null,
            "max_width": null,
            "order": null,
            "_view_module_version": "1.2.0",
            "grid_template_areas": null,
            "object_position": null,
            "object_fit": null,
            "grid_auto_columns": null,
            "margin": null,
            "display": null,
            "left": null
          }
        },
        "31c4cf848ca448e2afb1724fd13f3a55": {
          "model_module": "@jupyter-widgets/controls",
          "model_name": "DescriptionStyleModel",
          "state": {
            "_view_name": "StyleView",
            "_model_name": "DescriptionStyleModel",
            "description_width": "",
            "_view_module": "@jupyter-widgets/base",
            "_model_module_version": "1.5.0",
            "_view_count": null,
            "_view_module_version": "1.2.0",
            "_model_module": "@jupyter-widgets/controls"
          }
        },
        "9241870b956a41b1a462e67f06fa7f63": {
          "model_module": "@jupyter-widgets/base",
          "model_name": "LayoutModel",
          "state": {
            "_view_name": "LayoutView",
            "grid_template_rows": null,
            "right": null,
            "justify_content": null,
            "_view_module": "@jupyter-widgets/base",
            "overflow": null,
            "_model_module_version": "1.2.0",
            "_view_count": null,
            "flex_flow": null,
            "width": null,
            "min_width": null,
            "border": null,
            "align_items": null,
            "bottom": null,
            "_model_module": "@jupyter-widgets/base",
            "top": null,
            "grid_column": null,
            "overflow_y": null,
            "overflow_x": null,
            "grid_auto_flow": null,
            "grid_area": null,
            "grid_template_columns": null,
            "flex": null,
            "_model_name": "LayoutModel",
            "justify_items": null,
            "grid_row": null,
            "max_height": null,
            "align_content": null,
            "visibility": null,
            "align_self": null,
            "height": null,
            "min_height": null,
            "padding": null,
            "grid_auto_rows": null,
            "grid_gap": null,
            "max_width": null,
            "order": null,
            "_view_module_version": "1.2.0",
            "grid_template_areas": null,
            "object_position": null,
            "object_fit": null,
            "grid_auto_columns": null,
            "margin": null,
            "display": null,
            "left": null
          }
        },
        "d4495a04495b480ca0d94bf66f4e99c7": {
          "model_module": "@jupyter-widgets/controls",
          "model_name": "HBoxModel",
          "state": {
            "_view_name": "HBoxView",
            "_dom_classes": [],
            "_model_name": "HBoxModel",
            "_view_module": "@jupyter-widgets/controls",
            "_model_module_version": "1.5.0",
            "_view_count": null,
            "_view_module_version": "1.5.0",
            "box_style": "",
            "layout": "IPY_MODEL_dd4312e3ad504c70a67a7878b8daa15f",
            "_model_module": "@jupyter-widgets/controls",
            "children": [
              "IPY_MODEL_3f6cbb0acfc24beab0f1eb6a41764c3b",
              "IPY_MODEL_4dc9b10c712a4c8ab9c0e57b7aec0442"
            ]
          }
        },
        "dd4312e3ad504c70a67a7878b8daa15f": {
          "model_module": "@jupyter-widgets/base",
          "model_name": "LayoutModel",
          "state": {
            "_view_name": "LayoutView",
            "grid_template_rows": null,
            "right": null,
            "justify_content": null,
            "_view_module": "@jupyter-widgets/base",
            "overflow": null,
            "_model_module_version": "1.2.0",
            "_view_count": null,
            "flex_flow": null,
            "width": null,
            "min_width": null,
            "border": null,
            "align_items": null,
            "bottom": null,
            "_model_module": "@jupyter-widgets/base",
            "top": null,
            "grid_column": null,
            "overflow_y": null,
            "overflow_x": null,
            "grid_auto_flow": null,
            "grid_area": null,
            "grid_template_columns": null,
            "flex": null,
            "_model_name": "LayoutModel",
            "justify_items": null,
            "grid_row": null,
            "max_height": null,
            "align_content": null,
            "visibility": null,
            "align_self": null,
            "height": null,
            "min_height": null,
            "padding": null,
            "grid_auto_rows": null,
            "grid_gap": null,
            "max_width": null,
            "order": null,
            "_view_module_version": "1.2.0",
            "grid_template_areas": null,
            "object_position": null,
            "object_fit": null,
            "grid_auto_columns": null,
            "margin": null,
            "display": null,
            "left": null
          }
        },
        "3f6cbb0acfc24beab0f1eb6a41764c3b": {
          "model_module": "@jupyter-widgets/controls",
          "model_name": "FloatProgressModel",
          "state": {
            "_view_name": "ProgressView",
            "style": "IPY_MODEL_1d86234a0e1a4dea91199a98e7d2e98d",
            "_dom_classes": [],
            "description": "100%",
            "_model_name": "FloatProgressModel",
            "bar_style": "success",
            "max": 1000,
            "_view_module": "@jupyter-widgets/controls",
            "_model_module_version": "1.5.0",
            "value": 1000,
            "_view_count": null,
            "_view_module_version": "1.5.0",
            "orientation": "horizontal",
            "min": 0,
            "description_tooltip": null,
            "_model_module": "@jupyter-widgets/controls",
            "layout": "IPY_MODEL_53fc8b47d5bf489597b6e9b056091ef0"
          }
        },
        "4dc9b10c712a4c8ab9c0e57b7aec0442": {
          "model_module": "@jupyter-widgets/controls",
          "model_name": "HTMLModel",
          "state": {
            "_view_name": "HTMLView",
            "style": "IPY_MODEL_175b486b23fd46a9b435b896909f55d0",
            "_dom_classes": [],
            "description": "",
            "_model_name": "HTMLModel",
            "placeholder": "​",
            "_view_module": "@jupyter-widgets/controls",
            "_model_module_version": "1.5.0",
            "value": " 1000/1000 [00:44&lt;00:00, 22.30epoch/s]",
            "_view_count": null,
            "_view_module_version": "1.5.0",
            "description_tooltip": null,
            "_model_module": "@jupyter-widgets/controls",
            "layout": "IPY_MODEL_a58ad08ffb6844e0b8bb53198ebba0ea"
          }
        },
        "1d86234a0e1a4dea91199a98e7d2e98d": {
          "model_module": "@jupyter-widgets/controls",
          "model_name": "ProgressStyleModel",
          "state": {
            "_view_name": "StyleView",
            "_model_name": "ProgressStyleModel",
            "description_width": "initial",
            "_view_module": "@jupyter-widgets/base",
            "_model_module_version": "1.5.0",
            "_view_count": null,
            "_view_module_version": "1.2.0",
            "bar_color": null,
            "_model_module": "@jupyter-widgets/controls"
          }
        },
        "53fc8b47d5bf489597b6e9b056091ef0": {
          "model_module": "@jupyter-widgets/base",
          "model_name": "LayoutModel",
          "state": {
            "_view_name": "LayoutView",
            "grid_template_rows": null,
            "right": null,
            "justify_content": null,
            "_view_module": "@jupyter-widgets/base",
            "overflow": null,
            "_model_module_version": "1.2.0",
            "_view_count": null,
            "flex_flow": null,
            "width": null,
            "min_width": null,
            "border": null,
            "align_items": null,
            "bottom": null,
            "_model_module": "@jupyter-widgets/base",
            "top": null,
            "grid_column": null,
            "overflow_y": null,
            "overflow_x": null,
            "grid_auto_flow": null,
            "grid_area": null,
            "grid_template_columns": null,
            "flex": null,
            "_model_name": "LayoutModel",
            "justify_items": null,
            "grid_row": null,
            "max_height": null,
            "align_content": null,
            "visibility": null,
            "align_self": null,
            "height": null,
            "min_height": null,
            "padding": null,
            "grid_auto_rows": null,
            "grid_gap": null,
            "max_width": null,
            "order": null,
            "_view_module_version": "1.2.0",
            "grid_template_areas": null,
            "object_position": null,
            "object_fit": null,
            "grid_auto_columns": null,
            "margin": null,
            "display": null,
            "left": null
          }
        },
        "175b486b23fd46a9b435b896909f55d0": {
          "model_module": "@jupyter-widgets/controls",
          "model_name": "DescriptionStyleModel",
          "state": {
            "_view_name": "StyleView",
            "_model_name": "DescriptionStyleModel",
            "description_width": "",
            "_view_module": "@jupyter-widgets/base",
            "_model_module_version": "1.5.0",
            "_view_count": null,
            "_view_module_version": "1.2.0",
            "_model_module": "@jupyter-widgets/controls"
          }
        },
        "a58ad08ffb6844e0b8bb53198ebba0ea": {
          "model_module": "@jupyter-widgets/base",
          "model_name": "LayoutModel",
          "state": {
            "_view_name": "LayoutView",
            "grid_template_rows": null,
            "right": null,
            "justify_content": null,
            "_view_module": "@jupyter-widgets/base",
            "overflow": null,
            "_model_module_version": "1.2.0",
            "_view_count": null,
            "flex_flow": null,
            "width": null,
            "min_width": null,
            "border": null,
            "align_items": null,
            "bottom": null,
            "_model_module": "@jupyter-widgets/base",
            "top": null,
            "grid_column": null,
            "overflow_y": null,
            "overflow_x": null,
            "grid_auto_flow": null,
            "grid_area": null,
            "grid_template_columns": null,
            "flex": null,
            "_model_name": "LayoutModel",
            "justify_items": null,
            "grid_row": null,
            "max_height": null,
            "align_content": null,
            "visibility": null,
            "align_self": null,
            "height": null,
            "min_height": null,
            "padding": null,
            "grid_auto_rows": null,
            "grid_gap": null,
            "max_width": null,
            "order": null,
            "_view_module_version": "1.2.0",
            "grid_template_areas": null,
            "object_position": null,
            "object_fit": null,
            "grid_auto_columns": null,
            "margin": null,
            "display": null,
            "left": null
          }
        },
        "5628a328143947df85e3a9cfd572019f": {
          "model_module": "@jupyter-widgets/controls",
          "model_name": "HBoxModel",
          "state": {
            "_view_name": "HBoxView",
            "_dom_classes": [],
            "_model_name": "HBoxModel",
            "_view_module": "@jupyter-widgets/controls",
            "_model_module_version": "1.5.0",
            "_view_count": null,
            "_view_module_version": "1.5.0",
            "box_style": "",
            "layout": "IPY_MODEL_59b26ccdf6b246d3b52d001b9fcb3ac6",
            "_model_module": "@jupyter-widgets/controls",
            "children": [
              "IPY_MODEL_9859509a85a442fe8e63daa51788b6da",
              "IPY_MODEL_2479d724a18f45409e66c87da9fd3ded"
            ]
          }
        },
        "59b26ccdf6b246d3b52d001b9fcb3ac6": {
          "model_module": "@jupyter-widgets/base",
          "model_name": "LayoutModel",
          "state": {
            "_view_name": "LayoutView",
            "grid_template_rows": null,
            "right": null,
            "justify_content": null,
            "_view_module": "@jupyter-widgets/base",
            "overflow": null,
            "_model_module_version": "1.2.0",
            "_view_count": null,
            "flex_flow": null,
            "width": null,
            "min_width": null,
            "border": null,
            "align_items": null,
            "bottom": null,
            "_model_module": "@jupyter-widgets/base",
            "top": null,
            "grid_column": null,
            "overflow_y": null,
            "overflow_x": null,
            "grid_auto_flow": null,
            "grid_area": null,
            "grid_template_columns": null,
            "flex": null,
            "_model_name": "LayoutModel",
            "justify_items": null,
            "grid_row": null,
            "max_height": null,
            "align_content": null,
            "visibility": null,
            "align_self": null,
            "height": null,
            "min_height": null,
            "padding": null,
            "grid_auto_rows": null,
            "grid_gap": null,
            "max_width": null,
            "order": null,
            "_view_module_version": "1.2.0",
            "grid_template_areas": null,
            "object_position": null,
            "object_fit": null,
            "grid_auto_columns": null,
            "margin": null,
            "display": null,
            "left": null
          }
        },
        "9859509a85a442fe8e63daa51788b6da": {
          "model_module": "@jupyter-widgets/controls",
          "model_name": "FloatProgressModel",
          "state": {
            "_view_name": "ProgressView",
            "style": "IPY_MODEL_dd015f1db5164d098a8903e2ecefc37f",
            "_dom_classes": [],
            "description": "100%",
            "_model_name": "FloatProgressModel",
            "bar_style": "success",
            "max": 1000,
            "_view_module": "@jupyter-widgets/controls",
            "_model_module_version": "1.5.0",
            "value": 1000,
            "_view_count": null,
            "_view_module_version": "1.5.0",
            "orientation": "horizontal",
            "min": 0,
            "description_tooltip": null,
            "_model_module": "@jupyter-widgets/controls",
            "layout": "IPY_MODEL_483fab52905a49888b9e3e68baee94cb"
          }
        },
        "2479d724a18f45409e66c87da9fd3ded": {
          "model_module": "@jupyter-widgets/controls",
          "model_name": "HTMLModel",
          "state": {
            "_view_name": "HTMLView",
            "style": "IPY_MODEL_6848b6ad5db040e9b4daffeb98ac87ab",
            "_dom_classes": [],
            "description": "",
            "_model_name": "HTMLModel",
            "placeholder": "​",
            "_view_module": "@jupyter-widgets/controls",
            "_model_module_version": "1.5.0",
            "value": " 1000/1000 [00:44&lt;00:00, 22.57epoch/s]",
            "_view_count": null,
            "_view_module_version": "1.5.0",
            "description_tooltip": null,
            "_model_module": "@jupyter-widgets/controls",
            "layout": "IPY_MODEL_8bdb207817f44c189fabc2138becab0c"
          }
        },
        "dd015f1db5164d098a8903e2ecefc37f": {
          "model_module": "@jupyter-widgets/controls",
          "model_name": "ProgressStyleModel",
          "state": {
            "_view_name": "StyleView",
            "_model_name": "ProgressStyleModel",
            "description_width": "initial",
            "_view_module": "@jupyter-widgets/base",
            "_model_module_version": "1.5.0",
            "_view_count": null,
            "_view_module_version": "1.2.0",
            "bar_color": null,
            "_model_module": "@jupyter-widgets/controls"
          }
        },
        "483fab52905a49888b9e3e68baee94cb": {
          "model_module": "@jupyter-widgets/base",
          "model_name": "LayoutModel",
          "state": {
            "_view_name": "LayoutView",
            "grid_template_rows": null,
            "right": null,
            "justify_content": null,
            "_view_module": "@jupyter-widgets/base",
            "overflow": null,
            "_model_module_version": "1.2.0",
            "_view_count": null,
            "flex_flow": null,
            "width": null,
            "min_width": null,
            "border": null,
            "align_items": null,
            "bottom": null,
            "_model_module": "@jupyter-widgets/base",
            "top": null,
            "grid_column": null,
            "overflow_y": null,
            "overflow_x": null,
            "grid_auto_flow": null,
            "grid_area": null,
            "grid_template_columns": null,
            "flex": null,
            "_model_name": "LayoutModel",
            "justify_items": null,
            "grid_row": null,
            "max_height": null,
            "align_content": null,
            "visibility": null,
            "align_self": null,
            "height": null,
            "min_height": null,
            "padding": null,
            "grid_auto_rows": null,
            "grid_gap": null,
            "max_width": null,
            "order": null,
            "_view_module_version": "1.2.0",
            "grid_template_areas": null,
            "object_position": null,
            "object_fit": null,
            "grid_auto_columns": null,
            "margin": null,
            "display": null,
            "left": null
          }
        },
        "6848b6ad5db040e9b4daffeb98ac87ab": {
          "model_module": "@jupyter-widgets/controls",
          "model_name": "DescriptionStyleModel",
          "state": {
            "_view_name": "StyleView",
            "_model_name": "DescriptionStyleModel",
            "description_width": "",
            "_view_module": "@jupyter-widgets/base",
            "_model_module_version": "1.5.0",
            "_view_count": null,
            "_view_module_version": "1.2.0",
            "_model_module": "@jupyter-widgets/controls"
          }
        },
        "8bdb207817f44c189fabc2138becab0c": {
          "model_module": "@jupyter-widgets/base",
          "model_name": "LayoutModel",
          "state": {
            "_view_name": "LayoutView",
            "grid_template_rows": null,
            "right": null,
            "justify_content": null,
            "_view_module": "@jupyter-widgets/base",
            "overflow": null,
            "_model_module_version": "1.2.0",
            "_view_count": null,
            "flex_flow": null,
            "width": null,
            "min_width": null,
            "border": null,
            "align_items": null,
            "bottom": null,
            "_model_module": "@jupyter-widgets/base",
            "top": null,
            "grid_column": null,
            "overflow_y": null,
            "overflow_x": null,
            "grid_auto_flow": null,
            "grid_area": null,
            "grid_template_columns": null,
            "flex": null,
            "_model_name": "LayoutModel",
            "justify_items": null,
            "grid_row": null,
            "max_height": null,
            "align_content": null,
            "visibility": null,
            "align_self": null,
            "height": null,
            "min_height": null,
            "padding": null,
            "grid_auto_rows": null,
            "grid_gap": null,
            "max_width": null,
            "order": null,
            "_view_module_version": "1.2.0",
            "grid_template_areas": null,
            "object_position": null,
            "object_fit": null,
            "grid_auto_columns": null,
            "margin": null,
            "display": null,
            "left": null
          }
        },
        "540d9c08c02746bdadc1454e5eb9a6c0": {
          "model_module": "@jupyter-widgets/controls",
          "model_name": "HBoxModel",
          "state": {
            "_view_name": "HBoxView",
            "_dom_classes": [],
            "_model_name": "HBoxModel",
            "_view_module": "@jupyter-widgets/controls",
            "_model_module_version": "1.5.0",
            "_view_count": null,
            "_view_module_version": "1.5.0",
            "box_style": "",
            "layout": "IPY_MODEL_5d34c6d223974b5198be7276d5eb845a",
            "_model_module": "@jupyter-widgets/controls",
            "children": [
              "IPY_MODEL_f5483e19332b4e1fa2d3784e8d6448df",
              "IPY_MODEL_8fa3d17d6db1415b847b246ddf07e8e9"
            ]
          }
        },
        "5d34c6d223974b5198be7276d5eb845a": {
          "model_module": "@jupyter-widgets/base",
          "model_name": "LayoutModel",
          "state": {
            "_view_name": "LayoutView",
            "grid_template_rows": null,
            "right": null,
            "justify_content": null,
            "_view_module": "@jupyter-widgets/base",
            "overflow": null,
            "_model_module_version": "1.2.0",
            "_view_count": null,
            "flex_flow": null,
            "width": null,
            "min_width": null,
            "border": null,
            "align_items": null,
            "bottom": null,
            "_model_module": "@jupyter-widgets/base",
            "top": null,
            "grid_column": null,
            "overflow_y": null,
            "overflow_x": null,
            "grid_auto_flow": null,
            "grid_area": null,
            "grid_template_columns": null,
            "flex": null,
            "_model_name": "LayoutModel",
            "justify_items": null,
            "grid_row": null,
            "max_height": null,
            "align_content": null,
            "visibility": null,
            "align_self": null,
            "height": null,
            "min_height": null,
            "padding": null,
            "grid_auto_rows": null,
            "grid_gap": null,
            "max_width": null,
            "order": null,
            "_view_module_version": "1.2.0",
            "grid_template_areas": null,
            "object_position": null,
            "object_fit": null,
            "grid_auto_columns": null,
            "margin": null,
            "display": null,
            "left": null
          }
        },
        "f5483e19332b4e1fa2d3784e8d6448df": {
          "model_module": "@jupyter-widgets/controls",
          "model_name": "FloatProgressModel",
          "state": {
            "_view_name": "ProgressView",
            "style": "IPY_MODEL_21b55ca8402a4769ad2b4fe64a0d94b7",
            "_dom_classes": [],
            "description": "100%",
            "_model_name": "FloatProgressModel",
            "bar_style": "success",
            "max": 2000,
            "_view_module": "@jupyter-widgets/controls",
            "_model_module_version": "1.5.0",
            "value": 2000,
            "_view_count": null,
            "_view_module_version": "1.5.0",
            "orientation": "horizontal",
            "min": 0,
            "description_tooltip": null,
            "_model_module": "@jupyter-widgets/controls",
            "layout": "IPY_MODEL_e658f5d86ba84ec49f92d73142a40f69"
          }
        },
        "8fa3d17d6db1415b847b246ddf07e8e9": {
          "model_module": "@jupyter-widgets/controls",
          "model_name": "HTMLModel",
          "state": {
            "_view_name": "HTMLView",
            "style": "IPY_MODEL_97d68680f921486698a602990870c750",
            "_dom_classes": [],
            "description": "",
            "_model_name": "HTMLModel",
            "placeholder": "​",
            "_view_module": "@jupyter-widgets/controls",
            "_model_module_version": "1.5.0",
            "value": " 2000/2000 [17:11&lt;00:00,  1.94epoch/s]",
            "_view_count": null,
            "_view_module_version": "1.5.0",
            "description_tooltip": null,
            "_model_module": "@jupyter-widgets/controls",
            "layout": "IPY_MODEL_9389b94a786746d68695a58f3c7587e2"
          }
        },
        "21b55ca8402a4769ad2b4fe64a0d94b7": {
          "model_module": "@jupyter-widgets/controls",
          "model_name": "ProgressStyleModel",
          "state": {
            "_view_name": "StyleView",
            "_model_name": "ProgressStyleModel",
            "description_width": "initial",
            "_view_module": "@jupyter-widgets/base",
            "_model_module_version": "1.5.0",
            "_view_count": null,
            "_view_module_version": "1.2.0",
            "bar_color": null,
            "_model_module": "@jupyter-widgets/controls"
          }
        },
        "e658f5d86ba84ec49f92d73142a40f69": {
          "model_module": "@jupyter-widgets/base",
          "model_name": "LayoutModel",
          "state": {
            "_view_name": "LayoutView",
            "grid_template_rows": null,
            "right": null,
            "justify_content": null,
            "_view_module": "@jupyter-widgets/base",
            "overflow": null,
            "_model_module_version": "1.2.0",
            "_view_count": null,
            "flex_flow": null,
            "width": null,
            "min_width": null,
            "border": null,
            "align_items": null,
            "bottom": null,
            "_model_module": "@jupyter-widgets/base",
            "top": null,
            "grid_column": null,
            "overflow_y": null,
            "overflow_x": null,
            "grid_auto_flow": null,
            "grid_area": null,
            "grid_template_columns": null,
            "flex": null,
            "_model_name": "LayoutModel",
            "justify_items": null,
            "grid_row": null,
            "max_height": null,
            "align_content": null,
            "visibility": null,
            "align_self": null,
            "height": null,
            "min_height": null,
            "padding": null,
            "grid_auto_rows": null,
            "grid_gap": null,
            "max_width": null,
            "order": null,
            "_view_module_version": "1.2.0",
            "grid_template_areas": null,
            "object_position": null,
            "object_fit": null,
            "grid_auto_columns": null,
            "margin": null,
            "display": null,
            "left": null
          }
        },
        "97d68680f921486698a602990870c750": {
          "model_module": "@jupyter-widgets/controls",
          "model_name": "DescriptionStyleModel",
          "state": {
            "_view_name": "StyleView",
            "_model_name": "DescriptionStyleModel",
            "description_width": "",
            "_view_module": "@jupyter-widgets/base",
            "_model_module_version": "1.5.0",
            "_view_count": null,
            "_view_module_version": "1.2.0",
            "_model_module": "@jupyter-widgets/controls"
          }
        },
        "9389b94a786746d68695a58f3c7587e2": {
          "model_module": "@jupyter-widgets/base",
          "model_name": "LayoutModel",
          "state": {
            "_view_name": "LayoutView",
            "grid_template_rows": null,
            "right": null,
            "justify_content": null,
            "_view_module": "@jupyter-widgets/base",
            "overflow": null,
            "_model_module_version": "1.2.0",
            "_view_count": null,
            "flex_flow": null,
            "width": null,
            "min_width": null,
            "border": null,
            "align_items": null,
            "bottom": null,
            "_model_module": "@jupyter-widgets/base",
            "top": null,
            "grid_column": null,
            "overflow_y": null,
            "overflow_x": null,
            "grid_auto_flow": null,
            "grid_area": null,
            "grid_template_columns": null,
            "flex": null,
            "_model_name": "LayoutModel",
            "justify_items": null,
            "grid_row": null,
            "max_height": null,
            "align_content": null,
            "visibility": null,
            "align_self": null,
            "height": null,
            "min_height": null,
            "padding": null,
            "grid_auto_rows": null,
            "grid_gap": null,
            "max_width": null,
            "order": null,
            "_view_module_version": "1.2.0",
            "grid_template_areas": null,
            "object_position": null,
            "object_fit": null,
            "grid_auto_columns": null,
            "margin": null,
            "display": null,
            "left": null
          }
        },
        "fb61a6c4aadd44b8bbc1851107045f22": {
          "model_module": "@jupyter-widgets/controls",
          "model_name": "HBoxModel",
          "state": {
            "_view_name": "HBoxView",
            "_dom_classes": [],
            "_model_name": "HBoxModel",
            "_view_module": "@jupyter-widgets/controls",
            "_model_module_version": "1.5.0",
            "_view_count": null,
            "_view_module_version": "1.5.0",
            "box_style": "",
            "layout": "IPY_MODEL_370f3835280d4a6dbe2e5bb73f48114c",
            "_model_module": "@jupyter-widgets/controls",
            "children": [
              "IPY_MODEL_c96e1961864743b0a8974a661094d863",
              "IPY_MODEL_bdfd630b69c14189a94a4c37d9bdbb28"
            ]
          }
        },
        "370f3835280d4a6dbe2e5bb73f48114c": {
          "model_module": "@jupyter-widgets/base",
          "model_name": "LayoutModel",
          "state": {
            "_view_name": "LayoutView",
            "grid_template_rows": null,
            "right": null,
            "justify_content": null,
            "_view_module": "@jupyter-widgets/base",
            "overflow": null,
            "_model_module_version": "1.2.0",
            "_view_count": null,
            "flex_flow": null,
            "width": null,
            "min_width": null,
            "border": null,
            "align_items": null,
            "bottom": null,
            "_model_module": "@jupyter-widgets/base",
            "top": null,
            "grid_column": null,
            "overflow_y": null,
            "overflow_x": null,
            "grid_auto_flow": null,
            "grid_area": null,
            "grid_template_columns": null,
            "flex": null,
            "_model_name": "LayoutModel",
            "justify_items": null,
            "grid_row": null,
            "max_height": null,
            "align_content": null,
            "visibility": null,
            "align_self": null,
            "height": null,
            "min_height": null,
            "padding": null,
            "grid_auto_rows": null,
            "grid_gap": null,
            "max_width": null,
            "order": null,
            "_view_module_version": "1.2.0",
            "grid_template_areas": null,
            "object_position": null,
            "object_fit": null,
            "grid_auto_columns": null,
            "margin": null,
            "display": null,
            "left": null
          }
        },
        "c96e1961864743b0a8974a661094d863": {
          "model_module": "@jupyter-widgets/controls",
          "model_name": "FloatProgressModel",
          "state": {
            "_view_name": "ProgressView",
            "style": "IPY_MODEL_59d63d4a853a48dc85f78d4143981f68",
            "_dom_classes": [],
            "description": "100%",
            "_model_name": "FloatProgressModel",
            "bar_style": "success",
            "max": 1500,
            "_view_module": "@jupyter-widgets/controls",
            "_model_module_version": "1.5.0",
            "value": 1500,
            "_view_count": null,
            "_view_module_version": "1.5.0",
            "orientation": "horizontal",
            "min": 0,
            "description_tooltip": null,
            "_model_module": "@jupyter-widgets/controls",
            "layout": "IPY_MODEL_59205636b0a44947a8bdbb4b153a19f1"
          }
        },
        "bdfd630b69c14189a94a4c37d9bdbb28": {
          "model_module": "@jupyter-widgets/controls",
          "model_name": "HTMLModel",
          "state": {
            "_view_name": "HTMLView",
            "style": "IPY_MODEL_b4dcfe5e1f744ba595f1f675faac8f4c",
            "_dom_classes": [],
            "description": "",
            "_model_name": "HTMLModel",
            "placeholder": "​",
            "_view_module": "@jupyter-widgets/controls",
            "_model_module_version": "1.5.0",
            "value": " 1500/1500 [1:01:21&lt;00:00,  2.45s/epoch]",
            "_view_count": null,
            "_view_module_version": "1.5.0",
            "description_tooltip": null,
            "_model_module": "@jupyter-widgets/controls",
            "layout": "IPY_MODEL_c2df42d26dff4df68002a488321b37c9"
          }
        },
        "59d63d4a853a48dc85f78d4143981f68": {
          "model_module": "@jupyter-widgets/controls",
          "model_name": "ProgressStyleModel",
          "state": {
            "_view_name": "StyleView",
            "_model_name": "ProgressStyleModel",
            "description_width": "initial",
            "_view_module": "@jupyter-widgets/base",
            "_model_module_version": "1.5.0",
            "_view_count": null,
            "_view_module_version": "1.2.0",
            "bar_color": null,
            "_model_module": "@jupyter-widgets/controls"
          }
        },
        "59205636b0a44947a8bdbb4b153a19f1": {
          "model_module": "@jupyter-widgets/base",
          "model_name": "LayoutModel",
          "state": {
            "_view_name": "LayoutView",
            "grid_template_rows": null,
            "right": null,
            "justify_content": null,
            "_view_module": "@jupyter-widgets/base",
            "overflow": null,
            "_model_module_version": "1.2.0",
            "_view_count": null,
            "flex_flow": null,
            "width": null,
            "min_width": null,
            "border": null,
            "align_items": null,
            "bottom": null,
            "_model_module": "@jupyter-widgets/base",
            "top": null,
            "grid_column": null,
            "overflow_y": null,
            "overflow_x": null,
            "grid_auto_flow": null,
            "grid_area": null,
            "grid_template_columns": null,
            "flex": null,
            "_model_name": "LayoutModel",
            "justify_items": null,
            "grid_row": null,
            "max_height": null,
            "align_content": null,
            "visibility": null,
            "align_self": null,
            "height": null,
            "min_height": null,
            "padding": null,
            "grid_auto_rows": null,
            "grid_gap": null,
            "max_width": null,
            "order": null,
            "_view_module_version": "1.2.0",
            "grid_template_areas": null,
            "object_position": null,
            "object_fit": null,
            "grid_auto_columns": null,
            "margin": null,
            "display": null,
            "left": null
          }
        },
        "b4dcfe5e1f744ba595f1f675faac8f4c": {
          "model_module": "@jupyter-widgets/controls",
          "model_name": "DescriptionStyleModel",
          "state": {
            "_view_name": "StyleView",
            "_model_name": "DescriptionStyleModel",
            "description_width": "",
            "_view_module": "@jupyter-widgets/base",
            "_model_module_version": "1.5.0",
            "_view_count": null,
            "_view_module_version": "1.2.0",
            "_model_module": "@jupyter-widgets/controls"
          }
        },
        "c2df42d26dff4df68002a488321b37c9": {
          "model_module": "@jupyter-widgets/base",
          "model_name": "LayoutModel",
          "state": {
            "_view_name": "LayoutView",
            "grid_template_rows": null,
            "right": null,
            "justify_content": null,
            "_view_module": "@jupyter-widgets/base",
            "overflow": null,
            "_model_module_version": "1.2.0",
            "_view_count": null,
            "flex_flow": null,
            "width": null,
            "min_width": null,
            "border": null,
            "align_items": null,
            "bottom": null,
            "_model_module": "@jupyter-widgets/base",
            "top": null,
            "grid_column": null,
            "overflow_y": null,
            "overflow_x": null,
            "grid_auto_flow": null,
            "grid_area": null,
            "grid_template_columns": null,
            "flex": null,
            "_model_name": "LayoutModel",
            "justify_items": null,
            "grid_row": null,
            "max_height": null,
            "align_content": null,
            "visibility": null,
            "align_self": null,
            "height": null,
            "min_height": null,
            "padding": null,
            "grid_auto_rows": null,
            "grid_gap": null,
            "max_width": null,
            "order": null,
            "_view_module_version": "1.2.0",
            "grid_template_areas": null,
            "object_position": null,
            "object_fit": null,
            "grid_auto_columns": null,
            "margin": null,
            "display": null,
            "left": null
          }
        },
        "e4033285334545b8911e4143e2e8b413": {
          "model_module": "@jupyter-widgets/controls",
          "model_name": "HBoxModel",
          "state": {
            "_view_name": "HBoxView",
            "_dom_classes": [],
            "_model_name": "HBoxModel",
            "_view_module": "@jupyter-widgets/controls",
            "_model_module_version": "1.5.0",
            "_view_count": null,
            "_view_module_version": "1.5.0",
            "box_style": "",
            "layout": "IPY_MODEL_ace237e1d309429fa30c49e364180a04",
            "_model_module": "@jupyter-widgets/controls",
            "children": [
              "IPY_MODEL_11e5d9ead83d4bc28e6aca06de949d04",
              "IPY_MODEL_0b0a6536ec8f491680e6707e0c037aec"
            ]
          }
        },
        "ace237e1d309429fa30c49e364180a04": {
          "model_module": "@jupyter-widgets/base",
          "model_name": "LayoutModel",
          "state": {
            "_view_name": "LayoutView",
            "grid_template_rows": null,
            "right": null,
            "justify_content": null,
            "_view_module": "@jupyter-widgets/base",
            "overflow": null,
            "_model_module_version": "1.2.0",
            "_view_count": null,
            "flex_flow": null,
            "width": null,
            "min_width": null,
            "border": null,
            "align_items": null,
            "bottom": null,
            "_model_module": "@jupyter-widgets/base",
            "top": null,
            "grid_column": null,
            "overflow_y": null,
            "overflow_x": null,
            "grid_auto_flow": null,
            "grid_area": null,
            "grid_template_columns": null,
            "flex": null,
            "_model_name": "LayoutModel",
            "justify_items": null,
            "grid_row": null,
            "max_height": null,
            "align_content": null,
            "visibility": null,
            "align_self": null,
            "height": null,
            "min_height": null,
            "padding": null,
            "grid_auto_rows": null,
            "grid_gap": null,
            "max_width": null,
            "order": null,
            "_view_module_version": "1.2.0",
            "grid_template_areas": null,
            "object_position": null,
            "object_fit": null,
            "grid_auto_columns": null,
            "margin": null,
            "display": null,
            "left": null
          }
        },
        "11e5d9ead83d4bc28e6aca06de949d04": {
          "model_module": "@jupyter-widgets/controls",
          "model_name": "FloatProgressModel",
          "state": {
            "_view_name": "ProgressView",
            "style": "IPY_MODEL_efe62fdf7b2046c8b9824b7fb70b87be",
            "_dom_classes": [],
            "description": "100%",
            "_model_name": "FloatProgressModel",
            "bar_style": "success",
            "max": 1500,
            "_view_module": "@jupyter-widgets/controls",
            "_model_module_version": "1.5.0",
            "value": 1500,
            "_view_count": null,
            "_view_module_version": "1.5.0",
            "orientation": "horizontal",
            "min": 0,
            "description_tooltip": null,
            "_model_module": "@jupyter-widgets/controls",
            "layout": "IPY_MODEL_00a5b0cfdcd746579889a475a66b4b24"
          }
        },
        "0b0a6536ec8f491680e6707e0c037aec": {
          "model_module": "@jupyter-widgets/controls",
          "model_name": "HTMLModel",
          "state": {
            "_view_name": "HTMLView",
            "style": "IPY_MODEL_69eac9b2f35b42f3afb26cfc41d915a9",
            "_dom_classes": [],
            "description": "",
            "_model_name": "HTMLModel",
            "placeholder": "​",
            "_view_module": "@jupyter-widgets/controls",
            "_model_module_version": "1.5.0",
            "value": " 1500/1500 [01:39&lt;00:00, 15.09epoch/s]",
            "_view_count": null,
            "_view_module_version": "1.5.0",
            "description_tooltip": null,
            "_model_module": "@jupyter-widgets/controls",
            "layout": "IPY_MODEL_d3f5d645f40a4b7fb533745e3ec1052e"
          }
        },
        "efe62fdf7b2046c8b9824b7fb70b87be": {
          "model_module": "@jupyter-widgets/controls",
          "model_name": "ProgressStyleModel",
          "state": {
            "_view_name": "StyleView",
            "_model_name": "ProgressStyleModel",
            "description_width": "initial",
            "_view_module": "@jupyter-widgets/base",
            "_model_module_version": "1.5.0",
            "_view_count": null,
            "_view_module_version": "1.2.0",
            "bar_color": null,
            "_model_module": "@jupyter-widgets/controls"
          }
        },
        "00a5b0cfdcd746579889a475a66b4b24": {
          "model_module": "@jupyter-widgets/base",
          "model_name": "LayoutModel",
          "state": {
            "_view_name": "LayoutView",
            "grid_template_rows": null,
            "right": null,
            "justify_content": null,
            "_view_module": "@jupyter-widgets/base",
            "overflow": null,
            "_model_module_version": "1.2.0",
            "_view_count": null,
            "flex_flow": null,
            "width": null,
            "min_width": null,
            "border": null,
            "align_items": null,
            "bottom": null,
            "_model_module": "@jupyter-widgets/base",
            "top": null,
            "grid_column": null,
            "overflow_y": null,
            "overflow_x": null,
            "grid_auto_flow": null,
            "grid_area": null,
            "grid_template_columns": null,
            "flex": null,
            "_model_name": "LayoutModel",
            "justify_items": null,
            "grid_row": null,
            "max_height": null,
            "align_content": null,
            "visibility": null,
            "align_self": null,
            "height": null,
            "min_height": null,
            "padding": null,
            "grid_auto_rows": null,
            "grid_gap": null,
            "max_width": null,
            "order": null,
            "_view_module_version": "1.2.0",
            "grid_template_areas": null,
            "object_position": null,
            "object_fit": null,
            "grid_auto_columns": null,
            "margin": null,
            "display": null,
            "left": null
          }
        },
        "69eac9b2f35b42f3afb26cfc41d915a9": {
          "model_module": "@jupyter-widgets/controls",
          "model_name": "DescriptionStyleModel",
          "state": {
            "_view_name": "StyleView",
            "_model_name": "DescriptionStyleModel",
            "description_width": "",
            "_view_module": "@jupyter-widgets/base",
            "_model_module_version": "1.5.0",
            "_view_count": null,
            "_view_module_version": "1.2.0",
            "_model_module": "@jupyter-widgets/controls"
          }
        },
        "d3f5d645f40a4b7fb533745e3ec1052e": {
          "model_module": "@jupyter-widgets/base",
          "model_name": "LayoutModel",
          "state": {
            "_view_name": "LayoutView",
            "grid_template_rows": null,
            "right": null,
            "justify_content": null,
            "_view_module": "@jupyter-widgets/base",
            "overflow": null,
            "_model_module_version": "1.2.0",
            "_view_count": null,
            "flex_flow": null,
            "width": null,
            "min_width": null,
            "border": null,
            "align_items": null,
            "bottom": null,
            "_model_module": "@jupyter-widgets/base",
            "top": null,
            "grid_column": null,
            "overflow_y": null,
            "overflow_x": null,
            "grid_auto_flow": null,
            "grid_area": null,
            "grid_template_columns": null,
            "flex": null,
            "_model_name": "LayoutModel",
            "justify_items": null,
            "grid_row": null,
            "max_height": null,
            "align_content": null,
            "visibility": null,
            "align_self": null,
            "height": null,
            "min_height": null,
            "padding": null,
            "grid_auto_rows": null,
            "grid_gap": null,
            "max_width": null,
            "order": null,
            "_view_module_version": "1.2.0",
            "grid_template_areas": null,
            "object_position": null,
            "object_fit": null,
            "grid_auto_columns": null,
            "margin": null,
            "display": null,
            "left": null
          }
        },
        "2d96bde57a9f4a2cb766176b7dbafdf1": {
          "model_module": "@jupyter-widgets/controls",
          "model_name": "HBoxModel",
          "state": {
            "_view_name": "HBoxView",
            "_dom_classes": [],
            "_model_name": "HBoxModel",
            "_view_module": "@jupyter-widgets/controls",
            "_model_module_version": "1.5.0",
            "_view_count": null,
            "_view_module_version": "1.5.0",
            "box_style": "",
            "layout": "IPY_MODEL_3af3c1dde5db4f04b11184151a5ab6bd",
            "_model_module": "@jupyter-widgets/controls",
            "children": [
              "IPY_MODEL_6d8f18df307c4483a099a9f795228410",
              "IPY_MODEL_d0a2cd26027e45f48567b590a5b60992"
            ]
          }
        },
        "3af3c1dde5db4f04b11184151a5ab6bd": {
          "model_module": "@jupyter-widgets/base",
          "model_name": "LayoutModel",
          "state": {
            "_view_name": "LayoutView",
            "grid_template_rows": null,
            "right": null,
            "justify_content": null,
            "_view_module": "@jupyter-widgets/base",
            "overflow": null,
            "_model_module_version": "1.2.0",
            "_view_count": null,
            "flex_flow": null,
            "width": null,
            "min_width": null,
            "border": null,
            "align_items": null,
            "bottom": null,
            "_model_module": "@jupyter-widgets/base",
            "top": null,
            "grid_column": null,
            "overflow_y": null,
            "overflow_x": null,
            "grid_auto_flow": null,
            "grid_area": null,
            "grid_template_columns": null,
            "flex": null,
            "_model_name": "LayoutModel",
            "justify_items": null,
            "grid_row": null,
            "max_height": null,
            "align_content": null,
            "visibility": null,
            "align_self": null,
            "height": null,
            "min_height": null,
            "padding": null,
            "grid_auto_rows": null,
            "grid_gap": null,
            "max_width": null,
            "order": null,
            "_view_module_version": "1.2.0",
            "grid_template_areas": null,
            "object_position": null,
            "object_fit": null,
            "grid_auto_columns": null,
            "margin": null,
            "display": null,
            "left": null
          }
        },
        "6d8f18df307c4483a099a9f795228410": {
          "model_module": "@jupyter-widgets/controls",
          "model_name": "FloatProgressModel",
          "state": {
            "_view_name": "ProgressView",
            "style": "IPY_MODEL_56eadc78856247e7b2f36c16496ff28d",
            "_dom_classes": [],
            "description": "100%",
            "_model_name": "FloatProgressModel",
            "bar_style": "success",
            "max": 150,
            "_view_module": "@jupyter-widgets/controls",
            "_model_module_version": "1.5.0",
            "value": 150,
            "_view_count": null,
            "_view_module_version": "1.5.0",
            "orientation": "horizontal",
            "min": 0,
            "description_tooltip": null,
            "_model_module": "@jupyter-widgets/controls",
            "layout": "IPY_MODEL_b59afb403c4542e69014541246828529"
          }
        },
        "d0a2cd26027e45f48567b590a5b60992": {
          "model_module": "@jupyter-widgets/controls",
          "model_name": "HTMLModel",
          "state": {
            "_view_name": "HTMLView",
            "style": "IPY_MODEL_f8e14cbbe6ad4310ad0b524a8b5dc3e8",
            "_dom_classes": [],
            "description": "",
            "_model_name": "HTMLModel",
            "placeholder": "​",
            "_view_module": "@jupyter-widgets/controls",
            "_model_module_version": "1.5.0",
            "value": " 150/150 [59:01&lt;00:00, 23.61s/epoch]",
            "_view_count": null,
            "_view_module_version": "1.5.0",
            "description_tooltip": null,
            "_model_module": "@jupyter-widgets/controls",
            "layout": "IPY_MODEL_0e7328616f344c37988ae4a84c48f7d7"
          }
        },
        "56eadc78856247e7b2f36c16496ff28d": {
          "model_module": "@jupyter-widgets/controls",
          "model_name": "ProgressStyleModel",
          "state": {
            "_view_name": "StyleView",
            "_model_name": "ProgressStyleModel",
            "description_width": "initial",
            "_view_module": "@jupyter-widgets/base",
            "_model_module_version": "1.5.0",
            "_view_count": null,
            "_view_module_version": "1.2.0",
            "bar_color": null,
            "_model_module": "@jupyter-widgets/controls"
          }
        },
        "b59afb403c4542e69014541246828529": {
          "model_module": "@jupyter-widgets/base",
          "model_name": "LayoutModel",
          "state": {
            "_view_name": "LayoutView",
            "grid_template_rows": null,
            "right": null,
            "justify_content": null,
            "_view_module": "@jupyter-widgets/base",
            "overflow": null,
            "_model_module_version": "1.2.0",
            "_view_count": null,
            "flex_flow": null,
            "width": null,
            "min_width": null,
            "border": null,
            "align_items": null,
            "bottom": null,
            "_model_module": "@jupyter-widgets/base",
            "top": null,
            "grid_column": null,
            "overflow_y": null,
            "overflow_x": null,
            "grid_auto_flow": null,
            "grid_area": null,
            "grid_template_columns": null,
            "flex": null,
            "_model_name": "LayoutModel",
            "justify_items": null,
            "grid_row": null,
            "max_height": null,
            "align_content": null,
            "visibility": null,
            "align_self": null,
            "height": null,
            "min_height": null,
            "padding": null,
            "grid_auto_rows": null,
            "grid_gap": null,
            "max_width": null,
            "order": null,
            "_view_module_version": "1.2.0",
            "grid_template_areas": null,
            "object_position": null,
            "object_fit": null,
            "grid_auto_columns": null,
            "margin": null,
            "display": null,
            "left": null
          }
        },
        "f8e14cbbe6ad4310ad0b524a8b5dc3e8": {
          "model_module": "@jupyter-widgets/controls",
          "model_name": "DescriptionStyleModel",
          "state": {
            "_view_name": "StyleView",
            "_model_name": "DescriptionStyleModel",
            "description_width": "",
            "_view_module": "@jupyter-widgets/base",
            "_model_module_version": "1.5.0",
            "_view_count": null,
            "_view_module_version": "1.2.0",
            "_model_module": "@jupyter-widgets/controls"
          }
        },
        "0e7328616f344c37988ae4a84c48f7d7": {
          "model_module": "@jupyter-widgets/base",
          "model_name": "LayoutModel",
          "state": {
            "_view_name": "LayoutView",
            "grid_template_rows": null,
            "right": null,
            "justify_content": null,
            "_view_module": "@jupyter-widgets/base",
            "overflow": null,
            "_model_module_version": "1.2.0",
            "_view_count": null,
            "flex_flow": null,
            "width": null,
            "min_width": null,
            "border": null,
            "align_items": null,
            "bottom": null,
            "_model_module": "@jupyter-widgets/base",
            "top": null,
            "grid_column": null,
            "overflow_y": null,
            "overflow_x": null,
            "grid_auto_flow": null,
            "grid_area": null,
            "grid_template_columns": null,
            "flex": null,
            "_model_name": "LayoutModel",
            "justify_items": null,
            "grid_row": null,
            "max_height": null,
            "align_content": null,
            "visibility": null,
            "align_self": null,
            "height": null,
            "min_height": null,
            "padding": null,
            "grid_auto_rows": null,
            "grid_gap": null,
            "max_width": null,
            "order": null,
            "_view_module_version": "1.2.0",
            "grid_template_areas": null,
            "object_position": null,
            "object_fit": null,
            "grid_auto_columns": null,
            "margin": null,
            "display": null,
            "left": null
          }
        }
      }
    }
  },
  "cells": [
    {
      "cell_type": "markdown",
      "metadata": {
        "id": "3p1LiIneBbzS"
      },
      "source": [
        "# Logistic Regression"
      ]
    },
    {
      "cell_type": "markdown",
      "metadata": {
        "id": "BvleGnPXR4R9"
      },
      "source": [
        "Logistic Regression is a popular technique for Classification problems. This model uses the sigmoid function to calculate the posterior probability of a Class.\n",
        "\n",
        "Here, the predictions of Logistic Regression are in the form of probabilities of an event occurring, (i.e., the probability of binary classes), given certain attribute values of input variables x."
      ]
    },
    {
      "cell_type": "markdown",
      "metadata": {
        "id": "puAht8CxTlQK"
      },
      "source": [
        "- The underlying formula for classification of the perceptron algorithm is given by:\n",
        "    - $\\hat{y} = \\sigma(w^{T}\\phi(x))$, where \n",
        "        - $\\\\sigma(n) = \\frac{1}{1+e^{-n}}$ is the sigmoid or logistic function.\n",
        "\n",
        "- The vector $w$ is obtained by training on a dataset for some iterations using gradient descent or its variants like stochastic Gradient Descent or Mini Batch Gradient Descent.\n",
        "\n",
        "- The update of w for every misclassified point is then given by: \n",
        "   - $w^{\\tau + 1} = w^{\\tau} + \\eta.▽(\\sigma(w^{T}\\phi(x)))$, \n",
        "    - where $\\\\eta$ is the learning rate,\n",
        "    - ${w}$ is the weight matrix.\n",
        "    - $\\\\phi(x)$ is a transformed feature,\n",
        "    - The value of the gradient/partial derivative (▽) is given by:\n",
        "        - $(\\hat{y} - y).\\hat{y}.(1-\\hat{y})$\n",
        "        - here $y$ is the true value and $\\hat{y}=\\\\sigma(n) = \\frac{1}{1+e^{-n}}$ is the predicted value (given by sigma function) for a data point ."
      ]
    },
    {
      "cell_type": "markdown",
      "metadata": {
        "id": "sfx05juqVK0s"
      },
      "source": [
        "## Implementation\n",
        "- The algorithm uses NumPy,pandas and matplotlib as dependencies\n",
        "- The training and testing data are vectorized using NumPy to generate predictions without explicit for loops\n",
        "- The dataset is shuffled to give 10 shuffled datasets. Each of these are split into 70:30, training and testing splits respectively\n",
        "- For **Grandient Descent Learning** we have choosen three combinations of learning rates and epochs (iterations) to get the best accuracy.\n",
        "    - In gradient descent we have trained the model on each of the 10 splits and plotted the accuracies and losses. \n",
        "    - Also the average test metrics are displayed.\n",
        "- Later, the same learning rates (but different epochs) were used to train the model using **Stochastic Gradient Descent**.\n",
        "\n",
        "**Note**: All of the above implementation is present in the 'LogReg' class. Training the shuffled splits has been done later using the 'LogReg' class."
      ]
    },
    {
      "cell_type": "markdown",
      "metadata": {
        "id": "llmOhlR1BbmC"
      },
      "source": [
        "## Imports"
      ]
    },
    {
      "cell_type": "code",
      "metadata": {
        "id": "oCdsKZ41BiKJ"
      },
      "source": [
        "import numpy as np\n",
        "import pandas as pd\n",
        "import matplotlib.pyplot as plt\n",
        "\n",
        "import pickle\n",
        "import os\n",
        "import tqdm\n",
        "from tqdm import notebook"
      ],
      "execution_count": 2,
      "outputs": []
    },
    {
      "cell_type": "markdown",
      "metadata": {
        "id": "bcO9OcGOEUbi"
      },
      "source": [
        "## Loading Data"
      ]
    },
    {
      "cell_type": "code",
      "metadata": {
        "colab": {
          "base_uri": "https://localhost:8080/"
        },
        "id": "Zt5Q-t9ZC5X4",
        "outputId": "2f48749b-4439-4459-fca9-5d4f4f90d372"
      },
      "source": [
        "from google.colab import drive\n",
        "drive.mount('/gdrive')"
      ],
      "execution_count": 3,
      "outputs": [
        {
          "output_type": "stream",
          "text": [
            "Mounted at /gdrive\n"
          ],
          "name": "stdout"
        }
      ]
    },
    {
      "cell_type": "code",
      "metadata": {
        "id": "_tAsf4aBTy8T"
      },
      "source": [
        "PARENT = '/gdrive/MyDrive/Projects/ML_Models/'"
      ],
      "execution_count": 4,
      "outputs": []
    },
    {
      "cell_type": "code",
      "metadata": {
        "colab": {
          "base_uri": "https://localhost:8080/"
        },
        "id": "S26n8lc-DqFP",
        "outputId": "1415416a-a113-43fd-a566-f87b38bf8bc0"
      },
      "source": [
        "%cd /gdrive/MyDrive/Projects/ML_Models/"
      ],
      "execution_count": 5,
      "outputs": [
        {
          "output_type": "stream",
          "text": [
            "/gdrive/MyDrive/Projects/ML_Models\n"
          ],
          "name": "stdout"
        }
      ]
    },
    {
      "cell_type": "code",
      "metadata": {
        "id": "EI06Wk1LBysh"
      },
      "source": [
        "df =  pd.read_csv('dataset_LR.csv')"
      ],
      "execution_count": 6,
      "outputs": []
    },
    {
      "cell_type": "code",
      "metadata": {
        "colab": {
          "base_uri": "https://localhost:8080/",
          "height": 0
        },
        "id": "H7njPywqFc8k",
        "outputId": "33e30121-7350-4dda-b2ec-34fb583da4c4"
      },
      "source": [
        "df.head()"
      ],
      "execution_count": 7,
      "outputs": [
        {
          "output_type": "execute_result",
          "data": {
            "text/html": [
              "<div>\n",
              "<style scoped>\n",
              "    .dataframe tbody tr th:only-of-type {\n",
              "        vertical-align: middle;\n",
              "    }\n",
              "\n",
              "    .dataframe tbody tr th {\n",
              "        vertical-align: top;\n",
              "    }\n",
              "\n",
              "    .dataframe thead th {\n",
              "        text-align: right;\n",
              "    }\n",
              "</style>\n",
              "<table border=\"1\" class=\"dataframe\">\n",
              "  <thead>\n",
              "    <tr style=\"text-align: right;\">\n",
              "      <th></th>\n",
              "      <th>attr1</th>\n",
              "      <th>attr2</th>\n",
              "      <th>attr3</th>\n",
              "      <th>attr4</th>\n",
              "      <th>class</th>\n",
              "    </tr>\n",
              "  </thead>\n",
              "  <tbody>\n",
              "    <tr>\n",
              "      <th>0</th>\n",
              "      <td>3.62160</td>\n",
              "      <td>8.6661</td>\n",
              "      <td>-2.8073</td>\n",
              "      <td>-0.44699</td>\n",
              "      <td>0</td>\n",
              "    </tr>\n",
              "    <tr>\n",
              "      <th>1</th>\n",
              "      <td>4.54590</td>\n",
              "      <td>8.1674</td>\n",
              "      <td>-2.4586</td>\n",
              "      <td>-1.46210</td>\n",
              "      <td>0</td>\n",
              "    </tr>\n",
              "    <tr>\n",
              "      <th>2</th>\n",
              "      <td>3.86600</td>\n",
              "      <td>-2.6383</td>\n",
              "      <td>1.9242</td>\n",
              "      <td>0.10645</td>\n",
              "      <td>0</td>\n",
              "    </tr>\n",
              "    <tr>\n",
              "      <th>3</th>\n",
              "      <td>3.45660</td>\n",
              "      <td>9.5228</td>\n",
              "      <td>-4.0112</td>\n",
              "      <td>-3.59440</td>\n",
              "      <td>0</td>\n",
              "    </tr>\n",
              "    <tr>\n",
              "      <th>4</th>\n",
              "      <td>0.32924</td>\n",
              "      <td>-4.4552</td>\n",
              "      <td>4.5718</td>\n",
              "      <td>-0.98880</td>\n",
              "      <td>0</td>\n",
              "    </tr>\n",
              "  </tbody>\n",
              "</table>\n",
              "</div>"
            ],
            "text/plain": [
              "     attr1   attr2   attr3    attr4  class\n",
              "0  3.62160  8.6661 -2.8073 -0.44699      0\n",
              "1  4.54590  8.1674 -2.4586 -1.46210      0\n",
              "2  3.86600 -2.6383  1.9242  0.10645      0\n",
              "3  3.45660  9.5228 -4.0112 -3.59440      0\n",
              "4  0.32924 -4.4552  4.5718 -0.98880      0"
            ]
          },
          "metadata": {
            "tags": []
          },
          "execution_count": 7
        }
      ]
    },
    {
      "cell_type": "markdown",
      "metadata": {
        "id": "J7TOkkbgBijy"
      },
      "source": [
        "## Model"
      ]
    },
    {
      "cell_type": "code",
      "metadata": {
        "id": "4BsNMEFlApBJ"
      },
      "source": [
        "class LogReg():\n",
        "\n",
        "    def __init__(self, df, standardize=False, train_size=0.7, randomize=True):\n",
        "        self.w = None\n",
        "        self.b = None\n",
        "        self.df = df\n",
        "        self.train_size = train_size\n",
        "        self.randomize = randomize\n",
        "        self.standardize = standardize\n",
        "        self.X_train, self.X_test, self.y_train, self.y_test = self.train_test_split()\n",
        "        if standardize:\n",
        "            self.standard()\n",
        "        self.accuracyList =[]\n",
        "        self.lossList =[]\n",
        "        self.attrList=[]\n",
        "        self.tAccuracy=[]\n",
        "    \n",
        "    def train_test_split(self):\n",
        "        '''\n",
        "        Randomizes the data and Splits the data points into training and testing values in the ratio given.\n",
        "        '''\n",
        "        data = np.array(self.df)\n",
        "        train_size=self.train_size\n",
        "        \n",
        "        if self.randomize:\n",
        "            np.random.shuffle(data)\n",
        "\n",
        "        X = data[:,:-1]\n",
        "        y = data[:,-1]\n",
        "\n",
        "        train = int(train_size * X.shape[0])\n",
        "        test = int((1-train_size) * X.shape[0])\n",
        "\n",
        "        X_train = X[0 : train]\n",
        "        X_test = X[train : train+test] \n",
        "        y_train = y[0 : train]\n",
        "        y_test = y[train : train+test] \n",
        "\n",
        "        return X_train, X_test, y_train, y_test\n",
        "\n",
        "    def standard(self):\n",
        "        '''\n",
        "        Normalizes the Data the given data.\n",
        "        '''\n",
        "        self.X_train = (self.X_train - self.X_train.mean(axis=0)) / self.X_train.std(axis=0)\n",
        "        self.X_test = (self.X_test - self.X_train.mean(axis=0)) / self.X_train.std(axis=0)  \n",
        "  \n",
        "    def perceptron(self, X):\n",
        "        '''\n",
        "        Evaluates the linear combination of the weights and the training data.\n",
        "        Parameters:\n",
        "            X: Training Point\n",
        "        '''\n",
        "        return np.dot(X, self.w.T) + self.b\n",
        "\n",
        "    def sigmoid(self, X):\n",
        "        '''\n",
        "        Sigmoid Function.\n",
        "        Parameters:\n",
        "            X: Training Point\n",
        "        '''\n",
        "        return 1.0 / (1.0 + np.exp(-X))\n",
        "\n",
        "    def grad_w(self, x, y):\n",
        "        '''\n",
        "        Calculates the gradient of the weight values.\n",
        "        Parameters:\n",
        "            x: Training point\n",
        "            y:  \n",
        "        '''\n",
        "        y_pred = self.sigmoid(self.perceptron(x))\n",
        "        return (y_pred - y) * y_pred * (1 - y_pred) * x\n",
        "  \n",
        "    def grad_b(self, x, y):\n",
        "        '''\n",
        "        Calculates the gradient of x_0 value.\n",
        "        Parameters:\n",
        "            x: \n",
        "            y: \n",
        "        '''\n",
        "        y_pred = self.sigmoid(self.perceptron(x))\n",
        "        return (y_pred - y) * y_pred * (1 - y_pred)\n",
        "\n",
        "    def mean_squared_error(self, y_pred, y):\n",
        "        '''\n",
        "        Evaluates the Mean Squared error of the predicted values by comparing it with the true values.\n",
        "        Parameters:\n",
        "            y_pred: Predicted values.\n",
        "            y: True output values.\n",
        "        '''\n",
        "        return sum([(y1-y2)**2 for y1, y2 in zip(y, y_pred)])/len([(y1-y2)**2 for y1, y2 in zip(y, y_pred)])\n",
        "    \n",
        "    def accuracy(self, y_pred, y):\n",
        "        '''\n",
        "        Calculates the accuracy score of the predicted values.\n",
        "        Parameters:\n",
        "            y_pred: Predicted values.\n",
        "            y: True output values.\n",
        "        '''\n",
        "        correct = 0\n",
        "        for i in range(y.shape[0]):\n",
        "            if y_pred[i]>0.5:\n",
        "                yp=1\n",
        "            else:\n",
        "                yp=0\n",
        "            if y[i] == yp:\n",
        "                correct += 1\n",
        "        return correct / float(y.shape[0])\n",
        "\n",
        "    def fit(self, X, Y, epochs = 1, learning='GD', learning_rate = 1, batch_size=1, intialize = False, display_loss=False, printValues=True):\n",
        "        '''\n",
        "        Trains the model either using Gradient Descent or Stochastic Gradient Descent.\n",
        "        Parameters:\n",
        "            X: testing sample\n",
        "        '''\n",
        "    \n",
        "        #intialize\n",
        "        if intialize:\n",
        "            self.w = np.random.randn(1, X.shape[1])\n",
        "            self.b = 0\n",
        "\n",
        "        if display_loss:\n",
        "            loss={}\n",
        "            accuracy={}\n",
        "        \n",
        "        count=0\n",
        "\n",
        "        for i in tqdm.notebook.tqdm(range(epochs), total=epochs, unit=\"epoch\"):\n",
        "            dw = 0\n",
        "            db = 0\n",
        "\n",
        "            if learning == 'GD':\n",
        "                for x, y in zip(X, Y):\n",
        "                    dw += self.grad_w(x,y)\n",
        "                    db += self.grad_b(x,y)\n",
        "                self.w -= learning_rate * (dw/X.shape[0])\n",
        "                self.b -= learning_rate * (db/X.shape[0])\n",
        "\n",
        "            if learning == 'SGD':\n",
        "                # for j in range(X.shape[0]):\n",
        "                randInt = np.random.randint(0,X.shape[0])\n",
        "                x = X[randInt, :]\n",
        "                y = Y[randInt]\n",
        "                dw += self.grad_w(x,y)\n",
        "                db += self.grad_b(x,y)\n",
        "                self.w -= learning_rate * dw\n",
        "                self.b -= learning_rate * db\n",
        "\n",
        "            if learning == 'MBSGD':\n",
        "                randInt = np.arange(0, X.shape[0], batch_size)\n",
        "                np.random.shuffle(randInt)\n",
        "                for j in range(randInt.shape[0]):\n",
        "                    x = X[randInt[j], :]\n",
        "                    y = Y[randInt[j]]\n",
        "                    dw += self.grad_w(x,y)\n",
        "                    db += self.grad_b(x,y)\n",
        "                self.w -= learning_rate * dw\n",
        "                self.b -= learning_rate * db\n",
        "\n",
        "            if display_loss:\n",
        "                Y_pred = self.sigmoid(self.perceptron(X))\n",
        "                loss[i] = self.mean_squared_error(Y_pred,Y)[0]\n",
        "                accuracy[i] = self.accuracy(Y_pred,Y)\n",
        "                if printValues and i%50==0:\n",
        "                    print('Epoch:', i,'Loss:', loss[i],'Accuracy:', accuracy[i])\n",
        "\n",
        "        if display_loss and count%50==0:\n",
        "            plt.subplot(2, 1, 1)\n",
        "            plt.plot(list(loss.values()))\n",
        "            plt.xlabel('Epochs')\n",
        "            plt.ylabel('Mean Squared Error')\n",
        "\n",
        "            plt.subplot(2, 1, 2)\n",
        "            plt.plot(list(accuracy.values()))\n",
        "            plt.xlabel('Epochs')\n",
        "            plt.ylabel('Accuracy')\n",
        "            \n",
        "            plt.show()\n",
        "        count=count+1\n",
        "\n",
        "        self.attrList += [np.argmax(self.w)+1]\n",
        "        self.lossList += [loss[epochs-1]]\n",
        "        self.accuracyList += [accuracy[epochs-1]]\n",
        "\n",
        "    def predict(self, X):\n",
        "        '''\n",
        "        Evaluates the sigmoid function value of the given data.\n",
        "        Parameters:\n",
        "            X: testing sample\n",
        "        '''\n",
        "        # Y_pred = []\n",
        "        # for x in X:\n",
        "        #     y_pred = self.sigmoid(self.perceptron(x))\n",
        "        #     Y_pred.append(y_pred)\n",
        "        return self.sigmoid(self.perceptron(X))\n",
        "    \n",
        "    def binarize(self, X, threshold=0.5):\n",
        "        '''\n",
        "        Evaluates the binary labels of the given data.\n",
        "        Parameters:\n",
        "            X: testing sample\n",
        "        '''\n",
        "        y_pred = self.predict(X)\n",
        "        Y_p = []\n",
        "        for y in range(y_pred.shape[0]):\n",
        "            if y_pred[y]>threshold:\n",
        "                Y_p+=[1]\n",
        "            else:\n",
        "                Y_p+=[0]\n",
        "        return np.array(Y_p)\n",
        "\n",
        "    def evaluate(self, x_test, y_test, display_confusion_matrix=True):\n",
        "        '''\n",
        "        Evaluates the model for a given testing data\n",
        "        Parameters:\n",
        "            x_test: testing samples\n",
        "            y_test: testing labels\n",
        "        '''\n",
        "\n",
        "        y_pred = self.binarize(x_test)\n",
        "        dict = self.report(y_pred, y_test)\n",
        "        print('Classification Report') \n",
        "        n = np.array(list(dict.items()))\n",
        "        df = pd.DataFrame(n[:,1], index=n[:,0], columns=[''])\n",
        "        print(df)\n",
        "        if display_confusion_matrix:\n",
        "            self.confusion_matrix(dict)\n",
        "\n",
        "    def train_k_splits(self, k, epochs=2000, learning = 'GD', learning_rate=0.015, batch_size=1, printVal=True):\n",
        "        '''\n",
        "        Performs k-fold validation on the given data.  \n",
        "        Parameters:\n",
        "            data\n",
        "            k: No. of folds\n",
        "        '''\n",
        "        \n",
        "        TP, TN, FP, FN, Total, accuracy, recall, precision=0, 0, 0, 0, 0, 0, 0, 0\n",
        "\n",
        "        print('Total of 10 Splits:')        \n",
        "        for i in range(k):\n",
        "\n",
        "            print()            \n",
        "            print('Split', i+1,': ')\n",
        "            X_train, X_test, Y_train, Y_test = self.train_test_split()  \n",
        "            if self.standardize:\n",
        "                self.standard()\n",
        "                \n",
        "            print('Training the Model...')\n",
        "            displayLoss=True\n",
        "            self.fit(X_train, Y_train, epochs, learning=learning, learning_rate=learning_rate , intialize = True, display_loss=displayLoss, batch_size=batch_size, printValues=printVal)\n",
        "            print()\n",
        "            print('Trained the Model.')\n",
        "            print()\n",
        "\n",
        "            y_pred = self.binarize(X_test)            \n",
        "            metric_dict = self.report(y_pred, Y_test)\n",
        "            print('The most important feature is \\'attr', np.argmax(self.w)+1, '\\'','with weight', self.w[0][np.argmax(self.w)])\n",
        "            \n",
        "            TP+=metric_dict['TP']\n",
        "            TN+=metric_dict['TN']\n",
        "            FP+=metric_dict['FP']\n",
        "            FN+=metric_dict['FN']\n",
        "            Total+=metric_dict['Total']\n",
        "            accuracy+=metric_dict['Accuracy']\n",
        "            self.tAccuracy += [metric_dict['Accuracy']]\n",
        "            precision+=metric_dict['Precision']\n",
        "            recall+=metric_dict['Recall']\n",
        "            \n",
        "            self.evaluate(X_test, Y_test, display_confusion_matrix=False)\n",
        "            print('Loss : ', self.lossList[i])\n",
        "        \n",
        "        avg = {'TP':TP/k, 'TN':TN/k, 'FP':FP/k, 'FN':FN/k, 'Total':Total/k, 'Accuracy':accuracy/k, 'Recall':recall/k, 'Precision':precision/k}\n",
        "        \n",
        "        print()\n",
        "        print()\n",
        "        print('Final Classification Report (Average Values across ', k, ' splits)') \n",
        "        n = np.array(list(avg.items()))\n",
        "        df = pd.DataFrame(n[:,1], index=n[:,0], columns=[''])\n",
        "        print(df)\n",
        "        print('Average Loss : ', np.array(self.lossList).mean())\n",
        "        print('Most important feature is \\'attr', np.argmax(np.bincount(self.attrList)), '\\'')\n",
        "        self.confusion_matrix(avg)\n",
        "    \n",
        "    def report(self, y_pred, y_test):\n",
        "        '''\n",
        "        calculates precision and recall metrics\n",
        "        Parameters:\n",
        "            y_pred: predicted labels on a testing set\n",
        "            y_test: true labels of the testing set\n",
        "        '''\n",
        "        \n",
        "        TP=0\n",
        "        TN=0\n",
        "        FP=0\n",
        "        FN=0\n",
        "        Total=len(y_pred)\n",
        "        for pred, test in zip(y_pred, y_test):\n",
        "            if pred==test:\n",
        "                if pred==0:\n",
        "                    TN+=1\n",
        "                else:\n",
        "                    TP+=1\n",
        "            else:\n",
        "                if pred==1:\n",
        "                    FP+=1\n",
        "                else:\n",
        "                    FN+=1\n",
        "        \n",
        "        accuracy = (TP+TN) / Total\n",
        "        recall = TP / (TP+FN)\n",
        "        precision = TP / (TP+FP)\n",
        "        \n",
        "        return {'TP':TP, 'TN':TN, 'FP':FP, 'FN':FN, 'Total':Total, 'Accuracy':accuracy, 'Recall':recall, 'Precision':precision}\n",
        "        \n",
        "    def confusion_matrix(self, report_val):\n",
        "        '''\n",
        "        Plots the confusion Matrix of the given data.\n",
        "        '''\n",
        "        \n",
        "        fig, ax = plt.subplots()\n",
        "        classes = ['Positive', 'Negitive']\n",
        "        t = report_val['Total']\n",
        "        report = np.array([[report_val['TN']/t, report_val['FP']/t], [report_val['FN']/t, report_val['TP']/t]])\n",
        "        im = ax.imshow(report, cmap = 'Blues')\n",
        "\n",
        "        ax.set_xticks(np.arange(len(classes)))\n",
        "        ax.set_yticks(np.arange(len(classes)))\n",
        "\n",
        "        ax.set_xticklabels(classes)\n",
        "        ax.set_yticklabels(classes)\n",
        "\n",
        "\n",
        "        plt.setp(ax.get_xticklabels(), rotation_mode=\"anchor\")\n",
        "        \n",
        "        group_names = ['True Neg','False Pos', 'False Neg','True Pos']\n",
        "        group_percentages = ['{0:.2%}'.format(value) for value in report.flatten()]\n",
        "\n",
        "        labels = [f'{v1}\\n{v2}' for v1, v2 in zip(group_names,group_percentages)]\n",
        "        labels = np.asarray(labels).reshape(2,2)\n",
        "\n",
        "        for i in range(len(classes)):\n",
        "            for j in range(len(classes)):\n",
        "                text = ax.text(j, i, labels[i, j], ha=\"center\", va=\"center\")\n",
        "\n",
        "        ax.set_title('Confusion Matrix', fontdict = {'size':18}, pad = 20)\n",
        "        \n",
        "        fig.tight_layout()\n",
        "        plt.xlabel(\"Predicted values\", fontdict = {'size':14}, labelpad = 10)\n",
        "        plt.ylabel(\"Actual values\"   , fontdict = {'size':14}, labelpad = 10)\n",
        "        plt.show()"
      ],
      "execution_count": 50,
      "outputs": []
    },
    {
      "cell_type": "markdown",
      "metadata": {
        "id": "iigLkFOBKBZk"
      },
      "source": [
        "## Gradient Descent"
      ]
    },
    {
      "cell_type": "markdown",
      "metadata": {
        "id": "6AemxoquqJGV"
      },
      "source": [
        "In **Gradient Descent** we iterate over all the $n$ training points and update the weights (matrix) at each point in each epoch of learning. \n",
        "\n",
        "The weights are updated in such a way that we minimize the loss, by moving downwards along the gradient to reach the global minima.\n",
        "\n",
        "Each update is given by:\n",
        " - $w^{\\tau + 1} = w^{\\tau} + \\eta.\\sum_{i=1}^n{▽(\\sigma(w^{T}\\phi(x_{n})))}$, \n",
        "    - where $\\\\eta$ is the learning rate,\n",
        "    - ${w}$ is the weight matrix.\n",
        "    - $\\\\phi(x_{n})$ is the transformed feature of the nth data point.\n",
        "    - The value of the gradient/partial derivative (▽) is given by:\n",
        "        - $(\\hat{y} - y).\\hat{y}.(1-\\hat{y})$\n",
        "        , here $\\hat{y}=\\sigma(w^{T}\\phi(x_{n})) = \\frac{1}{1+e^{-w^{T}\\phi(x_{n})}}$\n",
        "\n"
      ]
    },
    {
      "cell_type": "markdown",
      "metadata": {
        "id": "R-eTsd1dg0xb"
      },
      "source": [
        "The model has been trained on the learning rates 0.015, 0.1, and 0.5 using Gradient Decsent.\n",
        "\n",
        "We have normalized the dataset for 0.1 and 0.5 learning rates. This has given a better accuracy in gradient Descent."
      ]
    },
    {
      "cell_type": "markdown",
      "metadata": {
        "id": "stzs820wIiYG"
      },
      "source": [
        "### Learning Rate = 0.1 and Epochs = 1000 - Accuracy = 97.37% - Normalized"
      ]
    },
    {
      "cell_type": "code",
      "metadata": {
        "id": "uD2MbAXPIrFH"
      },
      "source": [
        "GD1 = LogReg(df, standardize=True)"
      ],
      "execution_count": 51,
      "outputs": []
    },
    {
      "cell_type": "code",
      "metadata": {
        "colab": {
          "base_uri": "https://localhost:8080/",
          "height": 1000,
          "referenced_widgets": [
            "99be6c194d3f49b0be33afe805eaf473",
            "110d8aa93d0c4abdb655c2a6b6de0058",
            "75c030ba08d649ef9d885ed9fb9111d8",
            "3a3d2190c37f440eb5730a80c26c49ef",
            "e0c059101ba347b4b4a8ec5af47bf9c2",
            "400064423707463798cb723eeb43cda6",
            "2b10853749fa495491c03d662a5b9065",
            "8118622c2eb84db5aa1a0dc80e4de247",
            "1e34075af6c04785b83ee05984ab213a",
            "6d035059a4644f0393af1005910d558a",
            "912ecb63b69a419398fa8cf81ce8d287",
            "edf968f0e93047e0a7825245e9568a0c",
            "61c0720290134e71ad7f27126999a748",
            "6b1f28212da846ccac57a1f458ecb855",
            "5db049396e5243f5abc5572967c9bb42",
            "d758e207a3ee4483b6a5207cc3dc6dd5",
            "2ef06bad1470479b836ef525ee26df13",
            "707779ad2b0e4f99b79f7a7c6d8413d4",
            "17f6643d327c4f599a5bf7e480a9c4a9",
            "d37da38a8c714ffdb2ab93654c3809c5",
            "3e92d123398d4c41bd9358da5c0c9436",
            "842a2b45f2e942fa9e2a3468596f4d66",
            "7082c704493b447c8cf276d669509640",
            "01a2739aacc0466c999b8b7fdb598b01",
            "833de8d6541e4151ae53892d233340f9",
            "4c6996a5fe2d43f7b8a4f1e0af309716",
            "837858750e5b41bb982439fb286ec401",
            "f48430010eab471ea963814c94fc0a50",
            "11ca09ce5e2849ba81c54e2c00179cae",
            "b804b703152142abb5634945c79325c2",
            "0e0c2f5b60b54e77ae4a96079a0c3d53",
            "4b4e90f36b9f469b8cf779ed170ab6de",
            "5c3d7ccd8eb14f71ad74c9034d6c4b16",
            "67aa9692286843bc862f17266832b798",
            "8ca05cb0875c4e5b90ba2258ccbe33c8",
            "0337607cc6ec43b98a5a060df5b88cf4",
            "5d074dfbd6a6461fb6110e477cebb99a",
            "9492de869f634215a1372a46790d3f1f",
            "48612cbd226f4724b5e4951e3932f1ee",
            "1316646d1c7f4dd2b651983d333eb24b",
            "2cf2da7ad2b94908b2d44242d0117264",
            "f49962abe7e14dee83c712ad08090f7b",
            "f1b1d36d891048d6a6947dfa4f2c11c7",
            "9022f74682a04f7c887c27c91eac8cbf",
            "e0864017406047b890a69a93d000926a",
            "b9c885cf825242598c2212ccd3cc11bb",
            "33aab6101e3d475ea6453e963bc409ec",
            "703d657a635843e6950db172364dc0d8",
            "e2c58b2791c149fa9fed93f6b935ee8e",
            "e9a5a7e2b903418f8f2bdf4bbd5e2233",
            "2b009cddb7a64e7cb699c0f0435d24dc",
            "f70c9fdea0124339ac61ee1de5c2b42d",
            "b2838058653d4cdc96f1a75d7bf4875a",
            "b460f3e44bbb4823a8ebf7695623f653",
            "0591591dee9d4bd599fb30e1f8ddf768",
            "e00c158a9bb1407eba56450f0cf8939a",
            "f0566f5e6ba9483d9900aa9f52578a94",
            "d006acc5b6cb4e018ffe95bcd34280ca",
            "03813468c4be4a43a2eb3c008c723c8a",
            "08207a2020c7423da9112dd10fbae5e1",
            "e7eeddc278664eaa83fc734c524160d2",
            "6e9c2dfc9a1c47ea9aae5390dd3be471",
            "ea3115d3fff94acbb81366a8dc8e5985",
            "0a8e023a33e04f57bc374e1327acc2f3",
            "9ee87635e9e04f5298d4f4adc939f7f7",
            "81cbea2696c041e0b19cd059657497ba",
            "33906d00c0694f7e849bbd0f8c7f4d2c",
            "745897d02d6e4b23980102f9abed75a8",
            "afcd09c35061475bb86ea7eddc14ba83",
            "3ca548ac362c4dffad1a8c56201b11b5",
            "77e69141cf12468796260de80b43ef2f",
            "3ca13a028da244789eddaa0fe8ba3145",
            "3e0645fcb24447148a63381cb9555134",
            "1fa139fdf67342448c2e29290d1be88b",
            "d96c267e4bc441ac8b545e1f650560d5",
            "fa246d859ecf430cb2ba0eb59433157e",
            "4428fb8ffa9b46b0bb8dc4d4c59b0c4b",
            "e7aa37bf3d4d48feb587b7aa39af582f",
            "b03a2722325249449b0626c994fa1606",
            "12aab12e568f4cd68f44ca5a08a430e1"
          ]
        },
        "id": "XSvKeJSEKvo8",
        "outputId": "5c42c108-844a-4a15-8280-2eb220cf6302"
      },
      "source": [
        "GD1.train_k_splits(10, epochs=1000, learning_rate=0.1, printVal=False)"
      ],
      "execution_count": 53,
      "outputs": [
        {
          "output_type": "stream",
          "text": [
            "Total of 10 Splits:\n",
            "\n",
            "Split 1 : \n",
            "Training the Model...\n"
          ],
          "name": "stdout"
        },
        {
          "output_type": "display_data",
          "data": {
            "application/vnd.jupyter.widget-view+json": {
              "model_id": "99be6c194d3f49b0be33afe805eaf473",
              "version_minor": 0,
              "version_major": 2
            },
            "text/plain": [
              "HBox(children=(FloatProgress(value=0.0, max=1000.0), HTML(value='')))"
            ]
          },
          "metadata": {
            "tags": []
          }
        },
        {
          "output_type": "stream",
          "text": [
            "\n"
          ],
          "name": "stdout"
        },
        {
          "output_type": "display_data",
          "data": {
            "image/png": "[encoded data removed]",
            "text/plain": [
              "<Figure size 432x288 with 2 Axes>"
            ]
          },
          "metadata": {
            "tags": [],
            "needs_background": "light"
          }
        },
        {
          "output_type": "stream",
          "text": [
            "\n",
            "Trained the Model.\n",
            "\n",
            "The most important feature is 'attr 4 ' with weight -0.2051830284322597\n",
            "Classification Report\n",
            "                             \n",
            "TP                        174\n",
            "TN                        234\n",
            "FP                          1\n",
            "FN                          2\n",
            "Total                     411\n",
            "Accuracy   0.9927007299270073\n",
            "Recall     0.9886363636363636\n",
            "Precision  0.9942857142857143\n",
            "Loss :  0.01538459726487873\n",
            "\n",
            "Split 2 : \n",
            "Training the Model...\n"
          ],
          "name": "stdout"
        },
        {
          "output_type": "display_data",
          "data": {
            "application/vnd.jupyter.widget-view+json": {
              "model_id": "1e34075af6c04785b83ee05984ab213a",
              "version_minor": 0,
              "version_major": 2
            },
            "text/plain": [
              "HBox(children=(FloatProgress(value=0.0, max=1000.0), HTML(value='')))"
            ]
          },
          "metadata": {
            "tags": []
          }
        },
        {
          "output_type": "stream",
          "text": [
            "\n"
          ],
          "name": "stdout"
        },
        {
          "output_type": "display_data",
          "data": {
            "image/png": "[encoded data removed]",
            "text/plain": [
              "<Figure size 432x288 with 2 Axes>"
            ]
          },
          "metadata": {
            "tags": [],
            "needs_background": "light"
          }
        },
        {
          "output_type": "stream",
          "text": [
            "\n",
            "Trained the Model.\n",
            "\n",
            "The most important feature is 'attr 4 ' with weight -0.24270650088840867\n",
            "Classification Report\n",
            "                             \n",
            "TP                        184\n",
            "TN                        222\n",
            "FP                          2\n",
            "FN                          3\n",
            "Total                     411\n",
            "Accuracy   0.9878345498783455\n",
            "Recall      0.983957219251337\n",
            "Precision   0.989247311827957\n",
            "Loss :  0.018471843849633646\n",
            "\n",
            "Split 3 : \n",
            "Training the Model...\n"
          ],
          "name": "stdout"
        },
        {
          "output_type": "display_data",
          "data": {
            "application/vnd.jupyter.widget-view+json": {
              "model_id": "2ef06bad1470479b836ef525ee26df13",
              "version_minor": 0,
              "version_major": 2
            },
            "text/plain": [
              "HBox(children=(FloatProgress(value=0.0, max=1000.0), HTML(value='')))"
            ]
          },
          "metadata": {
            "tags": []
          }
        },
        {
          "output_type": "stream",
          "text": [
            "\n"
          ],
          "name": "stdout"
        },
        {
          "output_type": "display_data",
          "data": {
            "image/png": "[encoded data removed]",
            "text/plain": [
              "<Figure size 432x288 with 2 Axes>"
            ]
          },
          "metadata": {
            "tags": [],
            "needs_background": "light"
          }
        },
        {
          "output_type": "stream",
          "text": [
            "\n",
            "Trained the Model.\n",
            "\n",
            "The most important feature is 'attr 4 ' with weight -0.351787006478518\n",
            "Classification Report\n",
            "                             \n",
            "TP                        177\n",
            "TN                        227\n",
            "FP                          2\n",
            "FN                          5\n",
            "Total                     411\n",
            "Accuracy   0.9829683698296837\n",
            "Recall     0.9725274725274725\n",
            "Precision  0.9888268156424581\n",
            "Loss :  0.017425970336899146\n",
            "\n",
            "Split 4 : \n",
            "Training the Model...\n"
          ],
          "name": "stdout"
        },
        {
          "output_type": "display_data",
          "data": {
            "application/vnd.jupyter.widget-view+json": {
              "model_id": "833de8d6541e4151ae53892d233340f9",
              "version_minor": 0,
              "version_major": 2
            },
            "text/plain": [
              "HBox(children=(FloatProgress(value=0.0, max=1000.0), HTML(value='')))"
            ]
          },
          "metadata": {
            "tags": []
          }
        },
        {
          "output_type": "stream",
          "text": [
            "\n"
          ],
          "name": "stdout"
        },
        {
          "output_type": "display_data",
          "data": {
            "image/png": "[encoded data removed]",
            "text/plain": [
              "<Figure size 432x288 with 2 Axes>"
            ]
          },
          "metadata": {
            "tags": [],
            "needs_background": "light"
          }
        },
        {
          "output_type": "stream",
          "text": [
            "\n",
            "Trained the Model.\n",
            "\n",
            "The most important feature is 'attr 4 ' with weight -0.23236868464321747\n",
            "Classification Report\n",
            "                             \n",
            "TP                        170\n",
            "TN                        233\n",
            "FP                          2\n",
            "FN                          6\n",
            "Total                     411\n",
            "Accuracy   0.9805352798053528\n",
            "Recall     0.9659090909090909\n",
            "Precision  0.9883720930232558\n",
            "Loss :  0.01626747504982501\n",
            "\n",
            "Split 5 : \n",
            "Training the Model...\n"
          ],
          "name": "stdout"
        },
        {
          "output_type": "display_data",
          "data": {
            "application/vnd.jupyter.widget-view+json": {
              "model_id": "5c3d7ccd8eb14f71ad74c9034d6c4b16",
              "version_minor": 0,
              "version_major": 2
            },
            "text/plain": [
              "HBox(children=(FloatProgress(value=0.0, max=1000.0), HTML(value='')))"
            ]
          },
          "metadata": {
            "tags": []
          }
        },
        {
          "output_type": "stream",
          "text": [
            "\n"
          ],
          "name": "stdout"
        },
        {
          "output_type": "display_data",
          "data": {
            "image/png": "[encoded data removed]",
            "text/plain": [
              "<Figure size 432x288 with 2 Axes>"
            ]
          },
          "metadata": {
            "tags": [],
            "needs_background": "light"
          }
        },
        {
          "output_type": "stream",
          "text": [
            "\n",
            "Trained the Model.\n",
            "\n",
            "The most important feature is 'attr 4 ' with weight 0.07379100560289195\n",
            "Classification Report\n",
            "                             \n",
            "TP                        177\n",
            "TN                        216\n",
            "FP                          3\n",
            "FN                         15\n",
            "Total                     411\n",
            "Accuracy   0.9562043795620438\n",
            "Recall               0.921875\n",
            "Precision  0.9833333333333333\n",
            "Loss :  0.025569001386472303\n",
            "\n",
            "Split 6 : \n",
            "Training the Model...\n"
          ],
          "name": "stdout"
        },
        {
          "output_type": "display_data",
          "data": {
            "application/vnd.jupyter.widget-view+json": {
              "model_id": "2cf2da7ad2b94908b2d44242d0117264",
              "version_minor": 0,
              "version_major": 2
            },
            "text/plain": [
              "HBox(children=(FloatProgress(value=0.0, max=1000.0), HTML(value='')))"
            ]
          },
          "metadata": {
            "tags": []
          }
        },
        {
          "output_type": "stream",
          "text": [
            "\n"
          ],
          "name": "stdout"
        },
        {
          "output_type": "display_data",
          "data": {
            "image/png": "[encoded data removed]",
            "text/plain": [
              "<Figure size 432x288 with 2 Axes>"
            ]
          },
          "metadata": {
            "tags": [],
            "needs_background": "light"
          }
        },
        {
          "output_type": "stream",
          "text": [
            "\n",
            "Trained the Model.\n",
            "\n",
            "The most important feature is 'attr 3 ' with weight -0.5708424301548597\n",
            "Classification Report\n",
            "                             \n",
            "TP                        153\n",
            "TN                        222\n",
            "FP                         11\n",
            "FN                         25\n",
            "Total                     411\n",
            "Accuracy   0.9124087591240876\n",
            "Recall     0.8595505617977528\n",
            "Precision  0.9329268292682927\n",
            "Loss :  0.02618668921868415\n",
            "\n",
            "Split 7 : \n",
            "Training the Model...\n"
          ],
          "name": "stdout"
        },
        {
          "output_type": "display_data",
          "data": {
            "application/vnd.jupyter.widget-view+json": {
              "model_id": "e2c58b2791c149fa9fed93f6b935ee8e",
              "version_minor": 0,
              "version_major": 2
            },
            "text/plain": [
              "HBox(children=(FloatProgress(value=0.0, max=1000.0), HTML(value='')))"
            ]
          },
          "metadata": {
            "tags": []
          }
        },
        {
          "output_type": "stream",
          "text": [
            "\n"
          ],
          "name": "stdout"
        },
        {
          "output_type": "display_data",
          "data": {
            "image/png": "[encoded data removed]",
            "text/plain": [
              "<Figure size 432x288 with 2 Axes>"
            ]
          },
          "metadata": {
            "tags": [],
            "needs_background": "light"
          }
        },
        {
          "output_type": "stream",
          "text": [
            "\n",
            "Trained the Model.\n",
            "\n",
            "The most important feature is 'attr 4 ' with weight -0.18444285338235528\n",
            "Classification Report\n",
            "                             \n",
            "TP                        176\n",
            "TN                        227\n",
            "FP                          6\n",
            "FN                          2\n",
            "Total                     411\n",
            "Accuracy   0.9805352798053528\n",
            "Recall     0.9887640449438202\n",
            "Precision   0.967032967032967\n",
            "Loss :  0.061488747945488566\n",
            "\n",
            "Split 8 : \n",
            "Training the Model...\n"
          ],
          "name": "stdout"
        },
        {
          "output_type": "display_data",
          "data": {
            "application/vnd.jupyter.widget-view+json": {
              "model_id": "f0566f5e6ba9483d9900aa9f52578a94",
              "version_minor": 0,
              "version_major": 2
            },
            "text/plain": [
              "HBox(children=(FloatProgress(value=0.0, max=1000.0), HTML(value='')))"
            ]
          },
          "metadata": {
            "tags": []
          }
        },
        {
          "output_type": "stream",
          "text": [
            "\n"
          ],
          "name": "stdout"
        },
        {
          "output_type": "display_data",
          "data": {
            "image/png": "[encoded data removed]",
            "text/plain": [
              "<Figure size 432x288 with 2 Axes>"
            ]
          },
          "metadata": {
            "tags": [],
            "needs_background": "light"
          }
        },
        {
          "output_type": "stream",
          "text": [
            "\n",
            "Trained the Model.\n",
            "\n",
            "The most important feature is 'attr 4 ' with weight -0.7375734135586725\n",
            "Classification Report\n",
            "                             \n",
            "TP                        188\n",
            "TN                        215\n",
            "FP                          4\n",
            "FN                          4\n",
            "Total                     411\n",
            "Accuracy   0.9805352798053528\n",
            "Recall     0.9791666666666666\n",
            "Precision  0.9791666666666666\n",
            "Loss :  0.017191361322680895\n",
            "\n",
            "Split 9 : \n",
            "Training the Model...\n"
          ],
          "name": "stdout"
        },
        {
          "output_type": "display_data",
          "data": {
            "application/vnd.jupyter.widget-view+json": {
              "model_id": "9ee87635e9e04f5298d4f4adc939f7f7",
              "version_minor": 0,
              "version_major": 2
            },
            "text/plain": [
              "HBox(children=(FloatProgress(value=0.0, max=1000.0), HTML(value='')))"
            ]
          },
          "metadata": {
            "tags": []
          }
        },
        {
          "output_type": "stream",
          "text": [
            "\n"
          ],
          "name": "stdout"
        },
        {
          "output_type": "display_data",
          "data": {
            "image/png": "[encoded data removed]",
            "text/plain": [
              "<Figure size 432x288 with 2 Axes>"
            ]
          },
          "metadata": {
            "tags": [],
            "needs_background": "light"
          }
        },
        {
          "output_type": "stream",
          "text": [
            "\n",
            "Trained the Model.\n",
            "\n",
            "The most important feature is 'attr 4 ' with weight -0.12914423681353157\n",
            "Classification Report\n",
            "                             \n",
            "TP                        174\n",
            "TN                        231\n",
            "FP                          3\n",
            "FN                          3\n",
            "Total                     411\n",
            "Accuracy   0.9854014598540146\n",
            "Recall     0.9830508474576272\n",
            "Precision  0.9830508474576272\n",
            "Loss :  0.02419252291573717\n",
            "\n",
            "Split 10 : \n",
            "Training the Model...\n"
          ],
          "name": "stdout"
        },
        {
          "output_type": "display_data",
          "data": {
            "application/vnd.jupyter.widget-view+json": {
              "model_id": "3e0645fcb24447148a63381cb9555134",
              "version_minor": 0,
              "version_major": 2
            },
            "text/plain": [
              "HBox(children=(FloatProgress(value=0.0, max=1000.0), HTML(value='')))"
            ]
          },
          "metadata": {
            "tags": []
          }
        },
        {
          "output_type": "stream",
          "text": [
            "\n"
          ],
          "name": "stdout"
        },
        {
          "output_type": "display_data",
          "data": {
            "image/png": "[encoded data removed]",
            "text/plain": [
              "<Figure size 432x288 with 2 Axes>"
            ]
          },
          "metadata": {
            "tags": [],
            "needs_background": "light"
          }
        },
        {
          "output_type": "stream",
          "text": [
            "\n",
            "Trained the Model.\n",
            "\n",
            "The most important feature is 'attr 4 ' with weight -0.15400095885376502\n",
            "Classification Report\n",
            "                             \n",
            "TP                        177\n",
            "TN                        225\n",
            "FP                          2\n",
            "FN                          7\n",
            "Total                     411\n",
            "Accuracy   0.9781021897810219\n",
            "Recall     0.9619565217391305\n",
            "Precision  0.9888268156424581\n",
            "Loss :  0.01738622521649361\n",
            "\n",
            "\n",
            "Final Classification Report (Average Values across  10  splits)\n",
            "                             \n",
            "TP                      175.0\n",
            "TN                      225.2\n",
            "FP                        3.6\n",
            "FN                        7.2\n",
            "Total                   411.0\n",
            "Accuracy   0.9737226277372264\n",
            "Recall     0.9605393788929261\n",
            "Precision  0.9795069394180729\n",
            "Average Loss :  0.023497592092693243\n",
            "Most important feature is 'attr 4 '\n"
          ],
          "name": "stdout"
        },
        {
          "output_type": "display_data",
          "data": {
            "image/png": "[encoded data removed]",
            "text/plain": [
              "<Figure size 432x288 with 1 Axes>"
            ]
          },
          "metadata": {
            "tags": [],
            "needs_background": "light"
          }
        }
      ]
    },
    {
      "cell_type": "code",
      "metadata": {
        "colab": {
          "base_uri": "https://localhost:8080/",
          "height": 279
        },
        "id": "wlLuECM_Obhq",
        "outputId": "2a37df0c-e84e-4811-d2d2-196d67dc746d"
      },
      "source": [
        "plt.subplot(3, 1, 1)\n",
        "plt.plot(GD1.lossList[:10])\n",
        "plt.xlabel('Splits')\n",
        "plt.ylabel('MSE')\n",
        "\n",
        "plt.subplot(3, 1, 2)\n",
        "plt.plot(GD1.accuracyList[:10])\n",
        "plt.xlabel('Splits')\n",
        "plt.ylabel('Train Accuracy')\n",
        "\n",
        "plt.subplot(3, 1, 3)\n",
        "plt.plot(GD1.tAccuracy[:10])\n",
        "plt.xlabel('Splits')\n",
        "plt.ylabel('Test Accuracy')\n",
        "\n",
        "plt.show()"
      ],
      "execution_count": 54,
      "outputs": [
        {
          "output_type": "display_data",
          "data": {
            "image/png": "[encoded data removed]",
            "text/plain": [
              "<Figure size 432x288 with 3 Axes>"
            ]
          },
          "metadata": {
            "tags": [],
            "needs_background": "light"
          }
        }
      ]
    },
    {
      "cell_type": "markdown",
      "metadata": {
        "id": "xd-yD3AHFWNS"
      },
      "source": [
        "### Learning Rate =0.5 and Epochs = 1000 - Accuracy = 99.09% - Standardized Data"
      ]
    },
    {
      "cell_type": "code",
      "metadata": {
        "id": "FETSBCHbFZmz"
      },
      "source": [
        "GD2 = LogReg(df, standardize=True)"
      ],
      "execution_count": 55,
      "outputs": []
    },
    {
      "cell_type": "code",
      "metadata": {
        "colab": {
          "base_uri": "https://localhost:8080/",
          "height": 0,
          "referenced_widgets": [
            "3974d92c31ac4b0e972d264351847753",
            "f98b9c483c14495ab24b354e49046388",
            "2ec5b82540e944c7954f982faf95bf2a",
            "13022179629e4dd79a5eac392e628b44",
            "8c32c11a165a4264854f64a0f06747dd",
            "1189dbc333d9469084f47e23f9c3591b",
            "db930830d7e54776b3309eba3c5285d0",
            "81627ddcb966442eada6375b527eed7f",
            "283df5f60bd24976aa652dce7c0ededc",
            "b0bbea1ae6464a14b47253fb1d2b676d",
            "aa72f5de2a074bc1b7df350c6a08e786",
            "df273d1291174ad7a01f058568ddf4bf",
            "c8f37d9a92544ca3b032306eac16cd07",
            "e4519c4b28ac403d8abb1890e8c4fbd6",
            "6370d93c279a4638ae1ebaf28980f205",
            "6a5d9e79deab41179388ae4e40a46920",
            "f994c4d3a1974f3484eb8d2d3a681d26",
            "78ef301776ef41a3b7fb9fbc86d247fc",
            "4006aef2d8d5445e9dff8c98e4d736cc",
            "7676e909b6fa425f9ba3d472c36d4ea3",
            "db92d8e57a484a4cb06818b77ac2fcd4",
            "e62b6b57003244b5945605d379fbb13e",
            "dcd58ad271fd44f69dc945975cfc737e",
            "852a57b1a719419c9d0893da917c6567",
            "6665dfc61c994ee2a1abb9c36ec47d89",
            "e40a482c43b3424b9b9194d38e9f307c",
            "48ec5f423cff41169d954c66abdc9253",
            "0d5bec1b55e348b989bf0e98cbcbffe2",
            "c37aea9b3ee4483a8318ee8251fc2152",
            "06af6cf952f04213987f2c9dafe088ae",
            "e545dd7134244fdab56bd87942a910cf",
            "fbe1f423e7ac4518838cbee8689c7bbb",
            "c4f80dd0613d420fa6f7475e2d2a30f3",
            "256256222d2a4ab49895bb4ed9e7c038",
            "b570c61142884ad4b4701154c82a54e5",
            "8e736c3802ed43d39388ecc7abe6cb5c",
            "50c05492eb5a41ff94ae54928952c99a",
            "466c51d532db429eb62a363d67a98ab9",
            "9ebfdbc9c45d48f49cdc649806705ff7",
            "0df304964d6f472ba983c0ec34597ef5",
            "164cd81e7a5946248f8802c1cf3ed08c",
            "6fc950e6f5bf4662b3935bc69d97372f",
            "2d228424a6534fd2a0fb2b602c8579c9",
            "c9927edc09664ec8a19d798ab5a4caa4",
            "00dfcd2029a9413fae7face557368222",
            "64ba1e3dba7c4b669ae5fc04123c2e19",
            "d5496fd2357a442fb51e076937e1c585",
            "f8abb2b903134105b3cab154686cfc63",
            "63114db02d1e44e49cdca1afc32b3f27",
            "435c4e8dd37b4660855039d62ae527e3",
            "9f6406c889734d438efe505a3203cc63",
            "84c9c0b40a154d74a08f845ae58622ce",
            "4aae8d2261e24bdf835ff839bb50d35a",
            "b6730b8d99e740068b46a3ba9777da70",
            "c8bc7c81ec824fe499f48769a0b45119",
            "319438d29b1b47ec88ca7f78a6d80de6",
            "65b20ec9136a44a6badc3531aa20eaee",
            "a281d9259a42409d91ac6dfcf6755d53",
            "769de6027ec648b9adef1d7f783edcc4",
            "9884bb413b7a4c84bf06ac88bbce8ddd",
            "a6bd23a0e7fe478ea2dcbc1dd18f95a1",
            "4e58e825bffd4c9faad40d04f74bb916",
            "31c4cf848ca448e2afb1724fd13f3a55",
            "9241870b956a41b1a462e67f06fa7f63",
            "d4495a04495b480ca0d94bf66f4e99c7",
            "dd4312e3ad504c70a67a7878b8daa15f",
            "3f6cbb0acfc24beab0f1eb6a41764c3b",
            "4dc9b10c712a4c8ab9c0e57b7aec0442",
            "1d86234a0e1a4dea91199a98e7d2e98d",
            "53fc8b47d5bf489597b6e9b056091ef0",
            "175b486b23fd46a9b435b896909f55d0",
            "a58ad08ffb6844e0b8bb53198ebba0ea",
            "5628a328143947df85e3a9cfd572019f",
            "59b26ccdf6b246d3b52d001b9fcb3ac6",
            "9859509a85a442fe8e63daa51788b6da",
            "2479d724a18f45409e66c87da9fd3ded",
            "dd015f1db5164d098a8903e2ecefc37f",
            "483fab52905a49888b9e3e68baee94cb",
            "6848b6ad5db040e9b4daffeb98ac87ab",
            "8bdb207817f44c189fabc2138becab0c"
          ]
        },
        "id": "CatXW72cGNZZ",
        "outputId": "c8c3c35f-40c0-495a-eb22-77086a3a7015"
      },
      "source": [
        "GD2.train_k_splits(10, epochs=1000, learning_rate=0.5, printVal=False)"
      ],
      "execution_count": 56,
      "outputs": [
        {
          "output_type": "stream",
          "text": [
            "Total of 10 Splits:\n",
            "\n",
            "Split 1 : \n",
            "Training the Model...\n"
          ],
          "name": "stdout"
        },
        {
          "output_type": "display_data",
          "data": {
            "application/vnd.jupyter.widget-view+json": {
              "model_id": "3974d92c31ac4b0e972d264351847753",
              "version_minor": 0,
              "version_major": 2
            },
            "text/plain": [
              "HBox(children=(FloatProgress(value=0.0, max=1000.0), HTML(value='')))"
            ]
          },
          "metadata": {
            "tags": []
          }
        },
        {
          "output_type": "stream",
          "text": [
            "\n"
          ],
          "name": "stdout"
        },
        {
          "output_type": "display_data",
          "data": {
            "image/png": "[encoded data removed]",
            "text/plain": [
              "<Figure size 432x288 with 2 Axes>"
            ]
          },
          "metadata": {
            "tags": [],
            "needs_background": "light"
          }
        },
        {
          "output_type": "stream",
          "text": [
            "\n",
            "Trained the Model.\n",
            "\n",
            "The most important feature is 'attr 4 ' with weight -0.13406812586760133\n",
            "Classification Report\n",
            "                             \n",
            "TP                        185\n",
            "TN                        223\n",
            "FP                          2\n",
            "FN                          1\n",
            "Total                     411\n",
            "Accuracy   0.9927007299270073\n",
            "Recall     0.9946236559139785\n",
            "Precision  0.9893048128342246\n",
            "Loss :  0.010867715879504431\n",
            "\n",
            "Split 2 : \n",
            "Training the Model...\n"
          ],
          "name": "stdout"
        },
        {
          "output_type": "display_data",
          "data": {
            "application/vnd.jupyter.widget-view+json": {
              "model_id": "283df5f60bd24976aa652dce7c0ededc",
              "version_minor": 0,
              "version_major": 2
            },
            "text/plain": [
              "HBox(children=(FloatProgress(value=0.0, max=1000.0), HTML(value='')))"
            ]
          },
          "metadata": {
            "tags": []
          }
        },
        {
          "output_type": "stream",
          "text": [
            "\n"
          ],
          "name": "stdout"
        },
        {
          "output_type": "display_data",
          "data": {
            "image/png": "[encoded data removed]",
            "text/plain": [
              "<Figure size 432x288 with 2 Axes>"
            ]
          },
          "metadata": {
            "tags": [],
            "needs_background": "light"
          }
        },
        {
          "output_type": "stream",
          "text": [
            "\n",
            "Trained the Model.\n",
            "\n",
            "The most important feature is 'attr 4 ' with weight -0.13727172871682458\n",
            "Classification Report\n",
            "                             \n",
            "TP                        175\n",
            "TN                        233\n",
            "FP                          3\n",
            "FN                          0\n",
            "Total                     411\n",
            "Accuracy   0.9927007299270073\n",
            "Recall                    1.0\n",
            "Precision  0.9831460674157303\n",
            "Loss :  0.010270750905371488\n",
            "\n",
            "Split 3 : \n",
            "Training the Model...\n"
          ],
          "name": "stdout"
        },
        {
          "output_type": "display_data",
          "data": {
            "application/vnd.jupyter.widget-view+json": {
              "model_id": "f994c4d3a1974f3484eb8d2d3a681d26",
              "version_minor": 0,
              "version_major": 2
            },
            "text/plain": [
              "HBox(children=(FloatProgress(value=0.0, max=1000.0), HTML(value='')))"
            ]
          },
          "metadata": {
            "tags": []
          }
        },
        {
          "output_type": "stream",
          "text": [
            "\n"
          ],
          "name": "stdout"
        },
        {
          "output_type": "display_data",
          "data": {
            "image/png": "[encoded data removed]",
            "text/plain": [
              "<Figure size 432x288 with 2 Axes>"
            ]
          },
          "metadata": {
            "tags": [],
            "needs_background": "light"
          }
        },
        {
          "output_type": "stream",
          "text": [
            "\n",
            "Trained the Model.\n",
            "\n",
            "The most important feature is 'attr 4 ' with weight -0.2114339058844875\n",
            "Classification Report\n",
            "                             \n",
            "TP                        195\n",
            "TN                        214\n",
            "FP                          2\n",
            "FN                          0\n",
            "Total                     411\n",
            "Accuracy   0.9951338199513382\n",
            "Recall                    1.0\n",
            "Precision  0.9898477157360406\n",
            "Loss :  0.01045411765373876\n",
            "\n",
            "Split 4 : \n",
            "Training the Model...\n"
          ],
          "name": "stdout"
        },
        {
          "output_type": "display_data",
          "data": {
            "application/vnd.jupyter.widget-view+json": {
              "model_id": "6665dfc61c994ee2a1abb9c36ec47d89",
              "version_minor": 0,
              "version_major": 2
            },
            "text/plain": [
              "HBox(children=(FloatProgress(value=0.0, max=1000.0), HTML(value='')))"
            ]
          },
          "metadata": {
            "tags": []
          }
        },
        {
          "output_type": "stream",
          "text": [
            "\n"
          ],
          "name": "stdout"
        },
        {
          "output_type": "display_data",
          "data": {
            "image/png": "[encoded data removed]",
            "text/plain": [
              "<Figure size 432x288 with 2 Axes>"
            ]
          },
          "metadata": {
            "tags": [],
            "needs_background": "light"
          }
        },
        {
          "output_type": "stream",
          "text": [
            "\n",
            "Trained the Model.\n",
            "\n",
            "The most important feature is 'attr 4 ' with weight -0.16084338134158785\n",
            "Classification Report\n",
            "                             \n",
            "TP                        187\n",
            "TN                        219\n",
            "FP                          4\n",
            "FN                          1\n",
            "Total                     411\n",
            "Accuracy   0.9878345498783455\n",
            "Recall     0.9946808510638298\n",
            "Precision  0.9790575916230366\n",
            "Loss :  0.009374124385047884\n",
            "\n",
            "Split 5 : \n",
            "Training the Model...\n"
          ],
          "name": "stdout"
        },
        {
          "output_type": "display_data",
          "data": {
            "application/vnd.jupyter.widget-view+json": {
              "model_id": "c4f80dd0613d420fa6f7475e2d2a30f3",
              "version_minor": 0,
              "version_major": 2
            },
            "text/plain": [
              "HBox(children=(FloatProgress(value=0.0, max=1000.0), HTML(value='')))"
            ]
          },
          "metadata": {
            "tags": []
          }
        },
        {
          "output_type": "stream",
          "text": [
            "\n"
          ],
          "name": "stdout"
        },
        {
          "output_type": "display_data",
          "data": {
            "image/png": "[encoded data removed]",
            "text/plain": [
              "<Figure size 432x288 with 2 Axes>"
            ]
          },
          "metadata": {
            "tags": [],
            "needs_background": "light"
          }
        },
        {
          "output_type": "stream",
          "text": [
            "\n",
            "Trained the Model.\n",
            "\n",
            "The most important feature is 'attr 4 ' with weight -0.19288086095579376\n",
            "Classification Report\n",
            "                             \n",
            "TP                        183\n",
            "TN                        223\n",
            "FP                          3\n",
            "FN                          2\n",
            "Total                     411\n",
            "Accuracy   0.9878345498783455\n",
            "Recall     0.9891891891891892\n",
            "Precision  0.9838709677419355\n",
            "Loss :  0.01001679412700841\n",
            "\n",
            "Split 6 : \n",
            "Training the Model...\n"
          ],
          "name": "stdout"
        },
        {
          "output_type": "display_data",
          "data": {
            "application/vnd.jupyter.widget-view+json": {
              "model_id": "164cd81e7a5946248f8802c1cf3ed08c",
              "version_minor": 0,
              "version_major": 2
            },
            "text/plain": [
              "HBox(children=(FloatProgress(value=0.0, max=1000.0), HTML(value='')))"
            ]
          },
          "metadata": {
            "tags": []
          }
        },
        {
          "output_type": "stream",
          "text": [
            "\n"
          ],
          "name": "stdout"
        },
        {
          "output_type": "display_data",
          "data": {
            "image/png": "[encoded data removed]",
            "text/plain": [
              "<Figure size 432x288 with 2 Axes>"
            ]
          },
          "metadata": {
            "tags": [],
            "needs_background": "light"
          }
        },
        {
          "output_type": "stream",
          "text": [
            "\n",
            "Trained the Model.\n",
            "\n",
            "The most important feature is 'attr 4 ' with weight -0.12097116417725921\n",
            "Classification Report\n",
            "                             \n",
            "TP                        170\n",
            "TN                        237\n",
            "FP                          3\n",
            "FN                          1\n",
            "Total                     411\n",
            "Accuracy   0.9902676399026764\n",
            "Recall     0.9941520467836257\n",
            "Precision  0.9826589595375722\n",
            "Loss :  0.010071078312550637\n",
            "\n",
            "Split 7 : \n",
            "Training the Model...\n"
          ],
          "name": "stdout"
        },
        {
          "output_type": "display_data",
          "data": {
            "application/vnd.jupyter.widget-view+json": {
              "model_id": "63114db02d1e44e49cdca1afc32b3f27",
              "version_minor": 0,
              "version_major": 2
            },
            "text/plain": [
              "HBox(children=(FloatProgress(value=0.0, max=1000.0), HTML(value='')))"
            ]
          },
          "metadata": {
            "tags": []
          }
        },
        {
          "output_type": "stream",
          "text": [
            "\n"
          ],
          "name": "stdout"
        },
        {
          "output_type": "display_data",
          "data": {
            "image/png": "[encoded data removed]",
            "text/plain": [
              "<Figure size 432x288 with 2 Axes>"
            ]
          },
          "metadata": {
            "tags": [],
            "needs_background": "light"
          }
        },
        {
          "output_type": "stream",
          "text": [
            "\n",
            "Trained the Model.\n",
            "\n",
            "The most important feature is 'attr 4 ' with weight -0.1106706072495352\n",
            "Classification Report\n",
            "                             \n",
            "TP                        187\n",
            "TN                        219\n",
            "FP                          2\n",
            "FN                          3\n",
            "Total                     411\n",
            "Accuracy   0.9878345498783455\n",
            "Recall     0.9842105263157894\n",
            "Precision  0.9894179894179894\n",
            "Loss :  0.010027701893469914\n",
            "\n",
            "Split 8 : \n",
            "Training the Model...\n"
          ],
          "name": "stdout"
        },
        {
          "output_type": "display_data",
          "data": {
            "application/vnd.jupyter.widget-view+json": {
              "model_id": "65b20ec9136a44a6badc3531aa20eaee",
              "version_minor": 0,
              "version_major": 2
            },
            "text/plain": [
              "HBox(children=(FloatProgress(value=0.0, max=1000.0), HTML(value='')))"
            ]
          },
          "metadata": {
            "tags": []
          }
        },
        {
          "output_type": "stream",
          "text": [
            "\n"
          ],
          "name": "stdout"
        },
        {
          "output_type": "display_data",
          "data": {
            "image/png": "[encoded data removed]",
            "text/plain": [
              "<Figure size 432x288 with 2 Axes>"
            ]
          },
          "metadata": {
            "tags": [],
            "needs_background": "light"
          }
        },
        {
          "output_type": "stream",
          "text": [
            "\n",
            "Trained the Model.\n",
            "\n",
            "The most important feature is 'attr 4 ' with weight -0.04732359374873668\n",
            "Classification Report\n",
            "                             \n",
            "TP                        191\n",
            "TN                        216\n",
            "FP                          2\n",
            "FN                          2\n",
            "Total                     411\n",
            "Accuracy   0.9902676399026764\n",
            "Recall     0.9896373056994818\n",
            "Precision  0.9896373056994818\n",
            "Loss :  0.009465104927146561\n",
            "\n",
            "Split 9 : \n",
            "Training the Model...\n"
          ],
          "name": "stdout"
        },
        {
          "output_type": "display_data",
          "data": {
            "application/vnd.jupyter.widget-view+json": {
              "model_id": "d4495a04495b480ca0d94bf66f4e99c7",
              "version_minor": 0,
              "version_major": 2
            },
            "text/plain": [
              "HBox(children=(FloatProgress(value=0.0, max=1000.0), HTML(value='')))"
            ]
          },
          "metadata": {
            "tags": []
          }
        },
        {
          "output_type": "stream",
          "text": [
            "\n"
          ],
          "name": "stdout"
        },
        {
          "output_type": "display_data",
          "data": {
            "image/png": "[encoded data removed]",
            "text/plain": [
              "<Figure size 432x288 with 2 Axes>"
            ]
          },
          "metadata": {
            "tags": [],
            "needs_background": "light"
          }
        },
        {
          "output_type": "stream",
          "text": [
            "\n",
            "Trained the Model.\n",
            "\n",
            "The most important feature is 'attr 4 ' with weight -0.06062494746373196\n",
            "Classification Report\n",
            "                             \n",
            "TP                        184\n",
            "TN                        225\n",
            "FP                          1\n",
            "FN                          1\n",
            "Total                     411\n",
            "Accuracy   0.9951338199513382\n",
            "Recall     0.9945945945945946\n",
            "Precision  0.9945945945945946\n",
            "Loss :  0.010651904822836043\n",
            "\n",
            "Split 10 : \n",
            "Training the Model...\n"
          ],
          "name": "stdout"
        },
        {
          "output_type": "display_data",
          "data": {
            "application/vnd.jupyter.widget-view+json": {
              "model_id": "5628a328143947df85e3a9cfd572019f",
              "version_minor": 0,
              "version_major": 2
            },
            "text/plain": [
              "HBox(children=(FloatProgress(value=0.0, max=1000.0), HTML(value='')))"
            ]
          },
          "metadata": {
            "tags": []
          }
        },
        {
          "output_type": "stream",
          "text": [
            "\n"
          ],
          "name": "stdout"
        },
        {
          "output_type": "display_data",
          "data": {
            "image/png": "[encoded data removed]",
            "text/plain": [
              "<Figure size 432x288 with 2 Axes>"
            ]
          },
          "metadata": {
            "tags": [],
            "needs_background": "light"
          }
        },
        {
          "output_type": "stream",
          "text": [
            "\n",
            "Trained the Model.\n",
            "\n",
            "The most important feature is 'attr 4 ' with weight -0.12348126769982215\n",
            "Classification Report\n",
            "                             \n",
            "TP                        168\n",
            "TN                        239\n",
            "FP                          2\n",
            "FN                          2\n",
            "Total                     411\n",
            "Accuracy   0.9902676399026764\n",
            "Recall     0.9882352941176471\n",
            "Precision  0.9882352941176471\n",
            "Loss :  0.01063140938458348\n",
            "\n",
            "\n",
            "Final Classification Report (Average Values across  10  splits)\n",
            "                             \n",
            "TP                      182.5\n",
            "TN                      224.8\n",
            "FP                        2.4\n",
            "FN                        1.3\n",
            "Total                   411.0\n",
            "Accuracy   0.9909975669099756\n",
            "Recall     0.9929323463678136\n",
            "Precision  0.9869771298718252\n",
            "Average Loss :  0.01018307022912576\n",
            "Most important feature is 'attr 4 '\n"
          ],
          "name": "stdout"
        },
        {
          "output_type": "display_data",
          "data": {
            "image/png": "[encoded data removed]",
            "text/plain": [
              "<Figure size 432x288 with 1 Axes>"
            ]
          },
          "metadata": {
            "tags": [],
            "needs_background": "light"
          }
        }
      ]
    },
    {
      "cell_type": "code",
      "metadata": {
        "id": "BWjw45e8IhqQ",
        "colab": {
          "base_uri": "https://localhost:8080/",
          "height": 0
        },
        "outputId": "6e40c21b-6226-4d15-e550-4dc66ea26910"
      },
      "source": [
        "plt.subplot(3, 1, 1)\n",
        "plt.plot(GD2.lossList[:10])\n",
        "plt.xlabel('Splits')\n",
        "plt.ylabel('MSE')\n",
        "\n",
        "plt.subplot(3, 1, 2)\n",
        "plt.plot(GD2.accuracyList[:10])\n",
        "plt.xlabel('Splits')\n",
        "plt.ylabel('Train Accuracy')\n",
        "\n",
        "plt.subplot(3, 1, 3)\n",
        "plt.plot(GD2.tAccuracy[:10])\n",
        "plt.xlabel('Splits')\n",
        "plt.ylabel('Test Accuracy')\n",
        "\n",
        "plt.show()"
      ],
      "execution_count": 57,
      "outputs": [
        {
          "output_type": "display_data",
          "data": {
            "image/png": "[encoded data removed]",
            "text/plain": [
              "<Figure size 432x288 with 3 Axes>"
            ]
          },
          "metadata": {
            "tags": [],
            "needs_background": "light"
          }
        }
      ]
    },
    {
      "cell_type": "markdown",
      "metadata": {
        "id": "7nnDArHnFM5L"
      },
      "source": [
        "### Learning Rate = 0.015 and Epochs = 300 - Accuracy = 98.95% - No Normalization"
      ]
    },
    {
      "cell_type": "code",
      "metadata": {
        "id": "mw5bQnCzPykG"
      },
      "source": [
        "GD = LogReg(df)"
      ],
      "execution_count": 20,
      "outputs": []
    },
    {
      "cell_type": "code",
      "metadata": {
        "id": "beB1jWDhR773"
      },
      "source": [
        "GD.train_k_splits(10, epochs=5000, learning_rate=0.015, printVal=False)"
      ],
      "execution_count": null,
      "outputs": []
    },
    {
      "cell_type": "code",
      "metadata": {
        "colab": {
          "base_uri": "https://localhost:8080/",
          "height": 279
        },
        "id": "Dyv-JhY9M5Fu",
        "outputId": "782f9c6f-a11a-4a00-bce7-b24c0c85c22e"
      },
      "source": [
        "plt.subplot(3, 1, 1)\n",
        "plt.plot(GD.lossList[:10])\n",
        "plt.xlabel('Splits')\n",
        "plt.ylabel('MSE')\n",
        "\n",
        "plt.subplot(3, 1, 2)\n",
        "plt.plot(GD.accuracyList[:10])\n",
        "plt.xlabel('Splits')\n",
        "plt.ylabel('Train Accuracy')\n",
        "\n",
        "plt.subplot(3, 1, 3)\n",
        "plt.plot(GD.tAccuracy[:10])\n",
        "plt.xlabel('Splits')\n",
        "plt.ylabel('Test Accuracy')\n",
        "\n",
        "plt.show()"
      ],
      "execution_count": null,
      "outputs": [
        {
          "output_type": "display_data",
          "data": {
            "image/png": "[encoded data removed]",
            "text/plain": [
              "<Figure size 432x288 with 3 Axes>"
            ]
          },
          "metadata": {
            "tags": [],
            "needs_background": "light"
          }
        }
      ]
    },
    {
      "cell_type": "markdown",
      "metadata": {
        "id": "ehlNwO6Ayo4h"
      },
      "source": [
        "## Stochastic Gradient Descent"
      ]
    },
    {
      "cell_type": "markdown",
      "metadata": {
        "id": "GZ1-2MyHsDAN"
      },
      "source": [
        "Gradient Descent gives us the accurate minima, by converging at the local/global minima of the loss, but it takes a long time to iterate over all the data points in each epoch. Therefore, in practice people prefer using **Stochastic Gradient Descent**\n",
        "\n",
        "In **Stochastic Gradient Descent**, we randomly pick a data point and update the weights based on only that data point in each epoch. \n",
        "\n",
        "This variant of learning takes place slower, but it is proven that this method of learning always converges to a range of values around the minima. This range is called the **Region of Confusion** (From the perspective of data science, having a small margin of error from the original value is desired, and this method of learning will assure that).\n",
        "\n",
        "\n",
        "Each update is given by the below, where the data point $x_{n}$ is choosen randomly in each epoch:\n",
        " - $w^{\\tau + 1} = w^{\\tau} + \\eta.▽(\\sigma(w^{T}\\phi(x_{n})))$, \n",
        "    - where $\\\\eta$ is the learning rate,\n",
        "    - ${w}$ is the weight matrix.\n",
        "    - $\\\\phi(x_{n})$ is the transformed feature of the nth data point.\n",
        "    - The value of the gradient/partial derivative (▽) is given by:\n",
        "        - $(\\hat{y} - y).\\hat{y}.(1-\\hat{y})$\n",
        "        , here $\\hat{y}=\\sigma(w^{T}\\phi(x_{n})) = \\frac{1}{1+e^{-w^{T}\\phi(x_{n})}}$\n",
        "\n"
      ]
    },
    {
      "cell_type": "markdown",
      "metadata": {
        "id": "gyL0pgK6hnw9"
      },
      "source": [
        "The above model has been trained on the learning rates 0.015, 0.1, and 0.5, using Stochastic Gradient Descent.\n",
        "\n",
        "We have not normalized the datasets in SGD learning, as it was showing very poor results."
      ]
    },
    {
      "cell_type": "markdown",
      "metadata": {
        "id": "CGgZLhRBRNHI"
      },
      "source": [
        "### Learning Rate = 0.015 and Epochs = 2000 - Accuracy = 94.40% - Not Standardized"
      ]
    },
    {
      "cell_type": "markdown",
      "metadata": {
        "id": "B69Trb50-GyD"
      },
      "source": [
        "Training the model using the final split of 'GD' training."
      ]
    },
    {
      "cell_type": "code",
      "metadata": {
        "colab": {
          "base_uri": "https://localhost:8080/",
          "height": 1000,
          "referenced_widgets": [
            "540d9c08c02746bdadc1454e5eb9a6c0",
            "5d34c6d223974b5198be7276d5eb845a",
            "f5483e19332b4e1fa2d3784e8d6448df",
            "8fa3d17d6db1415b847b246ddf07e8e9",
            "21b55ca8402a4769ad2b4fe64a0d94b7",
            "e658f5d86ba84ec49f92d73142a40f69",
            "97d68680f921486698a602990870c750",
            "9389b94a786746d68695a58f3c7587e2"
          ]
        },
        "id": "gL-QuFb3R9JI",
        "outputId": "94d4ab99-f40d-40a6-893e-1930f01f24d9"
      },
      "source": [
        "GD.fit(GD.X_train, GD.y_train ,learning='SGD', intialize = True, epochs=2000, learning_rate=0.015, display_loss=True)"
      ],
      "execution_count": null,
      "outputs": [
        {
          "output_type": "display_data",
          "data": {
            "application/vnd.jupyter.widget-view+json": {
              "model_id": "540d9c08c02746bdadc1454e5eb9a6c0",
              "version_minor": 0,
              "version_major": 2
            },
            "text/plain": [
              "HBox(children=(FloatProgress(value=0.0, max=2000.0), HTML(value='')))"
            ]
          },
          "metadata": {
            "tags": []
          }
        },
        {
          "output_type": "stream",
          "text": [
            "Epoch: 0 Loss: 0.21368036009882604 Accuracy: 0.6958333333333333\n",
            "Epoch: 50 Loss: 0.1832062079565181 Accuracy: 0.740625\n",
            "Epoch: 100 Loss: 0.1595675007518148 Accuracy: 0.775\n",
            "Epoch: 150 Loss: 0.1324569211397593 Accuracy: 0.7989583333333333\n",
            "Epoch: 200 Loss: 0.1167853688937097 Accuracy: 0.81875\n",
            "Epoch: 250 Loss: 0.10705903318824565 Accuracy: 0.8375\n",
            "Epoch: 300 Loss: 0.0970661081055017 Accuracy: 0.8520833333333333\n",
            "Epoch: 350 Loss: 0.08844737544137667 Accuracy: 0.8614583333333333\n",
            "Epoch: 400 Loss: 0.08229997827703081 Accuracy: 0.86875\n",
            "Epoch: 450 Loss: 0.07229927739717916 Accuracy: 0.8916666666666667\n",
            "Epoch: 500 Loss: 0.06785256613045934 Accuracy: 0.9010416666666666\n",
            "Epoch: 550 Loss: 0.06510706132716004 Accuracy: 0.9052083333333333\n",
            "Epoch: 600 Loss: 0.06371544693701403 Accuracy: 0.90625\n",
            "Epoch: 650 Loss: 0.06161872025486293 Accuracy: 0.9104166666666667\n",
            "Epoch: 700 Loss: 0.058888911724619304 Accuracy: 0.9166666666666666\n",
            "Epoch: 750 Loss: 0.05897991076858446 Accuracy: 0.9125\n",
            "Epoch: 800 Loss: 0.055210032091021176 Accuracy: 0.9239583333333333\n",
            "Epoch: 850 Loss: 0.05415220096056023 Accuracy: 0.925\n",
            "Epoch: 900 Loss: 0.052651811346738006 Accuracy: 0.9291666666666667\n",
            "Epoch: 950 Loss: 0.05026579410768914 Accuracy: 0.934375\n",
            "Epoch: 1000 Loss: 0.048960348286906326 Accuracy: 0.934375\n",
            "Epoch: 1050 Loss: 0.047314190396796955 Accuracy: 0.9354166666666667\n",
            "Epoch: 1100 Loss: 0.04529792758339828 Accuracy: 0.940625\n",
            "Epoch: 1150 Loss: 0.04549405962570232 Accuracy: 0.9385416666666667\n",
            "Epoch: 1200 Loss: 0.044055429114049666 Accuracy: 0.9385416666666667\n",
            "Epoch: 1250 Loss: 0.04217706765257962 Accuracy: 0.9427083333333334\n",
            "Epoch: 1300 Loss: 0.04179929522729626 Accuracy: 0.94375\n",
            "Epoch: 1350 Loss: 0.04099449121367449 Accuracy: 0.9489583333333333\n",
            "Epoch: 1400 Loss: 0.03932207606236783 Accuracy: 0.9510416666666667\n",
            "Epoch: 1450 Loss: 0.0390083896500676 Accuracy: 0.95\n",
            "Epoch: 1500 Loss: 0.03972536160133806 Accuracy: 0.946875\n",
            "Epoch: 1550 Loss: 0.038494458166786566 Accuracy: 0.9520833333333333\n",
            "Epoch: 1600 Loss: 0.037051648754656004 Accuracy: 0.95625\n",
            "Epoch: 1650 Loss: 0.036745161012090605 Accuracy: 0.9572916666666667\n",
            "Epoch: 1700 Loss: 0.03543055456903415 Accuracy: 0.95625\n",
            "Epoch: 1750 Loss: 0.03494750660524167 Accuracy: 0.95625\n",
            "Epoch: 1800 Loss: 0.03459638825315761 Accuracy: 0.9552083333333333\n",
            "Epoch: 1850 Loss: 0.03442747910380507 Accuracy: 0.959375\n",
            "Epoch: 1900 Loss: 0.03499319484422517 Accuracy: 0.9614583333333333\n",
            "Epoch: 1950 Loss: 0.03494357440532558 Accuracy: 0.9614583333333333\n",
            "\n"
          ],
          "name": "stdout"
        },
        {
          "output_type": "display_data",
          "data": {
            "image/png": "[encoded data removed]",
            "text/plain": [
              "<Figure size 432x288 with 2 Axes>"
            ]
          },
          "metadata": {
            "tags": [],
            "needs_background": "light"
          }
        }
      ]
    },
    {
      "cell_type": "code",
      "metadata": {
        "id": "nLQe9yPNSI3q",
        "colab": {
          "base_uri": "https://localhost:8080/",
          "height": 525
        },
        "outputId": "1fa0b9b6-a68b-4b43-d0fb-7af34d60b414"
      },
      "source": [
        "GD.evaluate(GD.X_test, GD.y_test)\n",
        "print('Loss : ', GD.lossList[-1])\n",
        "print('Most important feature is \\'attr', np.argmax(np.bincount(GD.attrList)), '\\'')"
      ],
      "execution_count": null,
      "outputs": [
        {
          "output_type": "stream",
          "text": [
            "Classification Report\n",
            "                             \n",
            "TP                        170\n",
            "TN                        218\n",
            "FP                         10\n",
            "FN                         13\n",
            "Total                     411\n",
            "Accuracy   0.9440389294403893\n",
            "Recall     0.9289617486338798\n",
            "Precision  0.9444444444444444\n"
          ],
          "name": "stdout"
        },
        {
          "output_type": "display_data",
          "data": {
            "image/png": "[encoded data removed]",
            "text/plain": [
              "<Figure size 432x288 with 1 Axes>"
            ]
          },
          "metadata": {
            "tags": [],
            "needs_background": "light"
          }
        },
        {
          "output_type": "stream",
          "text": [
            "Loss :  0.03395592476659975\n",
            "Most important feature is 'attr 4 '\n"
          ],
          "name": "stdout"
        }
      ]
    },
    {
      "cell_type": "markdown",
      "metadata": {
        "id": "b72x7ffgRAB5"
      },
      "source": [
        "### Learning Rate = 0.1 and Epochs = 2000 - Accuracy = 98.54% - Not Standardized"
      ]
    },
    {
      "cell_type": "code",
      "metadata": {
        "id": "3AltHJbIKynj"
      },
      "source": [
        "SGD1=LogReg(df)"
      ],
      "execution_count": null,
      "outputs": []
    },
    {
      "cell_type": "code",
      "metadata": {
        "colab": {
          "base_uri": "https://localhost:8080/",
          "height": 839,
          "referenced_widgets": [
            "fb61a6c4aadd44b8bbc1851107045f22",
            "370f3835280d4a6dbe2e5bb73f48114c",
            "c96e1961864743b0a8974a661094d863",
            "bdfd630b69c14189a94a4c37d9bdbb28",
            "59d63d4a853a48dc85f78d4143981f68",
            "59205636b0a44947a8bdbb4b153a19f1",
            "b4dcfe5e1f744ba595f1f675faac8f4c",
            "c2df42d26dff4df68002a488321b37c9"
          ]
        },
        "id": "NqBXjRogXRPs",
        "outputId": "245f2d2e-365a-4061-8882-49b31717d810"
      },
      "source": [
        "SGD1.fit(SGD1.X_train, SGD1.y_train ,learning='SGD', intialize = True, epochs=1500, learning_rate=0.1, display_loss=True)"
      ],
      "execution_count": null,
      "outputs": [
        {
          "output_type": "display_data",
          "data": {
            "application/vnd.jupyter.widget-view+json": {
              "model_id": "fb61a6c4aadd44b8bbc1851107045f22",
              "version_minor": 0,
              "version_major": 2
            },
            "text/plain": [
              "HBox(children=(FloatProgress(value=0.0, max=1500.0), HTML(value='')))"
            ]
          },
          "metadata": {
            "tags": []
          }
        },
        {
          "output_type": "stream",
          "text": [
            "Epoch: 0 Loss: 0.41933161639624866 Accuracy: 0.3927083333333333\n",
            "Epoch: 50 Loss: 0.1795303125135905 Accuracy: 0.734375\n",
            "Epoch: 100 Loss: 0.13438193914281935 Accuracy: 0.7947916666666667\n",
            "Epoch: 150 Loss: 0.09791522054896111 Accuracy: 0.8583333333333333\n",
            "Epoch: 200 Loss: 0.060538392288145074 Accuracy: 0.921875\n",
            "Epoch: 250 Loss: 0.04961337705585591 Accuracy: 0.9333333333333333\n",
            "Epoch: 300 Loss: 0.04084194758017154 Accuracy: 0.953125\n",
            "Epoch: 350 Loss: 0.03979722153445916 Accuracy: 0.9510416666666667\n",
            "Epoch: 400 Loss: 0.03437458182151055 Accuracy: 0.9572916666666667\n",
            "Epoch: 450 Loss: 0.03173766560167383 Accuracy: 0.9604166666666667\n",
            "Epoch: 500 Loss: 0.032415975699697064 Accuracy: 0.9666666666666667\n",
            "Epoch: 550 Loss: 0.02754941289844272 Accuracy: 0.971875\n",
            "Epoch: 600 Loss: 0.025978054108154857 Accuracy: 0.975\n",
            "Epoch: 650 Loss: 0.0237930907260878 Accuracy: 0.9770833333333333\n",
            "Epoch: 700 Loss: 0.029625243828084895 Accuracy: 0.9729166666666667\n",
            "Epoch: 750 Loss: 0.023200675399779925 Accuracy: 0.975\n",
            "Epoch: 800 Loss: 0.02286731812295659 Accuracy: 0.975\n",
            "Epoch: 850 Loss: 0.025227333323714424 Accuracy: 0.9822916666666667\n",
            "Epoch: 900 Loss: 0.024710199301739188 Accuracy: 0.9802083333333333\n",
            "Epoch: 950 Loss: 0.020214178768977863 Accuracy: 0.9854166666666667\n",
            "Epoch: 1000 Loss: 0.018087308198187914 Accuracy: 0.984375\n",
            "Epoch: 1050 Loss: 0.018766707936335145 Accuracy: 0.9833333333333333\n",
            "Epoch: 1100 Loss: 0.017266705269939356 Accuracy: 0.9875\n",
            "Epoch: 1150 Loss: 0.017008878581676434 Accuracy: 0.9854166666666667\n",
            "Epoch: 1200 Loss: 0.017539788321457354 Accuracy: 0.9885416666666667\n",
            "Epoch: 1250 Loss: 0.01700823227357191 Accuracy: 0.9833333333333333\n",
            "Epoch: 1300 Loss: 0.01608418247553045 Accuracy: 0.9854166666666667\n",
            "Epoch: 1350 Loss: 0.016289519743066427 Accuracy: 0.9885416666666667\n",
            "Epoch: 1400 Loss: 0.015980983810821043 Accuracy: 0.9885416666666667\n",
            "Epoch: 1450 Loss: 0.015824223362105993 Accuracy: 0.9833333333333333\n",
            "\n"
          ],
          "name": "stdout"
        },
        {
          "output_type": "display_data",
          "data": {
            "image/png": "[encoded data removed]",
            "text/plain": [
              "<Figure size 432x288 with 2 Axes>"
            ]
          },
          "metadata": {
            "tags": [],
            "needs_background": "light"
          }
        }
      ]
    },
    {
      "cell_type": "code",
      "metadata": {
        "colab": {
          "base_uri": "https://localhost:8080/"
        },
        "id": "utCHvChdgQjK",
        "outputId": "fda11b12-3069-49d5-bd3a-3b429f2bf14a"
      },
      "source": [
        "print('Train Accuracy :', SGD1.accuracyList[-1])"
      ],
      "execution_count": null,
      "outputs": [
        {
          "output_type": "stream",
          "text": [
            "Train Accuracy : 0.9791666666666666\n"
          ],
          "name": "stdout"
        }
      ]
    },
    {
      "cell_type": "code",
      "metadata": {
        "colab": {
          "base_uri": "https://localhost:8080/",
          "height": 525
        },
        "id": "tA3QgcLbIGi6",
        "outputId": "cc5ac148-b1fe-4e1e-bb97-e2f39b4158b2"
      },
      "source": [
        "SGD1.evaluate(SGD1.X_test, SGD1.y_test)\n",
        "print('Loss : ', SGD1.lossList[-1])\n",
        "print('Most important feature is \\'attr', SGD1.attrList[-1], '\\'')"
      ],
      "execution_count": null,
      "outputs": [
        {
          "output_type": "stream",
          "text": [
            "Classification Report\n",
            "                             \n",
            "TP                        183\n",
            "TN                        222\n",
            "FP                          6\n",
            "FN                          0\n",
            "Total                     411\n",
            "Accuracy   0.9854014598540146\n",
            "Recall                    1.0\n",
            "Precision  0.9682539682539683\n"
          ],
          "name": "stdout"
        },
        {
          "output_type": "display_data",
          "data": {
            "image/png": "[encoded data removed]",
            "text/plain": [
              "<Figure size 432x288 with 1 Axes>"
            ]
          },
          "metadata": {
            "tags": [],
            "needs_background": "light"
          }
        },
        {
          "output_type": "stream",
          "text": [
            "Loss :  0.017974918178084647\n",
            "Most important feature is 'attr 4 '\n"
          ],
          "name": "stdout"
        }
      ]
    },
    {
      "cell_type": "markdown",
      "metadata": {
        "id": "tldMnz7kSiUi"
      },
      "source": [
        "### Learning Rate = 0.5 and Epochs = 1500 - Accuracy = 99.51% - Not Standardized"
      ]
    },
    {
      "cell_type": "code",
      "metadata": {
        "id": "rCJFMtmPKH1z"
      },
      "source": [
        "SGD=LogReg(df)"
      ],
      "execution_count": null,
      "outputs": []
    },
    {
      "cell_type": "code",
      "metadata": {
        "id": "8YOE_YOqSi-1",
        "colab": {
          "base_uri": "https://localhost:8080/",
          "height": 839,
          "referenced_widgets": [
            "e4033285334545b8911e4143e2e8b413",
            "ace237e1d309429fa30c49e364180a04",
            "11e5d9ead83d4bc28e6aca06de949d04",
            "0b0a6536ec8f491680e6707e0c037aec",
            "efe62fdf7b2046c8b9824b7fb70b87be",
            "00a5b0cfdcd746579889a475a66b4b24",
            "69eac9b2f35b42f3afb26cfc41d915a9",
            "d3f5d645f40a4b7fb533745e3ec1052e"
          ]
        },
        "outputId": "3991bddc-e0ed-417c-f552-95b05177e945"
      },
      "source": [
        "SGD.fit(SGD.X_train, SGD.y_train ,learning='SGD', intialize = True, epochs=1500, learning_rate=0.5, display_loss=True)"
      ],
      "execution_count": null,
      "outputs": [
        {
          "output_type": "display_data",
          "data": {
            "application/vnd.jupyter.widget-view+json": {
              "model_id": "e4033285334545b8911e4143e2e8b413",
              "version_minor": 0,
              "version_major": 2
            },
            "text/plain": [
              "HBox(children=(FloatProgress(value=0.0, max=1500.0), HTML(value='')))"
            ]
          },
          "metadata": {
            "tags": []
          }
        },
        {
          "output_type": "stream",
          "text": [
            "Epoch: 0 Loss: 0.4203536758111036 Accuracy: 0.49166666666666664\n",
            "Epoch: 50 Loss: 0.07893311897052621 Accuracy: 0.8864583333333333\n",
            "Epoch: 100 Loss: 0.03748846088532327 Accuracy: 0.94375\n",
            "Epoch: 150 Loss: 0.1302077040434275 Accuracy: 0.8302083333333333\n",
            "Epoch: 200 Loss: 0.03509026183255306 Accuracy: 0.9541666666666667\n",
            "Epoch: 250 Loss: 0.0488380080220046 Accuracy: 0.9333333333333333\n",
            "Epoch: 300 Loss: 0.04128196849060785 Accuracy: 0.946875\n",
            "Epoch: 350 Loss: 0.01669608738849062 Accuracy: 0.98125\n",
            "Epoch: 400 Loss: 0.10756373418567451 Accuracy: 0.871875\n",
            "Epoch: 450 Loss: 0.03507384040245346 Accuracy: 0.9583333333333334\n",
            "Epoch: 500 Loss: 0.036159558704515364 Accuracy: 0.9541666666666667\n",
            "Epoch: 550 Loss: 0.016016106729831555 Accuracy: 0.978125\n",
            "Epoch: 600 Loss: 0.04898172405255271 Accuracy: 0.9395833333333333\n",
            "Epoch: 650 Loss: 0.023895728518742165 Accuracy: 0.971875\n",
            "Epoch: 700 Loss: 0.07427691924920686 Accuracy: 0.909375\n",
            "Epoch: 750 Loss: 0.05581739353565034 Accuracy: 0.93125\n",
            "Epoch: 800 Loss: 0.025295399627373146 Accuracy: 0.9708333333333333\n",
            "Epoch: 850 Loss: 0.03801485318577387 Accuracy: 0.9552083333333333\n",
            "Epoch: 900 Loss: 0.014249636318367257 Accuracy: 0.978125\n",
            "Epoch: 950 Loss: 0.029129639876793376 Accuracy: 0.9614583333333333\n",
            "Epoch: 1000 Loss: 0.024959849376765885 Accuracy: 0.9708333333333333\n",
            "Epoch: 1050 Loss: 0.016323240051266386 Accuracy: 0.9802083333333333\n",
            "Epoch: 1100 Loss: 0.010339168333826221 Accuracy: 0.984375\n",
            "Epoch: 1150 Loss: 0.02408739250411388 Accuracy: 0.9708333333333333\n",
            "Epoch: 1200 Loss: 0.012766590461712742 Accuracy: 0.98125\n",
            "Epoch: 1250 Loss: 0.011817262455805323 Accuracy: 0.9833333333333333\n",
            "Epoch: 1300 Loss: 0.021680825128759115 Accuracy: 0.9760416666666667\n",
            "Epoch: 1350 Loss: 0.02255010477590093 Accuracy: 0.975\n",
            "Epoch: 1400 Loss: 0.013145225459925513 Accuracy: 0.9833333333333333\n",
            "Epoch: 1450 Loss: 0.01339055728260974 Accuracy: 0.9854166666666667\n",
            "\n"
          ],
          "name": "stdout"
        },
        {
          "output_type": "display_data",
          "data": {
            "image/png": "[encoded data removed]",
            "text/plain": [
              "<Figure size 432x288 with 2 Axes>"
            ]
          },
          "metadata": {
            "tags": [],
            "needs_background": "light"
          }
        }
      ]
    },
    {
      "cell_type": "code",
      "metadata": {
        "colab": {
          "base_uri": "https://localhost:8080/"
        },
        "id": "s3pP4Cs_f4Lf",
        "outputId": "60d2fca2-fced-40ac-89b2-45c70314e373"
      },
      "source": [
        "print('Train Accuracy :', SGD.accuracyList[-1])"
      ],
      "execution_count": null,
      "outputs": [
        {
          "output_type": "stream",
          "text": [
            "Train Accuracy : 0.984375\n"
          ],
          "name": "stdout"
        }
      ]
    },
    {
      "cell_type": "code",
      "metadata": {
        "colab": {
          "base_uri": "https://localhost:8080/",
          "height": 525
        },
        "id": "leuCd3esSmOU",
        "outputId": "8db40740-e2de-48f3-937c-03bf24eabd93"
      },
      "source": [
        "SGD.evaluate(SGD.X_test, SGD.y_test)\n",
        "print('Loss : ', SGD.lossList[-1])\n",
        "print('Most important feature is \\'attr', SGD.attrList[-1], '\\'')"
      ],
      "execution_count": null,
      "outputs": [
        {
          "output_type": "stream",
          "text": [
            "Classification Report\n",
            "                             \n",
            "TP                        178\n",
            "TN                        231\n",
            "FP                          2\n",
            "FN                          0\n",
            "Total                     411\n",
            "Accuracy   0.9951338199513382\n",
            "Recall                    1.0\n",
            "Precision  0.9888888888888889\n"
          ],
          "name": "stdout"
        },
        {
          "output_type": "display_data",
          "data": {
            "image/png": "[encoded data removed]",
            "text/plain": [
              "<Figure size 432x288 with 1 Axes>"
            ]
          },
          "metadata": {
            "tags": [],
            "needs_background": "light"
          }
        },
        {
          "output_type": "stream",
          "text": [
            "Loss :  0.01228070104107874\n",
            "Most important feature is 'attr 4 '\n"
          ],
          "name": "stdout"
        }
      ]
    },
    {
      "cell_type": "markdown",
      "metadata": {
        "id": "Jj0YqyBDhp3O"
      },
      "source": [
        "### MBSGD with batch size=10"
      ]
    },
    {
      "cell_type": "markdown",
      "metadata": {
        "id": "_u-SMj6rxY3q"
      },
      "source": [
        "Mini Batch Gradient Descent is a mix of regular Gradient Descent and Stochastic Gradient Deascent"
      ]
    },
    {
      "cell_type": "code",
      "metadata": {
        "id": "vWMVWho7hSS1"
      },
      "source": [
        "trial1= LogReg(df, standardize=True)"
      ],
      "execution_count": null,
      "outputs": []
    },
    {
      "cell_type": "code",
      "metadata": {
        "colab": {
          "base_uri": "https://localhost:8080/",
          "height": 380,
          "referenced_widgets": [
            "2d96bde57a9f4a2cb766176b7dbafdf1",
            "3af3c1dde5db4f04b11184151a5ab6bd",
            "6d8f18df307c4483a099a9f795228410",
            "d0a2cd26027e45f48567b590a5b60992",
            "56eadc78856247e7b2f36c16496ff28d",
            "b59afb403c4542e69014541246828529",
            "f8e14cbbe6ad4310ad0b524a8b5dc3e8",
            "0e7328616f344c37988ae4a84c48f7d7"
          ]
        },
        "id": "KBOAYew4hKPz",
        "outputId": "fc93ee30-cfb0-4c89-d701-c5a66a3685d7"
      },
      "source": [
        "#trial1.cross_val(10, learning='MBSGD', epochs=150, learning_rate=0.015, batch_size=1)\n",
        "trial1.fit(trial1.X_train, trial1.y_train ,learning='MBSGD', intialize = True, epochs=150, learning_rate=0.015, display_loss=True)"
      ],
      "execution_count": null,
      "outputs": [
        {
          "output_type": "display_data",
          "data": {
            "application/vnd.jupyter.widget-view+json": {
              "model_id": "2d96bde57a9f4a2cb766176b7dbafdf1",
              "version_minor": 0,
              "version_major": 2
            },
            "text/plain": [
              "HBox(children=(FloatProgress(value=0.0, max=150.0), HTML(value='')))"
            ]
          },
          "metadata": {
            "tags": []
          }
        },
        {
          "output_type": "stream",
          "text": [
            "Epoch: 0 Loss: 0.08988248878688496 Accuracy: 0.8958333333333334\n",
            "Epoch: 50 Loss: 0.017886891445418416 Accuracy: 0.9770833333333333\n",
            "Epoch: 100 Loss: 0.014775781981353573 Accuracy: 0.978125\n",
            "\n"
          ],
          "name": "stdout"
        },
        {
          "output_type": "display_data",
          "data": {
            "image/png": "[encoded data removed]",
            "text/plain": [
              "<Figure size 432x288 with 2 Axes>"
            ]
          },
          "metadata": {
            "tags": [],
            "needs_background": "light"
          }
        }
      ]
    },
    {
      "cell_type": "code",
      "metadata": {
        "colab": {
          "base_uri": "https://localhost:8080/",
          "height": 491
        },
        "id": "vWNs3UcKMHk-",
        "outputId": "55ceb878-1dc2-4a6a-abe5-d710dafbe847"
      },
      "source": [
        "trial1.evaluate(trial1.X_test, trial1.y_test)"
      ],
      "execution_count": null,
      "outputs": [
        {
          "output_type": "stream",
          "text": [
            "Classification Report\n",
            "                             \n",
            "TP                        102\n",
            "TN                        226\n",
            "FP                          0\n",
            "FN                         83\n",
            "Total                     411\n",
            "Accuracy   0.7980535279805353\n",
            "Recall     0.5513513513513514\n",
            "Precision                 1.0\n"
          ],
          "name": "stdout"
        },
        {
          "output_type": "display_data",
          "data": {
            "image/png": "[encoded data removed]",
            "text/plain": [
              "<Figure size 432x288 with 1 Axes>"
            ]
          },
          "metadata": {
            "tags": [],
            "needs_background": "light"
          }
        }
      ]
    },
    {
      "cell_type": "code",
      "metadata": {
        "id": "TzzE9Wi_MNAj"
      },
      "source": [
        ""
      ],
      "execution_count": null,
      "outputs": []
    },
    {
      "cell_type": "markdown",
      "metadata": {
        "id": "mQo44jxf3HjU"
      },
      "source": [
        "# Trial"
      ]
    },
    {
      "cell_type": "code",
      "metadata": {
        "colab": {
          "base_uri": "https://localhost:8080/"
        },
        "id": "eicqMFI83G3-",
        "outputId": "20f0ed55-2dc2-4b5c-c1f5-5ecb7f8e6fc5"
      },
      "source": [
        "import numpy as np\n",
        "import pandas as pd\n",
        "import matplotlib.pyplot as plot\n",
        "from sklearn.preprocessing import LabelEncoder, StandardScaler, MinMaxScaler\n",
        "from sklearn.model_selection import cross_validate\n",
        "from sklearn.pipeline import Pipeline\n",
        "from sklearn.utils import shuffle\n",
        "from sklearn.linear_model import LogisticRegression\n",
        "\n",
        "le = LabelEncoder()\n",
        "tr = df\n",
        "tr['class'] = le.fit_transform(tr['class'])\n",
        "tr.head()\n",
        "\n",
        "tr = shuffle(tr)\n",
        "X = tr.values[:,1:-1]\n",
        "Y = tr.values[:,-1]\n",
        "\n",
        "average= {}\n",
        "maxm= {}\n",
        "\n",
        "pipeLR = Pipeline([('scaler', StandardScaler()), ('lr', LogisticRegression())])\n",
        "lr_scores = cross_validate(pipeLR,X,Y,cv=7,return_train_score=True)\n",
        "for i,(score, scoret) in enumerate(zip(lr_scores['test_score'],lr_scores['train_score'])):\n",
        "    print(\"Fold \",i+1)\n",
        "    print(\"Testing Accuracy = \",score,\" Training Accuracy = \",scoret)\n",
        "\n",
        "average['Logistic Regression']=np.average(lr_scores['test_score'])\n",
        "maxm['Logistic Regression']=np.amax(lr_scores['test_score'])\n",
        "print(\"\\nAverage test accuracy= \",average['Logistic Regression'],\"\\n\")\n",
        "\n",
        "lr_prec = cross_validate(pipeLR,X,Y,cv=7,scoring='precision')\n",
        "for i,score in enumerate(lr_prec['test_score']):\n",
        "    print(\"Precision over fold \",i+1,\" = \",score)\n",
        "print(\"\\n\")\n",
        "lr_rec = cross_validate(pipeLR,X,Y,cv=7,scoring='recall')\n",
        "for i,score in enumerate(lr_rec['test_score']):\n",
        "    print(\"Recall over fold \",i+1,\" = \",score)"
      ],
      "execution_count": null,
      "outputs": [
        {
          "output_type": "stream",
          "text": [
            "Fold  1\n",
            "Testing Accuracy =  0.7857142857142857  Training Accuracy =  0.8112244897959183\n",
            "Fold  2\n",
            "Testing Accuracy =  0.8061224489795918  Training Accuracy =  0.8078231292517006\n",
            "Fold  3\n",
            "Testing Accuracy =  0.8469387755102041  Training Accuracy =  0.8010204081632653\n",
            "Fold  4\n",
            "Testing Accuracy =  0.7704081632653061  Training Accuracy =  0.8137755102040817\n",
            "Fold  5\n",
            "Testing Accuracy =  0.7908163265306123  Training Accuracy =  0.8095238095238095\n",
            "Fold  6\n",
            "Testing Accuracy =  0.8316326530612245  Training Accuracy =  0.8035714285714286\n",
            "Fold  7\n",
            "Testing Accuracy =  0.7959183673469388  Training Accuracy =  0.8095238095238095\n",
            "\n",
            "Average test accuracy=  0.8039358600583091 \n",
            "\n",
            "Precision over fold  1  =  0.7446808510638298\n",
            "Precision over fold  2  =  0.7578947368421053\n",
            "Precision over fold  3  =  0.7938144329896907\n",
            "Precision over fold  4  =  0.723404255319149\n",
            "Precision over fold  5  =  0.7395833333333334\n",
            "Precision over fold  6  =  0.8\n",
            "Precision over fold  7  =  0.7764705882352941\n",
            "\n",
            "\n",
            "Recall over fold  1  =  0.7954545454545454\n",
            "Recall over fold  2  =  0.8275862068965517\n",
            "Recall over fold  3  =  0.8850574712643678\n",
            "Recall over fold  4  =  0.7816091954022989\n",
            "Recall over fold  5  =  0.8160919540229885\n",
            "Recall over fold  6  =  0.8275862068965517\n",
            "Recall over fold  7  =  0.7586206896551724\n"
          ],
          "name": "stdout"
        }
      ]
    },
    {
      "cell_type": "code",
      "metadata": {
        "id": "x0YJRce53RQU"
      },
      "source": [
        ""
      ],
      "execution_count": null,
      "outputs": []
    }
  ]
}